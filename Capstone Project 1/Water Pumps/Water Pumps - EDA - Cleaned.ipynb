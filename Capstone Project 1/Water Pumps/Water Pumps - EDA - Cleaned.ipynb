{
 "cells": [
  {
   "cell_type": "markdown",
   "metadata": {},
   "source": [
    "### Driven Data Pump it Up Challenge:"
   ]
  },
  {
   "cell_type": "code",
   "execution_count": 1,
   "metadata": {},
   "outputs": [],
   "source": [
    "import pandas as pd\n",
    "import numpy as np\n",
    "import matplotlib.pyplot as plt\n",
    "import seaborn as sns\n",
    "from sklearn.preprocessing import MinMaxScaler\n",
    "\n",
    "%matplotlib inline"
   ]
  },
  {
   "cell_type": "code",
   "execution_count": 2,
   "metadata": {},
   "outputs": [],
   "source": [
    "#Reading the df files and assigning them to variables - we have 2 csv files\n",
    "training_label = pd.read_csv('data/training set labels.csv')\n",
    "training_values_df = pd.read_csv('data/training set values.csv')"
   ]
  },
  {
   "cell_type": "code",
   "execution_count": 3,
   "metadata": {},
   "outputs": [],
   "source": [
    "# Merge training_values_df and training_label dfs to have one df\n",
    "train_df = pd.merge(training_values_df, training_label, on = \"id\")"
   ]
  },
  {
   "cell_type": "code",
   "execution_count": 4,
   "metadata": {},
   "outputs": [],
   "source": [
    "# Deleting training_label df\n",
    "del training_label"
   ]
  },
  {
   "cell_type": "code",
   "execution_count": 5,
   "metadata": {},
   "outputs": [],
   "source": [
    "# Creating a copy of train df so making changes would not alter the initial dataset\n",
    "df = train_df.copy()"
   ]
  },
  {
   "cell_type": "code",
   "execution_count": 6,
   "metadata": {},
   "outputs": [
    {
     "data": {
      "text/plain": [
       "(59400, 41)"
      ]
     },
     "execution_count": 6,
     "metadata": {},
     "output_type": "execute_result"
    }
   ],
   "source": [
    "df.shape"
   ]
  },
  {
   "cell_type": "code",
   "execution_count": 7,
   "metadata": {
    "scrolled": true
   },
   "outputs": [
    {
     "name": "stdout",
     "output_type": "stream",
     "text": [
      "<class 'pandas.core.frame.DataFrame'>\n",
      "Int64Index: 59400 entries, 0 to 59399\n",
      "Data columns (total 41 columns):\n",
      "id                       59400 non-null int64\n",
      "amount_tsh               59400 non-null float64\n",
      "date_recorded            59400 non-null object\n",
      "funder                   55765 non-null object\n",
      "gps_height               59400 non-null int64\n",
      "installer                55745 non-null object\n",
      "longitude                59400 non-null float64\n",
      "latitude                 59400 non-null float64\n",
      "wpt_name                 59400 non-null object\n",
      "num_private              59400 non-null int64\n",
      "basin                    59400 non-null object\n",
      "subvillage               59029 non-null object\n",
      "region                   59400 non-null object\n",
      "region_code              59400 non-null int64\n",
      "district_code            59400 non-null int64\n",
      "lga                      59400 non-null object\n",
      "ward                     59400 non-null object\n",
      "population               59400 non-null int64\n",
      "public_meeting           56066 non-null object\n",
      "recorded_by              59400 non-null object\n",
      "scheme_management        55523 non-null object\n",
      "scheme_name              31234 non-null object\n",
      "permit                   56344 non-null object\n",
      "construction_year        59400 non-null int64\n",
      "extraction_type          59400 non-null object\n",
      "extraction_type_group    59400 non-null object\n",
      "extraction_type_class    59400 non-null object\n",
      "management               59400 non-null object\n",
      "management_group         59400 non-null object\n",
      "payment                  59400 non-null object\n",
      "payment_type             59400 non-null object\n",
      "water_quality            59400 non-null object\n",
      "quality_group            59400 non-null object\n",
      "quantity                 59400 non-null object\n",
      "quantity_group           59400 non-null object\n",
      "source                   59400 non-null object\n",
      "source_type              59400 non-null object\n",
      "source_class             59400 non-null object\n",
      "waterpoint_type          59400 non-null object\n",
      "waterpoint_type_group    59400 non-null object\n",
      "status_group             59400 non-null object\n",
      "dtypes: float64(3), int64(7), object(31)\n",
      "memory usage: 19.0+ MB\n"
     ]
    }
   ],
   "source": [
    "df.info()"
   ]
  },
  {
   "cell_type": "code",
   "execution_count": 8,
   "metadata": {
    "scrolled": true
   },
   "outputs": [
    {
     "data": {
      "text/html": [
       "<div>\n",
       "<style scoped>\n",
       "    .dataframe tbody tr th:only-of-type {\n",
       "        vertical-align: middle;\n",
       "    }\n",
       "\n",
       "    .dataframe tbody tr th {\n",
       "        vertical-align: top;\n",
       "    }\n",
       "\n",
       "    .dataframe thead th {\n",
       "        text-align: right;\n",
       "    }\n",
       "</style>\n",
       "<table border=\"1\" class=\"dataframe\">\n",
       "  <thead>\n",
       "    <tr style=\"text-align: right;\">\n",
       "      <th></th>\n",
       "      <th>id</th>\n",
       "      <th>amount_tsh</th>\n",
       "      <th>date_recorded</th>\n",
       "      <th>funder</th>\n",
       "      <th>gps_height</th>\n",
       "      <th>installer</th>\n",
       "      <th>longitude</th>\n",
       "      <th>latitude</th>\n",
       "      <th>wpt_name</th>\n",
       "      <th>num_private</th>\n",
       "      <th>...</th>\n",
       "      <th>water_quality</th>\n",
       "      <th>quality_group</th>\n",
       "      <th>quantity</th>\n",
       "      <th>quantity_group</th>\n",
       "      <th>source</th>\n",
       "      <th>source_type</th>\n",
       "      <th>source_class</th>\n",
       "      <th>waterpoint_type</th>\n",
       "      <th>waterpoint_type_group</th>\n",
       "      <th>status_group</th>\n",
       "    </tr>\n",
       "  </thead>\n",
       "  <tbody>\n",
       "    <tr>\n",
       "      <th>0</th>\n",
       "      <td>69572</td>\n",
       "      <td>6000.0</td>\n",
       "      <td>2011-03-14</td>\n",
       "      <td>Roman</td>\n",
       "      <td>1390</td>\n",
       "      <td>Roman</td>\n",
       "      <td>34.938093</td>\n",
       "      <td>-9.856322</td>\n",
       "      <td>none</td>\n",
       "      <td>0</td>\n",
       "      <td>...</td>\n",
       "      <td>soft</td>\n",
       "      <td>good</td>\n",
       "      <td>enough</td>\n",
       "      <td>enough</td>\n",
       "      <td>spring</td>\n",
       "      <td>spring</td>\n",
       "      <td>groundwater</td>\n",
       "      <td>communal standpipe</td>\n",
       "      <td>communal standpipe</td>\n",
       "      <td>functional</td>\n",
       "    </tr>\n",
       "    <tr>\n",
       "      <th>1</th>\n",
       "      <td>8776</td>\n",
       "      <td>0.0</td>\n",
       "      <td>2013-03-06</td>\n",
       "      <td>Grumeti</td>\n",
       "      <td>1399</td>\n",
       "      <td>GRUMETI</td>\n",
       "      <td>34.698766</td>\n",
       "      <td>-2.147466</td>\n",
       "      <td>Zahanati</td>\n",
       "      <td>0</td>\n",
       "      <td>...</td>\n",
       "      <td>soft</td>\n",
       "      <td>good</td>\n",
       "      <td>insufficient</td>\n",
       "      <td>insufficient</td>\n",
       "      <td>rainwater harvesting</td>\n",
       "      <td>rainwater harvesting</td>\n",
       "      <td>surface</td>\n",
       "      <td>communal standpipe</td>\n",
       "      <td>communal standpipe</td>\n",
       "      <td>functional</td>\n",
       "    </tr>\n",
       "    <tr>\n",
       "      <th>2</th>\n",
       "      <td>34310</td>\n",
       "      <td>25.0</td>\n",
       "      <td>2013-02-25</td>\n",
       "      <td>Lottery Club</td>\n",
       "      <td>686</td>\n",
       "      <td>World vision</td>\n",
       "      <td>37.460664</td>\n",
       "      <td>-3.821329</td>\n",
       "      <td>Kwa Mahundi</td>\n",
       "      <td>0</td>\n",
       "      <td>...</td>\n",
       "      <td>soft</td>\n",
       "      <td>good</td>\n",
       "      <td>enough</td>\n",
       "      <td>enough</td>\n",
       "      <td>dam</td>\n",
       "      <td>dam</td>\n",
       "      <td>surface</td>\n",
       "      <td>communal standpipe multiple</td>\n",
       "      <td>communal standpipe</td>\n",
       "      <td>functional</td>\n",
       "    </tr>\n",
       "    <tr>\n",
       "      <th>3</th>\n",
       "      <td>67743</td>\n",
       "      <td>0.0</td>\n",
       "      <td>2013-01-28</td>\n",
       "      <td>Unicef</td>\n",
       "      <td>263</td>\n",
       "      <td>UNICEF</td>\n",
       "      <td>38.486161</td>\n",
       "      <td>-11.155298</td>\n",
       "      <td>Zahanati Ya Nanyumbu</td>\n",
       "      <td>0</td>\n",
       "      <td>...</td>\n",
       "      <td>soft</td>\n",
       "      <td>good</td>\n",
       "      <td>dry</td>\n",
       "      <td>dry</td>\n",
       "      <td>machine dbh</td>\n",
       "      <td>borehole</td>\n",
       "      <td>groundwater</td>\n",
       "      <td>communal standpipe multiple</td>\n",
       "      <td>communal standpipe</td>\n",
       "      <td>non functional</td>\n",
       "    </tr>\n",
       "    <tr>\n",
       "      <th>4</th>\n",
       "      <td>19728</td>\n",
       "      <td>0.0</td>\n",
       "      <td>2011-07-13</td>\n",
       "      <td>Action In A</td>\n",
       "      <td>0</td>\n",
       "      <td>Artisan</td>\n",
       "      <td>31.130847</td>\n",
       "      <td>-1.825359</td>\n",
       "      <td>Shuleni</td>\n",
       "      <td>0</td>\n",
       "      <td>...</td>\n",
       "      <td>soft</td>\n",
       "      <td>good</td>\n",
       "      <td>seasonal</td>\n",
       "      <td>seasonal</td>\n",
       "      <td>rainwater harvesting</td>\n",
       "      <td>rainwater harvesting</td>\n",
       "      <td>surface</td>\n",
       "      <td>communal standpipe</td>\n",
       "      <td>communal standpipe</td>\n",
       "      <td>functional</td>\n",
       "    </tr>\n",
       "  </tbody>\n",
       "</table>\n",
       "<p>5 rows × 41 columns</p>\n",
       "</div>"
      ],
      "text/plain": [
       "      id  amount_tsh date_recorded        funder  gps_height     installer  \\\n",
       "0  69572      6000.0    2011-03-14         Roman        1390         Roman   \n",
       "1   8776         0.0    2013-03-06       Grumeti        1399       GRUMETI   \n",
       "2  34310        25.0    2013-02-25  Lottery Club         686  World vision   \n",
       "3  67743         0.0    2013-01-28        Unicef         263        UNICEF   \n",
       "4  19728         0.0    2011-07-13   Action In A           0       Artisan   \n",
       "\n",
       "   longitude   latitude              wpt_name  num_private  ... water_quality  \\\n",
       "0  34.938093  -9.856322                  none            0  ...          soft   \n",
       "1  34.698766  -2.147466              Zahanati            0  ...          soft   \n",
       "2  37.460664  -3.821329           Kwa Mahundi            0  ...          soft   \n",
       "3  38.486161 -11.155298  Zahanati Ya Nanyumbu            0  ...          soft   \n",
       "4  31.130847  -1.825359               Shuleni            0  ...          soft   \n",
       "\n",
       "  quality_group      quantity  quantity_group                source  \\\n",
       "0          good        enough          enough                spring   \n",
       "1          good  insufficient    insufficient  rainwater harvesting   \n",
       "2          good        enough          enough                   dam   \n",
       "3          good           dry             dry           machine dbh   \n",
       "4          good      seasonal        seasonal  rainwater harvesting   \n",
       "\n",
       "            source_type source_class              waterpoint_type  \\\n",
       "0                spring  groundwater           communal standpipe   \n",
       "1  rainwater harvesting      surface           communal standpipe   \n",
       "2                   dam      surface  communal standpipe multiple   \n",
       "3              borehole  groundwater  communal standpipe multiple   \n",
       "4  rainwater harvesting      surface           communal standpipe   \n",
       "\n",
       "  waterpoint_type_group    status_group  \n",
       "0    communal standpipe      functional  \n",
       "1    communal standpipe      functional  \n",
       "2    communal standpipe      functional  \n",
       "3    communal standpipe  non functional  \n",
       "4    communal standpipe      functional  \n",
       "\n",
       "[5 rows x 41 columns]"
      ]
     },
     "execution_count": 8,
     "metadata": {},
     "output_type": "execute_result"
    }
   ],
   "source": [
    "df.head()"
   ]
  },
  {
   "cell_type": "code",
   "execution_count": 9,
   "metadata": {
    "scrolled": true
   },
   "outputs": [
    {
     "data": {
      "text/plain": [
       "id                           0\n",
       "amount_tsh                   0\n",
       "date_recorded                0\n",
       "funder                    3635\n",
       "gps_height                   0\n",
       "installer                 3655\n",
       "longitude                    0\n",
       "latitude                     0\n",
       "wpt_name                     0\n",
       "num_private                  0\n",
       "basin                        0\n",
       "subvillage                 371\n",
       "region                       0\n",
       "region_code                  0\n",
       "district_code                0\n",
       "lga                          0\n",
       "ward                         0\n",
       "population                   0\n",
       "public_meeting            3334\n",
       "recorded_by                  0\n",
       "scheme_management         3877\n",
       "scheme_name              28166\n",
       "permit                    3056\n",
       "construction_year            0\n",
       "extraction_type              0\n",
       "extraction_type_group        0\n",
       "extraction_type_class        0\n",
       "management                   0\n",
       "management_group             0\n",
       "payment                      0\n",
       "payment_type                 0\n",
       "water_quality                0\n",
       "quality_group                0\n",
       "quantity                     0\n",
       "quantity_group               0\n",
       "source                       0\n",
       "source_type                  0\n",
       "source_class                 0\n",
       "waterpoint_type              0\n",
       "waterpoint_type_group        0\n",
       "status_group                 0\n",
       "dtype: int64"
      ]
     },
     "execution_count": 9,
     "metadata": {},
     "output_type": "execute_result"
    }
   ],
   "source": [
    "df.isnull().sum()"
   ]
  },
  {
   "cell_type": "code",
   "execution_count": 10,
   "metadata": {},
   "outputs": [],
   "source": [
    "#df[['funder','installer']].dropna().head(10)"
   ]
  },
  {
   "cell_type": "code",
   "execution_count": 11,
   "metadata": {
    "scrolled": true
   },
   "outputs": [
    {
     "data": {
      "text/plain": [
       "59400"
      ]
     },
     "execution_count": 11,
     "metadata": {},
     "output_type": "execute_result"
    }
   ],
   "source": [
    "df.status_group.count()"
   ]
  },
  {
   "cell_type": "code",
   "execution_count": 12,
   "metadata": {
    "scrolled": true
   },
   "outputs": [
    {
     "data": {
      "text/plain": [
       "functional                 32259\n",
       "non functional             22824\n",
       "functional needs repair     4317\n",
       "Name: status_group, dtype: int64"
      ]
     },
     "execution_count": 12,
     "metadata": {},
     "output_type": "execute_result"
    }
   ],
   "source": [
    "# The count of each fuctional type of the pumps in status_group so that we will understand the functional scenario \n",
    "# of the pump status\n",
    "df.status_group.value_counts()"
   ]
  },
  {
   "cell_type": "code",
   "execution_count": 13,
   "metadata": {},
   "outputs": [
    {
     "name": "stdout",
     "output_type": "stream",
     "text": [
      "Functional Pumps are: 54.31%\n",
      "Non Functional Pumps are: 38.42%\n",
      "Functional but Needs Repair Pumps are: 7.27%\n"
     ]
    }
   ],
   "source": [
    "functional_percent = (sum(df['status_group'] == 'functional') / df.status_group.count()) * 100\n",
    "non_functional_percent = (sum(df['status_group'] == 'non functional') / df.status_group.count()) * 100\n",
    "repair_percent = (sum(df['status_group'] == 'functional needs repair') / df.status_group.count()) * 100\n",
    "print('Functional Pumps are: ' + str(round(functional_percent, 2)) + '%')\n",
    "print('Non Functional Pumps are: ' + str(round(non_functional_percent, 2)) + '%')\n",
    "print('Functional but Needs Repair Pumps are: ' + str(round(repair_percent, 2)) + '%')"
   ]
  },
  {
   "cell_type": "code",
   "execution_count": 14,
   "metadata": {},
   "outputs": [
    {
     "data": {
      "text/plain": [
       "functional                 0.543081\n",
       "non functional             0.384242\n",
       "functional needs repair    0.072677\n",
       "Name: status_group, dtype: float64"
      ]
     },
     "execution_count": 14,
     "metadata": {},
     "output_type": "execute_result"
    }
   ],
   "source": [
    "df['status_group'].value_counts(normalize=True)"
   ]
  },
  {
   "cell_type": "code",
   "execution_count": 15,
   "metadata": {},
   "outputs": [
    {
     "data": {
      "image/png": "[encoded data removed]",
      "text/plain": [
       "<Figure size 1008x432 with 1 Axes>"
      ]
     },
     "metadata": {
      "needs_background": "light"
     },
     "output_type": "display_data"
    }
   ],
   "source": [
    "plt.figure(figsize=(14,6))\n",
    "plt.title(\"Water Pumps Functionality\",fontsize=16, fontweight='bold')\n",
    "sns.countplot(x=df['status_group'], data=df, palette=\"Set2\");"
   ]
  },
  {
   "cell_type": "markdown",
   "metadata": {},
   "source": [
    "#### By the above figures, we can roughly estimate that there is 54.31% chance that if we take a random pump in the data to be a functional one."
   ]
  },
  {
   "cell_type": "code",
   "execution_count": 16,
   "metadata": {},
   "outputs": [],
   "source": [
    "num_feature_names = [\n",
    "     'amount_tsh',\n",
    "     'gps_height',\n",
    "    'longitude',\n",
    "    'latitude',\n",
    "     'population',\n",
    "    'construction_year'\n",
    "]"
   ]
  },
  {
   "cell_type": "code",
   "execution_count": 17,
   "metadata": {},
   "outputs": [
    {
     "data": {
      "image/png": "[encoded data removed]",
      "text/plain": [
       "<Figure size 1080x576 with 6 Axes>"
      ]
     },
     "metadata": {
      "needs_background": "light"
     },
     "output_type": "display_data"
    }
   ],
   "source": [
    "df.loc[:,num_feature_names].hist()\n",
    "fig = plt.gcf()\n",
    "fig.set_size_inches(15,8)\n",
    "fig.subplots_adjust(wspace=0.2, hspace=0.5)"
   ]
  },
  {
   "cell_type": "code",
   "execution_count": 18,
   "metadata": {
    "scrolled": true
   },
   "outputs": [
    {
     "data": {
      "text/plain": [
       "status_group    construction_year\n",
       "functional      0                    10555\n",
       "                1960                    24\n",
       "                1961                     2\n",
       "                1962                     7\n",
       "                1963                    31\n",
       "                1964                     7\n",
       "                1965                    11\n",
       "                1966                     6\n",
       "                1967                    31\n",
       "                1968                    22\n",
       "                1969                    15\n",
       "                1970                    99\n",
       "                1971                    82\n",
       "                1972                   178\n",
       "                1973                    55\n",
       "                1974                   234\n",
       "                1975                   144\n",
       "                1976                    85\n",
       "                1977                    62\n",
       "                1978                   426\n",
       "                1979                    41\n",
       "                1980                   258\n",
       "                1981                    85\n",
       "                1982                   236\n",
       "                1983                   187\n",
       "                1984                   365\n",
       "                1985                   324\n",
       "                1986                   212\n",
       "                1987                   143\n",
       "                1988                   245\n",
       "                                     ...  \n",
       "non functional  1984                   348\n",
       "                1985                   537\n",
       "                1986                   188\n",
       "                1987                   122\n",
       "                1988                   234\n",
       "                1989                   137\n",
       "                1990                   429\n",
       "                1991                   166\n",
       "                1992                   238\n",
       "                1993                   289\n",
       "                1994                   315\n",
       "                1995                   346\n",
       "                1996                   377\n",
       "                1997                   286\n",
       "                1998                   337\n",
       "                1999                   238\n",
       "                2000                   676\n",
       "                2001                   172\n",
       "                2002                   325\n",
       "                2003                   387\n",
       "                2004                   349\n",
       "                2005                   344\n",
       "                2006                   453\n",
       "                2007                   390\n",
       "                2008                   647\n",
       "                2009                   621\n",
       "                2010                   532\n",
       "                2011                   235\n",
       "                2012                   307\n",
       "                2013                    73\n",
       "Length: 164, dtype: int64"
      ]
     },
     "execution_count": 18,
     "metadata": {},
     "output_type": "execute_result"
    }
   ],
   "source": [
    "df.groupby(['status_group','construction_year']).size()"
   ]
  },
  {
   "cell_type": "code",
   "execution_count": 19,
   "metadata": {
    "scrolled": true
   },
   "outputs": [
    {
     "data": {
      "text/plain": [
       "<matplotlib.legend.Legend at 0x2e241700b00>"
      ]
     },
     "execution_count": 19,
     "metadata": {},
     "output_type": "execute_result"
    },
    {
     "data": {
      "image/png": "[encoded data removed]",
      "text/plain": [
       "<Figure size 2160x1440 with 1 Axes>"
      ]
     },
     "metadata": {
      "needs_background": "light"
     },
     "output_type": "display_data"
    }
   ],
   "source": [
    "plt.figure(figsize=(30, 20))\n",
    "sns.countplot(data=df,y='construction_year',hue='status_group')\n",
    "plt.legend(bbox_to_anchor=(1, 1), loc=2)"
   ]
  },
  {
   "cell_type": "code",
   "execution_count": 20,
   "metadata": {},
   "outputs": [],
   "source": [
    "#plt.bar(x='construction_year', height=10)"
   ]
  },
  {
   "cell_type": "code",
   "execution_count": 21,
   "metadata": {},
   "outputs": [],
   "source": [
    "#df.age.max()"
   ]
  },
  {
   "cell_type": "code",
   "execution_count": 22,
   "metadata": {
    "scrolled": true
   },
   "outputs": [],
   "source": [
    "#df.groupby([['quantity']], index=df['quantity'])#, columns=df['status_group'], aggfunc='count')"
   ]
  },
  {
   "cell_type": "code",
   "execution_count": 23,
   "metadata": {},
   "outputs": [
    {
     "data": {
      "text/plain": [
       "<matplotlib.legend.Legend at 0x2e2401e8198>"
      ]
     },
     "execution_count": 23,
     "metadata": {},
     "output_type": "execute_result"
    },
    {
     "data": {
      "image/png": "[encoded data removed]",
      "text/plain": [
       "<Figure size 1008x432 with 1 Axes>"
      ]
     },
     "metadata": {
      "needs_background": "light"
     },
     "output_type": "display_data"
    }
   ],
   "source": [
    "plt.figure(figsize=(14,6))\n",
    "sns.countplot(data=df,x='basin',hue='status_group')\n",
    "plt.legend(bbox_to_anchor=(1, 1), loc=2)"
   ]
  },
  {
   "cell_type": "code",
   "execution_count": 24,
   "metadata": {},
   "outputs": [
    {
     "data": {
      "text/plain": [
       "extraction_type\n",
       "afridev                       1770\n",
       "cemo                            90\n",
       "climax                          32\n",
       "gravity                      26780\n",
       "india mark ii                 2400\n",
       "india mark iii                  98\n",
       "ksb                           1415\n",
       "mono                          2865\n",
       "nira/tanira                   8154\n",
       "other                         6430\n",
       "other - mkulima/shinyanga        2\n",
       "other - play pump               85\n",
       "other - rope pump              451\n",
       "other - swn 81                 229\n",
       "submersible                   4764\n",
       "swn 80                        3670\n",
       "walimi                          48\n",
       "windmill                       117\n",
       "dtype: int64"
      ]
     },
     "execution_count": 24,
     "metadata": {},
     "output_type": "execute_result"
    }
   ],
   "source": [
    "df[['quantity']].groupby(df['extraction_type']).size()"
   ]
  },
  {
   "cell_type": "code",
   "execution_count": 25,
   "metadata": {},
   "outputs": [
    {
     "data": {
      "text/plain": [
       "<matplotlib.legend.Legend at 0x2e241a48128>"
      ]
     },
     "execution_count": 25,
     "metadata": {},
     "output_type": "execute_result"
    },
    {
     "data": {
      "image/png": "[encoded data removed]",
      "text/plain": [
       "<Figure size 1008x432 with 1 Axes>"
      ]
     },
     "metadata": {
      "needs_background": "light"
     },
     "output_type": "display_data"
    }
   ],
   "source": [
    "plt.figure(figsize=(14,6))\n",
    "sns.countplot(data=df,x='quantity',hue='extraction_type')\n",
    "plt.legend(bbox_to_anchor=(1, 1), loc=2)"
   ]
  },
  {
   "cell_type": "code",
   "execution_count": 26,
   "metadata": {
    "scrolled": true
   },
   "outputs": [
    {
     "data": {
      "text/plain": [
       "extraction_type\n",
       "afridev                79\n",
       "gravity              2317\n",
       "india mark ii         239\n",
       "india mark iii          6\n",
       "ksb                   108\n",
       "mono                  739\n",
       "nira/tanira           496\n",
       "other                1473\n",
       "other - play pump      35\n",
       "other - rope pump      30\n",
       "other - swn 81         12\n",
       "submersible           424\n",
       "swn 80                266\n",
       "walimi                  2\n",
       "windmill               20\n",
       "dtype: int64"
      ]
     },
     "execution_count": 26,
     "metadata": {},
     "output_type": "execute_result"
    }
   ],
   "source": [
    "df[df['quantity']=='dry'].groupby(df['extraction_type']).size()"
   ]
  },
  {
   "cell_type": "code",
   "execution_count": 27,
   "metadata": {},
   "outputs": [
    {
     "data": {
      "text/plain": [
       "Index(['id', 'amount_tsh', 'date_recorded', 'funder', 'gps_height',\n",
       "       'installer', 'longitude', 'latitude', 'wpt_name', 'num_private',\n",
       "       'basin', 'subvillage', 'region', 'region_code', 'district_code', 'lga',\n",
       "       'ward', 'population', 'public_meeting', 'recorded_by',\n",
       "       'scheme_management', 'scheme_name', 'permit', 'construction_year',\n",
       "       'extraction_type', 'extraction_type_group', 'extraction_type_class',\n",
       "       'management', 'management_group', 'payment', 'payment_type',\n",
       "       'water_quality', 'quality_group', 'quantity', 'quantity_group',\n",
       "       'source', 'source_type', 'source_class', 'waterpoint_type',\n",
       "       'waterpoint_type_group', 'status_group'],\n",
       "      dtype='object')"
      ]
     },
     "execution_count": 27,
     "metadata": {},
     "output_type": "execute_result"
    }
   ],
   "source": [
    "df.columns"
   ]
  },
  {
   "cell_type": "code",
   "execution_count": 28,
   "metadata": {
    "scrolled": true
   },
   "outputs": [
    {
     "data": {
      "text/html": [
       "<div>\n",
       "<style scoped>\n",
       "    .dataframe tbody tr th:only-of-type {\n",
       "        vertical-align: middle;\n",
       "    }\n",
       "\n",
       "    .dataframe tbody tr th {\n",
       "        vertical-align: top;\n",
       "    }\n",
       "\n",
       "    .dataframe thead tr th {\n",
       "        text-align: left;\n",
       "    }\n",
       "\n",
       "    .dataframe thead tr:last-of-type th {\n",
       "        text-align: right;\n",
       "    }\n",
       "</style>\n",
       "<table border=\"1\" class=\"dataframe\">\n",
       "  <thead>\n",
       "    <tr>\n",
       "      <th></th>\n",
       "      <th colspan=\"3\" halign=\"left\">basin</th>\n",
       "    </tr>\n",
       "    <tr>\n",
       "      <th>status_group</th>\n",
       "      <th>functional</th>\n",
       "      <th>functional needs repair</th>\n",
       "      <th>non functional</th>\n",
       "    </tr>\n",
       "    <tr>\n",
       "      <th>quantity</th>\n",
       "      <th></th>\n",
       "      <th></th>\n",
       "      <th></th>\n",
       "    </tr>\n",
       "  </thead>\n",
       "  <tbody>\n",
       "    <tr>\n",
       "      <th>dry</th>\n",
       "      <td>157</td>\n",
       "      <td>37</td>\n",
       "      <td>6052</td>\n",
       "    </tr>\n",
       "    <tr>\n",
       "      <th>enough</th>\n",
       "      <td>21648</td>\n",
       "      <td>2400</td>\n",
       "      <td>9138</td>\n",
       "    </tr>\n",
       "    <tr>\n",
       "      <th>insufficient</th>\n",
       "      <td>7916</td>\n",
       "      <td>1450</td>\n",
       "      <td>5763</td>\n",
       "    </tr>\n",
       "    <tr>\n",
       "      <th>seasonal</th>\n",
       "      <td>2325</td>\n",
       "      <td>416</td>\n",
       "      <td>1309</td>\n",
       "    </tr>\n",
       "    <tr>\n",
       "      <th>unknown</th>\n",
       "      <td>213</td>\n",
       "      <td>14</td>\n",
       "      <td>562</td>\n",
       "    </tr>\n",
       "  </tbody>\n",
       "</table>\n",
       "</div>"
      ],
      "text/plain": [
       "                  basin                                       \n",
       "status_group functional functional needs repair non functional\n",
       "quantity                                                      \n",
       "dry                 157                      37           6052\n",
       "enough            21648                    2400           9138\n",
       "insufficient       7916                    1450           5763\n",
       "seasonal           2325                     416           1309\n",
       "unknown             213                      14            562"
      ]
     },
     "execution_count": 28,
     "metadata": {},
     "output_type": "execute_result"
    }
   ],
   "source": [
    "piv_df = df[['quantity', 'status_group', 'basin']]\n",
    "piv_table = piv_df.pivot_table(index='quantity', columns='status_group', aggfunc='count')\n",
    "piv_table"
   ]
  },
  {
   "cell_type": "code",
   "execution_count": 29,
   "metadata": {},
   "outputs": [
    {
     "data": {
      "text/html": [
       "<div>\n",
       "<style scoped>\n",
       "    .dataframe tbody tr th:only-of-type {\n",
       "        vertical-align: middle;\n",
       "    }\n",
       "\n",
       "    .dataframe tbody tr th {\n",
       "        vertical-align: top;\n",
       "    }\n",
       "\n",
       "    .dataframe thead tr th {\n",
       "        text-align: left;\n",
       "    }\n",
       "\n",
       "    .dataframe thead tr:last-of-type th {\n",
       "        text-align: right;\n",
       "    }\n",
       "</style>\n",
       "<table border=\"1\" class=\"dataframe\">\n",
       "  <thead>\n",
       "    <tr>\n",
       "      <th></th>\n",
       "      <th colspan=\"3\" halign=\"left\">basin</th>\n",
       "    </tr>\n",
       "    <tr>\n",
       "      <th>status_group</th>\n",
       "      <th>functional</th>\n",
       "      <th>functional needs repair</th>\n",
       "      <th>non functional</th>\n",
       "    </tr>\n",
       "    <tr>\n",
       "      <th>water_quality</th>\n",
       "      <th></th>\n",
       "      <th></th>\n",
       "      <th></th>\n",
       "    </tr>\n",
       "  </thead>\n",
       "  <tbody>\n",
       "    <tr>\n",
       "      <th>coloured</th>\n",
       "      <td>246.0</td>\n",
       "      <td>54.0</td>\n",
       "      <td>190.0</td>\n",
       "    </tr>\n",
       "    <tr>\n",
       "      <th>fluoride</th>\n",
       "      <td>151.0</td>\n",
       "      <td>13.0</td>\n",
       "      <td>36.0</td>\n",
       "    </tr>\n",
       "    <tr>\n",
       "      <th>fluoride abandoned</th>\n",
       "      <td>6.0</td>\n",
       "      <td>NaN</td>\n",
       "      <td>11.0</td>\n",
       "    </tr>\n",
       "    <tr>\n",
       "      <th>milky</th>\n",
       "      <td>438.0</td>\n",
       "      <td>14.0</td>\n",
       "      <td>352.0</td>\n",
       "    </tr>\n",
       "    <tr>\n",
       "      <th>salty</th>\n",
       "      <td>2220.0</td>\n",
       "      <td>225.0</td>\n",
       "      <td>2411.0</td>\n",
       "    </tr>\n",
       "    <tr>\n",
       "      <th>salty abandoned</th>\n",
       "      <td>174.0</td>\n",
       "      <td>72.0</td>\n",
       "      <td>93.0</td>\n",
       "    </tr>\n",
       "    <tr>\n",
       "      <th>soft</th>\n",
       "      <td>28760.0</td>\n",
       "      <td>3904.0</td>\n",
       "      <td>18154.0</td>\n",
       "    </tr>\n",
       "    <tr>\n",
       "      <th>unknown</th>\n",
       "      <td>264.0</td>\n",
       "      <td>35.0</td>\n",
       "      <td>1577.0</td>\n",
       "    </tr>\n",
       "  </tbody>\n",
       "</table>\n",
       "</div>"
      ],
      "text/plain": [
       "                        basin                                       \n",
       "status_group       functional functional needs repair non functional\n",
       "water_quality                                                       \n",
       "coloured                246.0                    54.0          190.0\n",
       "fluoride                151.0                    13.0           36.0\n",
       "fluoride abandoned        6.0                     NaN           11.0\n",
       "milky                   438.0                    14.0          352.0\n",
       "salty                  2220.0                   225.0         2411.0\n",
       "salty abandoned         174.0                    72.0           93.0\n",
       "soft                  28760.0                  3904.0        18154.0\n",
       "unknown                 264.0                    35.0         1577.0"
      ]
     },
     "execution_count": 29,
     "metadata": {},
     "output_type": "execute_result"
    }
   ],
   "source": [
    "piv_df= df[['water_quality','status_group','basin']]\n",
    "piv_table = piv_df.pivot_table(index='water_quality',columns='status_group', aggfunc='count')\n",
    "piv_table"
   ]
  },
  {
   "cell_type": "code",
   "execution_count": 30,
   "metadata": {},
   "outputs": [
    {
     "data": {
      "text/plain": [
       "<matplotlib.legend.Legend at 0x2e239c3a7b8>"
      ]
     },
     "execution_count": 30,
     "metadata": {},
     "output_type": "execute_result"
    },
    {
     "data": {
      "image/png": "[encoded data removed]",
      "text/plain": [
       "<Figure size 1008x432 with 1 Axes>"
      ]
     },
     "metadata": {
      "needs_background": "light"
     },
     "output_type": "display_data"
    }
   ],
   "source": [
    "plt.figure(figsize=(14,6))\n",
    "sns.countplot(data=df,x='water_quality',hue='status_group')\n",
    "plt.legend(bbox_to_anchor=(1, 1), loc=2)"
   ]
  },
  {
   "cell_type": "code",
   "execution_count": 31,
   "metadata": {},
   "outputs": [
    {
     "data": {
      "image/png": "[encoded data removed]",
      "text/plain": [
       "<Figure size 432x288 with 1 Axes>"
      ]
     },
     "metadata": {
      "needs_background": "light"
     },
     "output_type": "display_data"
    }
   ],
   "source": [
    "_ = plt.boxplot(df['gps_height'])"
   ]
  },
  {
   "cell_type": "code",
   "execution_count": 32,
   "metadata": {},
   "outputs": [
    {
     "data": {
      "image/png": "[encoded data removed]",
      "text/plain": [
       "<Figure size 432x288 with 1 Axes>"
      ]
     },
     "metadata": {
      "needs_background": "light"
     },
     "output_type": "display_data"
    }
   ],
   "source": [
    "_ = plt.boxplot(df['amount_tsh'])"
   ]
  },
  {
   "cell_type": "code",
   "execution_count": null,
   "metadata": {},
   "outputs": [],
   "source": []
  },
  {
   "cell_type": "markdown",
   "metadata": {},
   "source": [
    "### Dropping The Features With Similar Representation of Data"
   ]
  },
  {
   "cell_type": "code",
   "execution_count": 33,
   "metadata": {},
   "outputs": [
    {
     "data": {
      "text/plain": [
       "41639"
      ]
     },
     "execution_count": 33,
     "metadata": {},
     "output_type": "execute_result"
    }
   ],
   "source": [
    "# checking the amount_tsh column to see how many rows have 0's in them\n",
    "len(df[df['amount_tsh'] == 0])"
   ]
  },
  {
   "cell_type": "code",
   "execution_count": 34,
   "metadata": {},
   "outputs": [
    {
     "data": {
      "text/html": [
       "<div>\n",
       "<style scoped>\n",
       "    .dataframe tbody tr th:only-of-type {\n",
       "        vertical-align: middle;\n",
       "    }\n",
       "\n",
       "    .dataframe tbody tr th {\n",
       "        vertical-align: top;\n",
       "    }\n",
       "\n",
       "    .dataframe thead th {\n",
       "        text-align: right;\n",
       "    }\n",
       "</style>\n",
       "<table border=\"1\" class=\"dataframe\">\n",
       "  <thead>\n",
       "    <tr style=\"text-align: right;\">\n",
       "      <th></th>\n",
       "      <th>id</th>\n",
       "      <th>amount_tsh</th>\n",
       "      <th>date_recorded</th>\n",
       "      <th>funder</th>\n",
       "      <th>gps_height</th>\n",
       "      <th>installer</th>\n",
       "      <th>longitude</th>\n",
       "      <th>latitude</th>\n",
       "      <th>wpt_name</th>\n",
       "      <th>num_private</th>\n",
       "      <th>...</th>\n",
       "      <th>water_quality</th>\n",
       "      <th>quality_group</th>\n",
       "      <th>quantity</th>\n",
       "      <th>quantity_group</th>\n",
       "      <th>source</th>\n",
       "      <th>source_type</th>\n",
       "      <th>source_class</th>\n",
       "      <th>waterpoint_type</th>\n",
       "      <th>waterpoint_type_group</th>\n",
       "      <th>status_group</th>\n",
       "    </tr>\n",
       "  </thead>\n",
       "  <tbody>\n",
       "    <tr>\n",
       "      <th>4</th>\n",
       "      <td>19728</td>\n",
       "      <td>0.0</td>\n",
       "      <td>2011-07-13</td>\n",
       "      <td>Action In A</td>\n",
       "      <td>0</td>\n",
       "      <td>Artisan</td>\n",
       "      <td>31.130847</td>\n",
       "      <td>-1.825359e+00</td>\n",
       "      <td>Shuleni</td>\n",
       "      <td>0</td>\n",
       "      <td>...</td>\n",
       "      <td>soft</td>\n",
       "      <td>good</td>\n",
       "      <td>seasonal</td>\n",
       "      <td>seasonal</td>\n",
       "      <td>rainwater harvesting</td>\n",
       "      <td>rainwater harvesting</td>\n",
       "      <td>surface</td>\n",
       "      <td>communal standpipe</td>\n",
       "      <td>communal standpipe</td>\n",
       "      <td>functional</td>\n",
       "    </tr>\n",
       "    <tr>\n",
       "      <th>5</th>\n",
       "      <td>9944</td>\n",
       "      <td>20.0</td>\n",
       "      <td>2011-03-13</td>\n",
       "      <td>Mkinga Distric Coun</td>\n",
       "      <td>0</td>\n",
       "      <td>DWE</td>\n",
       "      <td>39.172796</td>\n",
       "      <td>-4.765587e+00</td>\n",
       "      <td>Tajiri</td>\n",
       "      <td>0</td>\n",
       "      <td>...</td>\n",
       "      <td>salty</td>\n",
       "      <td>salty</td>\n",
       "      <td>enough</td>\n",
       "      <td>enough</td>\n",
       "      <td>other</td>\n",
       "      <td>other</td>\n",
       "      <td>unknown</td>\n",
       "      <td>communal standpipe multiple</td>\n",
       "      <td>communal standpipe</td>\n",
       "      <td>functional</td>\n",
       "    </tr>\n",
       "    <tr>\n",
       "      <th>6</th>\n",
       "      <td>19816</td>\n",
       "      <td>0.0</td>\n",
       "      <td>2012-10-01</td>\n",
       "      <td>Dwsp</td>\n",
       "      <td>0</td>\n",
       "      <td>DWSP</td>\n",
       "      <td>33.362410</td>\n",
       "      <td>-3.766365e+00</td>\n",
       "      <td>Kwa Ngomho</td>\n",
       "      <td>0</td>\n",
       "      <td>...</td>\n",
       "      <td>soft</td>\n",
       "      <td>good</td>\n",
       "      <td>enough</td>\n",
       "      <td>enough</td>\n",
       "      <td>machine dbh</td>\n",
       "      <td>borehole</td>\n",
       "      <td>groundwater</td>\n",
       "      <td>hand pump</td>\n",
       "      <td>hand pump</td>\n",
       "      <td>non functional</td>\n",
       "    </tr>\n",
       "    <tr>\n",
       "      <th>7</th>\n",
       "      <td>54551</td>\n",
       "      <td>0.0</td>\n",
       "      <td>2012-10-09</td>\n",
       "      <td>Rwssp</td>\n",
       "      <td>0</td>\n",
       "      <td>DWE</td>\n",
       "      <td>32.620617</td>\n",
       "      <td>-4.226198e+00</td>\n",
       "      <td>Tushirikiane</td>\n",
       "      <td>0</td>\n",
       "      <td>...</td>\n",
       "      <td>milky</td>\n",
       "      <td>milky</td>\n",
       "      <td>enough</td>\n",
       "      <td>enough</td>\n",
       "      <td>shallow well</td>\n",
       "      <td>shallow well</td>\n",
       "      <td>groundwater</td>\n",
       "      <td>hand pump</td>\n",
       "      <td>hand pump</td>\n",
       "      <td>non functional</td>\n",
       "    </tr>\n",
       "    <tr>\n",
       "      <th>8</th>\n",
       "      <td>53934</td>\n",
       "      <td>0.0</td>\n",
       "      <td>2012-11-03</td>\n",
       "      <td>Wateraid</td>\n",
       "      <td>0</td>\n",
       "      <td>Water Aid</td>\n",
       "      <td>32.711100</td>\n",
       "      <td>-5.146712e+00</td>\n",
       "      <td>Kwa Ramadhan Musa</td>\n",
       "      <td>0</td>\n",
       "      <td>...</td>\n",
       "      <td>salty</td>\n",
       "      <td>salty</td>\n",
       "      <td>seasonal</td>\n",
       "      <td>seasonal</td>\n",
       "      <td>machine dbh</td>\n",
       "      <td>borehole</td>\n",
       "      <td>groundwater</td>\n",
       "      <td>hand pump</td>\n",
       "      <td>hand pump</td>\n",
       "      <td>non functional</td>\n",
       "    </tr>\n",
       "    <tr>\n",
       "      <th>9</th>\n",
       "      <td>46144</td>\n",
       "      <td>0.0</td>\n",
       "      <td>2011-08-03</td>\n",
       "      <td>Isingiro Ho</td>\n",
       "      <td>0</td>\n",
       "      <td>Artisan</td>\n",
       "      <td>30.626991</td>\n",
       "      <td>-1.257051e+00</td>\n",
       "      <td>Kwapeto</td>\n",
       "      <td>0</td>\n",
       "      <td>...</td>\n",
       "      <td>soft</td>\n",
       "      <td>good</td>\n",
       "      <td>enough</td>\n",
       "      <td>enough</td>\n",
       "      <td>shallow well</td>\n",
       "      <td>shallow well</td>\n",
       "      <td>groundwater</td>\n",
       "      <td>hand pump</td>\n",
       "      <td>hand pump</td>\n",
       "      <td>functional</td>\n",
       "    </tr>\n",
       "    <tr>\n",
       "      <th>12</th>\n",
       "      <td>36957</td>\n",
       "      <td>0.0</td>\n",
       "      <td>2012-10-14</td>\n",
       "      <td>World Vision</td>\n",
       "      <td>0</td>\n",
       "      <td>World vision</td>\n",
       "      <td>33.798106</td>\n",
       "      <td>-3.290194e+00</td>\n",
       "      <td>Pamba</td>\n",
       "      <td>0</td>\n",
       "      <td>...</td>\n",
       "      <td>soft</td>\n",
       "      <td>good</td>\n",
       "      <td>enough</td>\n",
       "      <td>enough</td>\n",
       "      <td>shallow well</td>\n",
       "      <td>shallow well</td>\n",
       "      <td>groundwater</td>\n",
       "      <td>hand pump</td>\n",
       "      <td>hand pump</td>\n",
       "      <td>functional</td>\n",
       "    </tr>\n",
       "    <tr>\n",
       "      <th>14</th>\n",
       "      <td>53752</td>\n",
       "      <td>0.0</td>\n",
       "      <td>2012-10-20</td>\n",
       "      <td>Biore</td>\n",
       "      <td>0</td>\n",
       "      <td>WEDECO</td>\n",
       "      <td>34.364073</td>\n",
       "      <td>-3.629333e+00</td>\n",
       "      <td>Mwabasabi</td>\n",
       "      <td>0</td>\n",
       "      <td>...</td>\n",
       "      <td>soft</td>\n",
       "      <td>good</td>\n",
       "      <td>enough</td>\n",
       "      <td>enough</td>\n",
       "      <td>shallow well</td>\n",
       "      <td>shallow well</td>\n",
       "      <td>groundwater</td>\n",
       "      <td>hand pump</td>\n",
       "      <td>hand pump</td>\n",
       "      <td>functional</td>\n",
       "    </tr>\n",
       "    <tr>\n",
       "      <th>21</th>\n",
       "      <td>6091</td>\n",
       "      <td>0.0</td>\n",
       "      <td>2013-02-10</td>\n",
       "      <td>Dwsp</td>\n",
       "      <td>0</td>\n",
       "      <td>DWE</td>\n",
       "      <td>0.000000</td>\n",
       "      <td>-2.000000e-08</td>\n",
       "      <td>Muungano</td>\n",
       "      <td>0</td>\n",
       "      <td>...</td>\n",
       "      <td>unknown</td>\n",
       "      <td>unknown</td>\n",
       "      <td>unknown</td>\n",
       "      <td>unknown</td>\n",
       "      <td>shallow well</td>\n",
       "      <td>shallow well</td>\n",
       "      <td>groundwater</td>\n",
       "      <td>hand pump</td>\n",
       "      <td>hand pump</td>\n",
       "      <td>functional</td>\n",
       "    </tr>\n",
       "    <tr>\n",
       "      <th>27</th>\n",
       "      <td>20145</td>\n",
       "      <td>0.0</td>\n",
       "      <td>2011-07-11</td>\n",
       "      <td>Hesawa</td>\n",
       "      <td>0</td>\n",
       "      <td>DWE</td>\n",
       "      <td>31.104257</td>\n",
       "      <td>-1.735361e+00</td>\n",
       "      <td>Kwawilliam</td>\n",
       "      <td>0</td>\n",
       "      <td>...</td>\n",
       "      <td>soft</td>\n",
       "      <td>good</td>\n",
       "      <td>enough</td>\n",
       "      <td>enough</td>\n",
       "      <td>shallow well</td>\n",
       "      <td>shallow well</td>\n",
       "      <td>groundwater</td>\n",
       "      <td>hand pump</td>\n",
       "      <td>hand pump</td>\n",
       "      <td>functional</td>\n",
       "    </tr>\n",
       "    <tr>\n",
       "      <th>30</th>\n",
       "      <td>46804</td>\n",
       "      <td>0.0</td>\n",
       "      <td>2011-03-23</td>\n",
       "      <td>Water</td>\n",
       "      <td>0</td>\n",
       "      <td>Water</td>\n",
       "      <td>36.108312</td>\n",
       "      <td>-5.791000e+00</td>\n",
       "      <td>Ngosi</td>\n",
       "      <td>0</td>\n",
       "      <td>...</td>\n",
       "      <td>soft</td>\n",
       "      <td>good</td>\n",
       "      <td>insufficient</td>\n",
       "      <td>insufficient</td>\n",
       "      <td>shallow well</td>\n",
       "      <td>shallow well</td>\n",
       "      <td>groundwater</td>\n",
       "      <td>hand pump</td>\n",
       "      <td>hand pump</td>\n",
       "      <td>functional</td>\n",
       "    </tr>\n",
       "    <tr>\n",
       "      <th>36</th>\n",
       "      <td>67359</td>\n",
       "      <td>0.0</td>\n",
       "      <td>2011-07-16</td>\n",
       "      <td>Danida</td>\n",
       "      <td>0</td>\n",
       "      <td>Central government</td>\n",
       "      <td>33.854345</td>\n",
       "      <td>-9.638520e+00</td>\n",
       "      <td>Office Ya Kijiji</td>\n",
       "      <td>0</td>\n",
       "      <td>...</td>\n",
       "      <td>soft</td>\n",
       "      <td>good</td>\n",
       "      <td>dry</td>\n",
       "      <td>dry</td>\n",
       "      <td>spring</td>\n",
       "      <td>spring</td>\n",
       "      <td>groundwater</td>\n",
       "      <td>communal standpipe</td>\n",
       "      <td>communal standpipe</td>\n",
       "      <td>non functional</td>\n",
       "    </tr>\n",
       "    <tr>\n",
       "      <th>37</th>\n",
       "      <td>60048</td>\n",
       "      <td>0.0</td>\n",
       "      <td>2011-03-27</td>\n",
       "      <td>Kirde</td>\n",
       "      <td>0</td>\n",
       "      <td>DWE</td>\n",
       "      <td>35.858373</td>\n",
       "      <td>-4.647906e+00</td>\n",
       "      <td>Tangi</td>\n",
       "      <td>0</td>\n",
       "      <td>...</td>\n",
       "      <td>soft</td>\n",
       "      <td>good</td>\n",
       "      <td>enough</td>\n",
       "      <td>enough</td>\n",
       "      <td>spring</td>\n",
       "      <td>spring</td>\n",
       "      <td>groundwater</td>\n",
       "      <td>communal standpipe</td>\n",
       "      <td>communal standpipe</td>\n",
       "      <td>functional</td>\n",
       "    </tr>\n",
       "    <tr>\n",
       "      <th>45</th>\n",
       "      <td>12958</td>\n",
       "      <td>0.0</td>\n",
       "      <td>2012-10-22</td>\n",
       "      <td>World Vision</td>\n",
       "      <td>0</td>\n",
       "      <td>World Vision</td>\n",
       "      <td>33.345260</td>\n",
       "      <td>-3.838998e+00</td>\n",
       "      <td>Shimasa</td>\n",
       "      <td>0</td>\n",
       "      <td>...</td>\n",
       "      <td>soft</td>\n",
       "      <td>good</td>\n",
       "      <td>enough</td>\n",
       "      <td>enough</td>\n",
       "      <td>machine dbh</td>\n",
       "      <td>borehole</td>\n",
       "      <td>groundwater</td>\n",
       "      <td>communal standpipe</td>\n",
       "      <td>communal standpipe</td>\n",
       "      <td>non functional</td>\n",
       "    </tr>\n",
       "    <tr>\n",
       "      <th>47</th>\n",
       "      <td>13620</td>\n",
       "      <td>0.0</td>\n",
       "      <td>2011-07-27</td>\n",
       "      <td>NaN</td>\n",
       "      <td>0</td>\n",
       "      <td>NaN</td>\n",
       "      <td>33.540607</td>\n",
       "      <td>-9.172905e+00</td>\n",
       "      <td>Mahakamani</td>\n",
       "      <td>0</td>\n",
       "      <td>...</td>\n",
       "      <td>soft</td>\n",
       "      <td>good</td>\n",
       "      <td>enough</td>\n",
       "      <td>enough</td>\n",
       "      <td>spring</td>\n",
       "      <td>spring</td>\n",
       "      <td>groundwater</td>\n",
       "      <td>communal standpipe</td>\n",
       "      <td>communal standpipe</td>\n",
       "      <td>functional</td>\n",
       "    </tr>\n",
       "    <tr>\n",
       "      <th>52</th>\n",
       "      <td>10745</td>\n",
       "      <td>0.0</td>\n",
       "      <td>2011-07-31</td>\n",
       "      <td>Kkkt_makwale</td>\n",
       "      <td>0</td>\n",
       "      <td>KKKT _ Konde and DWE</td>\n",
       "      <td>33.958163</td>\n",
       "      <td>-9.448122e+00</td>\n",
       "      <td>Kwa Abeli Mwamakula</td>\n",
       "      <td>0</td>\n",
       "      <td>...</td>\n",
       "      <td>soft</td>\n",
       "      <td>good</td>\n",
       "      <td>enough</td>\n",
       "      <td>enough</td>\n",
       "      <td>spring</td>\n",
       "      <td>spring</td>\n",
       "      <td>groundwater</td>\n",
       "      <td>communal standpipe</td>\n",
       "      <td>communal standpipe</td>\n",
       "      <td>functional</td>\n",
       "    </tr>\n",
       "    <tr>\n",
       "      <th>53</th>\n",
       "      <td>32376</td>\n",
       "      <td>0.0</td>\n",
       "      <td>2011-08-01</td>\n",
       "      <td>Government Of Tanzania</td>\n",
       "      <td>0</td>\n",
       "      <td>Government</td>\n",
       "      <td>0.000000</td>\n",
       "      <td>-2.000000e-08</td>\n",
       "      <td>Polisi</td>\n",
       "      <td>0</td>\n",
       "      <td>...</td>\n",
       "      <td>unknown</td>\n",
       "      <td>unknown</td>\n",
       "      <td>dry</td>\n",
       "      <td>dry</td>\n",
       "      <td>machine dbh</td>\n",
       "      <td>borehole</td>\n",
       "      <td>groundwater</td>\n",
       "      <td>communal standpipe multiple</td>\n",
       "      <td>communal standpipe</td>\n",
       "      <td>non functional</td>\n",
       "    </tr>\n",
       "    <tr>\n",
       "      <th>54</th>\n",
       "      <td>9417</td>\n",
       "      <td>0.0</td>\n",
       "      <td>2011-07-14</td>\n",
       "      <td>Sawaka</td>\n",
       "      <td>0</td>\n",
       "      <td>Artisan</td>\n",
       "      <td>30.983023</td>\n",
       "      <td>-1.680654e+00</td>\n",
       "      <td>Sawaka</td>\n",
       "      <td>0</td>\n",
       "      <td>...</td>\n",
       "      <td>soft</td>\n",
       "      <td>good</td>\n",
       "      <td>dry</td>\n",
       "      <td>dry</td>\n",
       "      <td>rainwater harvesting</td>\n",
       "      <td>rainwater harvesting</td>\n",
       "      <td>surface</td>\n",
       "      <td>communal standpipe</td>\n",
       "      <td>communal standpipe</td>\n",
       "      <td>functional</td>\n",
       "    </tr>\n",
       "    <tr>\n",
       "      <th>59</th>\n",
       "      <td>31714</td>\n",
       "      <td>0.0</td>\n",
       "      <td>2011-07-07</td>\n",
       "      <td>Government Of Tanzania</td>\n",
       "      <td>0</td>\n",
       "      <td>DWE</td>\n",
       "      <td>31.454282</td>\n",
       "      <td>-1.563886e+00</td>\n",
       "      <td>Kwa Mzee Max</td>\n",
       "      <td>0</td>\n",
       "      <td>...</td>\n",
       "      <td>soft</td>\n",
       "      <td>good</td>\n",
       "      <td>enough</td>\n",
       "      <td>enough</td>\n",
       "      <td>shallow well</td>\n",
       "      <td>shallow well</td>\n",
       "      <td>groundwater</td>\n",
       "      <td>hand pump</td>\n",
       "      <td>hand pump</td>\n",
       "      <td>functional needs repair</td>\n",
       "    </tr>\n",
       "    <tr>\n",
       "      <th>67</th>\n",
       "      <td>22108</td>\n",
       "      <td>0.0</td>\n",
       "      <td>2011-07-31</td>\n",
       "      <td>Government Of Tanzania</td>\n",
       "      <td>0</td>\n",
       "      <td>DWE</td>\n",
       "      <td>30.716090</td>\n",
       "      <td>-1.285780e+00</td>\n",
       "      <td>Kwashuza</td>\n",
       "      <td>0</td>\n",
       "      <td>...</td>\n",
       "      <td>soft</td>\n",
       "      <td>good</td>\n",
       "      <td>dry</td>\n",
       "      <td>dry</td>\n",
       "      <td>spring</td>\n",
       "      <td>spring</td>\n",
       "      <td>groundwater</td>\n",
       "      <td>other</td>\n",
       "      <td>other</td>\n",
       "      <td>non functional</td>\n",
       "    </tr>\n",
       "    <tr>\n",
       "      <th>71</th>\n",
       "      <td>17386</td>\n",
       "      <td>0.0</td>\n",
       "      <td>2011-03-31</td>\n",
       "      <td>NaN</td>\n",
       "      <td>0</td>\n",
       "      <td>NaN</td>\n",
       "      <td>34.462228</td>\n",
       "      <td>-8.575780e+00</td>\n",
       "      <td>Kwa Manyusi Mlilo</td>\n",
       "      <td>0</td>\n",
       "      <td>...</td>\n",
       "      <td>soft</td>\n",
       "      <td>good</td>\n",
       "      <td>insufficient</td>\n",
       "      <td>insufficient</td>\n",
       "      <td>river</td>\n",
       "      <td>river/lake</td>\n",
       "      <td>surface</td>\n",
       "      <td>communal standpipe</td>\n",
       "      <td>communal standpipe</td>\n",
       "      <td>non functional</td>\n",
       "    </tr>\n",
       "    <tr>\n",
       "      <th>72</th>\n",
       "      <td>41609</td>\n",
       "      <td>0.0</td>\n",
       "      <td>2011-04-04</td>\n",
       "      <td>NaN</td>\n",
       "      <td>0</td>\n",
       "      <td>NaN</td>\n",
       "      <td>34.247180</td>\n",
       "      <td>-8.607513e+00</td>\n",
       "      <td>Kwa Mzee Mwalongo</td>\n",
       "      <td>0</td>\n",
       "      <td>...</td>\n",
       "      <td>soft</td>\n",
       "      <td>good</td>\n",
       "      <td>seasonal</td>\n",
       "      <td>seasonal</td>\n",
       "      <td>river</td>\n",
       "      <td>river/lake</td>\n",
       "      <td>surface</td>\n",
       "      <td>communal standpipe</td>\n",
       "      <td>communal standpipe</td>\n",
       "      <td>non functional</td>\n",
       "    </tr>\n",
       "    <tr>\n",
       "      <th>75</th>\n",
       "      <td>62971</td>\n",
       "      <td>0.0</td>\n",
       "      <td>2011-08-07</td>\n",
       "      <td>NaN</td>\n",
       "      <td>0</td>\n",
       "      <td>NaN</td>\n",
       "      <td>31.796873</td>\n",
       "      <td>-1.351486e+00</td>\n",
       "      <td>Kwa Jackson</td>\n",
       "      <td>0</td>\n",
       "      <td>...</td>\n",
       "      <td>soft</td>\n",
       "      <td>good</td>\n",
       "      <td>insufficient</td>\n",
       "      <td>insufficient</td>\n",
       "      <td>machine dbh</td>\n",
       "      <td>borehole</td>\n",
       "      <td>groundwater</td>\n",
       "      <td>communal standpipe multiple</td>\n",
       "      <td>communal standpipe</td>\n",
       "      <td>non functional</td>\n",
       "    </tr>\n",
       "    <tr>\n",
       "      <th>79</th>\n",
       "      <td>52561</td>\n",
       "      <td>0.0</td>\n",
       "      <td>2012-10-23</td>\n",
       "      <td>World Vision</td>\n",
       "      <td>0</td>\n",
       "      <td>World vision</td>\n",
       "      <td>32.255005</td>\n",
       "      <td>-3.361901e+00</td>\n",
       "      <td>Butimba</td>\n",
       "      <td>0</td>\n",
       "      <td>...</td>\n",
       "      <td>soft</td>\n",
       "      <td>good</td>\n",
       "      <td>insufficient</td>\n",
       "      <td>insufficient</td>\n",
       "      <td>shallow well</td>\n",
       "      <td>shallow well</td>\n",
       "      <td>groundwater</td>\n",
       "      <td>hand pump</td>\n",
       "      <td>hand pump</td>\n",
       "      <td>functional</td>\n",
       "    </tr>\n",
       "    <tr>\n",
       "      <th>83</th>\n",
       "      <td>34383</td>\n",
       "      <td>0.0</td>\n",
       "      <td>2012-10-22</td>\n",
       "      <td>Rwssp</td>\n",
       "      <td>0</td>\n",
       "      <td>DWE</td>\n",
       "      <td>33.538909</td>\n",
       "      <td>-3.361612e+00</td>\n",
       "      <td>Lembo</td>\n",
       "      <td>0</td>\n",
       "      <td>...</td>\n",
       "      <td>soft</td>\n",
       "      <td>good</td>\n",
       "      <td>insufficient</td>\n",
       "      <td>insufficient</td>\n",
       "      <td>shallow well</td>\n",
       "      <td>shallow well</td>\n",
       "      <td>groundwater</td>\n",
       "      <td>hand pump</td>\n",
       "      <td>hand pump</td>\n",
       "      <td>functional</td>\n",
       "    </tr>\n",
       "    <tr>\n",
       "      <th>85</th>\n",
       "      <td>68717</td>\n",
       "      <td>0.0</td>\n",
       "      <td>2011-08-08</td>\n",
       "      <td>Swedish</td>\n",
       "      <td>0</td>\n",
       "      <td>Sengerema Water Department</td>\n",
       "      <td>32.185517</td>\n",
       "      <td>-2.378772e+00</td>\n",
       "      <td>Kwa Swakala</td>\n",
       "      <td>0</td>\n",
       "      <td>...</td>\n",
       "      <td>soft</td>\n",
       "      <td>good</td>\n",
       "      <td>seasonal</td>\n",
       "      <td>seasonal</td>\n",
       "      <td>shallow well</td>\n",
       "      <td>shallow well</td>\n",
       "      <td>groundwater</td>\n",
       "      <td>hand pump</td>\n",
       "      <td>hand pump</td>\n",
       "      <td>non functional</td>\n",
       "    </tr>\n",
       "    <tr>\n",
       "      <th>87</th>\n",
       "      <td>30537</td>\n",
       "      <td>0.0</td>\n",
       "      <td>2011-09-05</td>\n",
       "      <td>He</td>\n",
       "      <td>0</td>\n",
       "      <td>HE</td>\n",
       "      <td>31.558903</td>\n",
       "      <td>-2.026469e+00</td>\n",
       "      <td>Kwa Ignas</td>\n",
       "      <td>0</td>\n",
       "      <td>...</td>\n",
       "      <td>soft</td>\n",
       "      <td>good</td>\n",
       "      <td>insufficient</td>\n",
       "      <td>insufficient</td>\n",
       "      <td>spring</td>\n",
       "      <td>spring</td>\n",
       "      <td>groundwater</td>\n",
       "      <td>communal standpipe</td>\n",
       "      <td>communal standpipe</td>\n",
       "      <td>non functional</td>\n",
       "    </tr>\n",
       "    <tr>\n",
       "      <th>89</th>\n",
       "      <td>22143</td>\n",
       "      <td>0.0</td>\n",
       "      <td>2011-04-11</td>\n",
       "      <td>Water</td>\n",
       "      <td>0</td>\n",
       "      <td>Commu</td>\n",
       "      <td>35.878172</td>\n",
       "      <td>-5.891868e+00</td>\n",
       "      <td>Ofisini</td>\n",
       "      <td>0</td>\n",
       "      <td>...</td>\n",
       "      <td>soft</td>\n",
       "      <td>good</td>\n",
       "      <td>insufficient</td>\n",
       "      <td>insufficient</td>\n",
       "      <td>machine dbh</td>\n",
       "      <td>borehole</td>\n",
       "      <td>groundwater</td>\n",
       "      <td>communal standpipe multiple</td>\n",
       "      <td>communal standpipe</td>\n",
       "      <td>functional needs repair</td>\n",
       "    </tr>\n",
       "    <tr>\n",
       "      <th>94</th>\n",
       "      <td>48593</td>\n",
       "      <td>0.0</td>\n",
       "      <td>2011-07-11</td>\n",
       "      <td>Hesawa</td>\n",
       "      <td>0</td>\n",
       "      <td>DWE</td>\n",
       "      <td>31.453111</td>\n",
       "      <td>-1.194390e+00</td>\n",
       "      <td>Kagashani</td>\n",
       "      <td>0</td>\n",
       "      <td>...</td>\n",
       "      <td>milky</td>\n",
       "      <td>milky</td>\n",
       "      <td>insufficient</td>\n",
       "      <td>insufficient</td>\n",
       "      <td>shallow well</td>\n",
       "      <td>shallow well</td>\n",
       "      <td>groundwater</td>\n",
       "      <td>hand pump</td>\n",
       "      <td>hand pump</td>\n",
       "      <td>non functional</td>\n",
       "    </tr>\n",
       "    <tr>\n",
       "      <th>97</th>\n",
       "      <td>29083</td>\n",
       "      <td>0.0</td>\n",
       "      <td>2011-08-04</td>\n",
       "      <td>Mzee Sh</td>\n",
       "      <td>0</td>\n",
       "      <td>ALLYS</td>\n",
       "      <td>33.079504</td>\n",
       "      <td>-3.009659e+00</td>\n",
       "      <td>Kwa Shij</td>\n",
       "      <td>0</td>\n",
       "      <td>...</td>\n",
       "      <td>unknown</td>\n",
       "      <td>unknown</td>\n",
       "      <td>enough</td>\n",
       "      <td>enough</td>\n",
       "      <td>machine dbh</td>\n",
       "      <td>borehole</td>\n",
       "      <td>groundwater</td>\n",
       "      <td>communal standpipe multiple</td>\n",
       "      <td>communal standpipe</td>\n",
       "      <td>functional</td>\n",
       "    </tr>\n",
       "    <tr>\n",
       "      <th>...</th>\n",
       "      <td>...</td>\n",
       "      <td>...</td>\n",
       "      <td>...</td>\n",
       "      <td>...</td>\n",
       "      <td>...</td>\n",
       "      <td>...</td>\n",
       "      <td>...</td>\n",
       "      <td>...</td>\n",
       "      <td>...</td>\n",
       "      <td>...</td>\n",
       "      <td>...</td>\n",
       "      <td>...</td>\n",
       "      <td>...</td>\n",
       "      <td>...</td>\n",
       "      <td>...</td>\n",
       "      <td>...</td>\n",
       "      <td>...</td>\n",
       "      <td>...</td>\n",
       "      <td>...</td>\n",
       "      <td>...</td>\n",
       "      <td>...</td>\n",
       "    </tr>\n",
       "    <tr>\n",
       "      <th>59308</th>\n",
       "      <td>15759</td>\n",
       "      <td>1200.0</td>\n",
       "      <td>2011-03-22</td>\n",
       "      <td>Tredep</td>\n",
       "      <td>0</td>\n",
       "      <td>TREDEP</td>\n",
       "      <td>37.448115</td>\n",
       "      <td>-5.434459e+00</td>\n",
       "      <td>Kwa Mataula</td>\n",
       "      <td>0</td>\n",
       "      <td>...</td>\n",
       "      <td>soft</td>\n",
       "      <td>good</td>\n",
       "      <td>insufficient</td>\n",
       "      <td>insufficient</td>\n",
       "      <td>spring</td>\n",
       "      <td>spring</td>\n",
       "      <td>groundwater</td>\n",
       "      <td>communal standpipe</td>\n",
       "      <td>communal standpipe</td>\n",
       "      <td>functional</td>\n",
       "    </tr>\n",
       "    <tr>\n",
       "      <th>59312</th>\n",
       "      <td>15864</td>\n",
       "      <td>0.0</td>\n",
       "      <td>2011-03-18</td>\n",
       "      <td>Water</td>\n",
       "      <td>0</td>\n",
       "      <td>Gover</td>\n",
       "      <td>36.378421</td>\n",
       "      <td>-6.589608e+00</td>\n",
       "      <td>Ng'Ambo</td>\n",
       "      <td>0</td>\n",
       "      <td>...</td>\n",
       "      <td>soft</td>\n",
       "      <td>good</td>\n",
       "      <td>enough</td>\n",
       "      <td>enough</td>\n",
       "      <td>spring</td>\n",
       "      <td>spring</td>\n",
       "      <td>groundwater</td>\n",
       "      <td>communal standpipe</td>\n",
       "      <td>communal standpipe</td>\n",
       "      <td>non functional</td>\n",
       "    </tr>\n",
       "    <tr>\n",
       "      <th>59324</th>\n",
       "      <td>748</td>\n",
       "      <td>0.0</td>\n",
       "      <td>2013-01-22</td>\n",
       "      <td>World Vision</td>\n",
       "      <td>0</td>\n",
       "      <td>World Vision</td>\n",
       "      <td>0.000000</td>\n",
       "      <td>-2.000000e-08</td>\n",
       "      <td>Mwazwilo</td>\n",
       "      <td>0</td>\n",
       "      <td>...</td>\n",
       "      <td>soft</td>\n",
       "      <td>good</td>\n",
       "      <td>enough</td>\n",
       "      <td>enough</td>\n",
       "      <td>shallow well</td>\n",
       "      <td>shallow well</td>\n",
       "      <td>groundwater</td>\n",
       "      <td>hand pump</td>\n",
       "      <td>hand pump</td>\n",
       "      <td>functional</td>\n",
       "    </tr>\n",
       "    <tr>\n",
       "      <th>59329</th>\n",
       "      <td>27957</td>\n",
       "      <td>0.0</td>\n",
       "      <td>2013-02-09</td>\n",
       "      <td>Rwssp</td>\n",
       "      <td>0</td>\n",
       "      <td>DWE</td>\n",
       "      <td>32.597166</td>\n",
       "      <td>-3.812227e+00</td>\n",
       "      <td>Kasela</td>\n",
       "      <td>0</td>\n",
       "      <td>...</td>\n",
       "      <td>milky</td>\n",
       "      <td>milky</td>\n",
       "      <td>insufficient</td>\n",
       "      <td>insufficient</td>\n",
       "      <td>shallow well</td>\n",
       "      <td>shallow well</td>\n",
       "      <td>groundwater</td>\n",
       "      <td>other</td>\n",
       "      <td>other</td>\n",
       "      <td>non functional</td>\n",
       "    </tr>\n",
       "    <tr>\n",
       "      <th>59334</th>\n",
       "      <td>24753</td>\n",
       "      <td>0.0</td>\n",
       "      <td>2011-08-04</td>\n",
       "      <td>Hesawa</td>\n",
       "      <td>0</td>\n",
       "      <td>DWE</td>\n",
       "      <td>33.428333</td>\n",
       "      <td>-2.682388e+00</td>\n",
       "      <td>Mwabalobi</td>\n",
       "      <td>0</td>\n",
       "      <td>...</td>\n",
       "      <td>soft</td>\n",
       "      <td>good</td>\n",
       "      <td>enough</td>\n",
       "      <td>enough</td>\n",
       "      <td>shallow well</td>\n",
       "      <td>shallow well</td>\n",
       "      <td>groundwater</td>\n",
       "      <td>hand pump</td>\n",
       "      <td>hand pump</td>\n",
       "      <td>functional</td>\n",
       "    </tr>\n",
       "    <tr>\n",
       "      <th>59335</th>\n",
       "      <td>46500</td>\n",
       "      <td>0.0</td>\n",
       "      <td>2011-03-13</td>\n",
       "      <td>World Bank</td>\n",
       "      <td>0</td>\n",
       "      <td>Contr</td>\n",
       "      <td>36.479476</td>\n",
       "      <td>-6.166311e+00</td>\n",
       "      <td>Zahanati</td>\n",
       "      <td>0</td>\n",
       "      <td>...</td>\n",
       "      <td>salty</td>\n",
       "      <td>salty</td>\n",
       "      <td>dry</td>\n",
       "      <td>dry</td>\n",
       "      <td>machine dbh</td>\n",
       "      <td>borehole</td>\n",
       "      <td>groundwater</td>\n",
       "      <td>communal standpipe multiple</td>\n",
       "      <td>communal standpipe</td>\n",
       "      <td>non functional</td>\n",
       "    </tr>\n",
       "    <tr>\n",
       "      <th>59339</th>\n",
       "      <td>1209</td>\n",
       "      <td>0.0</td>\n",
       "      <td>2011-07-08</td>\n",
       "      <td>NaN</td>\n",
       "      <td>0</td>\n",
       "      <td>NaN</td>\n",
       "      <td>33.654516</td>\n",
       "      <td>-9.312477e+00</td>\n",
       "      <td>Kwa Mzee Gwalugano</td>\n",
       "      <td>0</td>\n",
       "      <td>...</td>\n",
       "      <td>soft</td>\n",
       "      <td>good</td>\n",
       "      <td>insufficient</td>\n",
       "      <td>insufficient</td>\n",
       "      <td>spring</td>\n",
       "      <td>spring</td>\n",
       "      <td>groundwater</td>\n",
       "      <td>communal standpipe</td>\n",
       "      <td>communal standpipe</td>\n",
       "      <td>functional</td>\n",
       "    </tr>\n",
       "    <tr>\n",
       "      <th>59342</th>\n",
       "      <td>20216</td>\n",
       "      <td>0.0</td>\n",
       "      <td>2011-07-16</td>\n",
       "      <td>Government Of Tanzania</td>\n",
       "      <td>0</td>\n",
       "      <td>DWE</td>\n",
       "      <td>30.988360</td>\n",
       "      <td>-1.717181e+00</td>\n",
       "      <td>Kwbijura</td>\n",
       "      <td>0</td>\n",
       "      <td>...</td>\n",
       "      <td>soft</td>\n",
       "      <td>good</td>\n",
       "      <td>enough</td>\n",
       "      <td>enough</td>\n",
       "      <td>spring</td>\n",
       "      <td>spring</td>\n",
       "      <td>groundwater</td>\n",
       "      <td>communal standpipe</td>\n",
       "      <td>communal standpipe</td>\n",
       "      <td>functional</td>\n",
       "    </tr>\n",
       "    <tr>\n",
       "      <th>59348</th>\n",
       "      <td>49581</td>\n",
       "      <td>1000.0</td>\n",
       "      <td>2011-03-16</td>\n",
       "      <td>Mkinga  Distric Cou</td>\n",
       "      <td>0</td>\n",
       "      <td>DWE</td>\n",
       "      <td>38.823804</td>\n",
       "      <td>-4.844484e+00</td>\n",
       "      <td>Seedfarm 1</td>\n",
       "      <td>0</td>\n",
       "      <td>...</td>\n",
       "      <td>soft</td>\n",
       "      <td>good</td>\n",
       "      <td>insufficient</td>\n",
       "      <td>insufficient</td>\n",
       "      <td>spring</td>\n",
       "      <td>spring</td>\n",
       "      <td>groundwater</td>\n",
       "      <td>communal standpipe</td>\n",
       "      <td>communal standpipe</td>\n",
       "      <td>functional</td>\n",
       "    </tr>\n",
       "    <tr>\n",
       "      <th>59349</th>\n",
       "      <td>54026</td>\n",
       "      <td>0.0</td>\n",
       "      <td>2012-10-07</td>\n",
       "      <td>Dwsp</td>\n",
       "      <td>0</td>\n",
       "      <td>DWE</td>\n",
       "      <td>32.242568</td>\n",
       "      <td>-4.189353e+00</td>\n",
       "      <td>Kwa Mzee John Magube</td>\n",
       "      <td>0</td>\n",
       "      <td>...</td>\n",
       "      <td>soft</td>\n",
       "      <td>good</td>\n",
       "      <td>enough</td>\n",
       "      <td>enough</td>\n",
       "      <td>spring</td>\n",
       "      <td>spring</td>\n",
       "      <td>groundwater</td>\n",
       "      <td>communal standpipe multiple</td>\n",
       "      <td>communal standpipe</td>\n",
       "      <td>non functional</td>\n",
       "    </tr>\n",
       "    <tr>\n",
       "      <th>59350</th>\n",
       "      <td>16380</td>\n",
       "      <td>0.0</td>\n",
       "      <td>2013-02-07</td>\n",
       "      <td>Government Of Tanzania</td>\n",
       "      <td>0</td>\n",
       "      <td>Government</td>\n",
       "      <td>33.512685</td>\n",
       "      <td>-3.144151e+00</td>\n",
       "      <td>Makumbusho</td>\n",
       "      <td>0</td>\n",
       "      <td>...</td>\n",
       "      <td>soft</td>\n",
       "      <td>good</td>\n",
       "      <td>enough</td>\n",
       "      <td>enough</td>\n",
       "      <td>machine dbh</td>\n",
       "      <td>borehole</td>\n",
       "      <td>groundwater</td>\n",
       "      <td>communal standpipe</td>\n",
       "      <td>communal standpipe</td>\n",
       "      <td>non functional</td>\n",
       "    </tr>\n",
       "    <tr>\n",
       "      <th>59352</th>\n",
       "      <td>32775</td>\n",
       "      <td>0.0</td>\n",
       "      <td>2011-01-08</td>\n",
       "      <td>Kkkt_makwale</td>\n",
       "      <td>0</td>\n",
       "      <td>KKKT _ Konde and DWE</td>\n",
       "      <td>33.993468</td>\n",
       "      <td>-9.441295e+00</td>\n",
       "      <td>Kwa Tilani</td>\n",
       "      <td>0</td>\n",
       "      <td>...</td>\n",
       "      <td>soft</td>\n",
       "      <td>good</td>\n",
       "      <td>dry</td>\n",
       "      <td>dry</td>\n",
       "      <td>spring</td>\n",
       "      <td>spring</td>\n",
       "      <td>groundwater</td>\n",
       "      <td>communal standpipe</td>\n",
       "      <td>communal standpipe</td>\n",
       "      <td>non functional</td>\n",
       "    </tr>\n",
       "    <tr>\n",
       "      <th>59354</th>\n",
       "      <td>16666</td>\n",
       "      <td>0.0</td>\n",
       "      <td>2011-07-26</td>\n",
       "      <td>Md</td>\n",
       "      <td>0</td>\n",
       "      <td>DW</td>\n",
       "      <td>31.547474</td>\n",
       "      <td>-1.798378e+00</td>\n",
       "      <td>Kwenye Chama Ch</td>\n",
       "      <td>0</td>\n",
       "      <td>...</td>\n",
       "      <td>soft</td>\n",
       "      <td>good</td>\n",
       "      <td>enough</td>\n",
       "      <td>enough</td>\n",
       "      <td>spring</td>\n",
       "      <td>spring</td>\n",
       "      <td>groundwater</td>\n",
       "      <td>communal standpipe</td>\n",
       "      <td>communal standpipe</td>\n",
       "      <td>non functional</td>\n",
       "    </tr>\n",
       "    <tr>\n",
       "      <th>59359</th>\n",
       "      <td>5064</td>\n",
       "      <td>0.0</td>\n",
       "      <td>2011-07-12</td>\n",
       "      <td>Hesawa</td>\n",
       "      <td>0</td>\n",
       "      <td>HESAWA</td>\n",
       "      <td>31.556061</td>\n",
       "      <td>-1.536030e+00</td>\n",
       "      <td>Kwa Mzee Agustino</td>\n",
       "      <td>0</td>\n",
       "      <td>...</td>\n",
       "      <td>soft</td>\n",
       "      <td>good</td>\n",
       "      <td>enough</td>\n",
       "      <td>enough</td>\n",
       "      <td>river</td>\n",
       "      <td>river/lake</td>\n",
       "      <td>surface</td>\n",
       "      <td>communal standpipe</td>\n",
       "      <td>communal standpipe</td>\n",
       "      <td>functional</td>\n",
       "    </tr>\n",
       "    <tr>\n",
       "      <th>59360</th>\n",
       "      <td>12874</td>\n",
       "      <td>0.0</td>\n",
       "      <td>2011-03-26</td>\n",
       "      <td>Government Of Tanzania</td>\n",
       "      <td>0</td>\n",
       "      <td>DWE</td>\n",
       "      <td>33.242173</td>\n",
       "      <td>-8.954411e+00</td>\n",
       "      <td>Gwakisa</td>\n",
       "      <td>0</td>\n",
       "      <td>...</td>\n",
       "      <td>salty</td>\n",
       "      <td>salty</td>\n",
       "      <td>insufficient</td>\n",
       "      <td>insufficient</td>\n",
       "      <td>machine dbh</td>\n",
       "      <td>borehole</td>\n",
       "      <td>groundwater</td>\n",
       "      <td>communal standpipe</td>\n",
       "      <td>communal standpipe</td>\n",
       "      <td>functional</td>\n",
       "    </tr>\n",
       "    <tr>\n",
       "      <th>59361</th>\n",
       "      <td>35991</td>\n",
       "      <td>0.0</td>\n",
       "      <td>2012-10-30</td>\n",
       "      <td>Tlc</td>\n",
       "      <td>0</td>\n",
       "      <td>TLC</td>\n",
       "      <td>32.087611</td>\n",
       "      <td>-5.148770e+00</td>\n",
       "      <td>Mifugoni</td>\n",
       "      <td>0</td>\n",
       "      <td>...</td>\n",
       "      <td>soft</td>\n",
       "      <td>good</td>\n",
       "      <td>insufficient</td>\n",
       "      <td>insufficient</td>\n",
       "      <td>shallow well</td>\n",
       "      <td>shallow well</td>\n",
       "      <td>groundwater</td>\n",
       "      <td>other</td>\n",
       "      <td>other</td>\n",
       "      <td>non functional</td>\n",
       "    </tr>\n",
       "    <tr>\n",
       "      <th>59364</th>\n",
       "      <td>11047</td>\n",
       "      <td>0.0</td>\n",
       "      <td>2011-07-28</td>\n",
       "      <td>He</td>\n",
       "      <td>0</td>\n",
       "      <td>HE</td>\n",
       "      <td>31.561717</td>\n",
       "      <td>-1.678156e+00</td>\n",
       "      <td>Rutoma/Kwa Shab</td>\n",
       "      <td>0</td>\n",
       "      <td>...</td>\n",
       "      <td>soft</td>\n",
       "      <td>good</td>\n",
       "      <td>enough</td>\n",
       "      <td>enough</td>\n",
       "      <td>spring</td>\n",
       "      <td>spring</td>\n",
       "      <td>groundwater</td>\n",
       "      <td>improved spring</td>\n",
       "      <td>improved spring</td>\n",
       "      <td>functional</td>\n",
       "    </tr>\n",
       "    <tr>\n",
       "      <th>59368</th>\n",
       "      <td>61732</td>\n",
       "      <td>0.0</td>\n",
       "      <td>2011-03-08</td>\n",
       "      <td>Dct</td>\n",
       "      <td>0</td>\n",
       "      <td>Gove</td>\n",
       "      <td>35.657558</td>\n",
       "      <td>-6.526272e+00</td>\n",
       "      <td>Mgomwa</td>\n",
       "      <td>0</td>\n",
       "      <td>...</td>\n",
       "      <td>soft</td>\n",
       "      <td>good</td>\n",
       "      <td>enough</td>\n",
       "      <td>enough</td>\n",
       "      <td>machine dbh</td>\n",
       "      <td>borehole</td>\n",
       "      <td>groundwater</td>\n",
       "      <td>communal standpipe</td>\n",
       "      <td>communal standpipe</td>\n",
       "      <td>functional</td>\n",
       "    </tr>\n",
       "    <tr>\n",
       "      <th>59369</th>\n",
       "      <td>47527</td>\n",
       "      <td>0.0</td>\n",
       "      <td>2011-04-12</td>\n",
       "      <td>Rc Church</td>\n",
       "      <td>0</td>\n",
       "      <td>RC Church</td>\n",
       "      <td>33.670049</td>\n",
       "      <td>-9.001535e+00</td>\n",
       "      <td>Kwa Paval Dinno</td>\n",
       "      <td>0</td>\n",
       "      <td>...</td>\n",
       "      <td>soft</td>\n",
       "      <td>good</td>\n",
       "      <td>enough</td>\n",
       "      <td>enough</td>\n",
       "      <td>river</td>\n",
       "      <td>river/lake</td>\n",
       "      <td>surface</td>\n",
       "      <td>communal standpipe</td>\n",
       "      <td>communal standpipe</td>\n",
       "      <td>functional</td>\n",
       "    </tr>\n",
       "    <tr>\n",
       "      <th>59371</th>\n",
       "      <td>20387</td>\n",
       "      <td>0.0</td>\n",
       "      <td>2012-10-09</td>\n",
       "      <td>Netherlands</td>\n",
       "      <td>0</td>\n",
       "      <td>DWE</td>\n",
       "      <td>33.586406</td>\n",
       "      <td>-3.040369e+00</td>\n",
       "      <td>Ushirika</td>\n",
       "      <td>0</td>\n",
       "      <td>...</td>\n",
       "      <td>soft</td>\n",
       "      <td>good</td>\n",
       "      <td>enough</td>\n",
       "      <td>enough</td>\n",
       "      <td>shallow well</td>\n",
       "      <td>shallow well</td>\n",
       "      <td>groundwater</td>\n",
       "      <td>hand pump</td>\n",
       "      <td>hand pump</td>\n",
       "      <td>non functional</td>\n",
       "    </tr>\n",
       "    <tr>\n",
       "      <th>59372</th>\n",
       "      <td>29940</td>\n",
       "      <td>0.0</td>\n",
       "      <td>2012-10-31</td>\n",
       "      <td>Tlc</td>\n",
       "      <td>0</td>\n",
       "      <td>TLC</td>\n",
       "      <td>32.058548</td>\n",
       "      <td>-5.052101e+00</td>\n",
       "      <td>Kwa Mzee Kamanya</td>\n",
       "      <td>0</td>\n",
       "      <td>...</td>\n",
       "      <td>salty</td>\n",
       "      <td>salty</td>\n",
       "      <td>insufficient</td>\n",
       "      <td>insufficient</td>\n",
       "      <td>shallow well</td>\n",
       "      <td>shallow well</td>\n",
       "      <td>groundwater</td>\n",
       "      <td>other</td>\n",
       "      <td>other</td>\n",
       "      <td>non functional</td>\n",
       "    </tr>\n",
       "    <tr>\n",
       "      <th>59374</th>\n",
       "      <td>49651</td>\n",
       "      <td>0.0</td>\n",
       "      <td>2012-10-29</td>\n",
       "      <td>Rwssp</td>\n",
       "      <td>0</td>\n",
       "      <td>DWE</td>\n",
       "      <td>0.000000</td>\n",
       "      <td>-2.000000e-08</td>\n",
       "      <td>Nguvu Kazi</td>\n",
       "      <td>0</td>\n",
       "      <td>...</td>\n",
       "      <td>soft</td>\n",
       "      <td>good</td>\n",
       "      <td>enough</td>\n",
       "      <td>enough</td>\n",
       "      <td>shallow well</td>\n",
       "      <td>shallow well</td>\n",
       "      <td>groundwater</td>\n",
       "      <td>hand pump</td>\n",
       "      <td>hand pump</td>\n",
       "      <td>functional</td>\n",
       "    </tr>\n",
       "    <tr>\n",
       "      <th>59377</th>\n",
       "      <td>43986</td>\n",
       "      <td>0.0</td>\n",
       "      <td>2012-10-23</td>\n",
       "      <td>Government Of Tanzania</td>\n",
       "      <td>0</td>\n",
       "      <td>Government</td>\n",
       "      <td>33.437012</td>\n",
       "      <td>-4.423594e+00</td>\n",
       "      <td>Fpct</td>\n",
       "      <td>0</td>\n",
       "      <td>...</td>\n",
       "      <td>soft</td>\n",
       "      <td>good</td>\n",
       "      <td>insufficient</td>\n",
       "      <td>insufficient</td>\n",
       "      <td>dam</td>\n",
       "      <td>dam</td>\n",
       "      <td>surface</td>\n",
       "      <td>communal standpipe multiple</td>\n",
       "      <td>communal standpipe</td>\n",
       "      <td>non functional</td>\n",
       "    </tr>\n",
       "    <tr>\n",
       "      <th>59379</th>\n",
       "      <td>58255</td>\n",
       "      <td>0.0</td>\n",
       "      <td>2011-07-13</td>\n",
       "      <td>Do</td>\n",
       "      <td>0</td>\n",
       "      <td>DO</td>\n",
       "      <td>31.613284</td>\n",
       "      <td>-1.820226e+00</td>\n",
       "      <td>Coffee Plantati</td>\n",
       "      <td>0</td>\n",
       "      <td>...</td>\n",
       "      <td>soft</td>\n",
       "      <td>good</td>\n",
       "      <td>enough</td>\n",
       "      <td>enough</td>\n",
       "      <td>spring</td>\n",
       "      <td>spring</td>\n",
       "      <td>groundwater</td>\n",
       "      <td>communal standpipe</td>\n",
       "      <td>communal standpipe</td>\n",
       "      <td>functional</td>\n",
       "    </tr>\n",
       "    <tr>\n",
       "      <th>59381</th>\n",
       "      <td>67885</td>\n",
       "      <td>0.0</td>\n",
       "      <td>2011-03-16</td>\n",
       "      <td>Mkinga Distric Coun</td>\n",
       "      <td>0</td>\n",
       "      <td>DWE</td>\n",
       "      <td>38.835001</td>\n",
       "      <td>-4.880204e+00</td>\n",
       "      <td>Mijohoroni</td>\n",
       "      <td>0</td>\n",
       "      <td>...</td>\n",
       "      <td>soft</td>\n",
       "      <td>good</td>\n",
       "      <td>insufficient</td>\n",
       "      <td>insufficient</td>\n",
       "      <td>spring</td>\n",
       "      <td>spring</td>\n",
       "      <td>groundwater</td>\n",
       "      <td>communal standpipe</td>\n",
       "      <td>communal standpipe</td>\n",
       "      <td>non functional</td>\n",
       "    </tr>\n",
       "    <tr>\n",
       "      <th>59384</th>\n",
       "      <td>72148</td>\n",
       "      <td>0.0</td>\n",
       "      <td>2011-07-10</td>\n",
       "      <td>Concern</td>\n",
       "      <td>0</td>\n",
       "      <td>CONCERN</td>\n",
       "      <td>30.667805</td>\n",
       "      <td>-2.483710e+00</td>\n",
       "      <td>Chamkube</td>\n",
       "      <td>0</td>\n",
       "      <td>...</td>\n",
       "      <td>soft</td>\n",
       "      <td>good</td>\n",
       "      <td>insufficient</td>\n",
       "      <td>insufficient</td>\n",
       "      <td>spring</td>\n",
       "      <td>spring</td>\n",
       "      <td>groundwater</td>\n",
       "      <td>communal standpipe</td>\n",
       "      <td>communal standpipe</td>\n",
       "      <td>non functional</td>\n",
       "    </tr>\n",
       "    <tr>\n",
       "      <th>59392</th>\n",
       "      <td>40607</td>\n",
       "      <td>0.0</td>\n",
       "      <td>2011-04-15</td>\n",
       "      <td>Government Of Tanzania</td>\n",
       "      <td>0</td>\n",
       "      <td>Government</td>\n",
       "      <td>33.009440</td>\n",
       "      <td>-8.520888e+00</td>\n",
       "      <td>Benard Charles</td>\n",
       "      <td>0</td>\n",
       "      <td>...</td>\n",
       "      <td>soft</td>\n",
       "      <td>good</td>\n",
       "      <td>enough</td>\n",
       "      <td>enough</td>\n",
       "      <td>spring</td>\n",
       "      <td>spring</td>\n",
       "      <td>groundwater</td>\n",
       "      <td>communal standpipe</td>\n",
       "      <td>communal standpipe</td>\n",
       "      <td>non functional</td>\n",
       "    </tr>\n",
       "    <tr>\n",
       "      <th>59393</th>\n",
       "      <td>48348</td>\n",
       "      <td>0.0</td>\n",
       "      <td>2012-10-27</td>\n",
       "      <td>Private</td>\n",
       "      <td>0</td>\n",
       "      <td>Private</td>\n",
       "      <td>33.866852</td>\n",
       "      <td>-4.287410e+00</td>\n",
       "      <td>Kwa Peter</td>\n",
       "      <td>0</td>\n",
       "      <td>...</td>\n",
       "      <td>soft</td>\n",
       "      <td>good</td>\n",
       "      <td>insufficient</td>\n",
       "      <td>insufficient</td>\n",
       "      <td>dam</td>\n",
       "      <td>dam</td>\n",
       "      <td>surface</td>\n",
       "      <td>other</td>\n",
       "      <td>other</td>\n",
       "      <td>functional</td>\n",
       "    </tr>\n",
       "    <tr>\n",
       "      <th>59397</th>\n",
       "      <td>37057</td>\n",
       "      <td>0.0</td>\n",
       "      <td>2011-04-11</td>\n",
       "      <td>NaN</td>\n",
       "      <td>0</td>\n",
       "      <td>NaN</td>\n",
       "      <td>34.017087</td>\n",
       "      <td>-8.750434e+00</td>\n",
       "      <td>Mashine</td>\n",
       "      <td>0</td>\n",
       "      <td>...</td>\n",
       "      <td>fluoride</td>\n",
       "      <td>fluoride</td>\n",
       "      <td>enough</td>\n",
       "      <td>enough</td>\n",
       "      <td>machine dbh</td>\n",
       "      <td>borehole</td>\n",
       "      <td>groundwater</td>\n",
       "      <td>hand pump</td>\n",
       "      <td>hand pump</td>\n",
       "      <td>functional</td>\n",
       "    </tr>\n",
       "    <tr>\n",
       "      <th>59398</th>\n",
       "      <td>31282</td>\n",
       "      <td>0.0</td>\n",
       "      <td>2011-03-08</td>\n",
       "      <td>Malec</td>\n",
       "      <td>0</td>\n",
       "      <td>Musa</td>\n",
       "      <td>35.861315</td>\n",
       "      <td>-6.378573e+00</td>\n",
       "      <td>Mshoro</td>\n",
       "      <td>0</td>\n",
       "      <td>...</td>\n",
       "      <td>soft</td>\n",
       "      <td>good</td>\n",
       "      <td>insufficient</td>\n",
       "      <td>insufficient</td>\n",
       "      <td>shallow well</td>\n",
       "      <td>shallow well</td>\n",
       "      <td>groundwater</td>\n",
       "      <td>hand pump</td>\n",
       "      <td>hand pump</td>\n",
       "      <td>functional</td>\n",
       "    </tr>\n",
       "  </tbody>\n",
       "</table>\n",
       "<p>20438 rows × 41 columns</p>\n",
       "</div>"
      ],
      "text/plain": [
       "          id  amount_tsh date_recorded                  funder  gps_height  \\\n",
       "4      19728         0.0    2011-07-13             Action In A           0   \n",
       "5       9944        20.0    2011-03-13     Mkinga Distric Coun           0   \n",
       "6      19816         0.0    2012-10-01                    Dwsp           0   \n",
       "7      54551         0.0    2012-10-09                   Rwssp           0   \n",
       "8      53934         0.0    2012-11-03                Wateraid           0   \n",
       "9      46144         0.0    2011-08-03             Isingiro Ho           0   \n",
       "12     36957         0.0    2012-10-14            World Vision           0   \n",
       "14     53752         0.0    2012-10-20                   Biore           0   \n",
       "21      6091         0.0    2013-02-10                    Dwsp           0   \n",
       "27     20145         0.0    2011-07-11                  Hesawa           0   \n",
       "30     46804         0.0    2011-03-23                   Water           0   \n",
       "36     67359         0.0    2011-07-16                  Danida           0   \n",
       "37     60048         0.0    2011-03-27                   Kirde           0   \n",
       "45     12958         0.0    2012-10-22            World Vision           0   \n",
       "47     13620         0.0    2011-07-27                     NaN           0   \n",
       "52     10745         0.0    2011-07-31            Kkkt_makwale           0   \n",
       "53     32376         0.0    2011-08-01  Government Of Tanzania           0   \n",
       "54      9417         0.0    2011-07-14                  Sawaka           0   \n",
       "59     31714         0.0    2011-07-07  Government Of Tanzania           0   \n",
       "67     22108         0.0    2011-07-31  Government Of Tanzania           0   \n",
       "71     17386         0.0    2011-03-31                     NaN           0   \n",
       "72     41609         0.0    2011-04-04                     NaN           0   \n",
       "75     62971         0.0    2011-08-07                     NaN           0   \n",
       "79     52561         0.0    2012-10-23            World Vision           0   \n",
       "83     34383         0.0    2012-10-22                   Rwssp           0   \n",
       "85     68717         0.0    2011-08-08                 Swedish           0   \n",
       "87     30537         0.0    2011-09-05                      He           0   \n",
       "89     22143         0.0    2011-04-11                   Water           0   \n",
       "94     48593         0.0    2011-07-11                  Hesawa           0   \n",
       "97     29083         0.0    2011-08-04                 Mzee Sh           0   \n",
       "...      ...         ...           ...                     ...         ...   \n",
       "59308  15759      1200.0    2011-03-22                  Tredep           0   \n",
       "59312  15864         0.0    2011-03-18                   Water           0   \n",
       "59324    748         0.0    2013-01-22            World Vision           0   \n",
       "59329  27957         0.0    2013-02-09                   Rwssp           0   \n",
       "59334  24753         0.0    2011-08-04                  Hesawa           0   \n",
       "59335  46500         0.0    2011-03-13              World Bank           0   \n",
       "59339   1209         0.0    2011-07-08                     NaN           0   \n",
       "59342  20216         0.0    2011-07-16  Government Of Tanzania           0   \n",
       "59348  49581      1000.0    2011-03-16     Mkinga  Distric Cou           0   \n",
       "59349  54026         0.0    2012-10-07                    Dwsp           0   \n",
       "59350  16380         0.0    2013-02-07  Government Of Tanzania           0   \n",
       "59352  32775         0.0    2011-01-08            Kkkt_makwale           0   \n",
       "59354  16666         0.0    2011-07-26                      Md           0   \n",
       "59359   5064         0.0    2011-07-12                  Hesawa           0   \n",
       "59360  12874         0.0    2011-03-26  Government Of Tanzania           0   \n",
       "59361  35991         0.0    2012-10-30                     Tlc           0   \n",
       "59364  11047         0.0    2011-07-28                      He           0   \n",
       "59368  61732         0.0    2011-03-08                     Dct           0   \n",
       "59369  47527         0.0    2011-04-12               Rc Church           0   \n",
       "59371  20387         0.0    2012-10-09             Netherlands           0   \n",
       "59372  29940         0.0    2012-10-31                     Tlc           0   \n",
       "59374  49651         0.0    2012-10-29                   Rwssp           0   \n",
       "59377  43986         0.0    2012-10-23  Government Of Tanzania           0   \n",
       "59379  58255         0.0    2011-07-13                      Do           0   \n",
       "59381  67885         0.0    2011-03-16     Mkinga Distric Coun           0   \n",
       "59384  72148         0.0    2011-07-10                 Concern           0   \n",
       "59392  40607         0.0    2011-04-15  Government Of Tanzania           0   \n",
       "59393  48348         0.0    2012-10-27                 Private           0   \n",
       "59397  37057         0.0    2011-04-11                     NaN           0   \n",
       "59398  31282         0.0    2011-03-08                   Malec           0   \n",
       "\n",
       "                        installer  longitude      latitude  \\\n",
       "4                         Artisan  31.130847 -1.825359e+00   \n",
       "5                             DWE  39.172796 -4.765587e+00   \n",
       "6                            DWSP  33.362410 -3.766365e+00   \n",
       "7                             DWE  32.620617 -4.226198e+00   \n",
       "8                       Water Aid  32.711100 -5.146712e+00   \n",
       "9                         Artisan  30.626991 -1.257051e+00   \n",
       "12                   World vision  33.798106 -3.290194e+00   \n",
       "14                         WEDECO  34.364073 -3.629333e+00   \n",
       "21                            DWE   0.000000 -2.000000e-08   \n",
       "27                            DWE  31.104257 -1.735361e+00   \n",
       "30                          Water  36.108312 -5.791000e+00   \n",
       "36             Central government  33.854345 -9.638520e+00   \n",
       "37                            DWE  35.858373 -4.647906e+00   \n",
       "45                   World Vision  33.345260 -3.838998e+00   \n",
       "47                            NaN  33.540607 -9.172905e+00   \n",
       "52           KKKT _ Konde and DWE  33.958163 -9.448122e+00   \n",
       "53                     Government   0.000000 -2.000000e-08   \n",
       "54                        Artisan  30.983023 -1.680654e+00   \n",
       "59                            DWE  31.454282 -1.563886e+00   \n",
       "67                            DWE  30.716090 -1.285780e+00   \n",
       "71                            NaN  34.462228 -8.575780e+00   \n",
       "72                            NaN  34.247180 -8.607513e+00   \n",
       "75                            NaN  31.796873 -1.351486e+00   \n",
       "79                   World vision  32.255005 -3.361901e+00   \n",
       "83                            DWE  33.538909 -3.361612e+00   \n",
       "85     Sengerema Water Department  32.185517 -2.378772e+00   \n",
       "87                             HE  31.558903 -2.026469e+00   \n",
       "89                          Commu  35.878172 -5.891868e+00   \n",
       "94                            DWE  31.453111 -1.194390e+00   \n",
       "97                          ALLYS  33.079504 -3.009659e+00   \n",
       "...                           ...        ...           ...   \n",
       "59308                      TREDEP  37.448115 -5.434459e+00   \n",
       "59312                       Gover  36.378421 -6.589608e+00   \n",
       "59324                World Vision   0.000000 -2.000000e-08   \n",
       "59329                         DWE  32.597166 -3.812227e+00   \n",
       "59334                         DWE  33.428333 -2.682388e+00   \n",
       "59335                       Contr  36.479476 -6.166311e+00   \n",
       "59339                         NaN  33.654516 -9.312477e+00   \n",
       "59342                         DWE  30.988360 -1.717181e+00   \n",
       "59348                         DWE  38.823804 -4.844484e+00   \n",
       "59349                         DWE  32.242568 -4.189353e+00   \n",
       "59350                  Government  33.512685 -3.144151e+00   \n",
       "59352        KKKT _ Konde and DWE  33.993468 -9.441295e+00   \n",
       "59354                          DW  31.547474 -1.798378e+00   \n",
       "59359                      HESAWA  31.556061 -1.536030e+00   \n",
       "59360                         DWE  33.242173 -8.954411e+00   \n",
       "59361                         TLC  32.087611 -5.148770e+00   \n",
       "59364                          HE  31.561717 -1.678156e+00   \n",
       "59368                        Gove  35.657558 -6.526272e+00   \n",
       "59369                   RC Church  33.670049 -9.001535e+00   \n",
       "59371                         DWE  33.586406 -3.040369e+00   \n",
       "59372                         TLC  32.058548 -5.052101e+00   \n",
       "59374                         DWE   0.000000 -2.000000e-08   \n",
       "59377                  Government  33.437012 -4.423594e+00   \n",
       "59379                          DO  31.613284 -1.820226e+00   \n",
       "59381                         DWE  38.835001 -4.880204e+00   \n",
       "59384                     CONCERN  30.667805 -2.483710e+00   \n",
       "59392                  Government  33.009440 -8.520888e+00   \n",
       "59393                     Private  33.866852 -4.287410e+00   \n",
       "59397                         NaN  34.017087 -8.750434e+00   \n",
       "59398                        Musa  35.861315 -6.378573e+00   \n",
       "\n",
       "                   wpt_name  num_private  ... water_quality quality_group  \\\n",
       "4                   Shuleni            0  ...          soft          good   \n",
       "5                    Tajiri            0  ...         salty         salty   \n",
       "6                Kwa Ngomho            0  ...          soft          good   \n",
       "7              Tushirikiane            0  ...         milky         milky   \n",
       "8         Kwa Ramadhan Musa            0  ...         salty         salty   \n",
       "9                   Kwapeto            0  ...          soft          good   \n",
       "12                    Pamba            0  ...          soft          good   \n",
       "14                Mwabasabi            0  ...          soft          good   \n",
       "21                 Muungano            0  ...       unknown       unknown   \n",
       "27               Kwawilliam            0  ...          soft          good   \n",
       "30                    Ngosi            0  ...          soft          good   \n",
       "36         Office Ya Kijiji            0  ...          soft          good   \n",
       "37                    Tangi            0  ...          soft          good   \n",
       "45                  Shimasa            0  ...          soft          good   \n",
       "47               Mahakamani            0  ...          soft          good   \n",
       "52      Kwa Abeli Mwamakula            0  ...          soft          good   \n",
       "53                   Polisi            0  ...       unknown       unknown   \n",
       "54                   Sawaka            0  ...          soft          good   \n",
       "59             Kwa Mzee Max            0  ...          soft          good   \n",
       "67                 Kwashuza            0  ...          soft          good   \n",
       "71        Kwa Manyusi Mlilo            0  ...          soft          good   \n",
       "72        Kwa Mzee Mwalongo            0  ...          soft          good   \n",
       "75              Kwa Jackson            0  ...          soft          good   \n",
       "79                  Butimba            0  ...          soft          good   \n",
       "83                    Lembo            0  ...          soft          good   \n",
       "85              Kwa Swakala            0  ...          soft          good   \n",
       "87                Kwa Ignas            0  ...          soft          good   \n",
       "89                  Ofisini            0  ...          soft          good   \n",
       "94                Kagashani            0  ...         milky         milky   \n",
       "97                 Kwa Shij            0  ...       unknown       unknown   \n",
       "...                     ...          ...  ...           ...           ...   \n",
       "59308           Kwa Mataula            0  ...          soft          good   \n",
       "59312               Ng'Ambo            0  ...          soft          good   \n",
       "59324              Mwazwilo            0  ...          soft          good   \n",
       "59329                Kasela            0  ...         milky         milky   \n",
       "59334             Mwabalobi            0  ...          soft          good   \n",
       "59335              Zahanati            0  ...         salty         salty   \n",
       "59339    Kwa Mzee Gwalugano            0  ...          soft          good   \n",
       "59342              Kwbijura            0  ...          soft          good   \n",
       "59348            Seedfarm 1            0  ...          soft          good   \n",
       "59349  Kwa Mzee John Magube            0  ...          soft          good   \n",
       "59350            Makumbusho            0  ...          soft          good   \n",
       "59352            Kwa Tilani            0  ...          soft          good   \n",
       "59354       Kwenye Chama Ch            0  ...          soft          good   \n",
       "59359     Kwa Mzee Agustino            0  ...          soft          good   \n",
       "59360               Gwakisa            0  ...         salty         salty   \n",
       "59361              Mifugoni            0  ...          soft          good   \n",
       "59364       Rutoma/Kwa Shab            0  ...          soft          good   \n",
       "59368                Mgomwa            0  ...          soft          good   \n",
       "59369       Kwa Paval Dinno            0  ...          soft          good   \n",
       "59371              Ushirika            0  ...          soft          good   \n",
       "59372      Kwa Mzee Kamanya            0  ...         salty         salty   \n",
       "59374            Nguvu Kazi            0  ...          soft          good   \n",
       "59377                  Fpct            0  ...          soft          good   \n",
       "59379       Coffee Plantati            0  ...          soft          good   \n",
       "59381            Mijohoroni            0  ...          soft          good   \n",
       "59384              Chamkube            0  ...          soft          good   \n",
       "59392        Benard Charles            0  ...          soft          good   \n",
       "59393             Kwa Peter            0  ...          soft          good   \n",
       "59397               Mashine            0  ...      fluoride      fluoride   \n",
       "59398                Mshoro            0  ...          soft          good   \n",
       "\n",
       "           quantity  quantity_group                source  \\\n",
       "4          seasonal        seasonal  rainwater harvesting   \n",
       "5            enough          enough                 other   \n",
       "6            enough          enough           machine dbh   \n",
       "7            enough          enough          shallow well   \n",
       "8          seasonal        seasonal           machine dbh   \n",
       "9            enough          enough          shallow well   \n",
       "12           enough          enough          shallow well   \n",
       "14           enough          enough          shallow well   \n",
       "21          unknown         unknown          shallow well   \n",
       "27           enough          enough          shallow well   \n",
       "30     insufficient    insufficient          shallow well   \n",
       "36              dry             dry                spring   \n",
       "37           enough          enough                spring   \n",
       "45           enough          enough           machine dbh   \n",
       "47           enough          enough                spring   \n",
       "52           enough          enough                spring   \n",
       "53              dry             dry           machine dbh   \n",
       "54              dry             dry  rainwater harvesting   \n",
       "59           enough          enough          shallow well   \n",
       "67              dry             dry                spring   \n",
       "71     insufficient    insufficient                 river   \n",
       "72         seasonal        seasonal                 river   \n",
       "75     insufficient    insufficient           machine dbh   \n",
       "79     insufficient    insufficient          shallow well   \n",
       "83     insufficient    insufficient          shallow well   \n",
       "85         seasonal        seasonal          shallow well   \n",
       "87     insufficient    insufficient                spring   \n",
       "89     insufficient    insufficient           machine dbh   \n",
       "94     insufficient    insufficient          shallow well   \n",
       "97           enough          enough           machine dbh   \n",
       "...             ...             ...                   ...   \n",
       "59308  insufficient    insufficient                spring   \n",
       "59312        enough          enough                spring   \n",
       "59324        enough          enough          shallow well   \n",
       "59329  insufficient    insufficient          shallow well   \n",
       "59334        enough          enough          shallow well   \n",
       "59335           dry             dry           machine dbh   \n",
       "59339  insufficient    insufficient                spring   \n",
       "59342        enough          enough                spring   \n",
       "59348  insufficient    insufficient                spring   \n",
       "59349        enough          enough                spring   \n",
       "59350        enough          enough           machine dbh   \n",
       "59352           dry             dry                spring   \n",
       "59354        enough          enough                spring   \n",
       "59359        enough          enough                 river   \n",
       "59360  insufficient    insufficient           machine dbh   \n",
       "59361  insufficient    insufficient          shallow well   \n",
       "59364        enough          enough                spring   \n",
       "59368        enough          enough           machine dbh   \n",
       "59369        enough          enough                 river   \n",
       "59371        enough          enough          shallow well   \n",
       "59372  insufficient    insufficient          shallow well   \n",
       "59374        enough          enough          shallow well   \n",
       "59377  insufficient    insufficient                   dam   \n",
       "59379        enough          enough                spring   \n",
       "59381  insufficient    insufficient                spring   \n",
       "59384  insufficient    insufficient                spring   \n",
       "59392        enough          enough                spring   \n",
       "59393  insufficient    insufficient                   dam   \n",
       "59397        enough          enough           machine dbh   \n",
       "59398  insufficient    insufficient          shallow well   \n",
       "\n",
       "                source_type source_class              waterpoint_type  \\\n",
       "4      rainwater harvesting      surface           communal standpipe   \n",
       "5                     other      unknown  communal standpipe multiple   \n",
       "6                  borehole  groundwater                    hand pump   \n",
       "7              shallow well  groundwater                    hand pump   \n",
       "8                  borehole  groundwater                    hand pump   \n",
       "9              shallow well  groundwater                    hand pump   \n",
       "12             shallow well  groundwater                    hand pump   \n",
       "14             shallow well  groundwater                    hand pump   \n",
       "21             shallow well  groundwater                    hand pump   \n",
       "27             shallow well  groundwater                    hand pump   \n",
       "30             shallow well  groundwater                    hand pump   \n",
       "36                   spring  groundwater           communal standpipe   \n",
       "37                   spring  groundwater           communal standpipe   \n",
       "45                 borehole  groundwater           communal standpipe   \n",
       "47                   spring  groundwater           communal standpipe   \n",
       "52                   spring  groundwater           communal standpipe   \n",
       "53                 borehole  groundwater  communal standpipe multiple   \n",
       "54     rainwater harvesting      surface           communal standpipe   \n",
       "59             shallow well  groundwater                    hand pump   \n",
       "67                   spring  groundwater                        other   \n",
       "71               river/lake      surface           communal standpipe   \n",
       "72               river/lake      surface           communal standpipe   \n",
       "75                 borehole  groundwater  communal standpipe multiple   \n",
       "79             shallow well  groundwater                    hand pump   \n",
       "83             shallow well  groundwater                    hand pump   \n",
       "85             shallow well  groundwater                    hand pump   \n",
       "87                   spring  groundwater           communal standpipe   \n",
       "89                 borehole  groundwater  communal standpipe multiple   \n",
       "94             shallow well  groundwater                    hand pump   \n",
       "97                 borehole  groundwater  communal standpipe multiple   \n",
       "...                     ...          ...                          ...   \n",
       "59308                spring  groundwater           communal standpipe   \n",
       "59312                spring  groundwater           communal standpipe   \n",
       "59324          shallow well  groundwater                    hand pump   \n",
       "59329          shallow well  groundwater                        other   \n",
       "59334          shallow well  groundwater                    hand pump   \n",
       "59335              borehole  groundwater  communal standpipe multiple   \n",
       "59339                spring  groundwater           communal standpipe   \n",
       "59342                spring  groundwater           communal standpipe   \n",
       "59348                spring  groundwater           communal standpipe   \n",
       "59349                spring  groundwater  communal standpipe multiple   \n",
       "59350              borehole  groundwater           communal standpipe   \n",
       "59352                spring  groundwater           communal standpipe   \n",
       "59354                spring  groundwater           communal standpipe   \n",
       "59359            river/lake      surface           communal standpipe   \n",
       "59360              borehole  groundwater           communal standpipe   \n",
       "59361          shallow well  groundwater                        other   \n",
       "59364                spring  groundwater              improved spring   \n",
       "59368              borehole  groundwater           communal standpipe   \n",
       "59369            river/lake      surface           communal standpipe   \n",
       "59371          shallow well  groundwater                    hand pump   \n",
       "59372          shallow well  groundwater                        other   \n",
       "59374          shallow well  groundwater                    hand pump   \n",
       "59377                   dam      surface  communal standpipe multiple   \n",
       "59379                spring  groundwater           communal standpipe   \n",
       "59381                spring  groundwater           communal standpipe   \n",
       "59384                spring  groundwater           communal standpipe   \n",
       "59392                spring  groundwater           communal standpipe   \n",
       "59393                   dam      surface                        other   \n",
       "59397              borehole  groundwater                    hand pump   \n",
       "59398          shallow well  groundwater                    hand pump   \n",
       "\n",
       "      waterpoint_type_group             status_group  \n",
       "4        communal standpipe               functional  \n",
       "5        communal standpipe               functional  \n",
       "6                 hand pump           non functional  \n",
       "7                 hand pump           non functional  \n",
       "8                 hand pump           non functional  \n",
       "9                 hand pump               functional  \n",
       "12                hand pump               functional  \n",
       "14                hand pump               functional  \n",
       "21                hand pump               functional  \n",
       "27                hand pump               functional  \n",
       "30                hand pump               functional  \n",
       "36       communal standpipe           non functional  \n",
       "37       communal standpipe               functional  \n",
       "45       communal standpipe           non functional  \n",
       "47       communal standpipe               functional  \n",
       "52       communal standpipe               functional  \n",
       "53       communal standpipe           non functional  \n",
       "54       communal standpipe               functional  \n",
       "59                hand pump  functional needs repair  \n",
       "67                    other           non functional  \n",
       "71       communal standpipe           non functional  \n",
       "72       communal standpipe           non functional  \n",
       "75       communal standpipe           non functional  \n",
       "79                hand pump               functional  \n",
       "83                hand pump               functional  \n",
       "85                hand pump           non functional  \n",
       "87       communal standpipe           non functional  \n",
       "89       communal standpipe  functional needs repair  \n",
       "94                hand pump           non functional  \n",
       "97       communal standpipe               functional  \n",
       "...                     ...                      ...  \n",
       "59308    communal standpipe               functional  \n",
       "59312    communal standpipe           non functional  \n",
       "59324             hand pump               functional  \n",
       "59329                 other           non functional  \n",
       "59334             hand pump               functional  \n",
       "59335    communal standpipe           non functional  \n",
       "59339    communal standpipe               functional  \n",
       "59342    communal standpipe               functional  \n",
       "59348    communal standpipe               functional  \n",
       "59349    communal standpipe           non functional  \n",
       "59350    communal standpipe           non functional  \n",
       "59352    communal standpipe           non functional  \n",
       "59354    communal standpipe           non functional  \n",
       "59359    communal standpipe               functional  \n",
       "59360    communal standpipe               functional  \n",
       "59361                 other           non functional  \n",
       "59364       improved spring               functional  \n",
       "59368    communal standpipe               functional  \n",
       "59369    communal standpipe               functional  \n",
       "59371             hand pump           non functional  \n",
       "59372                 other           non functional  \n",
       "59374             hand pump               functional  \n",
       "59377    communal standpipe           non functional  \n",
       "59379    communal standpipe               functional  \n",
       "59381    communal standpipe           non functional  \n",
       "59384    communal standpipe           non functional  \n",
       "59392    communal standpipe           non functional  \n",
       "59393                 other               functional  \n",
       "59397             hand pump               functional  \n",
       "59398             hand pump               functional  \n",
       "\n",
       "[20438 rows x 41 columns]"
      ]
     },
     "execution_count": 34,
     "metadata": {},
     "output_type": "execute_result"
    }
   ],
   "source": [
    "df[df['gps_height'] == 0]"
   ]
  },
  {
   "cell_type": "code",
   "execution_count": 35,
   "metadata": {},
   "outputs": [
    {
     "data": {
      "text/plain": [
       "status_group\n",
       "functional                 10469\n",
       "functional needs repair     1763\n",
       "non functional              8206\n",
       "dtype: int64"
      ]
     },
     "execution_count": 35,
     "metadata": {},
     "output_type": "execute_result"
    }
   ],
   "source": [
    "df[df['gps_height'] == 0].groupby('status_group').size()"
   ]
  },
  {
   "cell_type": "code",
   "execution_count": 36,
   "metadata": {},
   "outputs": [],
   "source": [
    "#plt.figure()\n",
    "#plt.subplot(111, projection=\"aitoff\")\n",
    "#plt.title(\"Aitoff\")\n",
    "#plt.grid(True)"
   ]
  },
  {
   "cell_type": "code",
   "execution_count": 37,
   "metadata": {},
   "outputs": [
    {
     "data": {
      "text/plain": [
       "21381"
      ]
     },
     "execution_count": 37,
     "metadata": {},
     "output_type": "execute_result"
    }
   ],
   "source": [
    "# checking the population column to see how many rows have 0's in them\n",
    "len(df[df['population'] == 0])"
   ]
  },
  {
   "cell_type": "code",
   "execution_count": 38,
   "metadata": {},
   "outputs": [
    {
     "data": {
      "text/plain": [
       "20709"
      ]
     },
     "execution_count": 38,
     "metadata": {},
     "output_type": "execute_result"
    }
   ],
   "source": [
    "len(df[df['construction_year'] == 0])"
   ]
  },
  {
   "cell_type": "code",
   "execution_count": 39,
   "metadata": {
    "scrolled": true
   },
   "outputs": [
    {
     "data": {
      "text/plain": [
       "1812"
      ]
     },
     "execution_count": 39,
     "metadata": {},
     "output_type": "execute_result"
    }
   ],
   "source": [
    "len(df[df['longitude'] == 0])"
   ]
  },
  {
   "cell_type": "code",
   "execution_count": 40,
   "metadata": {},
   "outputs": [
    {
     "data": {
      "text/plain": [
       "0"
      ]
     },
     "execution_count": 40,
     "metadata": {},
     "output_type": "execute_result"
    }
   ],
   "source": [
    "len(df[df['latitude'] == 0])"
   ]
  },
  {
   "cell_type": "code",
   "execution_count": 41,
   "metadata": {},
   "outputs": [
    {
     "data": {
      "text/plain": [
       "20438"
      ]
     },
     "execution_count": 41,
     "metadata": {},
     "output_type": "execute_result"
    }
   ],
   "source": [
    "len(df[df['gps_height'] == 0])"
   ]
  },
  {
   "cell_type": "code",
   "execution_count": 42,
   "metadata": {
    "scrolled": true
   },
   "outputs": [],
   "source": [
    "# We can see that there are 41639 0's in amount_tsh column. Since these 0's might cause some \n",
    "#issues later, we need to change them to NaN values and then replace the NaN values \n",
    "#with transform(\"mean\") and transform(\"median\") - This is also true for population and gps_height\n",
    "df.population.min()\n",
    "df['amount_tsh'].replace(0.0, np.nan, inplace=True)\n",
    "df['gps_height'].replace(0.0, np.nan, inplace=True)\n",
    "df['population'].replace(0.0, np.nan, inplace=True)"
   ]
  },
  {
   "cell_type": "code",
   "execution_count": 43,
   "metadata": {
    "scrolled": true
   },
   "outputs": [
    {
     "data": {
      "text/plain": [
       "id                           0\n",
       "amount_tsh               41639\n",
       "date_recorded                0\n",
       "funder                    3635\n",
       "gps_height               20438\n",
       "installer                 3655\n",
       "longitude                    0\n",
       "latitude                     0\n",
       "wpt_name                     0\n",
       "num_private                  0\n",
       "basin                        0\n",
       "subvillage                 371\n",
       "region                       0\n",
       "region_code                  0\n",
       "district_code                0\n",
       "lga                          0\n",
       "ward                         0\n",
       "population               21381\n",
       "public_meeting            3334\n",
       "recorded_by                  0\n",
       "scheme_management         3877\n",
       "scheme_name              28166\n",
       "permit                    3056\n",
       "construction_year            0\n",
       "extraction_type              0\n",
       "extraction_type_group        0\n",
       "extraction_type_class        0\n",
       "management                   0\n",
       "management_group             0\n",
       "payment                      0\n",
       "payment_type                 0\n",
       "water_quality                0\n",
       "quality_group                0\n",
       "quantity                     0\n",
       "quantity_group               0\n",
       "source                       0\n",
       "source_type                  0\n",
       "source_class                 0\n",
       "waterpoint_type              0\n",
       "waterpoint_type_group        0\n",
       "status_group                 0\n",
       "dtype: int64"
      ]
     },
     "execution_count": 43,
     "metadata": {},
     "output_type": "execute_result"
    }
   ],
   "source": [
    "# checking to make sure all 0's have been changed to Null values\n",
    "df.isnull().sum()"
   ]
  },
  {
   "cell_type": "code",
   "execution_count": 44,
   "metadata": {},
   "outputs": [
    {
     "data": {
      "text/html": [
       "<div>\n",
       "<style scoped>\n",
       "    .dataframe tbody tr th:only-of-type {\n",
       "        vertical-align: middle;\n",
       "    }\n",
       "\n",
       "    .dataframe tbody tr th {\n",
       "        vertical-align: top;\n",
       "    }\n",
       "\n",
       "    .dataframe thead th {\n",
       "        text-align: right;\n",
       "    }\n",
       "</style>\n",
       "<table border=\"1\" class=\"dataframe\">\n",
       "  <thead>\n",
       "    <tr style=\"text-align: right;\">\n",
       "      <th></th>\n",
       "      <th>id</th>\n",
       "      <th>amount_tsh</th>\n",
       "      <th>date_recorded</th>\n",
       "      <th>funder</th>\n",
       "      <th>gps_height</th>\n",
       "      <th>installer</th>\n",
       "      <th>longitude</th>\n",
       "      <th>latitude</th>\n",
       "      <th>wpt_name</th>\n",
       "      <th>num_private</th>\n",
       "      <th>...</th>\n",
       "      <th>water_quality</th>\n",
       "      <th>quality_group</th>\n",
       "      <th>quantity</th>\n",
       "      <th>quantity_group</th>\n",
       "      <th>source</th>\n",
       "      <th>source_type</th>\n",
       "      <th>source_class</th>\n",
       "      <th>waterpoint_type</th>\n",
       "      <th>waterpoint_type_group</th>\n",
       "      <th>status_group</th>\n",
       "    </tr>\n",
       "  </thead>\n",
       "  <tbody>\n",
       "    <tr>\n",
       "      <th>0</th>\n",
       "      <td>69572</td>\n",
       "      <td>6000.0</td>\n",
       "      <td>2011-03-14</td>\n",
       "      <td>Roman</td>\n",
       "      <td>1390.0</td>\n",
       "      <td>Roman</td>\n",
       "      <td>34.938093</td>\n",
       "      <td>-9.856322</td>\n",
       "      <td>none</td>\n",
       "      <td>0</td>\n",
       "      <td>...</td>\n",
       "      <td>soft</td>\n",
       "      <td>good</td>\n",
       "      <td>enough</td>\n",
       "      <td>enough</td>\n",
       "      <td>spring</td>\n",
       "      <td>spring</td>\n",
       "      <td>groundwater</td>\n",
       "      <td>communal standpipe</td>\n",
       "      <td>communal standpipe</td>\n",
       "      <td>functional</td>\n",
       "    </tr>\n",
       "    <tr>\n",
       "      <th>1</th>\n",
       "      <td>8776</td>\n",
       "      <td>NaN</td>\n",
       "      <td>2013-03-06</td>\n",
       "      <td>Grumeti</td>\n",
       "      <td>1399.0</td>\n",
       "      <td>GRUMETI</td>\n",
       "      <td>34.698766</td>\n",
       "      <td>-2.147466</td>\n",
       "      <td>Zahanati</td>\n",
       "      <td>0</td>\n",
       "      <td>...</td>\n",
       "      <td>soft</td>\n",
       "      <td>good</td>\n",
       "      <td>insufficient</td>\n",
       "      <td>insufficient</td>\n",
       "      <td>rainwater harvesting</td>\n",
       "      <td>rainwater harvesting</td>\n",
       "      <td>surface</td>\n",
       "      <td>communal standpipe</td>\n",
       "      <td>communal standpipe</td>\n",
       "      <td>functional</td>\n",
       "    </tr>\n",
       "    <tr>\n",
       "      <th>2</th>\n",
       "      <td>34310</td>\n",
       "      <td>25.0</td>\n",
       "      <td>2013-02-25</td>\n",
       "      <td>Lottery Club</td>\n",
       "      <td>686.0</td>\n",
       "      <td>World vision</td>\n",
       "      <td>37.460664</td>\n",
       "      <td>-3.821329</td>\n",
       "      <td>Kwa Mahundi</td>\n",
       "      <td>0</td>\n",
       "      <td>...</td>\n",
       "      <td>soft</td>\n",
       "      <td>good</td>\n",
       "      <td>enough</td>\n",
       "      <td>enough</td>\n",
       "      <td>dam</td>\n",
       "      <td>dam</td>\n",
       "      <td>surface</td>\n",
       "      <td>communal standpipe multiple</td>\n",
       "      <td>communal standpipe</td>\n",
       "      <td>functional</td>\n",
       "    </tr>\n",
       "    <tr>\n",
       "      <th>3</th>\n",
       "      <td>67743</td>\n",
       "      <td>NaN</td>\n",
       "      <td>2013-01-28</td>\n",
       "      <td>Unicef</td>\n",
       "      <td>263.0</td>\n",
       "      <td>UNICEF</td>\n",
       "      <td>38.486161</td>\n",
       "      <td>-11.155298</td>\n",
       "      <td>Zahanati Ya Nanyumbu</td>\n",
       "      <td>0</td>\n",
       "      <td>...</td>\n",
       "      <td>soft</td>\n",
       "      <td>good</td>\n",
       "      <td>dry</td>\n",
       "      <td>dry</td>\n",
       "      <td>machine dbh</td>\n",
       "      <td>borehole</td>\n",
       "      <td>groundwater</td>\n",
       "      <td>communal standpipe multiple</td>\n",
       "      <td>communal standpipe</td>\n",
       "      <td>non functional</td>\n",
       "    </tr>\n",
       "    <tr>\n",
       "      <th>4</th>\n",
       "      <td>19728</td>\n",
       "      <td>NaN</td>\n",
       "      <td>2011-07-13</td>\n",
       "      <td>Action In A</td>\n",
       "      <td>NaN</td>\n",
       "      <td>Artisan</td>\n",
       "      <td>31.130847</td>\n",
       "      <td>-1.825359</td>\n",
       "      <td>Shuleni</td>\n",
       "      <td>0</td>\n",
       "      <td>...</td>\n",
       "      <td>soft</td>\n",
       "      <td>good</td>\n",
       "      <td>seasonal</td>\n",
       "      <td>seasonal</td>\n",
       "      <td>rainwater harvesting</td>\n",
       "      <td>rainwater harvesting</td>\n",
       "      <td>surface</td>\n",
       "      <td>communal standpipe</td>\n",
       "      <td>communal standpipe</td>\n",
       "      <td>functional</td>\n",
       "    </tr>\n",
       "  </tbody>\n",
       "</table>\n",
       "<p>5 rows × 41 columns</p>\n",
       "</div>"
      ],
      "text/plain": [
       "      id  amount_tsh date_recorded        funder  gps_height     installer  \\\n",
       "0  69572      6000.0    2011-03-14         Roman      1390.0         Roman   \n",
       "1   8776         NaN    2013-03-06       Grumeti      1399.0       GRUMETI   \n",
       "2  34310        25.0    2013-02-25  Lottery Club       686.0  World vision   \n",
       "3  67743         NaN    2013-01-28        Unicef       263.0        UNICEF   \n",
       "4  19728         NaN    2011-07-13   Action In A         NaN       Artisan   \n",
       "\n",
       "   longitude   latitude              wpt_name  num_private  ... water_quality  \\\n",
       "0  34.938093  -9.856322                  none            0  ...          soft   \n",
       "1  34.698766  -2.147466              Zahanati            0  ...          soft   \n",
       "2  37.460664  -3.821329           Kwa Mahundi            0  ...          soft   \n",
       "3  38.486161 -11.155298  Zahanati Ya Nanyumbu            0  ...          soft   \n",
       "4  31.130847  -1.825359               Shuleni            0  ...          soft   \n",
       "\n",
       "  quality_group      quantity  quantity_group                source  \\\n",
       "0          good        enough          enough                spring   \n",
       "1          good  insufficient    insufficient  rainwater harvesting   \n",
       "2          good        enough          enough                   dam   \n",
       "3          good           dry             dry           machine dbh   \n",
       "4          good      seasonal        seasonal  rainwater harvesting   \n",
       "\n",
       "            source_type source_class              waterpoint_type  \\\n",
       "0                spring  groundwater           communal standpipe   \n",
       "1  rainwater harvesting      surface           communal standpipe   \n",
       "2                   dam      surface  communal standpipe multiple   \n",
       "3              borehole  groundwater  communal standpipe multiple   \n",
       "4  rainwater harvesting      surface           communal standpipe   \n",
       "\n",
       "  waterpoint_type_group    status_group  \n",
       "0    communal standpipe      functional  \n",
       "1    communal standpipe      functional  \n",
       "2    communal standpipe      functional  \n",
       "3    communal standpipe  non functional  \n",
       "4    communal standpipe      functional  \n",
       "\n",
       "[5 rows x 41 columns]"
      ]
     },
     "execution_count": 44,
     "metadata": {},
     "output_type": "execute_result"
    }
   ],
   "source": [
    "df.head()"
   ]
  },
  {
   "cell_type": "code",
   "execution_count": 45,
   "metadata": {
    "scrolled": true
   },
   "outputs": [],
   "source": [
    "df[\"gps_height\"].fillna(df.groupby(['region', 'district_code'])[\"gps_height\"].transform(\"mean\"), inplace=True)\n",
    "df[\"gps_height\"].fillna(df.groupby(['region'])[\"gps_height\"].transform(\"mean\"), inplace=True)\n",
    "df[\"gps_height\"].fillna(df[\"gps_height\"].mean(), inplace=True)\n",
    "df[\"population\"].fillna(df.groupby(['region', 'district_code'])[\"population\"].transform(\"median\"), inplace=True)\n",
    "df[\"population\"].fillna(df.groupby(['region'])[\"population\"].transform(\"median\"), inplace=True)\n",
    "df[\"population\"].fillna(df[\"population\"].median(), inplace=True)\n",
    "df[\"amount_tsh\"].fillna(df.groupby(['region', 'district_code'])[\"amount_tsh\"].transform(\"median\"), inplace=True)\n",
    "df[\"amount_tsh\"].fillna(df.groupby(['region'])[\"amount_tsh\"].transform(\"median\"), inplace=True)\n",
    "df[\"amount_tsh\"].fillna(df[\"amount_tsh\"].median(), inplace=True)"
   ]
  },
  {
   "cell_type": "code",
   "execution_count": 46,
   "metadata": {
    "scrolled": true
   },
   "outputs": [
    {
     "data": {
      "text/plain": [
       "id                           0\n",
       "amount_tsh                   0\n",
       "date_recorded                0\n",
       "funder                    3635\n",
       "gps_height                   0\n",
       "installer                 3655\n",
       "longitude                    0\n",
       "latitude                     0\n",
       "wpt_name                     0\n",
       "num_private                  0\n",
       "basin                        0\n",
       "subvillage                 371\n",
       "region                       0\n",
       "region_code                  0\n",
       "district_code                0\n",
       "lga                          0\n",
       "ward                         0\n",
       "population                   0\n",
       "public_meeting            3334\n",
       "recorded_by                  0\n",
       "scheme_management         3877\n",
       "scheme_name              28166\n",
       "permit                    3056\n",
       "construction_year            0\n",
       "extraction_type              0\n",
       "extraction_type_group        0\n",
       "extraction_type_class        0\n",
       "management                   0\n",
       "management_group             0\n",
       "payment                      0\n",
       "payment_type                 0\n",
       "water_quality                0\n",
       "quality_group                0\n",
       "quantity                     0\n",
       "quantity_group               0\n",
       "source                       0\n",
       "source_type                  0\n",
       "source_class                 0\n",
       "waterpoint_type              0\n",
       "waterpoint_type_group        0\n",
       "status_group                 0\n",
       "dtype: int64"
      ]
     },
     "execution_count": 46,
     "metadata": {},
     "output_type": "execute_result"
    }
   ],
   "source": [
    "# checking to make sure all Null values have been filled\n",
    "df.isnull().sum()"
   ]
  },
  {
   "cell_type": "code",
   "execution_count": 47,
   "metadata": {
    "scrolled": true
   },
   "outputs": [
    {
     "data": {
      "text/plain": [
       "region         permit\n",
       "Arusha         False      255\n",
       "               True      2650\n",
       "Dar es Salaam  False      777\n",
       "Dodoma         False     1212\n",
       "               True       989\n",
       "Iringa         False     2117\n",
       "               True      3174\n",
       "Kagera         False      795\n",
       "               True      2521\n",
       "Kigoma         False     1160\n",
       "               True      1656\n",
       "Kilimanjaro    False      445\n",
       "               True      3796\n",
       "Lindi          False      733\n",
       "               True       813\n",
       "Manyara        False       77\n",
       "               True      1506\n",
       "Mara           False      604\n",
       "               True       998\n",
       "Mbeya          False     1399\n",
       "               True      2134\n",
       "Morogoro       False       39\n",
       "               True      3967\n",
       "Mtwara         False      419\n",
       "               True      1311\n",
       "Mwanza         False      127\n",
       "               True      2975\n",
       "Pwani          False     1105\n",
       "               True      1530\n",
       "Rukwa          False      646\n",
       "               True      1162\n",
       "Ruvuma         False      840\n",
       "               True      1798\n",
       "Shinyanga      False     2618\n",
       "               True      2364\n",
       "Singida        False      321\n",
       "               True       805\n",
       "Tabora         False      634\n",
       "               True      1325\n",
       "Tanga          False     1169\n",
       "               True      1378\n",
       "dtype: int64"
      ]
     },
     "execution_count": 47,
     "metadata": {},
     "output_type": "execute_result"
    }
   ],
   "source": [
    "df.groupby(['region','permit']).size()"
   ]
  },
  {
   "cell_type": "code",
   "execution_count": 48,
   "metadata": {},
   "outputs": [
    {
     "data": {
      "text/html": [
       "<div>\n",
       "<style scoped>\n",
       "    .dataframe tbody tr th:only-of-type {\n",
       "        vertical-align: middle;\n",
       "    }\n",
       "\n",
       "    .dataframe tbody tr th {\n",
       "        vertical-align: top;\n",
       "    }\n",
       "\n",
       "    .dataframe thead th {\n",
       "        text-align: right;\n",
       "    }\n",
       "</style>\n",
       "<table border=\"1\" class=\"dataframe\">\n",
       "  <thead>\n",
       "    <tr style=\"text-align: right;\">\n",
       "      <th></th>\n",
       "      <th>amount_tsh</th>\n",
       "      <th>gps_height</th>\n",
       "      <th>population</th>\n",
       "    </tr>\n",
       "  </thead>\n",
       "  <tbody>\n",
       "    <tr>\n",
       "      <th>0</th>\n",
       "      <td>0.342846</td>\n",
       "      <td>10.349650</td>\n",
       "      <td>0.070822</td>\n",
       "    </tr>\n",
       "    <tr>\n",
       "      <th>1</th>\n",
       "      <td>0.011417</td>\n",
       "      <td>10.412587</td>\n",
       "      <td>0.182957</td>\n",
       "    </tr>\n",
       "    <tr>\n",
       "      <th>2</th>\n",
       "      <td>0.001417</td>\n",
       "      <td>5.426573</td>\n",
       "      <td>0.163284</td>\n",
       "    </tr>\n",
       "    <tr>\n",
       "      <th>3</th>\n",
       "      <td>0.002846</td>\n",
       "      <td>2.468531</td>\n",
       "      <td>0.037378</td>\n",
       "    </tr>\n",
       "    <tr>\n",
       "      <th>4</th>\n",
       "      <td>0.014274</td>\n",
       "      <td>8.024794</td>\n",
       "      <td>0.130496</td>\n",
       "    </tr>\n",
       "    <tr>\n",
       "      <th>5</th>\n",
       "      <td>0.001131</td>\n",
       "      <td>5.356490</td>\n",
       "      <td>0.000000</td>\n",
       "    </tr>\n",
       "    <tr>\n",
       "      <th>6</th>\n",
       "      <td>0.028560</td>\n",
       "      <td>10.076795</td>\n",
       "      <td>0.327224</td>\n",
       "    </tr>\n",
       "    <tr>\n",
       "      <th>7</th>\n",
       "      <td>0.028560</td>\n",
       "      <td>10.076795</td>\n",
       "      <td>0.327224</td>\n",
       "    </tr>\n",
       "    <tr>\n",
       "      <th>8</th>\n",
       "      <td>0.014274</td>\n",
       "      <td>8.024794</td>\n",
       "      <td>0.130496</td>\n",
       "    </tr>\n",
       "    <tr>\n",
       "      <th>9</th>\n",
       "      <td>0.014274</td>\n",
       "      <td>8.024794</td>\n",
       "      <td>0.130496</td>\n",
       "    </tr>\n",
       "    <tr>\n",
       "      <th>10</th>\n",
       "      <td>0.001703</td>\n",
       "      <td>1.062937</td>\n",
       "      <td>0.225581</td>\n",
       "    </tr>\n",
       "    <tr>\n",
       "      <th>11</th>\n",
       "      <td>0.011417</td>\n",
       "      <td>8.055944</td>\n",
       "      <td>0.163284</td>\n",
       "    </tr>\n",
       "    <tr>\n",
       "      <th>12</th>\n",
       "      <td>0.028560</td>\n",
       "      <td>10.076795</td>\n",
       "      <td>0.327224</td>\n",
       "    </tr>\n",
       "    <tr>\n",
       "      <th>13</th>\n",
       "      <td>0.001131</td>\n",
       "      <td>10.195804</td>\n",
       "      <td>0.000000</td>\n",
       "    </tr>\n",
       "    <tr>\n",
       "      <th>14</th>\n",
       "      <td>0.028560</td>\n",
       "      <td>10.076795</td>\n",
       "      <td>0.327224</td>\n",
       "    </tr>\n",
       "    <tr>\n",
       "      <th>15</th>\n",
       "      <td>0.028560</td>\n",
       "      <td>12.132867</td>\n",
       "      <td>0.130496</td>\n",
       "    </tr>\n",
       "    <tr>\n",
       "      <th>16</th>\n",
       "      <td>0.028560</td>\n",
       "      <td>12.538462</td>\n",
       "      <td>0.022296</td>\n",
       "    </tr>\n",
       "    <tr>\n",
       "      <th>17</th>\n",
       "      <td>0.028560</td>\n",
       "      <td>12.209790</td>\n",
       "      <td>0.032132</td>\n",
       "    </tr>\n",
       "    <tr>\n",
       "      <th>18</th>\n",
       "      <td>0.014274</td>\n",
       "      <td>8.755245</td>\n",
       "      <td>0.655103</td>\n",
       "    </tr>\n",
       "    <tr>\n",
       "      <th>19</th>\n",
       "      <td>0.028560</td>\n",
       "      <td>12.958042</td>\n",
       "      <td>0.000000</td>\n",
       "    </tr>\n",
       "  </tbody>\n",
       "</table>\n",
       "</div>"
      ],
      "text/plain": [
       "    amount_tsh  gps_height  population\n",
       "0     0.342846   10.349650    0.070822\n",
       "1     0.011417   10.412587    0.182957\n",
       "2     0.001417    5.426573    0.163284\n",
       "3     0.002846    2.468531    0.037378\n",
       "4     0.014274    8.024794    0.130496\n",
       "5     0.001131    5.356490    0.000000\n",
       "6     0.028560   10.076795    0.327224\n",
       "7     0.028560   10.076795    0.327224\n",
       "8     0.014274    8.024794    0.130496\n",
       "9     0.014274    8.024794    0.130496\n",
       "10    0.001703    1.062937    0.225581\n",
       "11    0.011417    8.055944    0.163284\n",
       "12    0.028560   10.076795    0.327224\n",
       "13    0.001131   10.195804    0.000000\n",
       "14    0.028560   10.076795    0.327224\n",
       "15    0.028560   12.132867    0.130496\n",
       "16    0.028560   12.538462    0.022296\n",
       "17    0.028560   12.209790    0.032132\n",
       "18    0.014274    8.755245    0.655103\n",
       "19    0.028560   12.958042    0.000000"
      ]
     },
     "execution_count": 48,
     "metadata": {},
     "output_type": "execute_result"
    }
   ],
   "source": [
    "features=['amount_tsh', 'gps_height', 'population']\n",
    "scaler = MinMaxScaler(feature_range=(0,20))\n",
    "df[features] = scaler.fit_transform(df[features])\n",
    "df[features].head(20)"
   ]
  },
  {
   "cell_type": "code",
   "execution_count": 49,
   "metadata": {
    "scrolled": true
   },
   "outputs": [
    {
     "data": {
      "text/plain": [
       "id                           0\n",
       "amount_tsh                   0\n",
       "date_recorded                0\n",
       "funder                    3635\n",
       "gps_height                   0\n",
       "installer                 3655\n",
       "longitude                    0\n",
       "latitude                     0\n",
       "wpt_name                     0\n",
       "num_private                  0\n",
       "basin                        0\n",
       "subvillage                 371\n",
       "region                       0\n",
       "region_code                  0\n",
       "district_code                0\n",
       "lga                          0\n",
       "ward                         0\n",
       "population                   0\n",
       "public_meeting            3334\n",
       "recorded_by                  0\n",
       "scheme_management         3877\n",
       "scheme_name              28166\n",
       "permit                    3056\n",
       "construction_year            0\n",
       "extraction_type              0\n",
       "extraction_type_group        0\n",
       "extraction_type_class        0\n",
       "management                   0\n",
       "management_group             0\n",
       "payment                      0\n",
       "payment_type                 0\n",
       "water_quality                0\n",
       "quality_group                0\n",
       "quantity                     0\n",
       "quantity_group               0\n",
       "source                       0\n",
       "source_type                  0\n",
       "source_class                 0\n",
       "waterpoint_type              0\n",
       "waterpoint_type_group        0\n",
       "status_group                 0\n",
       "dtype: int64"
      ]
     },
     "execution_count": 49,
     "metadata": {},
     "output_type": "execute_result"
    }
   ],
   "source": [
    "df.isnull().sum()"
   ]
  },
  {
   "cell_type": "code",
   "execution_count": 50,
   "metadata": {},
   "outputs": [
    {
     "data": {
      "text/plain": [
       "soft                  50818\n",
       "salty                  4856\n",
       "unknown                1876\n",
       "milky                   804\n",
       "coloured                490\n",
       "salty abandoned         339\n",
       "fluoride                200\n",
       "fluoride abandoned       17\n",
       "Name: water_quality, dtype: int64"
      ]
     },
     "execution_count": 50,
     "metadata": {},
     "output_type": "execute_result"
    },
    {
     "data": {
      "image/png": "[encoded data removed]",
      "text/plain": [
       "<Figure size 1008x432 with 1 Axes>"
      ]
     },
     "metadata": {
      "needs_background": "light"
     },
     "output_type": "display_data"
    }
   ],
   "source": [
    "plt.figure(figsize=(14,6))\n",
    "sns.countplot(data=df,x='water_quality',hue='status_group')\n",
    "plt.legend(bbox_to_anchor=(1, 1), loc=2)\n",
    "df.water_quality.value_counts()"
   ]
  },
  {
   "cell_type": "code",
   "execution_count": 51,
   "metadata": {},
   "outputs": [
    {
     "data": {
      "text/plain": [
       "<matplotlib.axes._subplots.AxesSubplot at 0x2e2457d3b70>"
      ]
     },
     "execution_count": 51,
     "metadata": {},
     "output_type": "execute_result"
    },
    {
     "data": {
      "image/png": "[encoded data removed]",
      "text/plain": [
       "<Figure size 1728x648 with 1 Axes>"
      ]
     },
     "metadata": {
      "needs_background": "light"
     },
     "output_type": "display_data"
    }
   ],
   "source": [
    "#looking at regions\n",
    "plt.figure(figsize=(24, 9))\n",
    "\n",
    "sns.countplot(data=df,x='region',hue='status_group')"
   ]
  },
  {
   "cell_type": "code",
   "execution_count": 52,
   "metadata": {},
   "outputs": [
    {
     "data": {
      "text/plain": [
       "<matplotlib.axes._subplots.AxesSubplot at 0x2e2457d3550>"
      ]
     },
     "execution_count": 52,
     "metadata": {},
     "output_type": "execute_result"
    },
    {
     "data": {
      "image/png": "[encoded data removed]",
      "text/plain": [
       "<Figure size 1728x648 with 1 Axes>"
      ]
     },
     "metadata": {
      "needs_background": "light"
     },
     "output_type": "display_data"
    }
   ],
   "source": [
    "plt.figure(figsize=(24, 9))\n",
    "\n",
    "sns.countplot(data=df,x='public_meeting',hue='status_group')"
   ]
  },
  {
   "cell_type": "code",
   "execution_count": 53,
   "metadata": {},
   "outputs": [
    {
     "data": {
      "text/plain": [
       "<matplotlib.axes._subplots.AxesSubplot at 0x2e2457f1320>"
      ]
     },
     "execution_count": 53,
     "metadata": {},
     "output_type": "execute_result"
    },
    {
     "data": {
      "image/png": "[encoded data removed]",
      "text/plain": [
       "<Figure size 1728x648 with 1 Axes>"
      ]
     },
     "metadata": {
      "needs_background": "light"
     },
     "output_type": "display_data"
    }
   ],
   "source": [
    "plt.figure(figsize=(24, 9))\n",
    "\n",
    "sns.countplot(data=df,x='source_type',hue='status_group')"
   ]
  },
  {
   "cell_type": "code",
   "execution_count": 54,
   "metadata": {
    "scrolled": false
   },
   "outputs": [
    {
     "data": {
      "text/plain": [
       "<matplotlib.axes._subplots.AxesSubplot at 0x2e2461c93c8>"
      ]
     },
     "execution_count": 54,
     "metadata": {},
     "output_type": "execute_result"
    },
    {
     "data": {
      "image/png": "[encoded data removed]",
      "text/plain": [
       "<Figure size 1728x648 with 1 Axes>"
      ]
     },
     "metadata": {
      "needs_background": "light"
     },
     "output_type": "display_data"
    }
   ],
   "source": [
    "plt.figure(figsize=(24, 9))\n",
    "\n",
    "sns.countplot(data=df,x='extraction_type_group',hue='status_group')"
   ]
  },
  {
   "cell_type": "code",
   "execution_count": 55,
   "metadata": {},
   "outputs": [
    {
     "data": {
      "text/plain": [
       "<matplotlib.axes._subplots.AxesSubplot at 0x2e246201d30>"
      ]
     },
     "execution_count": 55,
     "metadata": {},
     "output_type": "execute_result"
    },
    {
     "data": {
      "image/png": "[encoded data removed]",
      "text/plain": [
       "<Figure size 1728x648 with 1 Axes>"
      ]
     },
     "metadata": {
      "needs_background": "light"
     },
     "output_type": "display_data"
    }
   ],
   "source": [
    "plt.figure(figsize=(24, 9))\n",
    "\n",
    "sns.countplot(data=df,x='extraction_type_class',hue='status_group')"
   ]
  },
  {
   "cell_type": "code",
   "execution_count": 56,
   "metadata": {},
   "outputs": [
    {
     "data": {
      "text/plain": [
       "<matplotlib.axes._subplots.AxesSubplot at 0x2e2463f0518>"
      ]
     },
     "execution_count": 56,
     "metadata": {},
     "output_type": "execute_result"
    },
    {
     "data": {
      "image/png": "[encoded data removed]",
      "text/plain": [
       "<Figure size 1728x648 with 1 Axes>"
      ]
     },
     "metadata": {
      "needs_background": "light"
     },
     "output_type": "display_data"
    }
   ],
   "source": [
    "plt.figure(figsize=(24, 9))\n",
    "\n",
    "sns.countplot(data=df,x='waterpoint_type',hue='status_group')"
   ]
  },
  {
   "cell_type": "code",
   "execution_count": 57,
   "metadata": {
    "scrolled": false
   },
   "outputs": [
    {
     "data": {
      "text/plain": [
       "<matplotlib.axes._subplots.AxesSubplot at 0x2e246d2c7b8>"
      ]
     },
     "execution_count": 57,
     "metadata": {},
     "output_type": "execute_result"
    },
    {
     "data": {
      "image/png": "[encoded data removed]",
      "text/plain": [
       "<Figure size 1728x648 with 1 Axes>"
      ]
     },
     "metadata": {
      "needs_background": "light"
     },
     "output_type": "display_data"
    }
   ],
   "source": [
    "plt.figure(figsize=(24, 9))\n",
    "\n",
    "sns.countplot(data=df,x='quantity',hue='status_group')"
   ]
  },
  {
   "cell_type": "code",
   "execution_count": 58,
   "metadata": {},
   "outputs": [
    {
     "data": {
      "text/plain": [
       "status_group\n",
       "functional                  157\n",
       "functional needs repair      37\n",
       "non functional             6052\n",
       "dtype: int64"
      ]
     },
     "execution_count": 58,
     "metadata": {},
     "output_type": "execute_result"
    }
   ],
   "source": [
    "df[df['quantity']=='dry'].groupby(df['status_group']).size()"
   ]
  },
  {
   "cell_type": "code",
   "execution_count": 59,
   "metadata": {},
   "outputs": [],
   "source": [
    "df['longitude'].replace(0.0, np.nan, inplace=True)\n",
    "df['latitude'].replace(0.0, np.nan, inplace=True)\n",
    "df['construction_year'].replace(0.0, np.nan, inplace=True)"
   ]
  },
  {
   "cell_type": "code",
   "execution_count": 60,
   "metadata": {
    "scrolled": true
   },
   "outputs": [
    {
     "data": {
      "text/plain": [
       "district_code  region         construction_year\n",
       "1              Arusha         1980.0                 2\n",
       "                              1990.0                23\n",
       "                              2000.0               137\n",
       "                              2010.0                24\n",
       "               Dar es Salaam  1970.0                24\n",
       "                              1990.0                 8\n",
       "                              2000.0                11\n",
       "                              2010.0                50\n",
       "               Iringa         1964.0                 5\n",
       "                              1972.0                 3\n",
       "                              1974.0                 6\n",
       "                              1976.0                 2\n",
       "                              1978.0                13\n",
       "                              1981.0                 1\n",
       "                              1982.0                25\n",
       "                              1983.0                44\n",
       "                              1984.0                46\n",
       "                              1985.0                48\n",
       "                              1986.0                 5\n",
       "                              1987.0                38\n",
       "                              1988.0                 5\n",
       "                              1989.0                30\n",
       "                              1990.0                50\n",
       "                              1991.0                 8\n",
       "                              1992.0                74\n",
       "                              1993.0                 9\n",
       "                              1994.0                19\n",
       "                              1995.0                 4\n",
       "                              1996.0                20\n",
       "                              1997.0                14\n",
       "                                                  ... \n",
       "62             Lindi          2002.0                 4\n",
       "                              2003.0                 1\n",
       "                              2004.0                 1\n",
       "                              2005.0                 2\n",
       "                              2006.0                 6\n",
       "                              2007.0                 3\n",
       "                              2008.0                 6\n",
       "                              2009.0                 2\n",
       "                              2010.0                10\n",
       "                              2011.0                 6\n",
       "                              2012.0                 9\n",
       "63             Mtwara         1976.0                17\n",
       "                              1977.0                 1\n",
       "                              1978.0                28\n",
       "                              1979.0                 1\n",
       "                              1981.0                 1\n",
       "                              1985.0                 2\n",
       "                              1986.0                13\n",
       "                              1989.0                 1\n",
       "                              1999.0                 2\n",
       "                              2001.0                 1\n",
       "                              2004.0                 1\n",
       "                              2005.0                 9\n",
       "                              2006.0                 4\n",
       "                              2007.0                 7\n",
       "                              2008.0                23\n",
       "                              2009.0                14\n",
       "                              2010.0                17\n",
       "                              2011.0                 2\n",
       "                              2012.0                 8\n",
       "Length: 2264, dtype: int64"
      ]
     },
     "execution_count": 60,
     "metadata": {},
     "output_type": "execute_result"
    }
   ],
   "source": [
    "df.groupby(['district_code', 'region','construction_year']).size()"
   ]
  },
  {
   "cell_type": "code",
   "execution_count": 61,
   "metadata": {},
   "outputs": [],
   "source": [
    "df[\"latitude\"].fillna(df.groupby(['region', 'district_code'])[\"latitude\"].transform(\"mean\"), inplace=True)\n",
    "df[\"longitude\"].fillna(df.groupby(['region', 'district_code'])[\"longitude\"].transform(\"mean\"), inplace=True)\n",
    "df[\"longitude\"].fillna(df.groupby(['region'])[\"longitude\"].transform(\"mean\"), inplace=True)\n",
    "df[\"construction_year\"].fillna(df.groupby(['region', 'district_code'])[\"construction_year\"].transform(\"median\"), inplace=True)\n",
    "df[\"construction_year\"].fillna(df.groupby(['region'])[\"construction_year\"].transform(\"median\"), inplace=True)\n",
    "df[\"construction_year\"].fillna(df.groupby(['district_code'])[\"construction_year\"].transform(\"median\"), inplace=True)\n",
    "df[\"construction_year\"].fillna(df[\"construction_year\"].median(), inplace=True)"
   ]
  },
  {
   "cell_type": "code",
   "execution_count": 62,
   "metadata": {
    "scrolled": true
   },
   "outputs": [
    {
     "data": {
      "text/plain": [
       "id                           0\n",
       "amount_tsh                   0\n",
       "date_recorded                0\n",
       "funder                    3635\n",
       "gps_height                   0\n",
       "installer                 3655\n",
       "longitude                    0\n",
       "latitude                     0\n",
       "wpt_name                     0\n",
       "num_private                  0\n",
       "basin                        0\n",
       "subvillage                 371\n",
       "region                       0\n",
       "region_code                  0\n",
       "district_code                0\n",
       "lga                          0\n",
       "ward                         0\n",
       "population                   0\n",
       "public_meeting            3334\n",
       "recorded_by                  0\n",
       "scheme_management         3877\n",
       "scheme_name              28166\n",
       "permit                    3056\n",
       "construction_year            0\n",
       "extraction_type              0\n",
       "extraction_type_group        0\n",
       "extraction_type_class        0\n",
       "management                   0\n",
       "management_group             0\n",
       "payment                      0\n",
       "payment_type                 0\n",
       "water_quality                0\n",
       "quality_group                0\n",
       "quantity                     0\n",
       "quantity_group               0\n",
       "source                       0\n",
       "source_type                  0\n",
       "source_class                 0\n",
       "waterpoint_type              0\n",
       "waterpoint_type_group        0\n",
       "status_group                 0\n",
       "dtype: int64"
      ]
     },
     "execution_count": 62,
     "metadata": {},
     "output_type": "execute_result"
    }
   ],
   "source": [
    "df.isnull().sum()"
   ]
  },
  {
   "cell_type": "code",
   "execution_count": 63,
   "metadata": {},
   "outputs": [
    {
     "name": "stdout",
     "output_type": "stream",
     "text": [
      "0    2011-03-14\n",
      "1    2013-03-06\n",
      "2    2013-02-25\n",
      "3    2013-01-28\n",
      "4    2011-07-13\n",
      "Name: date_recorded, dtype: object\n",
      "0    1999.0\n",
      "1    2010.0\n",
      "2    2009.0\n",
      "3    1986.0\n",
      "4    2003.0\n",
      "Name: construction_year, dtype: float64\n"
     ]
    }
   ],
   "source": [
    "#if water point is old, it is highly likely to be non functional or needs repair.\n",
    "#New features were created namely number of days and number of months water point is operational.\n",
    "print(df.date_recorded.head(5))\n",
    "print(df.construction_year.head(5))"
   ]
  },
  {
   "cell_type": "code",
   "execution_count": 64,
   "metadata": {
    "scrolled": true
   },
   "outputs": [
    {
     "name": "stdout",
     "output_type": "stream",
     "text": [
      "0    2011\n",
      "1    2013\n",
      "2    2013\n",
      "3    2013\n",
      "4    2011\n",
      "Name: date_recorded, dtype: int64\n",
      "0    1999.0\n",
      "1    2010.0\n",
      "2    2009.0\n",
      "3    1986.0\n",
      "4    2003.0\n",
      "Name: construction_year, dtype: float64\n"
     ]
    },
    {
     "data": {
      "text/plain": [
       "0    21.0\n",
       "1    10.0\n",
       "2    11.0\n",
       "3    34.0\n",
       "4    17.0\n",
       "Name: age, dtype: float64"
      ]
     },
     "execution_count": 64,
     "metadata": {},
     "output_type": "execute_result"
    }
   ],
   "source": [
    "df['date_recorded'] = pd.to_datetime(df['date_recorded'])\n",
    "df.date_recorded.head(5)\n",
    "print(df.date_recorded.dt.year.head(5))\n",
    "print(df.construction_year.head(5))\n",
    "df['age'] = 2020 - df.construction_year\n",
    "df.age.head(5)"
   ]
  },
  {
   "cell_type": "code",
   "execution_count": 65,
   "metadata": {},
   "outputs": [
    {
     "data": {
      "text/html": [
       "<div>\n",
       "<style scoped>\n",
       "    .dataframe tbody tr th:only-of-type {\n",
       "        vertical-align: middle;\n",
       "    }\n",
       "\n",
       "    .dataframe tbody tr th {\n",
       "        vertical-align: top;\n",
       "    }\n",
       "\n",
       "    .dataframe thead th {\n",
       "        text-align: right;\n",
       "    }\n",
       "</style>\n",
       "<table border=\"1\" class=\"dataframe\">\n",
       "  <thead>\n",
       "    <tr style=\"text-align: right;\">\n",
       "      <th></th>\n",
       "      <th>id</th>\n",
       "      <th>amount_tsh</th>\n",
       "      <th>date_recorded</th>\n",
       "      <th>funder</th>\n",
       "      <th>gps_height</th>\n",
       "      <th>installer</th>\n",
       "      <th>longitude</th>\n",
       "      <th>latitude</th>\n",
       "      <th>wpt_name</th>\n",
       "      <th>num_private</th>\n",
       "      <th>...</th>\n",
       "      <th>quality_group</th>\n",
       "      <th>quantity</th>\n",
       "      <th>quantity_group</th>\n",
       "      <th>source</th>\n",
       "      <th>source_type</th>\n",
       "      <th>source_class</th>\n",
       "      <th>waterpoint_type</th>\n",
       "      <th>waterpoint_type_group</th>\n",
       "      <th>status_group</th>\n",
       "      <th>age</th>\n",
       "    </tr>\n",
       "  </thead>\n",
       "  <tbody>\n",
       "  </tbody>\n",
       "</table>\n",
       "<p>0 rows × 42 columns</p>\n",
       "</div>"
      ],
      "text/plain": [
       "Empty DataFrame\n",
       "Columns: [id, amount_tsh, date_recorded, funder, gps_height, installer, longitude, latitude, wpt_name, num_private, basin, subvillage, region, region_code, district_code, lga, ward, population, public_meeting, recorded_by, scheme_management, scheme_name, permit, construction_year, extraction_type, extraction_type_group, extraction_type_class, management, management_group, payment, payment_type, water_quality, quality_group, quantity, quantity_group, source, source_type, source_class, waterpoint_type, waterpoint_type_group, status_group, age]\n",
       "Index: []\n",
       "\n",
       "[0 rows x 42 columns]"
      ]
     },
     "execution_count": 65,
     "metadata": {},
     "output_type": "execute_result"
    }
   ],
   "source": [
    "df[df['age']<0]"
   ]
  },
  {
   "cell_type": "code",
   "execution_count": 66,
   "metadata": {
    "scrolled": false
   },
   "outputs": [
    {
     "data": {
      "text/plain": [
       "<seaborn.axisgrid.FacetGrid at 0x2e247a6e630>"
      ]
     },
     "execution_count": 66,
     "metadata": {},
     "output_type": "execute_result"
    },
    {
     "data": {
      "image/png": "[encoded data removed]",
      "text/plain": [
       "<Figure size 1160.12x1008 with 1 Axes>"
      ]
     },
     "metadata": {
      "needs_background": "light"
     },
     "output_type": "display_data"
    }
   ],
   "source": [
    "sns.FacetGrid(df, hue='status_group',height=14).map(sns.kdeplot, 'age', shade=True).add_legend()"
   ]
  },
  {
   "cell_type": "code",
   "execution_count": 67,
   "metadata": {
    "scrolled": false
   },
   "outputs": [
    {
     "data": {
      "text/plain": [
       "<matplotlib.axes._subplots.AxesSubplot at 0x2e247a6e438>"
      ]
     },
     "execution_count": 67,
     "metadata": {},
     "output_type": "execute_result"
    },
    {
     "data": {
      "image/png": "[encoded data removed]",
      "text/plain": [
       "<Figure size 1728x648 with 1 Axes>"
      ]
     },
     "metadata": {
      "needs_background": "light"
     },
     "output_type": "display_data"
    }
   ],
   "source": [
    "plt.figure(figsize=(24, 9))\n",
    "sns.countplot(data=df,x='payment_type',hue='status_group')"
   ]
  },
  {
   "cell_type": "code",
   "execution_count": 68,
   "metadata": {},
   "outputs": [],
   "source": [
    "# region and region_code are representing the same thing\n",
    "garbage_features = ['wpt_name','num_private','subvillage','region_code','recorded_by']\n",
    "df.drop(garbage_features,axis=1,inplace=True)"
   ]
  },
  {
   "cell_type": "code",
   "execution_count": 69,
   "metadata": {
    "scrolled": true
   },
   "outputs": [
    {
     "data": {
      "text/plain": [
       "management        management_group\n",
       "company           commercial            685\n",
       "other             other                 844\n",
       "other - school    other                  99\n",
       "parastatal        parastatal           1768\n",
       "private operator  commercial           1971\n",
       "trust             commercial             78\n",
       "unknown           unknown               561\n",
       "vwc               user-group          40507\n",
       "water authority   commercial            904\n",
       "water board       user-group           2933\n",
       "wua               user-group           2535\n",
       "wug               user-group           6515\n",
       "dtype: int64"
      ]
     },
     "execution_count": 69,
     "metadata": {},
     "output_type": "execute_result"
    }
   ],
   "source": [
    "df.groupby(['management', 'management_group']).size()"
   ]
  },
  {
   "cell_type": "code",
   "execution_count": 70,
   "metadata": {},
   "outputs": [],
   "source": [
    "df.drop('management_group',axis=1,inplace=True)"
   ]
  },
  {
   "cell_type": "code",
   "execution_count": 71,
   "metadata": {},
   "outputs": [
    {
     "data": {
      "text/plain": [
       "extraction_type_group  extraction_type_class  extraction_type          \n",
       "afridev                handpump               afridev                       1770\n",
       "gravity                gravity                gravity                      26780\n",
       "india mark ii          handpump               india mark ii                 2400\n",
       "india mark iii         handpump               india mark iii                  98\n",
       "mono                   motorpump              mono                          2865\n",
       "nira/tanira            handpump               nira/tanira                   8154\n",
       "other                  other                  other                         6430\n",
       "other handpump         handpump               other - mkulima/shinyanga        2\n",
       "                                              other - play pump               85\n",
       "                                              other - swn 81                 229\n",
       "                                              walimi                          48\n",
       "other motorpump        motorpump              cemo                            90\n",
       "                                              climax                          32\n",
       "rope pump              rope pump              other - rope pump              451\n",
       "submersible            submersible            ksb                           1415\n",
       "                                              submersible                   4764\n",
       "swn 80                 handpump               swn 80                        3670\n",
       "wind-powered           wind-powered           windmill                       117\n",
       "dtype: int64"
      ]
     },
     "execution_count": 71,
     "metadata": {},
     "output_type": "execute_result"
    }
   ],
   "source": [
    "df.groupby(['extraction_type_group','extraction_type_class','extraction_type']).size()"
   ]
  },
  {
   "cell_type": "code",
   "execution_count": 72,
   "metadata": {},
   "outputs": [],
   "source": [
    "df.drop(['extraction_type_group', 'extraction_type_class'],axis=1,inplace=True)"
   ]
  },
  {
   "cell_type": "code",
   "execution_count": 73,
   "metadata": {
    "scrolled": true
   },
   "outputs": [
    {
     "data": {
      "text/plain": [
       "scheme_management  scheme_name                 \n",
       "Company            BFFS                              1\n",
       "                   Bagamoyo Wate                    60\n",
       "                   Bagamoyo wate                   210\n",
       "                   Borehole                          1\n",
       "                   Borehole drilling project         1\n",
       "                   Bulamba piped scheme              2\n",
       "                   Burieni water supply              1\n",
       "                   Doe water supply                  3\n",
       "                   EKTM 2 water  supply              1\n",
       "                   EKTM 2 water suply               25\n",
       "                   EKTM 2 water supply               9\n",
       "                   EKTM 3 water supply              51\n",
       "                   Fufulamsuri water supply          1\n",
       "                   GRUMETI                           6\n",
       "                   HESAWA                            1\n",
       "                   Hakwe water supply               10\n",
       "                   Holili water supply              23\n",
       "                   I                                 1\n",
       "                   IKTM 2                            1\n",
       "                   IKTM 2 water supply               1\n",
       "                   IKTM 3 water supply               1\n",
       "                   Ibukoni kimanga water supply      1\n",
       "                   Iburieni water supply             6\n",
       "                   Ihum                              1\n",
       "                   Ikela Wa                         89\n",
       "                   It                                1\n",
       "                   Kamdawi water supply              8\n",
       "                   Kandika water supply              4\n",
       "                   Kaseni water supply               1\n",
       "                   Kastamu water supply              8\n",
       "                                                  ... \n",
       "Water authority    Shirimatunda Water Supply        16\n",
       "                   Shirimatunda water Supply        58\n",
       "                   Shirimatunda water supply         1\n",
       "                   Singino                           1\n",
       "                   Sinyanga water supplied sch       4\n",
       "                   Submersible                       1\n",
       "                   Sui                               1\n",
       "                   Suwasa water supply               8\n",
       "                   TWESA                             1\n",
       "                   Tank fu Mwenge                    1\n",
       "                   Tank fupi Mwenge                  8\n",
       "                   Tank refu Kasokola                4\n",
       "                   Tank refu Mtakuja                 6\n",
       "                   Tank refu Sitalike                7\n",
       "                   Tungu water piped scheme          1\n",
       "                   Tutu                             25\n",
       "                   UWAMAMA                           4\n",
       "                   Urambo water supply              15\n",
       "                   Vumari water supply              11\n",
       "                   Vunta water supply               11\n",
       "                   WD                                1\n",
       "                   Water from DAWASCO               28\n",
       "                   World Bank                       60\n",
       "                   World Vision                      8\n",
       "                   World vision                      1\n",
       "                   Yongoma                          16\n",
       "                   Zepalama                          5\n",
       "                   no scheme                         9\n",
       "                   pump                              2\n",
       "                   water supply at Kalebejo          1\n",
       "Length: 3077, dtype: int64"
      ]
     },
     "execution_count": 73,
     "metadata": {},
     "output_type": "execute_result"
    }
   ],
   "source": [
    "df.groupby(['scheme_management', 'scheme_name']).size()"
   ]
  },
  {
   "cell_type": "code",
   "execution_count": 74,
   "metadata": {},
   "outputs": [],
   "source": [
    "df.drop('scheme_name',axis=1,inplace=True)"
   ]
  },
  {
   "cell_type": "code",
   "execution_count": 75,
   "metadata": {},
   "outputs": [
    {
     "data": {
      "text/plain": [
       "payment                payment_type\n",
       "never pay              never pay       25348\n",
       "other                  other            1054\n",
       "pay annually           annually         3642\n",
       "pay monthly            monthly          8300\n",
       "pay per bucket         per bucket       8985\n",
       "pay when scheme fails  on failure       3914\n",
       "unknown                unknown          8157\n",
       "dtype: int64"
      ]
     },
     "execution_count": 75,
     "metadata": {},
     "output_type": "execute_result"
    }
   ],
   "source": [
    "df.groupby(['payment', 'payment_type']).size()"
   ]
  },
  {
   "cell_type": "code",
   "execution_count": 76,
   "metadata": {},
   "outputs": [],
   "source": [
    "df.drop('payment',axis=1,inplace=True)"
   ]
  },
  {
   "cell_type": "code",
   "execution_count": 77,
   "metadata": {},
   "outputs": [
    {
     "data": {
      "text/plain": [
       "water_quality       quality_group\n",
       "coloured            colored            490\n",
       "fluoride            fluoride           200\n",
       "fluoride abandoned  fluoride            17\n",
       "milky               milky              804\n",
       "salty               salty             4856\n",
       "salty abandoned     salty              339\n",
       "soft                good             50818\n",
       "unknown             unknown           1876\n",
       "dtype: int64"
      ]
     },
     "execution_count": 77,
     "metadata": {},
     "output_type": "execute_result"
    }
   ],
   "source": [
    "df.groupby(['water_quality', 'quality_group']).size()"
   ]
  },
  {
   "cell_type": "code",
   "execution_count": 78,
   "metadata": {},
   "outputs": [],
   "source": [
    "df.drop('quality_group',axis=1,inplace=True)"
   ]
  },
  {
   "cell_type": "code",
   "execution_count": 79,
   "metadata": {},
   "outputs": [
    {
     "data": {
      "text/plain": [
       "quantity      quantity_group\n",
       "dry           dry                6246\n",
       "enough        enough            33186\n",
       "insufficient  insufficient      15129\n",
       "seasonal      seasonal           4050\n",
       "unknown       unknown             789\n",
       "dtype: int64"
      ]
     },
     "execution_count": 79,
     "metadata": {},
     "output_type": "execute_result"
    }
   ],
   "source": [
    "df.groupby(['quantity', 'quantity_group']).size()"
   ]
  },
  {
   "cell_type": "code",
   "execution_count": 80,
   "metadata": {},
   "outputs": [],
   "source": [
    "df.drop('quantity_group',axis=1,inplace=True)"
   ]
  },
  {
   "cell_type": "code",
   "execution_count": 81,
   "metadata": {},
   "outputs": [
    {
     "data": {
      "text/plain": [
       "source                source_type           source_class\n",
       "dam                   dam                   surface           656\n",
       "hand dtw              borehole              groundwater       874\n",
       "lake                  river/lake            surface           765\n",
       "machine dbh           borehole              groundwater     11075\n",
       "other                 other                 unknown           212\n",
       "rainwater harvesting  rainwater harvesting  surface          2295\n",
       "river                 river/lake            surface          9612\n",
       "shallow well          shallow well          groundwater     16824\n",
       "spring                spring                groundwater     17021\n",
       "unknown               other                 unknown            66\n",
       "dtype: int64"
      ]
     },
     "execution_count": 81,
     "metadata": {},
     "output_type": "execute_result"
    }
   ],
   "source": [
    "df.groupby(['source', 'source_type', 'source_class']).size()"
   ]
  },
  {
   "cell_type": "code",
   "execution_count": 82,
   "metadata": {},
   "outputs": [],
   "source": [
    "df.drop('source_type',axis=1,inplace=True)"
   ]
  },
  {
   "cell_type": "code",
   "execution_count": 83,
   "metadata": {},
   "outputs": [
    {
     "data": {
      "text/plain": [
       "waterpoint_type              waterpoint_type_group\n",
       "cattle trough                cattle trough              116\n",
       "communal standpipe           communal standpipe       28522\n",
       "communal standpipe multiple  communal standpipe        6103\n",
       "dam                          dam                          7\n",
       "hand pump                    hand pump                17488\n",
       "improved spring              improved spring            784\n",
       "other                        other                     6380\n",
       "dtype: int64"
      ]
     },
     "execution_count": 83,
     "metadata": {},
     "output_type": "execute_result"
    }
   ],
   "source": [
    "df.groupby(['waterpoint_type', 'waterpoint_type_group']).size()"
   ]
  },
  {
   "cell_type": "code",
   "execution_count": 84,
   "metadata": {},
   "outputs": [],
   "source": [
    "df.drop('waterpoint_type_group',axis=1,inplace=True)"
   ]
  },
  {
   "cell_type": "code",
   "execution_count": 85,
   "metadata": {},
   "outputs": [
    {
     "name": "stdout",
     "output_type": "stream",
     "text": [
      "<class 'pandas.core.frame.DataFrame'>\n",
      "Int64Index: 59400 entries, 0 to 59399\n",
      "Data columns (total 28 columns):\n",
      "id                   59400 non-null int64\n",
      "amount_tsh           59400 non-null float64\n",
      "date_recorded        59400 non-null datetime64[ns]\n",
      "funder               55765 non-null object\n",
      "gps_height           59400 non-null float64\n",
      "installer            55745 non-null object\n",
      "longitude            59400 non-null float64\n",
      "latitude             59400 non-null float64\n",
      "basin                59400 non-null object\n",
      "region               59400 non-null object\n",
      "district_code        59400 non-null int64\n",
      "lga                  59400 non-null object\n",
      "ward                 59400 non-null object\n",
      "population           59400 non-null float64\n",
      "public_meeting       56066 non-null object\n",
      "scheme_management    55523 non-null object\n",
      "permit               56344 non-null object\n",
      "construction_year    59400 non-null float64\n",
      "extraction_type      59400 non-null object\n",
      "management           59400 non-null object\n",
      "payment_type         59400 non-null object\n",
      "water_quality        59400 non-null object\n",
      "quantity             59400 non-null object\n",
      "source               59400 non-null object\n",
      "source_class         59400 non-null object\n",
      "waterpoint_type      59400 non-null object\n",
      "status_group         59400 non-null object\n",
      "age                  59400 non-null float64\n",
      "dtypes: datetime64[ns](1), float64(7), int64(2), object(18)\n",
      "memory usage: 15.6+ MB\n"
     ]
    }
   ],
   "source": [
    "df.info()"
   ]
  },
  {
   "cell_type": "code",
   "execution_count": 86,
   "metadata": {
    "scrolled": true
   },
   "outputs": [
    {
     "data": {
      "text/plain": [
       "lga           ward        status_group           \n",
       "Arusha Rural  Bangata     functional                 21\n",
       "                          functional needs repair     2\n",
       "                          non functional             10\n",
       "              Bwawani     functional                 12\n",
       "                          non functional             25\n",
       "              Ilkiding'a  functional                 72\n",
       "                          functional needs repair     1\n",
       "                          non functional             13\n",
       "              Kimnyaki    functional                 45\n",
       "                          functional needs repair     7\n",
       "                          non functional             27\n",
       "              Kiranyi     functional                 84\n",
       "                          non functional             31\n",
       "              Kisongo     functional                 29\n",
       "                          non functional              4\n",
       "              Mateves     functional                 14\n",
       "                          non functional              8\n",
       "              Mlangarini  functional                 72\n",
       "                          functional needs repair     3\n",
       "                          non functional             17\n",
       "              Moivo       functional                 24\n",
       "                          functional needs repair     3\n",
       "                          non functional             17\n",
       "              Moshono     functional                 34\n",
       "                          functional needs repair     2\n",
       "                          non functional              8\n",
       "              Murieti     functional                 19\n",
       "                          non functional             10\n",
       "              Musa        functional                 20\n",
       "                          non functional              9\n",
       "                                                     ..\n",
       "Uyui          Ikongolo    functional                  6\n",
       "                          non functional              5\n",
       "              Ilolangulu  functional                 28\n",
       "                          non functional             12\n",
       "              Isikizya    functional                  9\n",
       "                          functional needs repair     2\n",
       "                          non functional             18\n",
       "              Kizengi     functional                  4\n",
       "                          functional needs repair     1\n",
       "                          non functional              8\n",
       "              Loya        functional                  4\n",
       "                          non functional              6\n",
       "              Lutende     functional                  2\n",
       "                          non functional              4\n",
       "              Mabama      functional                 14\n",
       "                          non functional             11\n",
       "              Magiri      functional                  1\n",
       "                          functional needs repair     1\n",
       "                          non functional              8\n",
       "              Ndono       functional                  2\n",
       "                          non functional             10\n",
       "              Shitage     functional                  2\n",
       "                          non functional              1\n",
       "              Ufuluma     functional                  5\n",
       "                          functional needs repair     1\n",
       "                          non functional             10\n",
       "              Upuge       functional                  7\n",
       "                          non functional             11\n",
       "              Usagali     functional                  8\n",
       "                          non functional             17\n",
       "Length: 5070, dtype: int64"
      ]
     },
     "execution_count": 86,
     "metadata": {},
     "output_type": "execute_result"
    }
   ],
   "source": [
    "df.groupby(['lga', 'ward','status_group']).size()"
   ]
  },
  {
   "cell_type": "code",
   "execution_count": 87,
   "metadata": {},
   "outputs": [],
   "source": [
    "df.drop('ward',axis=1,inplace=True)"
   ]
  },
  {
   "cell_type": "code",
   "execution_count": 88,
   "metadata": {
    "scrolled": true
   },
   "outputs": [
    {
     "data": {
      "text/plain": [
       "installer             funder                        \n",
       "-                     Government Of Tanzania              2\n",
       "                      Kalebejo Parish                     1\n",
       "0                     0                                 777\n",
       "A.D.B                 Hesawa                              1\n",
       "AAR                   Aar                                 4\n",
       "ABASIA                Abasia                             29\n",
       "ABD                   Abd                                 1\n",
       "ABDALA                Abdala                              1\n",
       "ABDUL                 Abdul                               1\n",
       "AC                    Action Aid                          2\n",
       "ACORD                 Acord                               3\n",
       "ACRA                  Acra                               46\n",
       "                      Eu/acra                            18\n",
       "                      Rc                                 39\n",
       "                      Rc Church                         108\n",
       "                      Roman Catholic                     66\n",
       "                      Rv                                  1\n",
       "ACT                   Act                                 1\n",
       "ACT MARA              Act Mara                            1\n",
       "ACTION AID            Action Aid                          1\n",
       "ACTIVE TANK CO        Wfp                                 9\n",
       "ACTIVE TANK CO LTD    Afdp                                1\n",
       "                      Wfp                                 1\n",
       "AD                    Private Individual                 14\n",
       "ADAP                  Adap                                4\n",
       "ADB                   Adb                                 4\n",
       "                      Government Of Tanzania              1\n",
       "ADP                   Area                                1\n",
       "                      District Council                    1\n",
       "                      World Vision                       17\n",
       "                                                       ... \n",
       "unknown               Unknown                             1\n",
       "upper Ruvu            Plan Int                            1\n",
       "villager              Balo                                1\n",
       "villagers             Answeer Muslim Grou                 1\n",
       "                      Ballo                               1\n",
       "                      Balo                                1\n",
       "                      British Colonial Government         1\n",
       "                      Jimmy                               1\n",
       "                      Kkkt                                1\n",
       "                      Kome Parish                         1\n",
       "                      Not Known                           1\n",
       "                      Oak'zion' And Bugango B' Commu      1\n",
       "                      Silvester Shilingi                  1\n",
       "                      Tasaf                               1\n",
       "                      Villagers                           2\n",
       "villigers             Balo                                1\n",
       "wanan                 Roman                              47\n",
       "                      Wanan                               5\n",
       "wananchi              Lwiji Italy                         6\n",
       "                      Nado                               10\n",
       "                      Wananchi                          102\n",
       "                      Wanginyi Water                      1\n",
       "wananchi technicians  Wananchi                            1\n",
       "wasab                 Kanis                               1\n",
       "water board           Water Board                         1\n",
       "                      World Bank                          1\n",
       "wizara ya maji        Serikali                            2\n",
       "world                 World Bank                          4\n",
       "world banks           World Bank                          1\n",
       "world vision          World Vision                        1\n",
       "Length: 3697, dtype: int64"
      ]
     },
     "execution_count": 88,
     "metadata": {},
     "output_type": "execute_result"
    }
   ],
   "source": [
    "df.groupby(['installer', 'funder']).size()"
   ]
  },
  {
   "cell_type": "code",
   "execution_count": 89,
   "metadata": {},
   "outputs": [],
   "source": [
    "df.drop('installer',axis=1,inplace=True)"
   ]
  },
  {
   "cell_type": "code",
   "execution_count": 90,
   "metadata": {},
   "outputs": [
    {
     "data": {
      "text/plain": [
       "id                      0\n",
       "amount_tsh              0\n",
       "date_recorded           0\n",
       "funder               3635\n",
       "gps_height              0\n",
       "longitude               0\n",
       "latitude                0\n",
       "basin                   0\n",
       "region                  0\n",
       "district_code           0\n",
       "lga                     0\n",
       "population              0\n",
       "public_meeting       3334\n",
       "scheme_management    3877\n",
       "permit               3056\n",
       "construction_year       0\n",
       "extraction_type         0\n",
       "management              0\n",
       "payment_type            0\n",
       "water_quality           0\n",
       "quantity                0\n",
       "source                  0\n",
       "source_class            0\n",
       "waterpoint_type         0\n",
       "status_group            0\n",
       "age                     0\n",
       "dtype: int64"
      ]
     },
     "execution_count": 90,
     "metadata": {},
     "output_type": "execute_result"
    }
   ],
   "source": [
    "df.isnull().sum()"
   ]
  },
  {
   "cell_type": "code",
   "execution_count": 91,
   "metadata": {},
   "outputs": [],
   "source": [
    "df.drop('public_meeting', axis=1, inplace=True)\n",
    "df.drop('permit', axis=1, inplace=True)"
   ]
  },
  {
   "cell_type": "code",
   "execution_count": 92,
   "metadata": {},
   "outputs": [],
   "source": [
    "#For every categorical response, convert the levels to lower case, in case there is random capitalization\n",
    "\n",
    "df.waterpoint_type = df.waterpoint_type.str.lower()\n",
    "df.funder = df.funder.str.lower()\n",
    "df.basin = df.basin.str.lower()\n",
    "df.region = df.region.str.lower()\n",
    "df.source = df.source.str.lower()\n",
    "df.lga = df.lga.str.lower()\n",
    "df.management = df.management.str.lower()\n",
    "df.quantity = df.quantity.str.lower()\n",
    "df.water_quality = df.water_quality.str.lower()\n",
    "df.payment_type=df.payment_type.str.lower()\n",
    "df.extraction_type=df.extraction_type.str.lower()"
   ]
  },
  {
   "cell_type": "code",
   "execution_count": 93,
   "metadata": {},
   "outputs": [],
   "source": [
    "df[\"funder\"].fillna(\"other\", inplace=True)\n",
    "df[\"scheme_management\"].fillna(\"other\", inplace=True)"
   ]
  },
  {
   "cell_type": "code",
   "execution_count": 94,
   "metadata": {
    "scrolled": true
   },
   "outputs": [
    {
     "data": {
      "text/plain": [
       "id                   0\n",
       "amount_tsh           0\n",
       "date_recorded        0\n",
       "funder               0\n",
       "gps_height           0\n",
       "longitude            0\n",
       "latitude             0\n",
       "basin                0\n",
       "region               0\n",
       "district_code        0\n",
       "lga                  0\n",
       "population           0\n",
       "scheme_management    0\n",
       "construction_year    0\n",
       "extraction_type      0\n",
       "management           0\n",
       "payment_type         0\n",
       "water_quality        0\n",
       "quantity             0\n",
       "source               0\n",
       "source_class         0\n",
       "waterpoint_type      0\n",
       "status_group         0\n",
       "age                  0\n",
       "dtype: int64"
      ]
     },
     "execution_count": 94,
     "metadata": {},
     "output_type": "execute_result"
    }
   ],
   "source": [
    "df.isnull().sum()"
   ]
  },
  {
   "cell_type": "code",
   "execution_count": 95,
   "metadata": {},
   "outputs": [],
   "source": [
    "df.drop(['date_recorded','construction_year'], axis=1, inplace=True)"
   ]
  },
  {
   "cell_type": "code",
   "execution_count": 96,
   "metadata": {
    "scrolled": true
   },
   "outputs": [
    {
     "data": {
      "text/plain": [
       "id                   0\n",
       "amount_tsh           0\n",
       "funder               0\n",
       "gps_height           0\n",
       "longitude            0\n",
       "latitude             0\n",
       "basin                0\n",
       "region               0\n",
       "district_code        0\n",
       "lga                  0\n",
       "population           0\n",
       "scheme_management    0\n",
       "extraction_type      0\n",
       "management           0\n",
       "payment_type         0\n",
       "water_quality        0\n",
       "quantity             0\n",
       "source               0\n",
       "source_class         0\n",
       "waterpoint_type      0\n",
       "status_group         0\n",
       "age                  0\n",
       "dtype: int64"
      ]
     },
     "execution_count": 96,
     "metadata": {},
     "output_type": "execute_result"
    }
   ],
   "source": [
    "df.isnull().sum()"
   ]
  },
  {
   "cell_type": "code",
   "execution_count": 97,
   "metadata": {
    "scrolled": true
   },
   "outputs": [
    {
     "data": {
      "text/plain": [
       "(59400, 22)"
      ]
     },
     "execution_count": 97,
     "metadata": {},
     "output_type": "execute_result"
    }
   ],
   "source": [
    "df.shape"
   ]
  },
  {
   "cell_type": "code",
   "execution_count": null,
   "metadata": {},
   "outputs": [],
   "source": []
  }
 ],
 "metadata": {
  "kernelspec": {
   "display_name": "Python 3",
   "language": "python",
   "name": "python3"
  },
  "language_info": {
   "codemirror_mode": {
    "name": "ipython",
    "version": 3
   },
   "file_extension": ".py",
   "mimetype": "text/x-python",
   "name": "python",
   "nbconvert_exporter": "python",
   "pygments_lexer": "ipython3",
   "version": "3.7.3"
  }
 },
 "nbformat": 4,
 "nbformat_minor": 2
}
