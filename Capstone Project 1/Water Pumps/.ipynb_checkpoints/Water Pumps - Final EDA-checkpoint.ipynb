{
 "cells": [
  {
   "cell_type": "markdown",
   "metadata": {},
   "source": [
    "### Driven Data Pump it Up Challenge:"
   ]
  },
  {
   "cell_type": "code",
   "execution_count": 1,
   "metadata": {},
   "outputs": [],
   "source": [
    "# Importing all the required libraries\n",
    "import pandas as pd\n",
    "import numpy as np\n",
    "import matplotlib.pyplot as plt\n",
    "import seaborn as sns\n",
    "from sklearn.preprocessing import MinMaxScaler\n",
    "#import os\n",
    "#os.environ[\"PROJ_LIB\"] = \"C:\\\\Users\\\\rtalebiz\\\\AppData\\\\Local\\\\Continuum\\\\anaconda3\\\\Library\\\\share\"\n",
    "#from mpl_toolkits.basemap import Basemap\n",
    "\n",
    "%matplotlib inline"
   ]
  },
  {
   "cell_type": "code",
   "execution_count": 2,
   "metadata": {},
   "outputs": [],
   "source": [
    "#Reading the df files and assigning them to variables - we have 2 csv files\n",
    "training_label = pd.read_csv('data/training set labels.csv')\n",
    "training_values_df = pd.read_csv('data/training set values.csv')"
   ]
  },
  {
   "cell_type": "code",
   "execution_count": 3,
   "metadata": {},
   "outputs": [],
   "source": [
    "# Merge training_values_df and training_label dfs to have one df\n",
    "train_df = pd.merge(training_values_df, training_label, on = \"id\")"
   ]
  },
  {
   "cell_type": "code",
   "execution_count": 4,
   "metadata": {},
   "outputs": [],
   "source": [
    "# Deleting training_label df\n",
    "del training_label"
   ]
  },
  {
   "cell_type": "code",
   "execution_count": 5,
   "metadata": {},
   "outputs": [],
   "source": [
    "# Creating a copy of train df so making changes would not alter the initial dataset\n",
    "df = train_df.copy()"
   ]
  },
  {
   "cell_type": "markdown",
   "metadata": {},
   "source": [
    "#### Let's look at our data using .info(), .shape and .head() methods"
   ]
  },
  {
   "cell_type": "code",
   "execution_count": 6,
   "metadata": {
    "scrolled": true
   },
   "outputs": [
    {
     "name": "stdout",
     "output_type": "stream",
     "text": [
      "<class 'pandas.core.frame.DataFrame'>\n",
      "Int64Index: 59400 entries, 0 to 59399\n",
      "Data columns (total 41 columns):\n",
      "id                       59400 non-null int64\n",
      "amount_tsh               59400 non-null float64\n",
      "date_recorded            59400 non-null object\n",
      "funder                   55765 non-null object\n",
      "gps_height               59400 non-null int64\n",
      "installer                55745 non-null object\n",
      "longitude                59400 non-null float64\n",
      "latitude                 59400 non-null float64\n",
      "wpt_name                 59400 non-null object\n",
      "num_private              59400 non-null int64\n",
      "basin                    59400 non-null object\n",
      "subvillage               59029 non-null object\n",
      "region                   59400 non-null object\n",
      "region_code              59400 non-null int64\n",
      "district_code            59400 non-null int64\n",
      "lga                      59400 non-null object\n",
      "ward                     59400 non-null object\n",
      "population               59400 non-null int64\n",
      "public_meeting           56066 non-null object\n",
      "recorded_by              59400 non-null object\n",
      "scheme_management        55523 non-null object\n",
      "scheme_name              31234 non-null object\n",
      "permit                   56344 non-null object\n",
      "construction_year        59400 non-null int64\n",
      "extraction_type          59400 non-null object\n",
      "extraction_type_group    59400 non-null object\n",
      "extraction_type_class    59400 non-null object\n",
      "management               59400 non-null object\n",
      "management_group         59400 non-null object\n",
      "payment                  59400 non-null object\n",
      "payment_type             59400 non-null object\n",
      "water_quality            59400 non-null object\n",
      "quality_group            59400 non-null object\n",
      "quantity                 59400 non-null object\n",
      "quantity_group           59400 non-null object\n",
      "source                   59400 non-null object\n",
      "source_type              59400 non-null object\n",
      "source_class             59400 non-null object\n",
      "waterpoint_type          59400 non-null object\n",
      "waterpoint_type_group    59400 non-null object\n",
      "status_group             59400 non-null object\n",
      "dtypes: float64(3), int64(7), object(31)\n",
      "memory usage: 19.0+ MB\n"
     ]
    }
   ],
   "source": [
    "df.info()"
   ]
  },
  {
   "cell_type": "code",
   "execution_count": 7,
   "metadata": {
    "scrolled": true
   },
   "outputs": [
    {
     "data": {
      "text/plain": [
       "id                           0\n",
       "amount_tsh                   0\n",
       "date_recorded                0\n",
       "funder                    3635\n",
       "gps_height                   0\n",
       "installer                 3655\n",
       "longitude                    0\n",
       "latitude                     0\n",
       "wpt_name                     0\n",
       "num_private                  0\n",
       "basin                        0\n",
       "subvillage                 371\n",
       "region                       0\n",
       "region_code                  0\n",
       "district_code                0\n",
       "lga                          0\n",
       "ward                         0\n",
       "population                   0\n",
       "public_meeting            3334\n",
       "recorded_by                  0\n",
       "scheme_management         3877\n",
       "scheme_name              28166\n",
       "permit                    3056\n",
       "construction_year            0\n",
       "extraction_type              0\n",
       "extraction_type_group        0\n",
       "extraction_type_class        0\n",
       "management                   0\n",
       "management_group             0\n",
       "payment                      0\n",
       "payment_type                 0\n",
       "water_quality                0\n",
       "quality_group                0\n",
       "quantity                     0\n",
       "quantity_group               0\n",
       "source                       0\n",
       "source_type                  0\n",
       "source_class                 0\n",
       "waterpoint_type              0\n",
       "waterpoint_type_group        0\n",
       "status_group                 0\n",
       "dtype: int64"
      ]
     },
     "execution_count": 7,
     "metadata": {},
     "output_type": "execute_result"
    }
   ],
   "source": [
    "df.isnull().sum()"
   ]
  },
  {
   "cell_type": "markdown",
   "metadata": {},
   "source": [
    "### We notice that some of our features like *(funder, installer, subvillage, public_meeting, scheme_management, scheme_name and permit)* have missing values. We need to look at these features and decide if they have a vitale role in predicting which pump is likely to stop working. Also, some of these features have duplicate data like *funder and installer* so I would likely drop one of them."
   ]
  },
  {
   "cell_type": "code",
   "execution_count": 8,
   "metadata": {
    "scrolled": true
   },
   "outputs": [
    {
     "data": {
      "text/plain": [
       "(59400, 41)"
      ]
     },
     "execution_count": 8,
     "metadata": {},
     "output_type": "execute_result"
    }
   ],
   "source": [
    "df.shape"
   ]
  },
  {
   "cell_type": "markdown",
   "metadata": {},
   "source": [
    "#### Our dataset has 59,400 datapoints and 41 features. Now let's look at a few datapoints using .head()"
   ]
  },
  {
   "cell_type": "code",
   "execution_count": 9,
   "metadata": {},
   "outputs": [
    {
     "data": {
      "text/html": [
       "<div>\n",
       "<style scoped>\n",
       "    .dataframe tbody tr th:only-of-type {\n",
       "        vertical-align: middle;\n",
       "    }\n",
       "\n",
       "    .dataframe tbody tr th {\n",
       "        vertical-align: top;\n",
       "    }\n",
       "\n",
       "    .dataframe thead th {\n",
       "        text-align: right;\n",
       "    }\n",
       "</style>\n",
       "<table border=\"1\" class=\"dataframe\">\n",
       "  <thead>\n",
       "    <tr style=\"text-align: right;\">\n",
       "      <th></th>\n",
       "      <th>id</th>\n",
       "      <th>amount_tsh</th>\n",
       "      <th>date_recorded</th>\n",
       "      <th>funder</th>\n",
       "      <th>gps_height</th>\n",
       "      <th>installer</th>\n",
       "      <th>longitude</th>\n",
       "      <th>latitude</th>\n",
       "      <th>wpt_name</th>\n",
       "      <th>num_private</th>\n",
       "      <th>...</th>\n",
       "      <th>water_quality</th>\n",
       "      <th>quality_group</th>\n",
       "      <th>quantity</th>\n",
       "      <th>quantity_group</th>\n",
       "      <th>source</th>\n",
       "      <th>source_type</th>\n",
       "      <th>source_class</th>\n",
       "      <th>waterpoint_type</th>\n",
       "      <th>waterpoint_type_group</th>\n",
       "      <th>status_group</th>\n",
       "    </tr>\n",
       "  </thead>\n",
       "  <tbody>\n",
       "    <tr>\n",
       "      <th>0</th>\n",
       "      <td>69572</td>\n",
       "      <td>6000.0</td>\n",
       "      <td>2011-03-14</td>\n",
       "      <td>Roman</td>\n",
       "      <td>1390</td>\n",
       "      <td>Roman</td>\n",
       "      <td>34.938093</td>\n",
       "      <td>-9.856322</td>\n",
       "      <td>none</td>\n",
       "      <td>0</td>\n",
       "      <td>...</td>\n",
       "      <td>soft</td>\n",
       "      <td>good</td>\n",
       "      <td>enough</td>\n",
       "      <td>enough</td>\n",
       "      <td>spring</td>\n",
       "      <td>spring</td>\n",
       "      <td>groundwater</td>\n",
       "      <td>communal standpipe</td>\n",
       "      <td>communal standpipe</td>\n",
       "      <td>functional</td>\n",
       "    </tr>\n",
       "    <tr>\n",
       "      <th>1</th>\n",
       "      <td>8776</td>\n",
       "      <td>0.0</td>\n",
       "      <td>2013-03-06</td>\n",
       "      <td>Grumeti</td>\n",
       "      <td>1399</td>\n",
       "      <td>GRUMETI</td>\n",
       "      <td>34.698766</td>\n",
       "      <td>-2.147466</td>\n",
       "      <td>Zahanati</td>\n",
       "      <td>0</td>\n",
       "      <td>...</td>\n",
       "      <td>soft</td>\n",
       "      <td>good</td>\n",
       "      <td>insufficient</td>\n",
       "      <td>insufficient</td>\n",
       "      <td>rainwater harvesting</td>\n",
       "      <td>rainwater harvesting</td>\n",
       "      <td>surface</td>\n",
       "      <td>communal standpipe</td>\n",
       "      <td>communal standpipe</td>\n",
       "      <td>functional</td>\n",
       "    </tr>\n",
       "    <tr>\n",
       "      <th>2</th>\n",
       "      <td>34310</td>\n",
       "      <td>25.0</td>\n",
       "      <td>2013-02-25</td>\n",
       "      <td>Lottery Club</td>\n",
       "      <td>686</td>\n",
       "      <td>World vision</td>\n",
       "      <td>37.460664</td>\n",
       "      <td>-3.821329</td>\n",
       "      <td>Kwa Mahundi</td>\n",
       "      <td>0</td>\n",
       "      <td>...</td>\n",
       "      <td>soft</td>\n",
       "      <td>good</td>\n",
       "      <td>enough</td>\n",
       "      <td>enough</td>\n",
       "      <td>dam</td>\n",
       "      <td>dam</td>\n",
       "      <td>surface</td>\n",
       "      <td>communal standpipe multiple</td>\n",
       "      <td>communal standpipe</td>\n",
       "      <td>functional</td>\n",
       "    </tr>\n",
       "    <tr>\n",
       "      <th>3</th>\n",
       "      <td>67743</td>\n",
       "      <td>0.0</td>\n",
       "      <td>2013-01-28</td>\n",
       "      <td>Unicef</td>\n",
       "      <td>263</td>\n",
       "      <td>UNICEF</td>\n",
       "      <td>38.486161</td>\n",
       "      <td>-11.155298</td>\n",
       "      <td>Zahanati Ya Nanyumbu</td>\n",
       "      <td>0</td>\n",
       "      <td>...</td>\n",
       "      <td>soft</td>\n",
       "      <td>good</td>\n",
       "      <td>dry</td>\n",
       "      <td>dry</td>\n",
       "      <td>machine dbh</td>\n",
       "      <td>borehole</td>\n",
       "      <td>groundwater</td>\n",
       "      <td>communal standpipe multiple</td>\n",
       "      <td>communal standpipe</td>\n",
       "      <td>non functional</td>\n",
       "    </tr>\n",
       "    <tr>\n",
       "      <th>4</th>\n",
       "      <td>19728</td>\n",
       "      <td>0.0</td>\n",
       "      <td>2011-07-13</td>\n",
       "      <td>Action In A</td>\n",
       "      <td>0</td>\n",
       "      <td>Artisan</td>\n",
       "      <td>31.130847</td>\n",
       "      <td>-1.825359</td>\n",
       "      <td>Shuleni</td>\n",
       "      <td>0</td>\n",
       "      <td>...</td>\n",
       "      <td>soft</td>\n",
       "      <td>good</td>\n",
       "      <td>seasonal</td>\n",
       "      <td>seasonal</td>\n",
       "      <td>rainwater harvesting</td>\n",
       "      <td>rainwater harvesting</td>\n",
       "      <td>surface</td>\n",
       "      <td>communal standpipe</td>\n",
       "      <td>communal standpipe</td>\n",
       "      <td>functional</td>\n",
       "    </tr>\n",
       "  </tbody>\n",
       "</table>\n",
       "<p>5 rows × 41 columns</p>\n",
       "</div>"
      ],
      "text/plain": [
       "      id  amount_tsh date_recorded        funder  gps_height     installer  \\\n",
       "0  69572      6000.0    2011-03-14         Roman        1390         Roman   \n",
       "1   8776         0.0    2013-03-06       Grumeti        1399       GRUMETI   \n",
       "2  34310        25.0    2013-02-25  Lottery Club         686  World vision   \n",
       "3  67743         0.0    2013-01-28        Unicef         263        UNICEF   \n",
       "4  19728         0.0    2011-07-13   Action In A           0       Artisan   \n",
       "\n",
       "   longitude   latitude              wpt_name  num_private  ... water_quality  \\\n",
       "0  34.938093  -9.856322                  none            0  ...          soft   \n",
       "1  34.698766  -2.147466              Zahanati            0  ...          soft   \n",
       "2  37.460664  -3.821329           Kwa Mahundi            0  ...          soft   \n",
       "3  38.486161 -11.155298  Zahanati Ya Nanyumbu            0  ...          soft   \n",
       "4  31.130847  -1.825359               Shuleni            0  ...          soft   \n",
       "\n",
       "  quality_group      quantity  quantity_group                source  \\\n",
       "0          good        enough          enough                spring   \n",
       "1          good  insufficient    insufficient  rainwater harvesting   \n",
       "2          good        enough          enough                   dam   \n",
       "3          good           dry             dry           machine dbh   \n",
       "4          good      seasonal        seasonal  rainwater harvesting   \n",
       "\n",
       "            source_type source_class              waterpoint_type  \\\n",
       "0                spring  groundwater           communal standpipe   \n",
       "1  rainwater harvesting      surface           communal standpipe   \n",
       "2                   dam      surface  communal standpipe multiple   \n",
       "3              borehole  groundwater  communal standpipe multiple   \n",
       "4  rainwater harvesting      surface           communal standpipe   \n",
       "\n",
       "  waterpoint_type_group    status_group  \n",
       "0    communal standpipe      functional  \n",
       "1    communal standpipe      functional  \n",
       "2    communal standpipe      functional  \n",
       "3    communal standpipe  non functional  \n",
       "4    communal standpipe      functional  \n",
       "\n",
       "[5 rows x 41 columns]"
      ]
     },
     "execution_count": 9,
     "metadata": {},
     "output_type": "execute_result"
    }
   ],
   "source": [
    "df.head()"
   ]
  },
  {
   "cell_type": "markdown",
   "metadata": {},
   "source": [
    "### I'll be looking at some of these features and dropping the ones with duplicate data as well as figuring out a way to fill all the NaNs and/or 0s"
   ]
  },
  {
   "cell_type": "markdown",
   "metadata": {},
   "source": [
    "#### Now let's look at the amount of each functional type pumps in our dataset"
   ]
  },
  {
   "cell_type": "code",
   "execution_count": 10,
   "metadata": {},
   "outputs": [
    {
     "name": "stdout",
     "output_type": "stream",
     "text": [
      "Count of each functional type:\n",
      "functional                 32259\n",
      "non functional             22824\n",
      "functional needs repair     4317\n",
      "Name: status_group, dtype: int64\n",
      "\n",
      "Percent of each functional type:\n",
      "functional                 0.543081\n",
      "non functional             0.384242\n",
      "functional needs repair    0.072677\n",
      "Name: status_group, dtype: float64\n"
     ]
    }
   ],
   "source": [
    "# The count of each fuctional type of the pumps in status_group so that we will understand the functional scenario \n",
    "# of the pump status\n",
    "print('Count of each functional type:' + '\\n' + str(df.status_group.value_counts()))\n",
    "print('\\n' + 'Percent of each functional type:' + '\\n' + str(df.status_group.value_counts(normalize=True)))"
   ]
  },
  {
   "cell_type": "code",
   "execution_count": 11,
   "metadata": {},
   "outputs": [
    {
     "data": {
      "text/plain": [
       "<matplotlib.axes._subplots.AxesSubplot at 0x130bfbca978>"
      ]
     },
     "execution_count": 11,
     "metadata": {},
     "output_type": "execute_result"
    },
    {
     "data": {
      "image/png": "[encoded data removed]",
      "text/plain": [
       "<Figure size 1008x432 with 1 Axes>"
      ]
     },
     "metadata": {
      "needs_background": "light"
     },
     "output_type": "display_data"
    }
   ],
   "source": [
    "plt.figure(figsize=(14,6))\n",
    "plt.title(\"Water Pumps Functionality\",fontsize=16)\n",
    "sns.countplot(x=df['status_group'], data=df, palette='Dark2')"
   ]
  },
  {
   "cell_type": "markdown",
   "metadata": {},
   "source": [
    "#### By the above figures, we can roughly estimate that there is 54.31% chance that if we take a random pump in the data to be a functional pump."
   ]
  },
  {
   "cell_type": "markdown",
   "metadata": {},
   "source": [
    "### Now let's separate our Numerical and Categorical features and visualize some of the most sensitive columns"
   ]
  },
  {
   "cell_type": "code",
   "execution_count": 12,
   "metadata": {},
   "outputs": [],
   "source": [
    "sensitive_num_features = [\n",
    "    'amount_tsh',\n",
    "    'gps_height',\n",
    "    'longitude',\n",
    "    'latitude',\n",
    "    'population',\n",
    "    'construction_year'\n",
    "]"
   ]
  },
  {
   "cell_type": "code",
   "execution_count": 13,
   "metadata": {},
   "outputs": [
    {
     "data": {
      "image/png": "[encoded data removed]",
      "text/plain": [
       "<Figure size 1080x1080 with 6 Axes>"
      ]
     },
     "metadata": {},
     "output_type": "display_data"
    }
   ],
   "source": [
    "sns.set()\n",
    "df.loc[:,sensitive_num_features].hist()\n",
    "fig = plt.gcf()\n",
    "fig.set_size_inches(15,15)\n",
    "fig.subplots_adjust(wspace=0.2, hspace=0.5)"
   ]
  },
  {
   "cell_type": "code",
   "execution_count": 14,
   "metadata": {
    "scrolled": true
   },
   "outputs": [
    {
     "data": {
      "text/plain": [
       "0        21381\n",
       "1         7025\n",
       "2            4\n",
       "3            4\n",
       "4           13\n",
       "5           44\n",
       "6           19\n",
       "7            3\n",
       "8           23\n",
       "9           11\n",
       "10         163\n",
       "11           7\n",
       "12          43\n",
       "13          12\n",
       "14          18\n",
       "15         193\n",
       "16           8\n",
       "17           6\n",
       "18          18\n",
       "19           3\n",
       "20         462\n",
       "21           3\n",
       "22           9\n",
       "23          27\n",
       "24          16\n",
       "25         255\n",
       "26          11\n",
       "27           5\n",
       "28           9\n",
       "29           7\n",
       "         ...  \n",
       "5200         1\n",
       "5300         1\n",
       "5400         2\n",
       "5500         2\n",
       "5550         1\n",
       "5560         1\n",
       "5600         3\n",
       "6000        15\n",
       "6300         1\n",
       "6302         1\n",
       "6330         1\n",
       "6500         7\n",
       "6800         1\n",
       "6854         1\n",
       "6922        30\n",
       "7000         2\n",
       "7500         3\n",
       "7530         1\n",
       "8000         5\n",
       "8200         1\n",
       "8500         1\n",
       "8600         1\n",
       "8848         1\n",
       "9000         3\n",
       "9500         1\n",
       "9865         1\n",
       "10000        3\n",
       "11463        1\n",
       "15300        1\n",
       "30500        1\n",
       "Name: population, Length: 1049, dtype: int64"
      ]
     },
     "execution_count": 14,
     "metadata": {},
     "output_type": "execute_result"
    }
   ],
   "source": [
    "df['population'].value_counts().sort_index()"
   ]
  },
  {
   "cell_type": "code",
   "execution_count": 15,
   "metadata": {
    "scrolled": true
   },
   "outputs": [
    {
     "data": {
      "text/plain": [
       "0       20709\n",
       "1960      102\n",
       "1961       21\n",
       "1962       30\n",
       "1963       85\n",
       "1964       40\n",
       "1965       19\n",
       "1966       17\n",
       "1967       88\n",
       "1968       77\n",
       "1969       59\n",
       "1970      411\n",
       "1971      145\n",
       "1972      708\n",
       "1973      184\n",
       "1974      676\n",
       "1975      437\n",
       "1976      414\n",
       "1977      202\n",
       "1978     1037\n",
       "1979      192\n",
       "1980      811\n",
       "1981      238\n",
       "1982      744\n",
       "1983      488\n",
       "1984      779\n",
       "1985      945\n",
       "1986      434\n",
       "1987      302\n",
       "1988      521\n",
       "1989      316\n",
       "1990      954\n",
       "1991      324\n",
       "1992      640\n",
       "1993      608\n",
       "1994      738\n",
       "1995     1014\n",
       "1996      811\n",
       "1997      644\n",
       "1998      966\n",
       "1999      979\n",
       "2000     2091\n",
       "2001      540\n",
       "2002     1075\n",
       "2003     1286\n",
       "2004     1123\n",
       "2005     1011\n",
       "2006     1471\n",
       "2007     1587\n",
       "2008     2613\n",
       "2009     2533\n",
       "2010     2645\n",
       "2011     1256\n",
       "2012     1084\n",
       "2013      176\n",
       "Name: construction_year, dtype: int64"
      ]
     },
     "execution_count": 15,
     "metadata": {},
     "output_type": "execute_result"
    }
   ],
   "source": [
    "df['construction_year'].value_counts().sort_index()"
   ]
  },
  {
   "cell_type": "code",
   "execution_count": 16,
   "metadata": {
    "scrolled": true
   },
   "outputs": [
    {
     "data": {
      "text/plain": [
       "0.00         41639\n",
       "0.20             3\n",
       "0.25             1\n",
       "1.00             3\n",
       "2.00            13\n",
       "5.00           376\n",
       "6.00           190\n",
       "7.00            69\n",
       "9.00             1\n",
       "10.00          806\n",
       "12.00            1\n",
       "15.00           15\n",
       "20.00         1463\n",
       "25.00          356\n",
       "26.00            1\n",
       "30.00          743\n",
       "33.00           20\n",
       "35.00            8\n",
       "40.00           59\n",
       "50.00         2472\n",
       "53.00            1\n",
       "59.00            1\n",
       "60.00           15\n",
       "70.00           23\n",
       "100.00         816\n",
       "150.00          21\n",
       "200.00        1220\n",
       "220.00           1\n",
       "250.00         569\n",
       "300.00         557\n",
       "             ...  \n",
       "8000.00         61\n",
       "8500.00          1\n",
       "9000.00          3\n",
       "10000.00        57\n",
       "11000.00         2\n",
       "12000.00        51\n",
       "13000.00         2\n",
       "14000.00         4\n",
       "15000.00        16\n",
       "16000.00         2\n",
       "16300.00         2\n",
       "18000.00         4\n",
       "20000.00        45\n",
       "25000.00         9\n",
       "26000.00         2\n",
       "30000.00         8\n",
       "38000.00         1\n",
       "40000.00         7\n",
       "45000.00         3\n",
       "50000.00         4\n",
       "60000.00         1\n",
       "70000.00         1\n",
       "100000.00        3\n",
       "117000.00        7\n",
       "120000.00        1\n",
       "138000.00        1\n",
       "170000.00        1\n",
       "200000.00        1\n",
       "250000.00        1\n",
       "350000.00        1\n",
       "Name: amount_tsh, Length: 98, dtype: int64"
      ]
     },
     "execution_count": 16,
     "metadata": {},
     "output_type": "execute_result"
    }
   ],
   "source": [
    "df['amount_tsh'].value_counts().sort_index()"
   ]
  },
  {
   "cell_type": "code",
   "execution_count": 17,
   "metadata": {
    "scrolled": true
   },
   "outputs": [
    {
     "data": {
      "text/plain": [
       "-90       1\n",
       "-63       2\n",
       "-59       1\n",
       "-57       1\n",
       "-55       1\n",
       "-54       1\n",
       "-53       1\n",
       "-52       2\n",
       "-51       2\n",
       "-50       5\n",
       "-49       4\n",
       "-48       6\n",
       "-47       8\n",
       "-46       6\n",
       "-45       9\n",
       "-44       6\n",
       "-43      11\n",
       "-42      13\n",
       "-41      11\n",
       "-40      26\n",
       "-39      14\n",
       "-38      17\n",
       "-37      19\n",
       "-36      24\n",
       "-35      18\n",
       "-34      18\n",
       "-33      22\n",
       "-32      24\n",
       "-31      26\n",
       "-30      26\n",
       "         ..\n",
       " 2469     1\n",
       " 2475     1\n",
       " 2484     1\n",
       " 2491     1\n",
       " 2501     1\n",
       " 2506     1\n",
       " 2509     2\n",
       " 2521     1\n",
       " 2523     1\n",
       " 2535     1\n",
       " 2536     1\n",
       " 2539     1\n",
       " 2545     1\n",
       " 2552     1\n",
       " 2554     2\n",
       " 2557     1\n",
       " 2559     1\n",
       " 2560     2\n",
       " 2566     1\n",
       " 2567     1\n",
       " 2568     1\n",
       " 2569     1\n",
       " 2576     1\n",
       " 2585     1\n",
       " 2614     1\n",
       " 2623     1\n",
       " 2626     2\n",
       " 2627     1\n",
       " 2628     1\n",
       " 2770     1\n",
       "Name: gps_height, Length: 2428, dtype: int64"
      ]
     },
     "execution_count": 17,
     "metadata": {},
     "output_type": "execute_result"
    }
   ],
   "source": [
    "df['gps_height'].value_counts().sort_index()"
   ]
  },
  {
   "cell_type": "code",
   "execution_count": 18,
   "metadata": {
    "scrolled": true
   },
   "outputs": [
    {
     "data": {
      "text/plain": [
       "0.000000     1812\n",
       "29.607122       1\n",
       "29.607201       1\n",
       "29.610321       1\n",
       "29.610965       1\n",
       "29.611947       1\n",
       "29.612507       1\n",
       "29.612763       1\n",
       "29.613443       1\n",
       "29.616872       1\n",
       "29.618479       1\n",
       "29.630583       1\n",
       "29.638815       1\n",
       "29.638904       1\n",
       "29.639026       1\n",
       "29.640156       1\n",
       "29.640411       1\n",
       "29.640963       1\n",
       "29.641149       1\n",
       "29.642162       1\n",
       "29.642201       1\n",
       "29.642269       1\n",
       "29.642488       1\n",
       "29.642861       1\n",
       "29.643541       1\n",
       "29.643546       1\n",
       "29.643579       1\n",
       "29.643938       1\n",
       "29.644221       1\n",
       "29.644315       1\n",
       "             ... \n",
       "40.286679       1\n",
       "40.287471       1\n",
       "40.295239       1\n",
       "40.298026       1\n",
       "40.300378       1\n",
       "40.301214       1\n",
       "40.301987       1\n",
       "40.301999       1\n",
       "40.303795       1\n",
       "40.304418       1\n",
       "40.305421       1\n",
       "40.305644       1\n",
       "40.311031       1\n",
       "40.311540       1\n",
       "40.319699       1\n",
       "40.320419       1\n",
       "40.320693       1\n",
       "40.320693       1\n",
       "40.320693       1\n",
       "40.320699       1\n",
       "40.321966       1\n",
       "40.322169       1\n",
       "40.322625       1\n",
       "40.322805       1\n",
       "40.322832       1\n",
       "40.323402       1\n",
       "40.325226       1\n",
       "40.325240       1\n",
       "40.344301       1\n",
       "40.345193       1\n",
       "Name: longitude, Length: 57516, dtype: int64"
      ]
     },
     "execution_count": 18,
     "metadata": {},
     "output_type": "execute_result"
    }
   ],
   "source": [
    "df['longitude'].value_counts().sort_index()"
   ]
  },
  {
   "cell_type": "markdown",
   "metadata": {},
   "source": [
    "#### As we can see above, we have 1812 counts of 0 value for longitude which is not correct for Tanzania. [Map of Tanzania with latitude and longitude](https://www.worldatlas.com/img/areamap/44fb0cbaa5eb7ba2770b00485a23d97a.gif). You can also find more information about Tanzania using this [link](https://www.worldatlas.com/webimage/countrys/africa/tz.htm)"
   ]
  },
  {
   "cell_type": "code",
   "execution_count": 19,
   "metadata": {
    "scrolled": true
   },
   "outputs": [
    {
     "data": {
      "text/plain": [
       "-1.164944e+01       1\n",
       "-1.164838e+01       1\n",
       "-1.158630e+01       1\n",
       "-1.156858e+01       1\n",
       "-1.156680e+01       1\n",
       "-1.156451e+01       1\n",
       "-1.156432e+01       1\n",
       "-1.156232e+01       1\n",
       "-1.156229e+01       1\n",
       "-1.156162e+01       1\n",
       "-1.156105e+01       1\n",
       "-1.156055e+01       1\n",
       "-1.155749e+01       1\n",
       "-1.155728e+01       1\n",
       "-1.155703e+01       1\n",
       "-1.155639e+01       1\n",
       "-1.155413e+01       1\n",
       "-1.155317e+01       1\n",
       "-1.153953e+01       1\n",
       "-1.153842e+01       1\n",
       "-1.153833e+01       1\n",
       "-1.153785e+01       1\n",
       "-1.153707e+01       1\n",
       "-1.153679e+01       1\n",
       "-1.152131e+01       1\n",
       "-1.151494e+01       1\n",
       "-1.151389e+01       1\n",
       "-1.151323e+01       1\n",
       "-1.151176e+01       1\n",
       "-1.151079e+01       1\n",
       "                 ... \n",
       "-1.021558e+00       1\n",
       "-1.016317e+00       1\n",
       "-1.015149e+00       1\n",
       "-1.013978e+00       1\n",
       "-1.013626e+00       1\n",
       "-1.011835e+00       1\n",
       "-1.010717e+00       1\n",
       "-1.009458e+00       1\n",
       "-1.008978e+00       1\n",
       "-1.008346e+00       1\n",
       "-1.007073e+00       1\n",
       "-1.006552e+00       1\n",
       "-1.006140e+00       1\n",
       "-1.005107e+00       1\n",
       "-1.004616e+00       1\n",
       "-1.003679e+00       1\n",
       "-1.003345e+00       1\n",
       "-1.003317e+00       1\n",
       "-1.003277e+00       1\n",
       "-1.001988e+00       1\n",
       "-1.001521e+00       1\n",
       "-1.000585e+00       1\n",
       "-9.995223e-01       1\n",
       "-9.995065e-01       1\n",
       "-9.994692e-01       1\n",
       "-9.991170e-01       1\n",
       "-9.990121e-01       1\n",
       "-9.989160e-01       1\n",
       "-9.984644e-01       1\n",
       "-2.000000e-08    1812\n",
       "Name: latitude, Length: 57517, dtype: int64"
      ]
     },
     "execution_count": 19,
     "metadata": {},
     "output_type": "execute_result"
    }
   ],
   "source": [
    "df['latitude'].value_counts().sort_index()"
   ]
  },
  {
   "cell_type": "code",
   "execution_count": 20,
   "metadata": {
    "scrolled": false
   },
   "outputs": [
    {
     "data": {
      "text/plain": [
       "quantity\n",
       "dry              5516\n",
       "enough          21103\n",
       "insufficient    10914\n",
       "seasonal         3411\n",
       "unknown           695\n",
       "dtype: int64"
      ]
     },
     "execution_count": 20,
     "metadata": {},
     "output_type": "execute_result"
    }
   ],
   "source": [
    "df[df['amount_tsh']==0].groupby(df['quantity']).size()"
   ]
  },
  {
   "cell_type": "markdown",
   "metadata": {},
   "source": [
    "### We see above that the we have *'amount_tsh'* == 0 (amount water available to waterpoint) and this doesn't make sense when the *'quantity'* is not 'dry'. I'll assume that 0 value in *'amount_tsh'* means we are missing values in this feature and we need to handle it."
   ]
  },
  {
   "cell_type": "markdown",
   "metadata": {},
   "source": [
    "### Now let's compare the *status_group* feature with other numerical features to see if we can find a trend"
   ]
  },
  {
   "cell_type": "code",
   "execution_count": 21,
   "metadata": {
    "scrolled": true
   },
   "outputs": [
    {
     "data": {
      "text/plain": [
       "status_group\n",
       "functional                 32259\n",
       "functional needs repair     4317\n",
       "non functional             22824\n",
       "dtype: int64"
      ]
     },
     "execution_count": 21,
     "metadata": {},
     "output_type": "execute_result"
    }
   ],
   "source": [
    "df[['amount_tsh']].groupby(df['status_group']).size()"
   ]
  },
  {
   "cell_type": "code",
   "execution_count": 22,
   "metadata": {
    "scrolled": true
   },
   "outputs": [
    {
     "data": {
      "text/plain": [
       "Index(['id', 'amount_tsh', 'date_recorded', 'funder', 'gps_height',\n",
       "       'installer', 'longitude', 'latitude', 'wpt_name', 'num_private',\n",
       "       'basin', 'subvillage', 'region', 'region_code', 'district_code', 'lga',\n",
       "       'ward', 'population', 'public_meeting', 'recorded_by',\n",
       "       'scheme_management', 'scheme_name', 'permit', 'construction_year',\n",
       "       'extraction_type', 'extraction_type_group', 'extraction_type_class',\n",
       "       'management', 'management_group', 'payment', 'payment_type',\n",
       "       'water_quality', 'quality_group', 'quantity', 'quantity_group',\n",
       "       'source', 'source_type', 'source_class', 'waterpoint_type',\n",
       "       'waterpoint_type_group', 'status_group'],\n",
       "      dtype='object')"
      ]
     },
     "execution_count": 22,
     "metadata": {},
     "output_type": "execute_result"
    }
   ],
   "source": [
    "df.columns"
   ]
  },
  {
   "cell_type": "code",
   "execution_count": 23,
   "metadata": {},
   "outputs": [
    {
     "data": {
      "text/plain": [
       "array(['Roman', 'Grumeti', 'Lottery Club', ..., 'Dina', 'Brown', 'Samlo'],\n",
       "      dtype=object)"
      ]
     },
     "execution_count": 23,
     "metadata": {},
     "output_type": "execute_result"
    }
   ],
   "source": [
    "df['funder'].unique()"
   ]
  },
  {
   "cell_type": "code",
   "execution_count": 24,
   "metadata": {},
   "outputs": [
    {
     "data": {
      "text/plain": [
       "array(['Ludewa', 'Serengeti', 'Simanjiro', 'Nanyumbu', 'Karagwe',\n",
       "       'Mkinga', 'Shinyanga Rural', 'Kahama', 'Tabora Urban', 'Mkuranga',\n",
       "       'Namtumbo', 'Maswa', 'Siha', 'Meatu', 'Sumbawanga Rural', 'Njombe',\n",
       "       'Ukerewe', 'Bariadi', 'Same', 'Kigoma Rural', 'Moshi Rural',\n",
       "       'Lindi Rural', 'Rombo', 'Chamwino', 'Bagamoyo', 'Mafia',\n",
       "       'Arusha Rural', 'Kyela', 'Kondoa', 'Kilolo', 'Kibondo', 'Makete',\n",
       "       'Singida Rural', 'Masasi', 'Rungwe', 'Moshi Urban', 'Geita',\n",
       "       'Mbulu', 'Bukoba Rural', 'Muheza', 'Lushoto', 'Meru', 'Iramba',\n",
       "       'Kilombero', 'Mbarali', 'Kasulu', 'Bukoba Urban', 'Korogwe',\n",
       "       'Bukombe', 'Morogoro Rural', 'Kishapu', 'Musoma Rural',\n",
       "       'Sengerema', 'Iringa Rural', 'Muleba', 'Dodoma Urban', 'Ruangwa',\n",
       "       'Hanang', 'Misenyi', 'Missungwi', 'Songea Rural', 'Tanga',\n",
       "       'Tunduru', 'Hai', 'Mwanga', 'Chato', 'Biharamulo', 'Ileje',\n",
       "       'Mpwapwa', 'Mvomero', 'Bunda', 'Kiteto', 'Longido', 'Urambo',\n",
       "       'Mbozi', 'Sikonge', 'Ilala', 'Tarime', 'Temeke', 'Mbeya Rural',\n",
       "       'Magu', 'Manyoni', 'Igunga', 'Kilosa', 'Babati', 'Chunya',\n",
       "       'Mufindi', 'Mtwara Rural', 'Ngara', 'Karatu', 'Mpanda', 'Kibaha',\n",
       "       'Singida Urban', 'Newala', 'Nzega', 'Nkasi', 'Bahi', 'Mbinga',\n",
       "       'Ulanga', 'Sumbawanga Urban', 'Morogoro Urban', 'Tandahimba',\n",
       "       'Kisarawe', 'Mtwara Urban', 'Kilwa', 'Liwale', 'Kongwa', 'Uyui',\n",
       "       'Rufiji', 'Kwimba', 'Monduli', 'Shinyanga Urban', 'Ngorongoro',\n",
       "       'Handeni', 'Rorya', 'Pangani', 'Lindi Urban', 'Nachingwea',\n",
       "       'Kinondoni', 'Kigoma Urban', 'Ilemela', 'Kilindi', 'Arusha Urban',\n",
       "       'Songea Urban', 'Nyamagana'], dtype=object)"
      ]
     },
     "execution_count": 24,
     "metadata": {},
     "output_type": "execute_result"
    }
   ],
   "source": [
    "df['lga'].unique()"
   ]
  },
  {
   "cell_type": "code",
   "execution_count": 63,
   "metadata": {
    "scrolled": true
   },
   "outputs": [
    {
     "data": {
      "text/plain": [
       "<matplotlib.legend.Legend at 0x130c944e5c0>"
      ]
     },
     "execution_count": 63,
     "metadata": {},
     "output_type": "execute_result"
    },
    {
     "data": {
      "image/png": "[encoded data removed]",
      "text/plain": [
       "<Figure size 1080x504 with 1 Axes>"
      ]
     },
     "metadata": {},
     "output_type": "display_data"
    }
   ],
   "source": [
    "plt.figure(figsize=(15,7))\n",
    "_ = sns.countplot(data=df,x='region',hue='status_group')\n",
    "_.set_xticklabels(_.get_xticklabels(),rotation=90)\n",
    "plt.legend(bbox_to_anchor=(1,1), loc=2)"
   ]
  },
  {
   "cell_type": "code",
   "execution_count": 26,
   "metadata": {},
   "outputs": [
    {
     "data": {
      "text/plain": [
       "array(['Lake Nyasa', 'Lake Victoria', 'Pangani',\n",
       "       'Ruvuma / Southern Coast', 'Internal', 'Lake Tanganyika',\n",
       "       'Wami / Ruvu', 'Rufiji', 'Lake Rukwa'], dtype=object)"
      ]
     },
     "execution_count": 26,
     "metadata": {},
     "output_type": "execute_result"
    }
   ],
   "source": [
    "df['basin'].unique()"
   ]
  },
  {
   "cell_type": "code",
   "execution_count": 46,
   "metadata": {
    "scrolled": true
   },
   "outputs": [
    {
     "data": {
      "text/plain": [
       "<matplotlib.legend.Legend at 0x130c706ef28>"
      ]
     },
     "execution_count": 46,
     "metadata": {},
     "output_type": "execute_result"
    },
    {
     "data": {
      "image/png": "[encoded data removed]",
      "text/plain": [
       "<Figure size 1080x504 with 1 Axes>"
      ]
     },
     "metadata": {},
     "output_type": "display_data"
    }
   ],
   "source": [
    "plt.figure(figsize=(15,7))\n",
    "sns.countplot(data=df,x='basin',hue='status_group')\n",
    "plt.legend(bbox_to_anchor=(1,1), loc=2)"
   ]
  },
  {
   "cell_type": "code",
   "execution_count": null,
   "metadata": {},
   "outputs": [],
   "source": []
  }
 ],
 "metadata": {
  "kernelspec": {
   "display_name": "Python 3",
   "language": "python",
   "name": "python3"
  },
  "language_info": {
   "codemirror_mode": {
    "name": "ipython",
    "version": 3
   },
   "file_extension": ".py",
   "mimetype": "text/x-python",
   "name": "python",
   "nbconvert_exporter": "python",
   "pygments_lexer": "ipython3",
   "version": "3.7.3"
  }
 },
 "nbformat": 4,
 "nbformat_minor": 2
}
