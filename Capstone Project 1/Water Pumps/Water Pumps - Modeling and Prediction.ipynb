{
 "cells": [
  {
   "cell_type": "code",
   "execution_count": 1,
   "metadata": {},
   "outputs": [],
   "source": [
    "# Import all the required libraries\n",
    "import pandas as pd\n",
    "import numpy as np\n",
    "from matplotlib import pyplot as plt\n",
    "%matplotlib inline\n",
    "import re\n",
    "# Ignore warnings\n",
    "import warnings\n",
    "warnings.filterwarnings(\"ignore\")\n",
    "\n",
    "import plotly.graph_objs as go\n",
    "from plotly.offline import iplot, plot, init_notebook_mode\n",
    "import plotly.express as px"
   ]
  },
  {
   "cell_type": "code",
   "execution_count": 2,
   "metadata": {},
   "outputs": [],
   "source": [
    "# Import all of the classifiers that we are interested to try\n",
    "from sklearn import preprocessing\n",
    "from sklearn.ensemble import RandomForestClassifier\n",
    "from sklearn.ensemble import ExtraTreesClassifier\n",
    "from sklearn.tree import DecisionTreeClassifier\n",
    "from sklearn.model_selection import GridSearchCV\n",
    "from sklearn.model_selection import train_test_split\n",
    "from sklearn.model_selection import cross_val_score\n",
    "from sklearn import compose\n",
    "from xgboost import XGBClassifier\n",
    "from sklearn.metrics import classification_report\n",
    "from sklearn.metrics import accuracy_score\n",
    "from sklearn.metrics import roc_curve\n",
    "from sklearn.metrics import roc_auc_score"
   ]
  },
  {
   "cell_type": "code",
   "execution_count": 3,
   "metadata": {},
   "outputs": [],
   "source": [
    "# I decided to use list of names for my catg_feature_names, num_feature_names and date_feature_names so later on I can\n",
    "# easily add or remove these features from my training and test sets.\n",
    "catg_feature_names = [\n",
    "    'funder',\n",
    "    'basin',\n",
    "#    'region',                    \n",
    "#    'district_code',\n",
    "    'lga',\n",
    "    'scheme_management',\n",
    "    'extraction_type',\n",
    "    'extraction_type_class',\n",
    "    'management',\n",
    "    'payment_type',\n",
    "    'water_quality',\n",
    "    'quantity',\n",
    "    'source',     \n",
    "    'source_class',\n",
    "#    'waterpoint_type_group'\n",
    "]\n",
    "\n",
    "num_feature_names = [\n",
    "#    'amount_tsh',\n",
    "#    'gps_height',\n",
    "    'longitude',\n",
    "    'latitude',\n",
    "#    'population',\n",
    "    'construction_year',\n",
    "    'pump_age'\n",
    "]\n",
    "\n",
    "date_feature_names = [\n",
    "#    'date_recorded',\n",
    "    'year_rec',\n",
    "    'week_rec',\n",
    "    'day_rec'\n",
    "]\n",
    "\n",
    "label_names = ['status_group']"
   ]
  },
  {
   "cell_type": "code",
   "execution_count": 4,
   "metadata": {
    "scrolled": true
   },
   "outputs": [
    {
     "name": "stdout",
     "output_type": "stream",
     "text": [
      "<class 'pandas.core.frame.DataFrame'>\n",
      "RangeIndex: 59400 entries, 0 to 59399\n",
      "Data columns (total 18 columns):\n",
      " #   Column                 Non-Null Count  Dtype         \n",
      "---  ------                 --------------  -----         \n",
      " 0   date_recorded          59400 non-null  datetime64[ns]\n",
      " 1   funder                 59400 non-null  object        \n",
      " 2   longitude              59400 non-null  float64       \n",
      " 3   latitude               59400 non-null  float64       \n",
      " 4   basin                  59400 non-null  object        \n",
      " 5   lga                    59400 non-null  object        \n",
      " 6   scheme_management      59400 non-null  object        \n",
      " 7   construction_year      59400 non-null  float64       \n",
      " 8   extraction_type        59400 non-null  object        \n",
      " 9   extraction_type_class  59400 non-null  object        \n",
      " 10  management             59400 non-null  object        \n",
      " 11  payment_type           59400 non-null  object        \n",
      " 12  water_quality          59400 non-null  object        \n",
      " 13  quantity               59400 non-null  object        \n",
      " 14  source                 59400 non-null  object        \n",
      " 15  source_class           59400 non-null  object        \n",
      " 16  status_group           59400 non-null  object        \n",
      " 17  pump_age               59400 non-null  float64       \n",
      "dtypes: datetime64[ns](1), float64(4), object(13)\n",
      "memory usage: 8.2+ MB\n"
     ]
    }
   ],
   "source": [
    "# Load the cleaned dataset and view the first few rows\n",
    "df = pd.read_csv('data/cleaned_df_v2.csv', usecols= ['date_recorded'] + catg_feature_names + num_feature_names + label_names)\n",
    "df['date_recorded'] = pd.to_datetime(df['date_recorded'])\n",
    "df.info()"
   ]
  },
  {
   "cell_type": "code",
   "execution_count": 5,
   "metadata": {
    "scrolled": true
   },
   "outputs": [
    {
     "name": "stdout",
     "output_type": "stream",
     "text": [
      "<class 'pandas.core.frame.DataFrame'>\n",
      "RangeIndex: 59400 entries, 0 to 59399\n",
      "Data columns (total 20 columns):\n",
      " #   Column                 Non-Null Count  Dtype  \n",
      "---  ------                 --------------  -----  \n",
      " 0   funder                 59400 non-null  object \n",
      " 1   longitude              59400 non-null  float64\n",
      " 2   latitude               59400 non-null  float64\n",
      " 3   basin                  59400 non-null  object \n",
      " 4   lga                    59400 non-null  object \n",
      " 5   scheme_management      59400 non-null  object \n",
      " 6   construction_year      59400 non-null  float64\n",
      " 7   extraction_type        59400 non-null  object \n",
      " 8   extraction_type_class  59400 non-null  object \n",
      " 9   management             59400 non-null  object \n",
      " 10  payment_type           59400 non-null  object \n",
      " 11  water_quality          59400 non-null  object \n",
      " 12  quantity               59400 non-null  object \n",
      " 13  source                 59400 non-null  object \n",
      " 14  source_class           59400 non-null  object \n",
      " 15  status_group           59400 non-null  object \n",
      " 16  pump_age               59400 non-null  float64\n",
      " 17  year_rec               59400 non-null  int64  \n",
      " 18  week_rec               59400 non-null  int64  \n",
      " 19  day_rec                59400 non-null  int64  \n",
      "dtypes: float64(4), int64(3), object(13)\n",
      "memory usage: 9.1+ MB\n"
     ]
    }
   ],
   "source": [
    "# Breaking date_recorded into year_rec, week_rec and day_rec so later we can check if we can use these features.\n",
    "df['year_rec'] = df['date_recorded'].apply(lambda x: pd.to_datetime(x).date().isocalendar()[0])\n",
    "df['week_rec'] = df['date_recorded'].apply(lambda x: pd.to_datetime(x).date().isocalendar()[1])\n",
    "df['day_rec'] = df['date_recorded'].apply(lambda x: pd.to_datetime(x).date().isocalendar()[2])\n",
    "df.drop('date_recorded', axis=1, inplace=True)\n",
    "df.info()"
   ]
  },
  {
   "cell_type": "markdown",
   "metadata": {},
   "source": [
    "### Reducing the levels and transformation of categorical data\n",
    "The levels of some of the categorical variables were reduced to keep a manageable number of features. Small-size levels were grouped into a separate level named 'OTHERS':"
   ]
  },
  {
   "cell_type": "code",
   "execution_count": 6,
   "metadata": {
    "scrolled": true
   },
   "outputs": [],
   "source": [
    "#top_ith = 10 # Maximum levels to keep for categorical variables\n",
    "\n",
    "for catg_feature in catg_feature_names:\n",
    "    unique_percent_counts = df[catg_feature].value_counts()\n",
    "    \n",
    "    top_frequent_indexes = unique_percent_counts[:10-1].index.values.tolist()\n",
    "    x = df[catg_feature].copy()\n",
    "    x[~x.isin(top_frequent_indexes)] = 'OTHER'\n",
    "    \n",
    "    df.loc[:,catg_feature] = x\n",
    "    df[catg_feature].value_counts()"
   ]
  },
  {
   "cell_type": "markdown",
   "metadata": {},
   "source": [
    "#### Checking to make sure all the values lower than the top 10 value_counts() have been replaced with 'OTHER'"
   ]
  },
  {
   "cell_type": "code",
   "execution_count": 7,
   "metadata": {
    "scrolled": true
   },
   "outputs": [
    {
     "data": {
      "text/plain": [
       "OTHER                     35052\n",
       "government of tanzania     9084\n",
       "Unknown                    3635\n",
       "danida                     3114\n",
       "hesawa                     2202\n",
       "rwssp                      1374\n",
       "world bank                 1349\n",
       "kkkt                       1287\n",
       "world vision               1246\n",
       "unicef                     1057\n",
       "Name: funder, dtype: int64"
      ]
     },
     "execution_count": 7,
     "metadata": {},
     "output_type": "execute_result"
    }
   ],
   "source": [
    "df.funder.value_counts()"
   ]
  },
  {
   "cell_type": "code",
   "execution_count": 8,
   "metadata": {
    "scrolled": true
   },
   "outputs": [
    {
     "data": {
      "text/plain": [
       "['funder',\n",
       " 'basin',\n",
       " 'lga',\n",
       " 'scheme_management',\n",
       " 'extraction_type',\n",
       " 'extraction_type_class',\n",
       " 'management',\n",
       " 'payment_type',\n",
       " 'water_quality',\n",
       " 'quantity',\n",
       " 'source',\n",
       " 'source_class']"
      ]
     },
     "execution_count": 8,
     "metadata": {},
     "output_type": "execute_result"
    }
   ],
   "source": [
    "catg_feature_names"
   ]
  },
  {
   "cell_type": "code",
   "execution_count": 9,
   "metadata": {},
   "outputs": [
    {
     "data": {
      "text/plain": [
       "array(['OTHER', 'unicef', 'rwssp', 'danida', 'world vision', 'hesawa',\n",
       "       'government of tanzania', 'Unknown', 'kkkt', 'world bank'],\n",
       "      dtype=object)"
      ]
     },
     "execution_count": 9,
     "metadata": {},
     "output_type": "execute_result"
    }
   ],
   "source": [
    "df.funder.unique()"
   ]
  },
  {
   "cell_type": "code",
   "execution_count": 10,
   "metadata": {
    "scrolled": true
   },
   "outputs": [
    {
     "data": {
      "text/plain": [
       "array(['lake nyasa', 'lake victoria', 'pangani',\n",
       "       'ruvuma / southern coast', 'internal', 'lake tanganyika',\n",
       "       'wami / ruvu', 'rufiji', 'lake rukwa'], dtype=object)"
      ]
     },
     "execution_count": 10,
     "metadata": {},
     "output_type": "execute_result"
    }
   ],
   "source": [
    "df.basin.unique()"
   ]
  },
  {
   "cell_type": "code",
   "execution_count": 11,
   "metadata": {},
   "outputs": [
    {
     "data": {
      "text/plain": [
       "array(['gravity', 'submersible', 'swn 80', 'nira/tanira', 'india mark ii',\n",
       "       'other', 'ksb', 'mono', 'OTHER', 'afridev'], dtype=object)"
      ]
     },
     "execution_count": 11,
     "metadata": {},
     "output_type": "execute_result"
    }
   ],
   "source": [
    "df.extraction_type.unique()"
   ]
  },
  {
   "cell_type": "code",
   "execution_count": 12,
   "metadata": {},
   "outputs": [
    {
     "data": {
      "text/plain": [
       "ColumnTransformer(n_jobs=None, remainder='drop', sparse_threshold=0.0,\n",
       "                  transformer_weights=None,\n",
       "                  transformers=[('catg',\n",
       "                                 OneHotEncoder(categories='auto', drop=None,\n",
       "                                               dtype=<class 'numpy.float64'>,\n",
       "                                               handle_unknown='error',\n",
       "                                               sparse=True),\n",
       "                                 ['funder', 'basin', 'lga', 'scheme_management',\n",
       "                                  'extraction_type', 'extraction_type_class',\n",
       "                                  'management', 'payment_type', 'water_quality',\n",
       "                                  'quantity', 'source', 'source_class'])],\n",
       "                  verbose=False)"
      ]
     },
     "execution_count": 12,
     "metadata": {},
     "output_type": "execute_result"
    }
   ],
   "source": [
    "# Transform and combine categorical and numerical features:\n",
    "# compose.ColumnTransformer is a great way to transform all the categorical columns. I also used a pipeline (transformers)\n",
    "catg_transformer = compose.ColumnTransformer(\n",
    "    transformers=\n",
    "    [\n",
    "     ('catg', preprocessing.OneHotEncoder(), catg_feature_names),\n",
    "    ],\n",
    "    #remainder='drop',\n",
    "    sparse_threshold=0.0,\n",
    "    #n_jobs=None,\n",
    "    transformer_weights=None,\n",
    "    #verbose=False\n",
    ")\n",
    "\n",
    "catg_transformer.fit(df.loc[:,catg_feature_names])"
   ]
  },
  {
   "cell_type": "code",
   "execution_count": 13,
   "metadata": {},
   "outputs": [],
   "source": [
    "#catg_transformer.transformers_"
   ]
  },
  {
   "cell_type": "code",
   "execution_count": 14,
   "metadata": {},
   "outputs": [],
   "source": [
    "#onehot_encoder.get_feature_names()"
   ]
  },
  {
   "cell_type": "code",
   "execution_count": 15,
   "metadata": {},
   "outputs": [],
   "source": [
    "# Gets 'transformed catg feature' names from compose.ColumnTransformer object and catg feature names.\n",
    "# This function helps us track where each transformed column is coming from so later it's easier to put things back together\n",
    "\n",
    "def get_name_and_levels(onehot_encoder: compose.ColumnTransformer , catg_names):\n",
    "    \n",
    "    onehot_feature_names = onehot_encoder.get_feature_names()\n",
    "\n",
    "    f_name_and_level = [catg_names[int(re.search(r'\\d+', elm).group())]\n",
    "                        + '-' + elm.split('__', 1)[-1].split('_', 1)[-1]\n",
    "                        for elm in onehot_feature_names\n",
    "                        ]\n",
    "    return f_name_and_level\n",
    "\n",
    "\n",
    "catg_features_trans = catg_transformer.transform(df.loc[:, catg_feature_names])\n",
    "catg_feature_trans_names = get_name_and_levels(catg_transformer, catg_feature_names)\n",
    "num_features = df.loc[:, num_feature_names]\n",
    "date_features = df.loc[:, date_feature_names]\n",
    "# num_feature_trans_names = None\n",
    "\n",
    "X_trans = np.concatenate([catg_features_trans, num_features, date_features], axis=1)\n",
    "X_trans_names = catg_feature_trans_names + num_feature_names + date_feature_names\n",
    "y = df.loc[:,label_names].values"
   ]
  },
  {
   "cell_type": "code",
   "execution_count": 16,
   "metadata": {},
   "outputs": [
    {
     "data": {
      "text/plain": [
       "array([['functional'],\n",
       "       ['functional'],\n",
       "       ['functional'],\n",
       "       ...,\n",
       "       ['functional'],\n",
       "       ['functional'],\n",
       "       ['functional']], dtype=object)"
      ]
     },
     "execution_count": 16,
     "metadata": {},
     "output_type": "execute_result"
    }
   ],
   "source": [
    "y"
   ]
  },
  {
   "cell_type": "code",
   "execution_count": 17,
   "metadata": {
    "scrolled": true
   },
   "outputs": [],
   "source": [
    "# Setting the target variables to 0s and 1s - I assigned 'functional' to 1 and broken and needs repair to 0.\n",
    "y_true = [0 if x == 'non functional' else 1 for x in y]\n",
    "#y_true"
   ]
  },
  {
   "cell_type": "code",
   "execution_count": 18,
   "metadata": {
    "scrolled": true
   },
   "outputs": [
    {
     "data": {
      "text/plain": [
       "['funder-OTHER',\n",
       " 'funder-Unknown',\n",
       " 'funder-danida',\n",
       " 'funder-government of tanzania',\n",
       " 'funder-hesawa',\n",
       " 'funder-kkkt',\n",
       " 'funder-rwssp',\n",
       " 'funder-unicef',\n",
       " 'funder-world bank',\n",
       " 'funder-world vision',\n",
       " 'basin-internal',\n",
       " 'basin-lake nyasa',\n",
       " 'basin-lake rukwa',\n",
       " 'basin-lake tanganyika',\n",
       " 'basin-lake victoria',\n",
       " 'basin-pangani',\n",
       " 'basin-rufiji',\n",
       " 'basin-ruvuma / southern coast',\n",
       " 'basin-wami / ruvu',\n",
       " 'lga-OTHER',\n",
       " 'lga-arusha rural',\n",
       " 'lga-bariadi',\n",
       " 'lga-kasulu',\n",
       " 'lga-kilosa',\n",
       " 'lga-mbozi',\n",
       " 'lga-meru',\n",
       " 'lga-moshi rural',\n",
       " 'lga-njombe',\n",
       " 'lga-rungwe',\n",
       " 'scheme_management-OTHER',\n",
       " 'scheme_management-Unknown',\n",
       " 'scheme_management-company',\n",
       " 'scheme_management-parastatal',\n",
       " 'scheme_management-private operator',\n",
       " 'scheme_management-vwc',\n",
       " 'scheme_management-water authority',\n",
       " 'scheme_management-water board',\n",
       " 'scheme_management-wua',\n",
       " 'scheme_management-wug',\n",
       " 'extraction_type-OTHER',\n",
       " 'extraction_type-afridev',\n",
       " 'extraction_type-gravity',\n",
       " 'extraction_type-india mark ii',\n",
       " 'extraction_type-ksb',\n",
       " 'extraction_type-mono',\n",
       " 'extraction_type-nira/tanira',\n",
       " 'extraction_type-other',\n",
       " 'extraction_type-submersible',\n",
       " 'extraction_type-swn 80',\n",
       " 'extraction_type_class-gravity',\n",
       " 'extraction_type_class-handpump',\n",
       " 'extraction_type_class-motorpump',\n",
       " 'extraction_type_class-other',\n",
       " 'extraction_type_class-rope pump',\n",
       " 'extraction_type_class-submersible',\n",
       " 'extraction_type_class-wind-powered',\n",
       " 'management-OTHER',\n",
       " 'management-company',\n",
       " 'management-other',\n",
       " 'management-parastatal',\n",
       " 'management-private operator',\n",
       " 'management-vwc',\n",
       " 'management-water authority',\n",
       " 'management-water board',\n",
       " 'management-wua',\n",
       " 'management-wug',\n",
       " 'payment_type-annually',\n",
       " 'payment_type-monthly',\n",
       " 'payment_type-never pay',\n",
       " 'payment_type-on failure',\n",
       " 'payment_type-other',\n",
       " 'payment_type-per bucket',\n",
       " 'payment_type-unknown',\n",
       " 'water_quality-coloured',\n",
       " 'water_quality-fluoride',\n",
       " 'water_quality-fluoride abandoned',\n",
       " 'water_quality-milky',\n",
       " 'water_quality-salty',\n",
       " 'water_quality-salty abandoned',\n",
       " 'water_quality-soft',\n",
       " 'water_quality-unknown',\n",
       " 'quantity-dry',\n",
       " 'quantity-enough',\n",
       " 'quantity-insufficient',\n",
       " 'quantity-seasonal',\n",
       " 'quantity-unknown',\n",
       " 'source-OTHER',\n",
       " 'source-dam',\n",
       " 'source-hand dtw',\n",
       " 'source-lake',\n",
       " 'source-machine dbh',\n",
       " 'source-other',\n",
       " 'source-rainwater harvesting',\n",
       " 'source-river',\n",
       " 'source-shallow well',\n",
       " 'source-spring',\n",
       " 'source_class-groundwater',\n",
       " 'source_class-surface',\n",
       " 'source_class-unknown']"
      ]
     },
     "execution_count": 18,
     "metadata": {},
     "output_type": "execute_result"
    }
   ],
   "source": [
    "catg_feature_trans_names"
   ]
  },
  {
   "cell_type": "code",
   "execution_count": 19,
   "metadata": {},
   "outputs": [
    {
     "data": {
      "text/html": [
       "<div>\n",
       "<style scoped>\n",
       "    .dataframe tbody tr th:only-of-type {\n",
       "        vertical-align: middle;\n",
       "    }\n",
       "\n",
       "    .dataframe tbody tr th {\n",
       "        vertical-align: top;\n",
       "    }\n",
       "\n",
       "    .dataframe thead th {\n",
       "        text-align: right;\n",
       "    }\n",
       "</style>\n",
       "<table border=\"1\" class=\"dataframe\">\n",
       "  <thead>\n",
       "    <tr style=\"text-align: right;\">\n",
       "      <th></th>\n",
       "      <th>funder</th>\n",
       "      <th>basin</th>\n",
       "      <th>lga</th>\n",
       "      <th>scheme_management</th>\n",
       "      <th>extraction_type</th>\n",
       "      <th>extraction_type_class</th>\n",
       "      <th>management</th>\n",
       "      <th>payment_type</th>\n",
       "      <th>water_quality</th>\n",
       "      <th>quantity</th>\n",
       "      <th>source</th>\n",
       "      <th>source_class</th>\n",
       "    </tr>\n",
       "  </thead>\n",
       "  <tbody>\n",
       "    <tr>\n",
       "      <th>0</th>\n",
       "      <td>OTHER</td>\n",
       "      <td>lake nyasa</td>\n",
       "      <td>OTHER</td>\n",
       "      <td>vwc</td>\n",
       "      <td>gravity</td>\n",
       "      <td>gravity</td>\n",
       "      <td>vwc</td>\n",
       "      <td>annually</td>\n",
       "      <td>soft</td>\n",
       "      <td>enough</td>\n",
       "      <td>spring</td>\n",
       "      <td>groundwater</td>\n",
       "    </tr>\n",
       "    <tr>\n",
       "      <th>1</th>\n",
       "      <td>OTHER</td>\n",
       "      <td>lake victoria</td>\n",
       "      <td>OTHER</td>\n",
       "      <td>OTHER</td>\n",
       "      <td>gravity</td>\n",
       "      <td>gravity</td>\n",
       "      <td>wug</td>\n",
       "      <td>never pay</td>\n",
       "      <td>soft</td>\n",
       "      <td>insufficient</td>\n",
       "      <td>rainwater harvesting</td>\n",
       "      <td>surface</td>\n",
       "    </tr>\n",
       "    <tr>\n",
       "      <th>2</th>\n",
       "      <td>OTHER</td>\n",
       "      <td>pangani</td>\n",
       "      <td>OTHER</td>\n",
       "      <td>vwc</td>\n",
       "      <td>gravity</td>\n",
       "      <td>gravity</td>\n",
       "      <td>vwc</td>\n",
       "      <td>per bucket</td>\n",
       "      <td>soft</td>\n",
       "      <td>enough</td>\n",
       "      <td>dam</td>\n",
       "      <td>surface</td>\n",
       "    </tr>\n",
       "    <tr>\n",
       "      <th>3</th>\n",
       "      <td>unicef</td>\n",
       "      <td>ruvuma / southern coast</td>\n",
       "      <td>OTHER</td>\n",
       "      <td>vwc</td>\n",
       "      <td>submersible</td>\n",
       "      <td>submersible</td>\n",
       "      <td>vwc</td>\n",
       "      <td>never pay</td>\n",
       "      <td>soft</td>\n",
       "      <td>dry</td>\n",
       "      <td>machine dbh</td>\n",
       "      <td>groundwater</td>\n",
       "    </tr>\n",
       "    <tr>\n",
       "      <th>4</th>\n",
       "      <td>OTHER</td>\n",
       "      <td>lake victoria</td>\n",
       "      <td>OTHER</td>\n",
       "      <td>Unknown</td>\n",
       "      <td>gravity</td>\n",
       "      <td>gravity</td>\n",
       "      <td>other</td>\n",
       "      <td>never pay</td>\n",
       "      <td>soft</td>\n",
       "      <td>seasonal</td>\n",
       "      <td>rainwater harvesting</td>\n",
       "      <td>surface</td>\n",
       "    </tr>\n",
       "    <tr>\n",
       "      <th>...</th>\n",
       "      <td>...</td>\n",
       "      <td>...</td>\n",
       "      <td>...</td>\n",
       "      <td>...</td>\n",
       "      <td>...</td>\n",
       "      <td>...</td>\n",
       "      <td>...</td>\n",
       "      <td>...</td>\n",
       "      <td>...</td>\n",
       "      <td>...</td>\n",
       "      <td>...</td>\n",
       "      <td>...</td>\n",
       "    </tr>\n",
       "    <tr>\n",
       "      <th>59395</th>\n",
       "      <td>OTHER</td>\n",
       "      <td>pangani</td>\n",
       "      <td>OTHER</td>\n",
       "      <td>water board</td>\n",
       "      <td>gravity</td>\n",
       "      <td>gravity</td>\n",
       "      <td>water board</td>\n",
       "      <td>per bucket</td>\n",
       "      <td>soft</td>\n",
       "      <td>enough</td>\n",
       "      <td>spring</td>\n",
       "      <td>groundwater</td>\n",
       "    </tr>\n",
       "    <tr>\n",
       "      <th>59396</th>\n",
       "      <td>OTHER</td>\n",
       "      <td>rufiji</td>\n",
       "      <td>njombe</td>\n",
       "      <td>vwc</td>\n",
       "      <td>gravity</td>\n",
       "      <td>gravity</td>\n",
       "      <td>vwc</td>\n",
       "      <td>annually</td>\n",
       "      <td>soft</td>\n",
       "      <td>enough</td>\n",
       "      <td>river</td>\n",
       "      <td>surface</td>\n",
       "    </tr>\n",
       "    <tr>\n",
       "      <th>59397</th>\n",
       "      <td>Unknown</td>\n",
       "      <td>rufiji</td>\n",
       "      <td>OTHER</td>\n",
       "      <td>vwc</td>\n",
       "      <td>swn 80</td>\n",
       "      <td>handpump</td>\n",
       "      <td>vwc</td>\n",
       "      <td>monthly</td>\n",
       "      <td>fluoride</td>\n",
       "      <td>enough</td>\n",
       "      <td>machine dbh</td>\n",
       "      <td>groundwater</td>\n",
       "    </tr>\n",
       "    <tr>\n",
       "      <th>59398</th>\n",
       "      <td>OTHER</td>\n",
       "      <td>rufiji</td>\n",
       "      <td>OTHER</td>\n",
       "      <td>vwc</td>\n",
       "      <td>nira/tanira</td>\n",
       "      <td>handpump</td>\n",
       "      <td>vwc</td>\n",
       "      <td>never pay</td>\n",
       "      <td>soft</td>\n",
       "      <td>insufficient</td>\n",
       "      <td>shallow well</td>\n",
       "      <td>groundwater</td>\n",
       "    </tr>\n",
       "    <tr>\n",
       "      <th>59399</th>\n",
       "      <td>world bank</td>\n",
       "      <td>wami / ruvu</td>\n",
       "      <td>OTHER</td>\n",
       "      <td>vwc</td>\n",
       "      <td>nira/tanira</td>\n",
       "      <td>handpump</td>\n",
       "      <td>vwc</td>\n",
       "      <td>on failure</td>\n",
       "      <td>salty</td>\n",
       "      <td>enough</td>\n",
       "      <td>shallow well</td>\n",
       "      <td>groundwater</td>\n",
       "    </tr>\n",
       "  </tbody>\n",
       "</table>\n",
       "<p>59400 rows × 12 columns</p>\n",
       "</div>"
      ],
      "text/plain": [
       "           funder                    basin     lga scheme_management  \\\n",
       "0           OTHER               lake nyasa   OTHER               vwc   \n",
       "1           OTHER            lake victoria   OTHER             OTHER   \n",
       "2           OTHER                  pangani   OTHER               vwc   \n",
       "3          unicef  ruvuma / southern coast   OTHER               vwc   \n",
       "4           OTHER            lake victoria   OTHER           Unknown   \n",
       "...           ...                      ...     ...               ...   \n",
       "59395       OTHER                  pangani   OTHER       water board   \n",
       "59396       OTHER                   rufiji  njombe               vwc   \n",
       "59397     Unknown                   rufiji   OTHER               vwc   \n",
       "59398       OTHER                   rufiji   OTHER               vwc   \n",
       "59399  world bank              wami / ruvu   OTHER               vwc   \n",
       "\n",
       "      extraction_type extraction_type_class   management payment_type  \\\n",
       "0             gravity               gravity          vwc     annually   \n",
       "1             gravity               gravity          wug    never pay   \n",
       "2             gravity               gravity          vwc   per bucket   \n",
       "3         submersible           submersible          vwc    never pay   \n",
       "4             gravity               gravity        other    never pay   \n",
       "...               ...                   ...          ...          ...   \n",
       "59395         gravity               gravity  water board   per bucket   \n",
       "59396         gravity               gravity          vwc     annually   \n",
       "59397          swn 80              handpump          vwc      monthly   \n",
       "59398     nira/tanira              handpump          vwc    never pay   \n",
       "59399     nira/tanira              handpump          vwc   on failure   \n",
       "\n",
       "      water_quality      quantity                source source_class  \n",
       "0              soft        enough                spring  groundwater  \n",
       "1              soft  insufficient  rainwater harvesting      surface  \n",
       "2              soft        enough                   dam      surface  \n",
       "3              soft           dry           machine dbh  groundwater  \n",
       "4              soft      seasonal  rainwater harvesting      surface  \n",
       "...             ...           ...                   ...          ...  \n",
       "59395          soft        enough                spring  groundwater  \n",
       "59396          soft        enough                 river      surface  \n",
       "59397      fluoride        enough           machine dbh  groundwater  \n",
       "59398          soft  insufficient          shallow well  groundwater  \n",
       "59399         salty        enough          shallow well  groundwater  \n",
       "\n",
       "[59400 rows x 12 columns]"
      ]
     },
     "execution_count": 19,
     "metadata": {},
     "output_type": "execute_result"
    }
   ],
   "source": [
    "df.loc[:, catg_feature_names]"
   ]
  },
  {
   "cell_type": "code",
   "execution_count": 20,
   "metadata": {},
   "outputs": [],
   "source": [
    "# Splitting the data into training and test sets\n",
    "X_train, X_test, y_train, y_test = train_test_split(X_trans, y_true, test_size=0.3, random_state=42, stratify=y)"
   ]
  },
  {
   "cell_type": "code",
   "execution_count": 21,
   "metadata": {},
   "outputs": [
    {
     "data": {
      "text/plain": [
       "DecisionTreeClassifier(ccp_alpha=0.0, class_weight='balanced', criterion='gini',\n",
       "                       max_depth=3, max_features=None, max_leaf_nodes=None,\n",
       "                       min_impurity_decrease=0.0, min_impurity_split=None,\n",
       "                       min_samples_leaf=1, min_samples_split=2,\n",
       "                       min_weight_fraction_leaf=0.0, presort=False,\n",
       "                       random_state=15, splitter='best')"
      ]
     },
     "execution_count": 21,
     "metadata": {},
     "output_type": "execute_result"
    }
   ],
   "source": [
    "# Training Decision Tree Classifier Model\n",
    "modelDTC = DecisionTreeClassifier(\n",
    "    criterion='gini',\n",
    "    splitter='best',\n",
    "    max_depth=3,\n",
    "    min_samples_split=2,\n",
    "    min_samples_leaf=1,\n",
    "    min_weight_fraction_leaf=0.0,\n",
    "    max_features=None,\n",
    "    random_state=15,\n",
    "    max_leaf_nodes=None,\n",
    "    min_impurity_decrease=0.0,\n",
    "    min_impurity_split=None,\n",
    "    class_weight='balanced',\n",
    "    presort=False)\n",
    "\n",
    "modelDTC.fit(X_train, y_train)"
   ]
  },
  {
   "cell_type": "code",
   "execution_count": 22,
   "metadata": {},
   "outputs": [
    {
     "name": "stdout",
     "output_type": "stream",
     "text": [
      "Decision Tree Classifier accuracy: 0.77\n"
     ]
    }
   ],
   "source": [
    "# Accuracy score for Decision Tree\n",
    "y_pred = modelDTC.predict(X_test)\n",
    "scoreDTC = accuracy_score(y_pred, y_test)\n",
    "print('Decision Tree Classifier accuracy: {:.2f}'.format(scoreDTC))"
   ]
  },
  {
   "cell_type": "code",
   "execution_count": 23,
   "metadata": {},
   "outputs": [
    {
     "data": {
      "text/plain": [
       "'\\n# Using GridSearchCV on DecisionTreeClassifier\\n#create a dictionary of all values we want to test\\nparam_dist = {\"max_depth\": np.arange(1, 21),\\n              #\"max_features\": randint(1, 9),\\n              \"min_samples_leaf\": [1, 5, 10, 20, 50, 100],\\n              #\"criterion\": [\"gini\", \"entropy\"]\\n             }\\n#use gridsearch to test all values\\ndtc_cv = GridSearchCV(modelDTC, param_dist, cv=5)\\n#fit model to data\\ndtc_cv.fit(X_train, y_train)\\n'"
      ]
     },
     "execution_count": 23,
     "metadata": {},
     "output_type": "execute_result"
    }
   ],
   "source": [
    "'''\n",
    "# Using GridSearchCV on DecisionTreeClassifier\n",
    "#create a dictionary of all values we want to test\n",
    "param_dist = {\"max_depth\": np.arange(1, 21),\n",
    "              #\"max_features\": randint(1, 9),\n",
    "              \"min_samples_leaf\": [1, 5, 10, 20, 50, 100],\n",
    "              #\"criterion\": [\"gini\", \"entropy\"]\n",
    "             }\n",
    "#use gridsearch to test all values\n",
    "dtc_cv = GridSearchCV(modelDTC, param_dist, cv=5)\n",
    "#fit model to data\n",
    "dtc_cv.fit(X_train, y_train)\n",
    "'''"
   ]
  },
  {
   "cell_type": "code",
   "execution_count": 24,
   "metadata": {},
   "outputs": [],
   "source": [
    "#print(dtc_cv.best_params_)\n",
    "#print(accuracy_score(dtc_cv.predict(X_test), y_test))"
   ]
  },
  {
   "cell_type": "markdown",
   "metadata": {},
   "source": [
    "The GridSearchCV best_params_ for DTC are *'max_depth': 15, 'min_samples_leaf': 1*"
   ]
  },
  {
   "cell_type": "code",
   "execution_count": 25,
   "metadata": {},
   "outputs": [
    {
     "name": "stdout",
     "output_type": "stream",
     "text": [
      "Decision Tree Classifier accuracy: 0.82\n"
     ]
    }
   ],
   "source": [
    "# Training Decision Tree Classifier Model\n",
    "modelDTC = DecisionTreeClassifier(max_depth=15, min_samples_leaf=1, random_state=42)\n",
    "modelDTC.fit(X_train, y_train)\n",
    "# Accuracy score for Decision Tree\n",
    "y_pred = modelDTC.predict(X_test)\n",
    "scoreDTC = accuracy_score(y_pred, y_test)\n",
    "print('Decision Tree Classifier accuracy: {:.2f}'.format(scoreDTC))"
   ]
  },
  {
   "cell_type": "code",
   "execution_count": 26,
   "metadata": {
    "scrolled": true
   },
   "outputs": [
    {
     "data": {
      "image/png": "[encoded data removed]",
      "text/plain": [
       "<Figure size 432x288 with 1 Axes>"
      ]
     },
     "metadata": {
      "needs_background": "light"
     },
     "output_type": "display_data"
    }
   ],
   "source": [
    "# Compute predicted probabilities: y_pred_prob\n",
    "y_pred_prob = modelDTC.predict_proba(X_test)[:,1]\n",
    "\n",
    "# Generate ROC curve values: fpr, tpr, thresholds\n",
    "fpr, tpr, thresholds = roc_curve(y_test, y_pred_prob)\n",
    "\n",
    "# Plot ROC curve\n",
    "plt.plot([0, 1], [0, 1], 'k--')\n",
    "plt.plot(fpr, tpr)\n",
    "plt.xlabel('False Positive Rate')\n",
    "plt.ylabel('True Positive Rate')\n",
    "plt.title('ROC Curve')\n",
    "plt.show()"
   ]
  },
  {
   "cell_type": "code",
   "execution_count": 27,
   "metadata": {},
   "outputs": [
    {
     "name": "stdout",
     "output_type": "stream",
     "text": [
      "AUC: 0.8525257988489638\n",
      "AUC scores computed using 5-fold cross-validation: [0.85272682 0.85603599 0.85335044 0.84554361 0.84802265]\n"
     ]
    }
   ],
   "source": [
    "# Compute and print AUC score\n",
    "# If the AUC is greater than 0.5, the model is better than random guessing. Always a good sign!\n",
    "print(\"AUC: {}\".format(roc_auc_score(y_test, y_pred_prob)))\n",
    "\n",
    "# Compute cross-validated AUC scores: cv_auc\n",
    "cv_auc = cross_val_score(modelDTC, X_trans, y_true, cv=5, scoring='roc_auc')\n",
    "\n",
    "# Print list of AUC scores\n",
    "print(\"AUC scores computed using 5-fold cross-validation: {}\".format(cv_auc))"
   ]
  },
  {
   "cell_type": "code",
   "execution_count": 28,
   "metadata": {
    "scrolled": false
   },
   "outputs": [
    {
     "data": {
      "image/png": "[encoded data removed]",
      "text/plain": [
       "<Figure size 1728x576 with 1 Axes>"
      ]
     },
     "metadata": {
      "needs_background": "light"
     },
     "output_type": "display_data"
    }
   ],
   "source": [
    "# Plotting the most important features\n",
    "num_top_features = 10\n",
    "dtc_feature_importance = modelDTC.feature_importances_\n",
    "\n",
    "sorted_dtc_importance = sorted(zip(X_trans_names, dtc_feature_importance),\n",
    "                             key=lambda x:x[-1],\n",
    "                             reverse=True)\n",
    "fig, axe = plt.subplots(1,1)\n",
    "axe.plot([elm[-1] for elm in sorted_dtc_importance][:num_top_features], 'o')\n",
    "\n",
    "for (id, (f_name, f_importance)) in enumerate(sorted_dtc_importance[:num_top_features]):\n",
    "    axe.annotate('{}'.format(f_name),xy=(id, f_importance))\n",
    "axe.set_ylabel('Sensitivity index')\n",
    "fig = plt.gcf()\n",
    "fig.set_size_inches(24,8)"
   ]
  },
  {
   "cell_type": "code",
   "execution_count": 54,
   "metadata": {},
   "outputs": [
    {
     "data": {
      "application/vnd.plotly.v1+json": {
       "config": {
        "linkText": "Export to plot.ly",
        "plotlyServerURL": "https://plot.ly",
        "showLink": false
       },
       "data": [
        {
         "type": "bar",
         "x": [
          "quantity-dry",
          "extraction_type-other",
          "longitude",
          "latitude",
          "pump_age",
          "construction_year",
          "week_rec",
          "payment_type-never pay",
          "source_class-surface",
          "source-spring",
          "source-machine dbh",
          "day_rec",
          "payment_type-unknown",
          "extraction_type_class-submersible",
          "extraction_type_class-motorpump",
          "quantity-insufficient",
          "funder-government of tanzania",
          "source-river",
          "extraction_type_class-gravity",
          "management-company",
          "basin-lake nyasa",
          "scheme_management-wug",
          "management-vwc",
          "water_quality-unknown",
          "quantity-enough",
          "funder-OTHER",
          "management-private operator",
          "extraction_type-nira/tanira",
          "source-lake",
          "quantity-seasonal",
          "lga-mbozi",
          "funder-Unknown",
          "year_rec",
          "scheme_management-water board",
          "extraction_type_class-handpump",
          "basin-lake victoria",
          "water_quality-milky",
          "scheme_management-vwc",
          "funder-danida",
          "extraction_type-swn 80"
         ],
         "y": [
          0.27844613860007333,
          0.1283027249128982,
          0.10963441633390013,
          0.08859003924429748,
          0.06340230359001937,
          0.026237106173037372,
          0.02014492971897565,
          0.020134801361732624,
          0.019339252989593003,
          0.01654187759081019
         ]
        }
       ],
       "layout": {
        "template": {
         "data": {
          "bar": [
           {
            "error_x": {
             "color": "#2a3f5f"
            },
            "error_y": {
             "color": "#2a3f5f"
            },
            "marker": {
             "line": {
              "color": "#E5ECF6",
              "width": 0.5
             }
            },
            "type": "bar"
           }
          ],
          "barpolar": [
           {
            "marker": {
             "line": {
              "color": "#E5ECF6",
              "width": 0.5
             }
            },
            "type": "barpolar"
           }
          ],
          "carpet": [
           {
            "aaxis": {
             "endlinecolor": "#2a3f5f",
             "gridcolor": "white",
             "linecolor": "white",
             "minorgridcolor": "white",
             "startlinecolor": "#2a3f5f"
            },
            "baxis": {
             "endlinecolor": "#2a3f5f",
             "gridcolor": "white",
             "linecolor": "white",
             "minorgridcolor": "white",
             "startlinecolor": "#2a3f5f"
            },
            "type": "carpet"
           }
          ],
          "choropleth": [
           {
            "colorbar": {
             "outlinewidth": 0,
             "ticks": ""
            },
            "type": "choropleth"
           }
          ],
          "contour": [
           {
            "colorbar": {
             "outlinewidth": 0,
             "ticks": ""
            },
            "colorscale": [
             [
              0,
              "#0d0887"
             ],
             [
              0.1111111111111111,
              "#46039f"
             ],
             [
              0.2222222222222222,
              "#7201a8"
             ],
             [
              0.3333333333333333,
              "#9c179e"
             ],
             [
              0.4444444444444444,
              "#bd3786"
             ],
             [
              0.5555555555555556,
              "#d8576b"
             ],
             [
              0.6666666666666666,
              "#ed7953"
             ],
             [
              0.7777777777777778,
              "#fb9f3a"
             ],
             [
              0.8888888888888888,
              "#fdca26"
             ],
             [
              1,
              "#f0f921"
             ]
            ],
            "type": "contour"
           }
          ],
          "contourcarpet": [
           {
            "colorbar": {
             "outlinewidth": 0,
             "ticks": ""
            },
            "type": "contourcarpet"
           }
          ],
          "heatmap": [
           {
            "colorbar": {
             "outlinewidth": 0,
             "ticks": ""
            },
            "colorscale": [
             [
              0,
              "#0d0887"
             ],
             [
              0.1111111111111111,
              "#46039f"
             ],
             [
              0.2222222222222222,
              "#7201a8"
             ],
             [
              0.3333333333333333,
              "#9c179e"
             ],
             [
              0.4444444444444444,
              "#bd3786"
             ],
             [
              0.5555555555555556,
              "#d8576b"
             ],
             [
              0.6666666666666666,
              "#ed7953"
             ],
             [
              0.7777777777777778,
              "#fb9f3a"
             ],
             [
              0.8888888888888888,
              "#fdca26"
             ],
             [
              1,
              "#f0f921"
             ]
            ],
            "type": "heatmap"
           }
          ],
          "heatmapgl": [
           {
            "colorbar": {
             "outlinewidth": 0,
             "ticks": ""
            },
            "colorscale": [
             [
              0,
              "#0d0887"
             ],
             [
              0.1111111111111111,
              "#46039f"
             ],
             [
              0.2222222222222222,
              "#7201a8"
             ],
             [
              0.3333333333333333,
              "#9c179e"
             ],
             [
              0.4444444444444444,
              "#bd3786"
             ],
             [
              0.5555555555555556,
              "#d8576b"
             ],
             [
              0.6666666666666666,
              "#ed7953"
             ],
             [
              0.7777777777777778,
              "#fb9f3a"
             ],
             [
              0.8888888888888888,
              "#fdca26"
             ],
             [
              1,
              "#f0f921"
             ]
            ],
            "type": "heatmapgl"
           }
          ],
          "histogram": [
           {
            "marker": {
             "colorbar": {
              "outlinewidth": 0,
              "ticks": ""
             }
            },
            "type": "histogram"
           }
          ],
          "histogram2d": [
           {
            "colorbar": {
             "outlinewidth": 0,
             "ticks": ""
            },
            "colorscale": [
             [
              0,
              "#0d0887"
             ],
             [
              0.1111111111111111,
              "#46039f"
             ],
             [
              0.2222222222222222,
              "#7201a8"
             ],
             [
              0.3333333333333333,
              "#9c179e"
             ],
             [
              0.4444444444444444,
              "#bd3786"
             ],
             [
              0.5555555555555556,
              "#d8576b"
             ],
             [
              0.6666666666666666,
              "#ed7953"
             ],
             [
              0.7777777777777778,
              "#fb9f3a"
             ],
             [
              0.8888888888888888,
              "#fdca26"
             ],
             [
              1,
              "#f0f921"
             ]
            ],
            "type": "histogram2d"
           }
          ],
          "histogram2dcontour": [
           {
            "colorbar": {
             "outlinewidth": 0,
             "ticks": ""
            },
            "colorscale": [
             [
              0,
              "#0d0887"
             ],
             [
              0.1111111111111111,
              "#46039f"
             ],
             [
              0.2222222222222222,
              "#7201a8"
             ],
             [
              0.3333333333333333,
              "#9c179e"
             ],
             [
              0.4444444444444444,
              "#bd3786"
             ],
             [
              0.5555555555555556,
              "#d8576b"
             ],
             [
              0.6666666666666666,
              "#ed7953"
             ],
             [
              0.7777777777777778,
              "#fb9f3a"
             ],
             [
              0.8888888888888888,
              "#fdca26"
             ],
             [
              1,
              "#f0f921"
             ]
            ],
            "type": "histogram2dcontour"
           }
          ],
          "mesh3d": [
           {
            "colorbar": {
             "outlinewidth": 0,
             "ticks": ""
            },
            "type": "mesh3d"
           }
          ],
          "parcoords": [
           {
            "line": {
             "colorbar": {
              "outlinewidth": 0,
              "ticks": ""
             }
            },
            "type": "parcoords"
           }
          ],
          "pie": [
           {
            "automargin": true,
            "type": "pie"
           }
          ],
          "scatter": [
           {
            "marker": {
             "colorbar": {
              "outlinewidth": 0,
              "ticks": ""
             }
            },
            "type": "scatter"
           }
          ],
          "scatter3d": [
           {
            "line": {
             "colorbar": {
              "outlinewidth": 0,
              "ticks": ""
             }
            },
            "marker": {
             "colorbar": {
              "outlinewidth": 0,
              "ticks": ""
             }
            },
            "type": "scatter3d"
           }
          ],
          "scattercarpet": [
           {
            "marker": {
             "colorbar": {
              "outlinewidth": 0,
              "ticks": ""
             }
            },
            "type": "scattercarpet"
           }
          ],
          "scattergeo": [
           {
            "marker": {
             "colorbar": {
              "outlinewidth": 0,
              "ticks": ""
             }
            },
            "type": "scattergeo"
           }
          ],
          "scattergl": [
           {
            "marker": {
             "colorbar": {
              "outlinewidth": 0,
              "ticks": ""
             }
            },
            "type": "scattergl"
           }
          ],
          "scattermapbox": [
           {
            "marker": {
             "colorbar": {
              "outlinewidth": 0,
              "ticks": ""
             }
            },
            "type": "scattermapbox"
           }
          ],
          "scatterpolar": [
           {
            "marker": {
             "colorbar": {
              "outlinewidth": 0,
              "ticks": ""
             }
            },
            "type": "scatterpolar"
           }
          ],
          "scatterpolargl": [
           {
            "marker": {
             "colorbar": {
              "outlinewidth": 0,
              "ticks": ""
             }
            },
            "type": "scatterpolargl"
           }
          ],
          "scatterternary": [
           {
            "marker": {
             "colorbar": {
              "outlinewidth": 0,
              "ticks": ""
             }
            },
            "type": "scatterternary"
           }
          ],
          "surface": [
           {
            "colorbar": {
             "outlinewidth": 0,
             "ticks": ""
            },
            "colorscale": [
             [
              0,
              "#0d0887"
             ],
             [
              0.1111111111111111,
              "#46039f"
             ],
             [
              0.2222222222222222,
              "#7201a8"
             ],
             [
              0.3333333333333333,
              "#9c179e"
             ],
             [
              0.4444444444444444,
              "#bd3786"
             ],
             [
              0.5555555555555556,
              "#d8576b"
             ],
             [
              0.6666666666666666,
              "#ed7953"
             ],
             [
              0.7777777777777778,
              "#fb9f3a"
             ],
             [
              0.8888888888888888,
              "#fdca26"
             ],
             [
              1,
              "#f0f921"
             ]
            ],
            "type": "surface"
           }
          ],
          "table": [
           {
            "cells": {
             "fill": {
              "color": "#EBF0F8"
             },
             "line": {
              "color": "white"
             }
            },
            "header": {
             "fill": {
              "color": "#C8D4E3"
             },
             "line": {
              "color": "white"
             }
            },
            "type": "table"
           }
          ]
         },
         "layout": {
          "annotationdefaults": {
           "arrowcolor": "#2a3f5f",
           "arrowhead": 0,
           "arrowwidth": 1
          },
          "coloraxis": {
           "colorbar": {
            "outlinewidth": 0,
            "ticks": ""
           }
          },
          "colorscale": {
           "diverging": [
            [
             0,
             "#8e0152"
            ],
            [
             0.1,
             "#c51b7d"
            ],
            [
             0.2,
             "#de77ae"
            ],
            [
             0.3,
             "#f1b6da"
            ],
            [
             0.4,
             "#fde0ef"
            ],
            [
             0.5,
             "#f7f7f7"
            ],
            [
             0.6,
             "#e6f5d0"
            ],
            [
             0.7,
             "#b8e186"
            ],
            [
             0.8,
             "#7fbc41"
            ],
            [
             0.9,
             "#4d9221"
            ],
            [
             1,
             "#276419"
            ]
           ],
           "sequential": [
            [
             0,
             "#0d0887"
            ],
            [
             0.1111111111111111,
             "#46039f"
            ],
            [
             0.2222222222222222,
             "#7201a8"
            ],
            [
             0.3333333333333333,
             "#9c179e"
            ],
            [
             0.4444444444444444,
             "#bd3786"
            ],
            [
             0.5555555555555556,
             "#d8576b"
            ],
            [
             0.6666666666666666,
             "#ed7953"
            ],
            [
             0.7777777777777778,
             "#fb9f3a"
            ],
            [
             0.8888888888888888,
             "#fdca26"
            ],
            [
             1,
             "#f0f921"
            ]
           ],
           "sequentialminus": [
            [
             0,
             "#0d0887"
            ],
            [
             0.1111111111111111,
             "#46039f"
            ],
            [
             0.2222222222222222,
             "#7201a8"
            ],
            [
             0.3333333333333333,
             "#9c179e"
            ],
            [
             0.4444444444444444,
             "#bd3786"
            ],
            [
             0.5555555555555556,
             "#d8576b"
            ],
            [
             0.6666666666666666,
             "#ed7953"
            ],
            [
             0.7777777777777778,
             "#fb9f3a"
            ],
            [
             0.8888888888888888,
             "#fdca26"
            ],
            [
             1,
             "#f0f921"
            ]
           ]
          },
          "colorway": [
           "#636efa",
           "#EF553B",
           "#00cc96",
           "#ab63fa",
           "#FFA15A",
           "#19d3f3",
           "#FF6692",
           "#B6E880",
           "#FF97FF",
           "#FECB52"
          ],
          "font": {
           "color": "#2a3f5f"
          },
          "geo": {
           "bgcolor": "white",
           "lakecolor": "white",
           "landcolor": "#E5ECF6",
           "showlakes": true,
           "showland": true,
           "subunitcolor": "white"
          },
          "hoverlabel": {
           "align": "left"
          },
          "hovermode": "closest",
          "mapbox": {
           "style": "light"
          },
          "paper_bgcolor": "white",
          "plot_bgcolor": "#E5ECF6",
          "polar": {
           "angularaxis": {
            "gridcolor": "white",
            "linecolor": "white",
            "ticks": ""
           },
           "bgcolor": "#E5ECF6",
           "radialaxis": {
            "gridcolor": "white",
            "linecolor": "white",
            "ticks": ""
           }
          },
          "scene": {
           "xaxis": {
            "backgroundcolor": "#E5ECF6",
            "gridcolor": "white",
            "gridwidth": 2,
            "linecolor": "white",
            "showbackground": true,
            "ticks": "",
            "zerolinecolor": "white"
           },
           "yaxis": {
            "backgroundcolor": "#E5ECF6",
            "gridcolor": "white",
            "gridwidth": 2,
            "linecolor": "white",
            "showbackground": true,
            "ticks": "",
            "zerolinecolor": "white"
           },
           "zaxis": {
            "backgroundcolor": "#E5ECF6",
            "gridcolor": "white",
            "gridwidth": 2,
            "linecolor": "white",
            "showbackground": true,
            "ticks": "",
            "zerolinecolor": "white"
           }
          },
          "shapedefaults": {
           "line": {
            "color": "#2a3f5f"
           }
          },
          "ternary": {
           "aaxis": {
            "gridcolor": "white",
            "linecolor": "white",
            "ticks": ""
           },
           "baxis": {
            "gridcolor": "white",
            "linecolor": "white",
            "ticks": ""
           },
           "bgcolor": "#E5ECF6",
           "caxis": {
            "gridcolor": "white",
            "linecolor": "white",
            "ticks": ""
           }
          },
          "title": {
           "x": 0.05
          },
          "xaxis": {
           "automargin": true,
           "gridcolor": "white",
           "linecolor": "white",
           "ticks": "",
           "title": {
            "standoff": 15
           },
           "zerolinecolor": "white",
           "zerolinewidth": 2
          },
          "yaxis": {
           "automargin": true,
           "gridcolor": "white",
           "linecolor": "white",
           "ticks": "",
           "title": {
            "standoff": 15
           },
           "zerolinecolor": "white",
           "zerolinewidth": 2
          }
         }
        },
        "title": {
         "text": "Decision Tree Feature Importances"
        },
        "yaxis": {
         "title": {
          "text": "Relative Importance"
         }
        }
       }
      },
      "text/html": [
       "<div>\n",
       "        \n",
       "        \n",
       "            <div id=\"9168609c-6a23-4ea1-96db-7735e6433d11\" class=\"plotly-graph-div\" style=\"height:525px; width:100%;\"></div>\n",
       "            <script type=\"text/javascript\">\n",
       "                require([\"plotly\"], function(Plotly) {\n",
       "                    window.PLOTLYENV=window.PLOTLYENV || {};\n",
       "                    \n",
       "                if (document.getElementById(\"9168609c-6a23-4ea1-96db-7735e6433d11\")) {\n",
       "                    Plotly.newPlot(\n",
       "                        '9168609c-6a23-4ea1-96db-7735e6433d11',\n",
       "                        [{\"type\": \"bar\", \"x\": [\"quantity-dry\", \"extraction_type-other\", \"longitude\", \"latitude\", \"pump_age\", \"construction_year\", \"week_rec\", \"payment_type-never pay\", \"source_class-surface\", \"source-spring\", \"source-machine dbh\", \"day_rec\", \"payment_type-unknown\", \"extraction_type_class-submersible\", \"extraction_type_class-motorpump\", \"quantity-insufficient\", \"funder-government of tanzania\", \"source-river\", \"extraction_type_class-gravity\", \"management-company\", \"basin-lake nyasa\", \"scheme_management-wug\", \"management-vwc\", \"water_quality-unknown\", \"quantity-enough\", \"funder-OTHER\", \"management-private operator\", \"extraction_type-nira/tanira\", \"source-lake\", \"quantity-seasonal\", \"lga-mbozi\", \"funder-Unknown\", \"year_rec\", \"scheme_management-water board\", \"extraction_type_class-handpump\", \"basin-lake victoria\", \"water_quality-milky\", \"scheme_management-vwc\", \"funder-danida\", \"extraction_type-swn 80\"], \"y\": [0.27844613860007333, 0.1283027249128982, 0.10963441633390013, 0.08859003924429748, 0.06340230359001937, 0.026237106173037372, 0.02014492971897565, 0.020134801361732624, 0.019339252989593003, 0.01654187759081019]}],\n",
       "                        {\"template\": {\"data\": {\"bar\": [{\"error_x\": {\"color\": \"#2a3f5f\"}, \"error_y\": {\"color\": \"#2a3f5f\"}, \"marker\": {\"line\": {\"color\": \"#E5ECF6\", \"width\": 0.5}}, \"type\": \"bar\"}], \"barpolar\": [{\"marker\": {\"line\": {\"color\": \"#E5ECF6\", \"width\": 0.5}}, \"type\": \"barpolar\"}], \"carpet\": [{\"aaxis\": {\"endlinecolor\": \"#2a3f5f\", \"gridcolor\": \"white\", \"linecolor\": \"white\", \"minorgridcolor\": \"white\", \"startlinecolor\": \"#2a3f5f\"}, \"baxis\": {\"endlinecolor\": \"#2a3f5f\", \"gridcolor\": \"white\", \"linecolor\": \"white\", \"minorgridcolor\": \"white\", \"startlinecolor\": \"#2a3f5f\"}, \"type\": \"carpet\"}], \"choropleth\": [{\"colorbar\": {\"outlinewidth\": 0, \"ticks\": \"\"}, \"type\": \"choropleth\"}], \"contour\": [{\"colorbar\": {\"outlinewidth\": 0, \"ticks\": \"\"}, \"colorscale\": [[0.0, \"#0d0887\"], [0.1111111111111111, \"#46039f\"], [0.2222222222222222, \"#7201a8\"], [0.3333333333333333, \"#9c179e\"], [0.4444444444444444, \"#bd3786\"], [0.5555555555555556, \"#d8576b\"], [0.6666666666666666, \"#ed7953\"], [0.7777777777777778, \"#fb9f3a\"], [0.8888888888888888, \"#fdca26\"], [1.0, \"#f0f921\"]], \"type\": \"contour\"}], \"contourcarpet\": [{\"colorbar\": {\"outlinewidth\": 0, \"ticks\": \"\"}, \"type\": \"contourcarpet\"}], \"heatmap\": [{\"colorbar\": {\"outlinewidth\": 0, \"ticks\": \"\"}, \"colorscale\": [[0.0, \"#0d0887\"], [0.1111111111111111, \"#46039f\"], [0.2222222222222222, \"#7201a8\"], [0.3333333333333333, \"#9c179e\"], [0.4444444444444444, \"#bd3786\"], [0.5555555555555556, \"#d8576b\"], [0.6666666666666666, \"#ed7953\"], [0.7777777777777778, \"#fb9f3a\"], [0.8888888888888888, \"#fdca26\"], [1.0, \"#f0f921\"]], \"type\": \"heatmap\"}], \"heatmapgl\": [{\"colorbar\": {\"outlinewidth\": 0, \"ticks\": \"\"}, \"colorscale\": [[0.0, \"#0d0887\"], [0.1111111111111111, \"#46039f\"], [0.2222222222222222, \"#7201a8\"], [0.3333333333333333, \"#9c179e\"], [0.4444444444444444, \"#bd3786\"], [0.5555555555555556, \"#d8576b\"], [0.6666666666666666, \"#ed7953\"], [0.7777777777777778, \"#fb9f3a\"], [0.8888888888888888, \"#fdca26\"], [1.0, \"#f0f921\"]], \"type\": \"heatmapgl\"}], \"histogram\": [{\"marker\": {\"colorbar\": {\"outlinewidth\": 0, \"ticks\": \"\"}}, \"type\": \"histogram\"}], \"histogram2d\": [{\"colorbar\": {\"outlinewidth\": 0, \"ticks\": \"\"}, \"colorscale\": [[0.0, \"#0d0887\"], [0.1111111111111111, \"#46039f\"], [0.2222222222222222, \"#7201a8\"], [0.3333333333333333, \"#9c179e\"], [0.4444444444444444, \"#bd3786\"], [0.5555555555555556, \"#d8576b\"], [0.6666666666666666, \"#ed7953\"], [0.7777777777777778, \"#fb9f3a\"], [0.8888888888888888, \"#fdca26\"], [1.0, \"#f0f921\"]], \"type\": \"histogram2d\"}], \"histogram2dcontour\": [{\"colorbar\": {\"outlinewidth\": 0, \"ticks\": \"\"}, \"colorscale\": [[0.0, \"#0d0887\"], [0.1111111111111111, \"#46039f\"], [0.2222222222222222, \"#7201a8\"], [0.3333333333333333, \"#9c179e\"], [0.4444444444444444, \"#bd3786\"], [0.5555555555555556, \"#d8576b\"], [0.6666666666666666, \"#ed7953\"], [0.7777777777777778, \"#fb9f3a\"], [0.8888888888888888, \"#fdca26\"], [1.0, \"#f0f921\"]], \"type\": \"histogram2dcontour\"}], \"mesh3d\": [{\"colorbar\": {\"outlinewidth\": 0, \"ticks\": \"\"}, \"type\": \"mesh3d\"}], \"parcoords\": [{\"line\": {\"colorbar\": {\"outlinewidth\": 0, \"ticks\": \"\"}}, \"type\": \"parcoords\"}], \"pie\": [{\"automargin\": true, \"type\": \"pie\"}], \"scatter\": [{\"marker\": {\"colorbar\": {\"outlinewidth\": 0, \"ticks\": \"\"}}, \"type\": \"scatter\"}], \"scatter3d\": [{\"line\": {\"colorbar\": {\"outlinewidth\": 0, \"ticks\": \"\"}}, \"marker\": {\"colorbar\": {\"outlinewidth\": 0, \"ticks\": \"\"}}, \"type\": \"scatter3d\"}], \"scattercarpet\": [{\"marker\": {\"colorbar\": {\"outlinewidth\": 0, \"ticks\": \"\"}}, \"type\": \"scattercarpet\"}], \"scattergeo\": [{\"marker\": {\"colorbar\": {\"outlinewidth\": 0, \"ticks\": \"\"}}, \"type\": \"scattergeo\"}], \"scattergl\": [{\"marker\": {\"colorbar\": {\"outlinewidth\": 0, \"ticks\": \"\"}}, \"type\": \"scattergl\"}], \"scattermapbox\": [{\"marker\": {\"colorbar\": {\"outlinewidth\": 0, \"ticks\": \"\"}}, \"type\": \"scattermapbox\"}], \"scatterpolar\": [{\"marker\": {\"colorbar\": {\"outlinewidth\": 0, \"ticks\": \"\"}}, \"type\": \"scatterpolar\"}], \"scatterpolargl\": [{\"marker\": {\"colorbar\": {\"outlinewidth\": 0, \"ticks\": \"\"}}, \"type\": \"scatterpolargl\"}], \"scatterternary\": [{\"marker\": {\"colorbar\": {\"outlinewidth\": 0, \"ticks\": \"\"}}, \"type\": \"scatterternary\"}], \"surface\": [{\"colorbar\": {\"outlinewidth\": 0, \"ticks\": \"\"}, \"colorscale\": [[0.0, \"#0d0887\"], [0.1111111111111111, \"#46039f\"], [0.2222222222222222, \"#7201a8\"], [0.3333333333333333, \"#9c179e\"], [0.4444444444444444, \"#bd3786\"], [0.5555555555555556, \"#d8576b\"], [0.6666666666666666, \"#ed7953\"], [0.7777777777777778, \"#fb9f3a\"], [0.8888888888888888, \"#fdca26\"], [1.0, \"#f0f921\"]], \"type\": \"surface\"}], \"table\": [{\"cells\": {\"fill\": {\"color\": \"#EBF0F8\"}, \"line\": {\"color\": \"white\"}}, \"header\": {\"fill\": {\"color\": \"#C8D4E3\"}, \"line\": {\"color\": \"white\"}}, \"type\": \"table\"}]}, \"layout\": {\"annotationdefaults\": {\"arrowcolor\": \"#2a3f5f\", \"arrowhead\": 0, \"arrowwidth\": 1}, \"coloraxis\": {\"colorbar\": {\"outlinewidth\": 0, \"ticks\": \"\"}}, \"colorscale\": {\"diverging\": [[0, \"#8e0152\"], [0.1, \"#c51b7d\"], [0.2, \"#de77ae\"], [0.3, \"#f1b6da\"], [0.4, \"#fde0ef\"], [0.5, \"#f7f7f7\"], [0.6, \"#e6f5d0\"], [0.7, \"#b8e186\"], [0.8, \"#7fbc41\"], [0.9, \"#4d9221\"], [1, \"#276419\"]], \"sequential\": [[0.0, \"#0d0887\"], [0.1111111111111111, \"#46039f\"], [0.2222222222222222, \"#7201a8\"], [0.3333333333333333, \"#9c179e\"], [0.4444444444444444, \"#bd3786\"], [0.5555555555555556, \"#d8576b\"], [0.6666666666666666, \"#ed7953\"], [0.7777777777777778, \"#fb9f3a\"], [0.8888888888888888, \"#fdca26\"], [1.0, \"#f0f921\"]], \"sequentialminus\": [[0.0, \"#0d0887\"], [0.1111111111111111, \"#46039f\"], [0.2222222222222222, \"#7201a8\"], [0.3333333333333333, \"#9c179e\"], [0.4444444444444444, \"#bd3786\"], [0.5555555555555556, \"#d8576b\"], [0.6666666666666666, \"#ed7953\"], [0.7777777777777778, \"#fb9f3a\"], [0.8888888888888888, \"#fdca26\"], [1.0, \"#f0f921\"]]}, \"colorway\": [\"#636efa\", \"#EF553B\", \"#00cc96\", \"#ab63fa\", \"#FFA15A\", \"#19d3f3\", \"#FF6692\", \"#B6E880\", \"#FF97FF\", \"#FECB52\"], \"font\": {\"color\": \"#2a3f5f\"}, \"geo\": {\"bgcolor\": \"white\", \"lakecolor\": \"white\", \"landcolor\": \"#E5ECF6\", \"showlakes\": true, \"showland\": true, \"subunitcolor\": \"white\"}, \"hoverlabel\": {\"align\": \"left\"}, \"hovermode\": \"closest\", \"mapbox\": {\"style\": \"light\"}, \"paper_bgcolor\": \"white\", \"plot_bgcolor\": \"#E5ECF6\", \"polar\": {\"angularaxis\": {\"gridcolor\": \"white\", \"linecolor\": \"white\", \"ticks\": \"\"}, \"bgcolor\": \"#E5ECF6\", \"radialaxis\": {\"gridcolor\": \"white\", \"linecolor\": \"white\", \"ticks\": \"\"}}, \"scene\": {\"xaxis\": {\"backgroundcolor\": \"#E5ECF6\", \"gridcolor\": \"white\", \"gridwidth\": 2, \"linecolor\": \"white\", \"showbackground\": true, \"ticks\": \"\", \"zerolinecolor\": \"white\"}, \"yaxis\": {\"backgroundcolor\": \"#E5ECF6\", \"gridcolor\": \"white\", \"gridwidth\": 2, \"linecolor\": \"white\", \"showbackground\": true, \"ticks\": \"\", \"zerolinecolor\": \"white\"}, \"zaxis\": {\"backgroundcolor\": \"#E5ECF6\", \"gridcolor\": \"white\", \"gridwidth\": 2, \"linecolor\": \"white\", \"showbackground\": true, \"ticks\": \"\", \"zerolinecolor\": \"white\"}}, \"shapedefaults\": {\"line\": {\"color\": \"#2a3f5f\"}}, \"ternary\": {\"aaxis\": {\"gridcolor\": \"white\", \"linecolor\": \"white\", \"ticks\": \"\"}, \"baxis\": {\"gridcolor\": \"white\", \"linecolor\": \"white\", \"ticks\": \"\"}, \"bgcolor\": \"#E5ECF6\", \"caxis\": {\"gridcolor\": \"white\", \"linecolor\": \"white\", \"ticks\": \"\"}}, \"title\": {\"x\": 0.05}, \"xaxis\": {\"automargin\": true, \"gridcolor\": \"white\", \"linecolor\": \"white\", \"ticks\": \"\", \"title\": {\"standoff\": 15}, \"zerolinecolor\": \"white\", \"zerolinewidth\": 2}, \"yaxis\": {\"automargin\": true, \"gridcolor\": \"white\", \"linecolor\": \"white\", \"ticks\": \"\", \"title\": {\"standoff\": 15}, \"zerolinecolor\": \"white\", \"zerolinewidth\": 2}}}, \"title\": {\"text\": \"Decision Tree Feature Importances\"}, \"yaxis\": {\"title\": {\"text\": \"Relative Importance\"}}},\n",
       "                        {\"responsive\": true}\n",
       "                    ).then(function(){\n",
       "                            \n",
       "var gd = document.getElementById('9168609c-6a23-4ea1-96db-7735e6433d11');\n",
       "var x = new MutationObserver(function (mutations, observer) {{\n",
       "        var display = window.getComputedStyle(gd).display;\n",
       "        if (!display || display === 'none') {{\n",
       "            console.log([gd, 'removed!']);\n",
       "            Plotly.purge(gd);\n",
       "            observer.disconnect();\n",
       "        }}\n",
       "}});\n",
       "\n",
       "// Listen for the removal of the full notebook cells\n",
       "var notebookContainer = gd.closest('#notebook-container');\n",
       "if (notebookContainer) {{\n",
       "    x.observe(notebookContainer, {childList: true});\n",
       "}}\n",
       "\n",
       "// Listen for the clearing of the current output cell\n",
       "var outputEl = gd.closest('.output');\n",
       "if (outputEl) {{\n",
       "    x.observe(outputEl, {childList: true});\n",
       "}}\n",
       "\n",
       "                        })\n",
       "                };\n",
       "                });\n",
       "            </script>\n",
       "        </div>"
      ]
     },
     "metadata": {},
     "output_type": "display_data"
    }
   ],
   "source": [
    "importances = pd.DataFrame({'feature': X_trans_names, 'importance': dtc_feature_importance}).sort_values('importance', ascending=False).reset_index(drop=True)\n",
    "\n",
    "trace = go.Bar(x=importances.head(40).feature, y=importances.head(10).importance)\n",
    "\n",
    "layout = go.Layout(title='Decision Tree Feature Importances',\n",
    "                  yaxis=dict(title='Relative Importance'))\n",
    "\n",
    "fig = go.Figure([trace], layout)\n",
    "iplot(fig, filename='feature_importance.html')"
   ]
  },
  {
   "cell_type": "markdown",
   "metadata": {},
   "source": [
    "#### This is a classification problem and I think Random Forest Classifier is the best model for prediction"
   ]
  },
  {
   "cell_type": "code",
   "execution_count": 30,
   "metadata": {},
   "outputs": [
    {
     "data": {
      "text/plain": [
       "RandomForestClassifier(bootstrap=True, ccp_alpha=0.0, class_weight=None,\n",
       "                       criterion='gini', max_depth=None, max_features='auto',\n",
       "                       max_leaf_nodes=None, max_samples=None,\n",
       "                       min_impurity_decrease=0.0, min_impurity_split=None,\n",
       "                       min_samples_leaf=1, min_samples_split=2,\n",
       "                       min_weight_fraction_leaf=0.0, n_estimators=100,\n",
       "                       n_jobs=None, oob_score=False, random_state=42, verbose=0,\n",
       "                       warm_start=False)"
      ]
     },
     "execution_count": 30,
     "metadata": {},
     "output_type": "execute_result"
    }
   ],
   "source": [
    "# Training Random Forest Classifier Model\n",
    "modelRFC = RandomForestClassifier(n_estimators=100, random_state=42)\n",
    "modelRFC.fit(X_train, y_train)"
   ]
  },
  {
   "cell_type": "code",
   "execution_count": 31,
   "metadata": {},
   "outputs": [
    {
     "name": "stdout",
     "output_type": "stream",
     "text": [
      "Random Forest Classifier Accuracy: 0.85\n"
     ]
    }
   ],
   "source": [
    "# Accuracy score for Random Forest\n",
    "y_pred = modelRFC.predict(X_test)\n",
    "scoreRFC = accuracy_score(y_pred, y_test)\n",
    "print('Random Forest Classifier Accuracy: {:.2f}'.format(scoreRFC))"
   ]
  },
  {
   "cell_type": "code",
   "execution_count": 32,
   "metadata": {},
   "outputs": [
    {
     "data": {
      "text/plain": [
       "'\\n# Using GridSearchCV on RandomForestClassifier\\n#create a dictionary of all values we want to test\\nparam_dist = {\"max_depth\": np.arange(1, 21),\\n              #\"max_features\": randint(1, 9),\\n              \"min_samples_leaf\": [1, 5, 10, 20, 50, 100],\\n              #\"criterion\": [\"gini\", \"entropy\"]\\n             }\\n#use gridsearch to test all values\\nrf_cv = GridSearchCV(modelRFC, param_dist, cv=5)\\n#fit model to data\\nrf_cv.fit(X_train, y_train)\\n'"
      ]
     },
     "execution_count": 32,
     "metadata": {},
     "output_type": "execute_result"
    }
   ],
   "source": [
    "'''\n",
    "# Using GridSearchCV on RandomForestClassifier\n",
    "#create a dictionary of all values we want to test\n",
    "param_dist = {\"max_depth\": np.arange(1, 21),\n",
    "              #\"max_features\": randint(1, 9),\n",
    "              \"min_samples_leaf\": [1, 5, 10, 20, 50, 100],\n",
    "              #\"criterion\": [\"gini\", \"entropy\"]\n",
    "             }\n",
    "#use gridsearch to test all values\n",
    "rf_cv = GridSearchCV(modelRFC, param_dist, cv=5)\n",
    "#fit model to data\n",
    "rf_cv.fit(X_train, y_train)\n",
    "'''"
   ]
  },
  {
   "cell_type": "code",
   "execution_count": 33,
   "metadata": {},
   "outputs": [],
   "source": [
    "#print(rf_cv.best_params_)\n",
    "#print('Random Forest GridSearchCV Accuracy: {:.2f}'.format(accuracy_score(rf_cv.predict(X_test), y_test)))"
   ]
  },
  {
   "cell_type": "markdown",
   "metadata": {},
   "source": [
    "The GridSearchCV best_params_ for RFC are *'max_depth': 20, 'min_samples_leaf': 1*"
   ]
  },
  {
   "cell_type": "code",
   "execution_count": 34,
   "metadata": {},
   "outputs": [
    {
     "name": "stdout",
     "output_type": "stream",
     "text": [
      "Random Forest Classifier Accuracy: 0.85\n"
     ]
    }
   ],
   "source": [
    "# Training Random Forest Classifier Model\n",
    "modelRFC = RandomForestClassifier(n_estimators=200, max_depth=20, min_samples_leaf=1, random_state=42)\n",
    "modelRFC.fit(X_train, y_train)\n",
    "# Accuracy score for Random Forest\n",
    "y_pred = modelRFC.predict(X_test)\n",
    "scoreRFC = accuracy_score(y_pred, y_test)\n",
    "print('Random Forest Classifier Accuracy: {:.2f}'.format(scoreRFC))"
   ]
  },
  {
   "cell_type": "code",
   "execution_count": 35,
   "metadata": {},
   "outputs": [
    {
     "data": {
      "image/png": "[encoded data removed]",
      "text/plain": [
       "<Figure size 432x288 with 1 Axes>"
      ]
     },
     "metadata": {
      "needs_background": "light"
     },
     "output_type": "display_data"
    }
   ],
   "source": [
    "# Compute predicted probabilities: y_pred_prob\n",
    "y_pred_prob = modelRFC.predict_proba(X_test)[:,1]\n",
    "\n",
    "# Generate ROC curve values: fpr, tpr, thresholds\n",
    "fpr, tpr, thresholds = roc_curve(y_test, y_pred_prob)\n",
    "\n",
    "# Plot ROC curve\n",
    "plt.plot([0, 1], [0, 1], 'k--')\n",
    "plt.plot(fpr, tpr)\n",
    "plt.xlabel('False Positive Rate')\n",
    "plt.ylabel('True Positive Rate')\n",
    "plt.title('ROC Curve')\n",
    "plt.show()"
   ]
  },
  {
   "cell_type": "code",
   "execution_count": 36,
   "metadata": {},
   "outputs": [
    {
     "name": "stdout",
     "output_type": "stream",
     "text": [
      "AUC: 0.9209063696063672\n",
      "AUC scores computed using 5-fold cross-validation: [0.92228141 0.91977959 0.91584776 0.91694427 0.9171743 ]\n"
     ]
    }
   ],
   "source": [
    "# Compute and print AUC score\n",
    "# If the AUC is greater than 0.5, the model is better than random guessing. Always a good sign!\n",
    "print(\"AUC: {}\".format(roc_auc_score(y_test, y_pred_prob)))\n",
    "\n",
    "# Compute cross-validated AUC scores: cv_auc\n",
    "cv_auc = cross_val_score(modelRFC, X_trans, y_true, cv=5, scoring='roc_auc')\n",
    "\n",
    "# Print list of AUC scores\n",
    "print(\"AUC scores computed using 5-fold cross-validation: {}\".format(cv_auc))"
   ]
  },
  {
   "cell_type": "code",
   "execution_count": 37,
   "metadata": {},
   "outputs": [
    {
     "name": "stdout",
     "output_type": "stream",
     "text": [
      "Average precision-recall score: 0.83\n"
     ]
    }
   ],
   "source": [
    "from sklearn.metrics import average_precision_score\n",
    "average_precision = average_precision_score(y_test, y_pred)\n",
    "\n",
    "print('Average precision-recall score: {0:0.2f}'.format(\n",
    "      average_precision))"
   ]
  },
  {
   "cell_type": "code",
   "execution_count": 38,
   "metadata": {},
   "outputs": [
    {
     "data": {
      "text/plain": [
       "Text(0.5, 1.0, '2-class Precision-Recall curve: AP=0.83')"
      ]
     },
     "execution_count": 38,
     "metadata": {},
     "output_type": "execute_result"
    },
    {
     "data": {
      "image/png": "[encoded data removed]",
      "text/plain": [
       "<Figure size 432x288 with 1 Axes>"
      ]
     },
     "metadata": {
      "needs_background": "light"
     },
     "output_type": "display_data"
    }
   ],
   "source": [
    "from sklearn.metrics import precision_recall_curve\n",
    "from sklearn.metrics import plot_precision_recall_curve\n",
    "#import matplotlib.pyplot as plt\n",
    "\n",
    "disp = plot_precision_recall_curve(modelRFC, X_test, y_test)\n",
    "disp.ax_.set_title('2-class Precision-Recall curve: '\n",
    "                   'AP={0:0.2f}'.format(average_precision))"
   ]
  },
  {
   "cell_type": "markdown",
   "metadata": {},
   "source": [
    "##### We can see that the ROC Curve and AUC score for Random Forest Classifier is much better."
   ]
  },
  {
   "cell_type": "code",
   "execution_count": 39,
   "metadata": {
    "scrolled": true
   },
   "outputs": [
    {
     "data": {
      "image/png": "[encoded data removed]",
      "text/plain": [
       "<Figure size 1728x576 with 1 Axes>"
      ]
     },
     "metadata": {
      "needs_background": "light"
     },
     "output_type": "display_data"
    }
   ],
   "source": [
    "# Plotting the most important features\n",
    "num_top_features = 10\n",
    "rfc_feature_importance = modelRFC.feature_importances_\n",
    "\n",
    "sorted_rfc_importance = sorted(zip(X_trans_names, rfc_feature_importance),\n",
    "                             key=lambda x:x[-1],\n",
    "                             reverse=True)\n",
    "fig, axe = plt.subplots(1,1)\n",
    "axe.plot([elm[-1] for elm in sorted_rfc_importance][:num_top_features], 'o')\n",
    "\n",
    "for (id, (f_name, f_importance)) in enumerate(sorted_rfc_importance[:num_top_features]):\n",
    "    axe.annotate('{}'.format(f_name),xy=(id, f_importance))\n",
    "axe.set_ylabel('Sensitivity index')\n",
    "fig = plt.gcf()\n",
    "fig.set_size_inches(24,8)"
   ]
  },
  {
   "cell_type": "code",
   "execution_count": 40,
   "metadata": {
    "scrolled": true
   },
   "outputs": [
    {
     "data": {
      "text/plain": [
       "[('quantity-dry', 0.12229849909160116),\n",
       " ('longitude', 0.09842162638550546),\n",
       " ('latitude', 0.09797079337212809),\n",
       " ('pump_age', 0.05260611782968667),\n",
       " ('construction_year', 0.05120594951968073),\n",
       " ('extraction_type_class-other', 0.04102578197393611),\n",
       " ('week_rec', 0.03929213278013369),\n",
       " ('quantity-enough', 0.037302702142277024),\n",
       " ('extraction_type-other', 0.03726608316134746),\n",
       " ('day_rec', 0.033324495622759256),\n",
       " ('quantity-insufficient', 0.018558592992100827),\n",
       " ('payment_type-never pay', 0.01806745812463663),\n",
       " ('extraction_type_class-handpump', 0.014994628979811575),\n",
       " ('water_quality-unknown', 0.010458899339618695),\n",
       " ('funder-government of tanzania', 0.010179799758522054),\n",
       " ('extraction_type_class-gravity', 0.00993572702537329),\n",
       " ('payment_type-per bucket', 0.009719991987625293),\n",
       " ('source-shallow well', 0.00970183848369841),\n",
       " ('quantity-seasonal', 0.009672571413764049),\n",
       " ('extraction_type-gravity', 0.00918088507485685),\n",
       " ('management-vwc', 0.009143427744208768),\n",
       " ('source-spring', 0.009017740207156656),\n",
       " ('funder-OTHER', 0.008880878548035787),\n",
       " ('payment_type-unknown', 0.008827936456076437),\n",
       " ('year_rec', 0.008493529127334117),\n",
       " ('payment_type-monthly', 0.008182682847737505),\n",
       " ('extraction_type-nira/tanira', 0.007914774163223844),\n",
       " ('water_quality-soft', 0.0077857277686126155),\n",
       " ('scheme_management-vwc', 0.0073157131887624325),\n",
       " ('source-machine dbh', 0.007161455069352163),\n",
       " ('source_class-surface', 0.006891228342431285),\n",
       " ('source_class-groundwater', 0.006761442977115912),\n",
       " ('lga-OTHER', 0.005531291240911532),\n",
       " ('source-rainwater harvesting', 0.005485718943153631),\n",
       " ('payment_type-annually', 0.00517427161441214),\n",
       " ('basin-internal', 0.005162474776547722),\n",
       " ('funder-Unknown', 0.004469505642823271),\n",
       " ('basin-pangani', 0.004423999912158522),\n",
       " ('extraction_type_class-submersible', 0.004403681219834376),\n",
       " ('basin-lake nyasa', 0.00417331358846339),\n",
       " ('basin-lake victoria', 0.00406382958611809),\n",
       " ('source-river', 0.003999619984806206),\n",
       " ('basin-rufiji', 0.003928269873139052),\n",
       " ('scheme_management-wug', 0.0038645029425888417),\n",
       " ('water_quality-salty', 0.0038310045648549686),\n",
       " ('extraction_type_class-motorpump', 0.003617202321434408),\n",
       " ('basin-wami / ruvu', 0.003583164491273526),\n",
       " ('basin-lake tanganyika', 0.0035116342743232894),\n",
       " ('management-wug', 0.0035113264602018635),\n",
       " ('extraction_type-mono', 0.003503795848320125),\n",
       " ('scheme_management-Unknown', 0.0032446314109681497),\n",
       " ('extraction_type-submersible', 0.0032143105795963533),\n",
       " ('payment_type-on failure', 0.0032001629553647655),\n",
       " ('extraction_type-swn 80', 0.0031959082446943784),\n",
       " ('basin-ruvuma / southern coast', 0.003140939962161465),\n",
       " ('extraction_type-ksb', 0.002999158213740814),\n",
       " ('management-private operator', 0.002971271242414281),\n",
       " ('funder-world bank', 0.002940695872700528),\n",
       " ('scheme_management-water authority', 0.002889692889629393),\n",
       " ('quantity-unknown', 0.0028563837766414474),\n",
       " ('funder-danida', 0.00277632712040144),\n",
       " ('source-lake', 0.002641151648242636),\n",
       " ('basin-lake rukwa', 0.0025680218496552947),\n",
       " ('funder-hesawa', 0.0024830681598901217),\n",
       " ('management-company', 0.002482915732421724),\n",
       " ('scheme_management-company', 0.0023819630737023055),\n",
       " ('management-water board', 0.0023383041197467484),\n",
       " ('lga-njombe', 0.0022937068426607406),\n",
       " ('extraction_type-india mark ii', 0.0020338132406653386),\n",
       " ('scheme_management-water board', 0.001899738418657297),\n",
       " ('source-dam', 0.0018785205892033778),\n",
       " ('extraction_type-afridev', 0.001854485304377925),\n",
       " ('extraction_type-OTHER', 0.0018384373917183245),\n",
       " ('scheme_management-wua', 0.001832703827003681),\n",
       " ('scheme_management-parastatal', 0.0016690302609405655),\n",
       " ('management-wua', 0.0016432203316866381),\n",
       " ('management-parastatal', 0.001632456819009466),\n",
       " ('management-OTHER', 0.0016027231609864222),\n",
       " ('funder-rwssp', 0.0015566090291612167),\n",
       " ('funder-world vision', 0.0014864474879209316),\n",
       " ('scheme_management-private operator', 0.00141509036103492),\n",
       " ('scheme_management-OTHER', 0.0013799314827715981),\n",
       " ('lga-kasulu', 0.0013564233144245054),\n",
       " ('funder-unicef', 0.0013484698492404338),\n",
       " ('management-water authority', 0.0012523375708834918),\n",
       " ('water_quality-milky', 0.0012521051138845904),\n",
       " ('lga-mbozi', 0.0012500539074693645),\n",
       " ('funder-kkkt', 0.0011714645148354652),\n",
       " ('lga-bariadi', 0.0011698969349824562),\n",
       " ('source-hand dtw', 0.0011378197421687128),\n",
       " ('lga-rungwe', 0.0011362488358531058),\n",
       " ('management-other', 0.001121593846767576),\n",
       " ('lga-arusha rural', 0.0010680584712391239),\n",
       " ('lga-meru', 0.0010629947178883718),\n",
       " ('lga-kilosa', 0.0010235611374679022),\n",
       " ('payment_type-other', 0.0010223667978697013),\n",
       " ('water_quality-coloured', 0.0009708938915472727),\n",
       " ('lga-moshi rural', 0.0008817687475148255),\n",
       " ('extraction_type_class-rope pump', 0.0006978504539914188),\n",
       " ('water_quality-salty abandoned', 0.0006861502552297484),\n",
       " ('source_class-unknown', 0.0006343418728003553),\n",
       " ('water_quality-fluoride', 0.0005460524621487537),\n",
       " ('source-other', 0.00041418026301840436),\n",
       " ('extraction_type_class-wind-powered', 0.00029284744267174957),\n",
       " ('source-OTHER', 0.0002642434294004704),\n",
       " ('water_quality-fluoride abandoned', 9.673624245606876e-05)]"
      ]
     },
     "execution_count": 40,
     "metadata": {},
     "output_type": "execute_result"
    }
   ],
   "source": [
    "sorted_rfc_importance"
   ]
  },
  {
   "cell_type": "code",
   "execution_count": 53,
   "metadata": {},
   "outputs": [
    {
     "data": {
      "application/vnd.plotly.v1+json": {
       "config": {
        "linkText": "Export to plot.ly",
        "plotlyServerURL": "https://plot.ly",
        "showLink": false
       },
       "data": [
        {
         "type": "bar",
         "x": [
          "quantity-dry",
          "longitude",
          "latitude",
          "pump_age",
          "construction_year",
          "extraction_type_class-other",
          "week_rec",
          "quantity-enough",
          "extraction_type-other",
          "day_rec",
          "quantity-insufficient",
          "payment_type-never pay",
          "extraction_type_class-handpump",
          "water_quality-unknown",
          "funder-government of tanzania",
          "extraction_type_class-gravity",
          "payment_type-per bucket",
          "source-shallow well",
          "quantity-seasonal",
          "extraction_type-gravity",
          "management-vwc",
          "source-spring",
          "funder-OTHER",
          "payment_type-unknown",
          "year_rec",
          "payment_type-monthly",
          "extraction_type-nira/tanira",
          "water_quality-soft",
          "scheme_management-vwc",
          "source-machine dbh",
          "source_class-surface",
          "source_class-groundwater",
          "lga-OTHER",
          "source-rainwater harvesting",
          "payment_type-annually",
          "basin-internal",
          "funder-Unknown",
          "basin-pangani",
          "extraction_type_class-submersible",
          "basin-lake nyasa"
         ],
         "y": [
          0.12229849909160116,
          0.09842162638550546,
          0.09797079337212809,
          0.05260611782968667,
          0.05120594951968073,
          0.04102578197393611,
          0.03929213278013369,
          0.037302702142277024,
          0.03726608316134746,
          0.033324495622759256
         ]
        }
       ],
       "layout": {
        "template": {
         "data": {
          "bar": [
           {
            "error_x": {
             "color": "#2a3f5f"
            },
            "error_y": {
             "color": "#2a3f5f"
            },
            "marker": {
             "line": {
              "color": "#E5ECF6",
              "width": 0.5
             }
            },
            "type": "bar"
           }
          ],
          "barpolar": [
           {
            "marker": {
             "line": {
              "color": "#E5ECF6",
              "width": 0.5
             }
            },
            "type": "barpolar"
           }
          ],
          "carpet": [
           {
            "aaxis": {
             "endlinecolor": "#2a3f5f",
             "gridcolor": "white",
             "linecolor": "white",
             "minorgridcolor": "white",
             "startlinecolor": "#2a3f5f"
            },
            "baxis": {
             "endlinecolor": "#2a3f5f",
             "gridcolor": "white",
             "linecolor": "white",
             "minorgridcolor": "white",
             "startlinecolor": "#2a3f5f"
            },
            "type": "carpet"
           }
          ],
          "choropleth": [
           {
            "colorbar": {
             "outlinewidth": 0,
             "ticks": ""
            },
            "type": "choropleth"
           }
          ],
          "contour": [
           {
            "colorbar": {
             "outlinewidth": 0,
             "ticks": ""
            },
            "colorscale": [
             [
              0,
              "#0d0887"
             ],
             [
              0.1111111111111111,
              "#46039f"
             ],
             [
              0.2222222222222222,
              "#7201a8"
             ],
             [
              0.3333333333333333,
              "#9c179e"
             ],
             [
              0.4444444444444444,
              "#bd3786"
             ],
             [
              0.5555555555555556,
              "#d8576b"
             ],
             [
              0.6666666666666666,
              "#ed7953"
             ],
             [
              0.7777777777777778,
              "#fb9f3a"
             ],
             [
              0.8888888888888888,
              "#fdca26"
             ],
             [
              1,
              "#f0f921"
             ]
            ],
            "type": "contour"
           }
          ],
          "contourcarpet": [
           {
            "colorbar": {
             "outlinewidth": 0,
             "ticks": ""
            },
            "type": "contourcarpet"
           }
          ],
          "heatmap": [
           {
            "colorbar": {
             "outlinewidth": 0,
             "ticks": ""
            },
            "colorscale": [
             [
              0,
              "#0d0887"
             ],
             [
              0.1111111111111111,
              "#46039f"
             ],
             [
              0.2222222222222222,
              "#7201a8"
             ],
             [
              0.3333333333333333,
              "#9c179e"
             ],
             [
              0.4444444444444444,
              "#bd3786"
             ],
             [
              0.5555555555555556,
              "#d8576b"
             ],
             [
              0.6666666666666666,
              "#ed7953"
             ],
             [
              0.7777777777777778,
              "#fb9f3a"
             ],
             [
              0.8888888888888888,
              "#fdca26"
             ],
             [
              1,
              "#f0f921"
             ]
            ],
            "type": "heatmap"
           }
          ],
          "heatmapgl": [
           {
            "colorbar": {
             "outlinewidth": 0,
             "ticks": ""
            },
            "colorscale": [
             [
              0,
              "#0d0887"
             ],
             [
              0.1111111111111111,
              "#46039f"
             ],
             [
              0.2222222222222222,
              "#7201a8"
             ],
             [
              0.3333333333333333,
              "#9c179e"
             ],
             [
              0.4444444444444444,
              "#bd3786"
             ],
             [
              0.5555555555555556,
              "#d8576b"
             ],
             [
              0.6666666666666666,
              "#ed7953"
             ],
             [
              0.7777777777777778,
              "#fb9f3a"
             ],
             [
              0.8888888888888888,
              "#fdca26"
             ],
             [
              1,
              "#f0f921"
             ]
            ],
            "type": "heatmapgl"
           }
          ],
          "histogram": [
           {
            "marker": {
             "colorbar": {
              "outlinewidth": 0,
              "ticks": ""
             }
            },
            "type": "histogram"
           }
          ],
          "histogram2d": [
           {
            "colorbar": {
             "outlinewidth": 0,
             "ticks": ""
            },
            "colorscale": [
             [
              0,
              "#0d0887"
             ],
             [
              0.1111111111111111,
              "#46039f"
             ],
             [
              0.2222222222222222,
              "#7201a8"
             ],
             [
              0.3333333333333333,
              "#9c179e"
             ],
             [
              0.4444444444444444,
              "#bd3786"
             ],
             [
              0.5555555555555556,
              "#d8576b"
             ],
             [
              0.6666666666666666,
              "#ed7953"
             ],
             [
              0.7777777777777778,
              "#fb9f3a"
             ],
             [
              0.8888888888888888,
              "#fdca26"
             ],
             [
              1,
              "#f0f921"
             ]
            ],
            "type": "histogram2d"
           }
          ],
          "histogram2dcontour": [
           {
            "colorbar": {
             "outlinewidth": 0,
             "ticks": ""
            },
            "colorscale": [
             [
              0,
              "#0d0887"
             ],
             [
              0.1111111111111111,
              "#46039f"
             ],
             [
              0.2222222222222222,
              "#7201a8"
             ],
             [
              0.3333333333333333,
              "#9c179e"
             ],
             [
              0.4444444444444444,
              "#bd3786"
             ],
             [
              0.5555555555555556,
              "#d8576b"
             ],
             [
              0.6666666666666666,
              "#ed7953"
             ],
             [
              0.7777777777777778,
              "#fb9f3a"
             ],
             [
              0.8888888888888888,
              "#fdca26"
             ],
             [
              1,
              "#f0f921"
             ]
            ],
            "type": "histogram2dcontour"
           }
          ],
          "mesh3d": [
           {
            "colorbar": {
             "outlinewidth": 0,
             "ticks": ""
            },
            "type": "mesh3d"
           }
          ],
          "parcoords": [
           {
            "line": {
             "colorbar": {
              "outlinewidth": 0,
              "ticks": ""
             }
            },
            "type": "parcoords"
           }
          ],
          "pie": [
           {
            "automargin": true,
            "type": "pie"
           }
          ],
          "scatter": [
           {
            "marker": {
             "colorbar": {
              "outlinewidth": 0,
              "ticks": ""
             }
            },
            "type": "scatter"
           }
          ],
          "scatter3d": [
           {
            "line": {
             "colorbar": {
              "outlinewidth": 0,
              "ticks": ""
             }
            },
            "marker": {
             "colorbar": {
              "outlinewidth": 0,
              "ticks": ""
             }
            },
            "type": "scatter3d"
           }
          ],
          "scattercarpet": [
           {
            "marker": {
             "colorbar": {
              "outlinewidth": 0,
              "ticks": ""
             }
            },
            "type": "scattercarpet"
           }
          ],
          "scattergeo": [
           {
            "marker": {
             "colorbar": {
              "outlinewidth": 0,
              "ticks": ""
             }
            },
            "type": "scattergeo"
           }
          ],
          "scattergl": [
           {
            "marker": {
             "colorbar": {
              "outlinewidth": 0,
              "ticks": ""
             }
            },
            "type": "scattergl"
           }
          ],
          "scattermapbox": [
           {
            "marker": {
             "colorbar": {
              "outlinewidth": 0,
              "ticks": ""
             }
            },
            "type": "scattermapbox"
           }
          ],
          "scatterpolar": [
           {
            "marker": {
             "colorbar": {
              "outlinewidth": 0,
              "ticks": ""
             }
            },
            "type": "scatterpolar"
           }
          ],
          "scatterpolargl": [
           {
            "marker": {
             "colorbar": {
              "outlinewidth": 0,
              "ticks": ""
             }
            },
            "type": "scatterpolargl"
           }
          ],
          "scatterternary": [
           {
            "marker": {
             "colorbar": {
              "outlinewidth": 0,
              "ticks": ""
             }
            },
            "type": "scatterternary"
           }
          ],
          "surface": [
           {
            "colorbar": {
             "outlinewidth": 0,
             "ticks": ""
            },
            "colorscale": [
             [
              0,
              "#0d0887"
             ],
             [
              0.1111111111111111,
              "#46039f"
             ],
             [
              0.2222222222222222,
              "#7201a8"
             ],
             [
              0.3333333333333333,
              "#9c179e"
             ],
             [
              0.4444444444444444,
              "#bd3786"
             ],
             [
              0.5555555555555556,
              "#d8576b"
             ],
             [
              0.6666666666666666,
              "#ed7953"
             ],
             [
              0.7777777777777778,
              "#fb9f3a"
             ],
             [
              0.8888888888888888,
              "#fdca26"
             ],
             [
              1,
              "#f0f921"
             ]
            ],
            "type": "surface"
           }
          ],
          "table": [
           {
            "cells": {
             "fill": {
              "color": "#EBF0F8"
             },
             "line": {
              "color": "white"
             }
            },
            "header": {
             "fill": {
              "color": "#C8D4E3"
             },
             "line": {
              "color": "white"
             }
            },
            "type": "table"
           }
          ]
         },
         "layout": {
          "annotationdefaults": {
           "arrowcolor": "#2a3f5f",
           "arrowhead": 0,
           "arrowwidth": 1
          },
          "coloraxis": {
           "colorbar": {
            "outlinewidth": 0,
            "ticks": ""
           }
          },
          "colorscale": {
           "diverging": [
            [
             0,
             "#8e0152"
            ],
            [
             0.1,
             "#c51b7d"
            ],
            [
             0.2,
             "#de77ae"
            ],
            [
             0.3,
             "#f1b6da"
            ],
            [
             0.4,
             "#fde0ef"
            ],
            [
             0.5,
             "#f7f7f7"
            ],
            [
             0.6,
             "#e6f5d0"
            ],
            [
             0.7,
             "#b8e186"
            ],
            [
             0.8,
             "#7fbc41"
            ],
            [
             0.9,
             "#4d9221"
            ],
            [
             1,
             "#276419"
            ]
           ],
           "sequential": [
            [
             0,
             "#0d0887"
            ],
            [
             0.1111111111111111,
             "#46039f"
            ],
            [
             0.2222222222222222,
             "#7201a8"
            ],
            [
             0.3333333333333333,
             "#9c179e"
            ],
            [
             0.4444444444444444,
             "#bd3786"
            ],
            [
             0.5555555555555556,
             "#d8576b"
            ],
            [
             0.6666666666666666,
             "#ed7953"
            ],
            [
             0.7777777777777778,
             "#fb9f3a"
            ],
            [
             0.8888888888888888,
             "#fdca26"
            ],
            [
             1,
             "#f0f921"
            ]
           ],
           "sequentialminus": [
            [
             0,
             "#0d0887"
            ],
            [
             0.1111111111111111,
             "#46039f"
            ],
            [
             0.2222222222222222,
             "#7201a8"
            ],
            [
             0.3333333333333333,
             "#9c179e"
            ],
            [
             0.4444444444444444,
             "#bd3786"
            ],
            [
             0.5555555555555556,
             "#d8576b"
            ],
            [
             0.6666666666666666,
             "#ed7953"
            ],
            [
             0.7777777777777778,
             "#fb9f3a"
            ],
            [
             0.8888888888888888,
             "#fdca26"
            ],
            [
             1,
             "#f0f921"
            ]
           ]
          },
          "colorway": [
           "#636efa",
           "#EF553B",
           "#00cc96",
           "#ab63fa",
           "#FFA15A",
           "#19d3f3",
           "#FF6692",
           "#B6E880",
           "#FF97FF",
           "#FECB52"
          ],
          "font": {
           "color": "#2a3f5f"
          },
          "geo": {
           "bgcolor": "white",
           "lakecolor": "white",
           "landcolor": "#E5ECF6",
           "showlakes": true,
           "showland": true,
           "subunitcolor": "white"
          },
          "hoverlabel": {
           "align": "left"
          },
          "hovermode": "closest",
          "mapbox": {
           "style": "light"
          },
          "paper_bgcolor": "white",
          "plot_bgcolor": "#E5ECF6",
          "polar": {
           "angularaxis": {
            "gridcolor": "white",
            "linecolor": "white",
            "ticks": ""
           },
           "bgcolor": "#E5ECF6",
           "radialaxis": {
            "gridcolor": "white",
            "linecolor": "white",
            "ticks": ""
           }
          },
          "scene": {
           "xaxis": {
            "backgroundcolor": "#E5ECF6",
            "gridcolor": "white",
            "gridwidth": 2,
            "linecolor": "white",
            "showbackground": true,
            "ticks": "",
            "zerolinecolor": "white"
           },
           "yaxis": {
            "backgroundcolor": "#E5ECF6",
            "gridcolor": "white",
            "gridwidth": 2,
            "linecolor": "white",
            "showbackground": true,
            "ticks": "",
            "zerolinecolor": "white"
           },
           "zaxis": {
            "backgroundcolor": "#E5ECF6",
            "gridcolor": "white",
            "gridwidth": 2,
            "linecolor": "white",
            "showbackground": true,
            "ticks": "",
            "zerolinecolor": "white"
           }
          },
          "shapedefaults": {
           "line": {
            "color": "#2a3f5f"
           }
          },
          "ternary": {
           "aaxis": {
            "gridcolor": "white",
            "linecolor": "white",
            "ticks": ""
           },
           "baxis": {
            "gridcolor": "white",
            "linecolor": "white",
            "ticks": ""
           },
           "bgcolor": "#E5ECF6",
           "caxis": {
            "gridcolor": "white",
            "linecolor": "white",
            "ticks": ""
           }
          },
          "title": {
           "x": 0.05
          },
          "xaxis": {
           "automargin": true,
           "gridcolor": "white",
           "linecolor": "white",
           "ticks": "",
           "title": {
            "standoff": 15
           },
           "zerolinecolor": "white",
           "zerolinewidth": 2
          },
          "yaxis": {
           "automargin": true,
           "gridcolor": "white",
           "linecolor": "white",
           "ticks": "",
           "title": {
            "standoff": 15
           },
           "zerolinecolor": "white",
           "zerolinewidth": 2
          }
         }
        },
        "title": {
         "text": "Random Forest Feature Importances"
        },
        "yaxis": {
         "title": {
          "text": "Relative Importance"
         }
        }
       }
      },
      "text/html": [
       "<div>\n",
       "        \n",
       "        \n",
       "            <div id=\"c0ba9ac5-5980-4657-bd88-7378e26389fd\" class=\"plotly-graph-div\" style=\"height:525px; width:100%;\"></div>\n",
       "            <script type=\"text/javascript\">\n",
       "                require([\"plotly\"], function(Plotly) {\n",
       "                    window.PLOTLYENV=window.PLOTLYENV || {};\n",
       "                    \n",
       "                if (document.getElementById(\"c0ba9ac5-5980-4657-bd88-7378e26389fd\")) {\n",
       "                    Plotly.newPlot(\n",
       "                        'c0ba9ac5-5980-4657-bd88-7378e26389fd',\n",
       "                        [{\"type\": \"bar\", \"x\": [\"quantity-dry\", \"longitude\", \"latitude\", \"pump_age\", \"construction_year\", \"extraction_type_class-other\", \"week_rec\", \"quantity-enough\", \"extraction_type-other\", \"day_rec\", \"quantity-insufficient\", \"payment_type-never pay\", \"extraction_type_class-handpump\", \"water_quality-unknown\", \"funder-government of tanzania\", \"extraction_type_class-gravity\", \"payment_type-per bucket\", \"source-shallow well\", \"quantity-seasonal\", \"extraction_type-gravity\", \"management-vwc\", \"source-spring\", \"funder-OTHER\", \"payment_type-unknown\", \"year_rec\", \"payment_type-monthly\", \"extraction_type-nira/tanira\", \"water_quality-soft\", \"scheme_management-vwc\", \"source-machine dbh\", \"source_class-surface\", \"source_class-groundwater\", \"lga-OTHER\", \"source-rainwater harvesting\", \"payment_type-annually\", \"basin-internal\", \"funder-Unknown\", \"basin-pangani\", \"extraction_type_class-submersible\", \"basin-lake nyasa\"], \"y\": [0.12229849909160116, 0.09842162638550546, 0.09797079337212809, 0.05260611782968667, 0.05120594951968073, 0.04102578197393611, 0.03929213278013369, 0.037302702142277024, 0.03726608316134746, 0.033324495622759256]}],\n",
       "                        {\"template\": {\"data\": {\"bar\": [{\"error_x\": {\"color\": \"#2a3f5f\"}, \"error_y\": {\"color\": \"#2a3f5f\"}, \"marker\": {\"line\": {\"color\": \"#E5ECF6\", \"width\": 0.5}}, \"type\": \"bar\"}], \"barpolar\": [{\"marker\": {\"line\": {\"color\": \"#E5ECF6\", \"width\": 0.5}}, \"type\": \"barpolar\"}], \"carpet\": [{\"aaxis\": {\"endlinecolor\": \"#2a3f5f\", \"gridcolor\": \"white\", \"linecolor\": \"white\", \"minorgridcolor\": \"white\", \"startlinecolor\": \"#2a3f5f\"}, \"baxis\": {\"endlinecolor\": \"#2a3f5f\", \"gridcolor\": \"white\", \"linecolor\": \"white\", \"minorgridcolor\": \"white\", \"startlinecolor\": \"#2a3f5f\"}, \"type\": \"carpet\"}], \"choropleth\": [{\"colorbar\": {\"outlinewidth\": 0, \"ticks\": \"\"}, \"type\": \"choropleth\"}], \"contour\": [{\"colorbar\": {\"outlinewidth\": 0, \"ticks\": \"\"}, \"colorscale\": [[0.0, \"#0d0887\"], [0.1111111111111111, \"#46039f\"], [0.2222222222222222, \"#7201a8\"], [0.3333333333333333, \"#9c179e\"], [0.4444444444444444, \"#bd3786\"], [0.5555555555555556, \"#d8576b\"], [0.6666666666666666, \"#ed7953\"], [0.7777777777777778, \"#fb9f3a\"], [0.8888888888888888, \"#fdca26\"], [1.0, \"#f0f921\"]], \"type\": \"contour\"}], \"contourcarpet\": [{\"colorbar\": {\"outlinewidth\": 0, \"ticks\": \"\"}, \"type\": \"contourcarpet\"}], \"heatmap\": [{\"colorbar\": {\"outlinewidth\": 0, \"ticks\": \"\"}, \"colorscale\": [[0.0, \"#0d0887\"], [0.1111111111111111, \"#46039f\"], [0.2222222222222222, \"#7201a8\"], [0.3333333333333333, \"#9c179e\"], [0.4444444444444444, \"#bd3786\"], [0.5555555555555556, \"#d8576b\"], [0.6666666666666666, \"#ed7953\"], [0.7777777777777778, \"#fb9f3a\"], [0.8888888888888888, \"#fdca26\"], [1.0, \"#f0f921\"]], \"type\": \"heatmap\"}], \"heatmapgl\": [{\"colorbar\": {\"outlinewidth\": 0, \"ticks\": \"\"}, \"colorscale\": [[0.0, \"#0d0887\"], [0.1111111111111111, \"#46039f\"], [0.2222222222222222, \"#7201a8\"], [0.3333333333333333, \"#9c179e\"], [0.4444444444444444, \"#bd3786\"], [0.5555555555555556, \"#d8576b\"], [0.6666666666666666, \"#ed7953\"], [0.7777777777777778, \"#fb9f3a\"], [0.8888888888888888, \"#fdca26\"], [1.0, \"#f0f921\"]], \"type\": \"heatmapgl\"}], \"histogram\": [{\"marker\": {\"colorbar\": {\"outlinewidth\": 0, \"ticks\": \"\"}}, \"type\": \"histogram\"}], \"histogram2d\": [{\"colorbar\": {\"outlinewidth\": 0, \"ticks\": \"\"}, \"colorscale\": [[0.0, \"#0d0887\"], [0.1111111111111111, \"#46039f\"], [0.2222222222222222, \"#7201a8\"], [0.3333333333333333, \"#9c179e\"], [0.4444444444444444, \"#bd3786\"], [0.5555555555555556, \"#d8576b\"], [0.6666666666666666, \"#ed7953\"], [0.7777777777777778, \"#fb9f3a\"], [0.8888888888888888, \"#fdca26\"], [1.0, \"#f0f921\"]], \"type\": \"histogram2d\"}], \"histogram2dcontour\": [{\"colorbar\": {\"outlinewidth\": 0, \"ticks\": \"\"}, \"colorscale\": [[0.0, \"#0d0887\"], [0.1111111111111111, \"#46039f\"], [0.2222222222222222, \"#7201a8\"], [0.3333333333333333, \"#9c179e\"], [0.4444444444444444, \"#bd3786\"], [0.5555555555555556, \"#d8576b\"], [0.6666666666666666, \"#ed7953\"], [0.7777777777777778, \"#fb9f3a\"], [0.8888888888888888, \"#fdca26\"], [1.0, \"#f0f921\"]], \"type\": \"histogram2dcontour\"}], \"mesh3d\": [{\"colorbar\": {\"outlinewidth\": 0, \"ticks\": \"\"}, \"type\": \"mesh3d\"}], \"parcoords\": [{\"line\": {\"colorbar\": {\"outlinewidth\": 0, \"ticks\": \"\"}}, \"type\": \"parcoords\"}], \"pie\": [{\"automargin\": true, \"type\": \"pie\"}], \"scatter\": [{\"marker\": {\"colorbar\": {\"outlinewidth\": 0, \"ticks\": \"\"}}, \"type\": \"scatter\"}], \"scatter3d\": [{\"line\": {\"colorbar\": {\"outlinewidth\": 0, \"ticks\": \"\"}}, \"marker\": {\"colorbar\": {\"outlinewidth\": 0, \"ticks\": \"\"}}, \"type\": \"scatter3d\"}], \"scattercarpet\": [{\"marker\": {\"colorbar\": {\"outlinewidth\": 0, \"ticks\": \"\"}}, \"type\": \"scattercarpet\"}], \"scattergeo\": [{\"marker\": {\"colorbar\": {\"outlinewidth\": 0, \"ticks\": \"\"}}, \"type\": \"scattergeo\"}], \"scattergl\": [{\"marker\": {\"colorbar\": {\"outlinewidth\": 0, \"ticks\": \"\"}}, \"type\": \"scattergl\"}], \"scattermapbox\": [{\"marker\": {\"colorbar\": {\"outlinewidth\": 0, \"ticks\": \"\"}}, \"type\": \"scattermapbox\"}], \"scatterpolar\": [{\"marker\": {\"colorbar\": {\"outlinewidth\": 0, \"ticks\": \"\"}}, \"type\": \"scatterpolar\"}], \"scatterpolargl\": [{\"marker\": {\"colorbar\": {\"outlinewidth\": 0, \"ticks\": \"\"}}, \"type\": \"scatterpolargl\"}], \"scatterternary\": [{\"marker\": {\"colorbar\": {\"outlinewidth\": 0, \"ticks\": \"\"}}, \"type\": \"scatterternary\"}], \"surface\": [{\"colorbar\": {\"outlinewidth\": 0, \"ticks\": \"\"}, \"colorscale\": [[0.0, \"#0d0887\"], [0.1111111111111111, \"#46039f\"], [0.2222222222222222, \"#7201a8\"], [0.3333333333333333, \"#9c179e\"], [0.4444444444444444, \"#bd3786\"], [0.5555555555555556, \"#d8576b\"], [0.6666666666666666, \"#ed7953\"], [0.7777777777777778, \"#fb9f3a\"], [0.8888888888888888, \"#fdca26\"], [1.0, \"#f0f921\"]], \"type\": \"surface\"}], \"table\": [{\"cells\": {\"fill\": {\"color\": \"#EBF0F8\"}, \"line\": {\"color\": \"white\"}}, \"header\": {\"fill\": {\"color\": \"#C8D4E3\"}, \"line\": {\"color\": \"white\"}}, \"type\": \"table\"}]}, \"layout\": {\"annotationdefaults\": {\"arrowcolor\": \"#2a3f5f\", \"arrowhead\": 0, \"arrowwidth\": 1}, \"coloraxis\": {\"colorbar\": {\"outlinewidth\": 0, \"ticks\": \"\"}}, \"colorscale\": {\"diverging\": [[0, \"#8e0152\"], [0.1, \"#c51b7d\"], [0.2, \"#de77ae\"], [0.3, \"#f1b6da\"], [0.4, \"#fde0ef\"], [0.5, \"#f7f7f7\"], [0.6, \"#e6f5d0\"], [0.7, \"#b8e186\"], [0.8, \"#7fbc41\"], [0.9, \"#4d9221\"], [1, \"#276419\"]], \"sequential\": [[0.0, \"#0d0887\"], [0.1111111111111111, \"#46039f\"], [0.2222222222222222, \"#7201a8\"], [0.3333333333333333, \"#9c179e\"], [0.4444444444444444, \"#bd3786\"], [0.5555555555555556, \"#d8576b\"], [0.6666666666666666, \"#ed7953\"], [0.7777777777777778, \"#fb9f3a\"], [0.8888888888888888, \"#fdca26\"], [1.0, \"#f0f921\"]], \"sequentialminus\": [[0.0, \"#0d0887\"], [0.1111111111111111, \"#46039f\"], [0.2222222222222222, \"#7201a8\"], [0.3333333333333333, \"#9c179e\"], [0.4444444444444444, \"#bd3786\"], [0.5555555555555556, \"#d8576b\"], [0.6666666666666666, \"#ed7953\"], [0.7777777777777778, \"#fb9f3a\"], [0.8888888888888888, \"#fdca26\"], [1.0, \"#f0f921\"]]}, \"colorway\": [\"#636efa\", \"#EF553B\", \"#00cc96\", \"#ab63fa\", \"#FFA15A\", \"#19d3f3\", \"#FF6692\", \"#B6E880\", \"#FF97FF\", \"#FECB52\"], \"font\": {\"color\": \"#2a3f5f\"}, \"geo\": {\"bgcolor\": \"white\", \"lakecolor\": \"white\", \"landcolor\": \"#E5ECF6\", \"showlakes\": true, \"showland\": true, \"subunitcolor\": \"white\"}, \"hoverlabel\": {\"align\": \"left\"}, \"hovermode\": \"closest\", \"mapbox\": {\"style\": \"light\"}, \"paper_bgcolor\": \"white\", \"plot_bgcolor\": \"#E5ECF6\", \"polar\": {\"angularaxis\": {\"gridcolor\": \"white\", \"linecolor\": \"white\", \"ticks\": \"\"}, \"bgcolor\": \"#E5ECF6\", \"radialaxis\": {\"gridcolor\": \"white\", \"linecolor\": \"white\", \"ticks\": \"\"}}, \"scene\": {\"xaxis\": {\"backgroundcolor\": \"#E5ECF6\", \"gridcolor\": \"white\", \"gridwidth\": 2, \"linecolor\": \"white\", \"showbackground\": true, \"ticks\": \"\", \"zerolinecolor\": \"white\"}, \"yaxis\": {\"backgroundcolor\": \"#E5ECF6\", \"gridcolor\": \"white\", \"gridwidth\": 2, \"linecolor\": \"white\", \"showbackground\": true, \"ticks\": \"\", \"zerolinecolor\": \"white\"}, \"zaxis\": {\"backgroundcolor\": \"#E5ECF6\", \"gridcolor\": \"white\", \"gridwidth\": 2, \"linecolor\": \"white\", \"showbackground\": true, \"ticks\": \"\", \"zerolinecolor\": \"white\"}}, \"shapedefaults\": {\"line\": {\"color\": \"#2a3f5f\"}}, \"ternary\": {\"aaxis\": {\"gridcolor\": \"white\", \"linecolor\": \"white\", \"ticks\": \"\"}, \"baxis\": {\"gridcolor\": \"white\", \"linecolor\": \"white\", \"ticks\": \"\"}, \"bgcolor\": \"#E5ECF6\", \"caxis\": {\"gridcolor\": \"white\", \"linecolor\": \"white\", \"ticks\": \"\"}}, \"title\": {\"x\": 0.05}, \"xaxis\": {\"automargin\": true, \"gridcolor\": \"white\", \"linecolor\": \"white\", \"ticks\": \"\", \"title\": {\"standoff\": 15}, \"zerolinecolor\": \"white\", \"zerolinewidth\": 2}, \"yaxis\": {\"automargin\": true, \"gridcolor\": \"white\", \"linecolor\": \"white\", \"ticks\": \"\", \"title\": {\"standoff\": 15}, \"zerolinecolor\": \"white\", \"zerolinewidth\": 2}}}, \"title\": {\"text\": \"Random Forest Feature Importances\"}, \"yaxis\": {\"title\": {\"text\": \"Relative Importance\"}}},\n",
       "                        {\"responsive\": true}\n",
       "                    ).then(function(){\n",
       "                            \n",
       "var gd = document.getElementById('c0ba9ac5-5980-4657-bd88-7378e26389fd');\n",
       "var x = new MutationObserver(function (mutations, observer) {{\n",
       "        var display = window.getComputedStyle(gd).display;\n",
       "        if (!display || display === 'none') {{\n",
       "            console.log([gd, 'removed!']);\n",
       "            Plotly.purge(gd);\n",
       "            observer.disconnect();\n",
       "        }}\n",
       "}});\n",
       "\n",
       "// Listen for the removal of the full notebook cells\n",
       "var notebookContainer = gd.closest('#notebook-container');\n",
       "if (notebookContainer) {{\n",
       "    x.observe(notebookContainer, {childList: true});\n",
       "}}\n",
       "\n",
       "// Listen for the clearing of the current output cell\n",
       "var outputEl = gd.closest('.output');\n",
       "if (outputEl) {{\n",
       "    x.observe(outputEl, {childList: true});\n",
       "}}\n",
       "\n",
       "                        })\n",
       "                };\n",
       "                });\n",
       "            </script>\n",
       "        </div>"
      ]
     },
     "metadata": {},
     "output_type": "display_data"
    }
   ],
   "source": [
    "importances = pd.DataFrame({'feature': X_trans_names, 'importance': rfc_feature_importance}).sort_values('importance', ascending=False).reset_index(drop=True)\n",
    "\n",
    "trace = go.Bar(x=importances.head(40).feature, y=importances.head(10).importance)\n",
    "\n",
    "layout = go.Layout(title='Random Forest Feature Importances',\n",
    "                  yaxis=dict(title='Relative Importance'))\n",
    "\n",
    "fig = go.Figure([trace], layout)\n",
    "iplot(fig, filename='feature_importance.html')"
   ]
  },
  {
   "cell_type": "code",
   "execution_count": 42,
   "metadata": {},
   "outputs": [
    {
     "data": {
      "text/plain": [
       "ExtraTreesClassifier(bootstrap=False, ccp_alpha=0.0, class_weight=None,\n",
       "                     criterion='gini', max_depth=None, max_features='auto',\n",
       "                     max_leaf_nodes=None, max_samples=None,\n",
       "                     min_impurity_decrease=0.0, min_impurity_split=None,\n",
       "                     min_samples_leaf=1, min_samples_split=10,\n",
       "                     min_weight_fraction_leaf=0.0, n_estimators=100,\n",
       "                     n_jobs=None, oob_score=False, random_state=None, verbose=0,\n",
       "                     warm_start=False)"
      ]
     },
     "execution_count": 42,
     "metadata": {},
     "output_type": "execute_result"
    }
   ],
   "source": [
    "# Training Extra Trees Classifier Model\n",
    "modelETC = ExtraTreesClassifier(n_estimators=100,min_samples_split=10)\n",
    "modelETC.fit(X_train, y_train)"
   ]
  },
  {
   "cell_type": "code",
   "execution_count": 43,
   "metadata": {},
   "outputs": [
    {
     "name": "stdout",
     "output_type": "stream",
     "text": [
      "Extra Trees Classifier Accuracy: 0.85\n"
     ]
    }
   ],
   "source": [
    "# Accuracy score for Extra Trees\n",
    "y_pred = modelRFC.predict(X_test)\n",
    "scoreETC = accuracy_score(y_pred, y_test)\n",
    "print('Extra Trees Classifier Accuracy: {:.2f}'.format(scoreETC))"
   ]
  },
  {
   "cell_type": "code",
   "execution_count": 44,
   "metadata": {},
   "outputs": [
    {
     "data": {
      "image/png": "[encoded data removed]",
      "text/plain": [
       "<Figure size 1728x576 with 1 Axes>"
      ]
     },
     "metadata": {
      "needs_background": "light"
     },
     "output_type": "display_data"
    }
   ],
   "source": [
    "# Plotting the most important features\n",
    "num_top_features = 10\n",
    "etc_feature_importance = modelETC.feature_importances_\n",
    "\n",
    "sorted_etc_importance = sorted(zip(X_trans_names, etc_feature_importance),\n",
    "                             key=lambda x:x[-1],\n",
    "                             reverse=True)\n",
    "fig, axe = plt.subplots(1,1)\n",
    "axe.plot([elm[-1] for elm in sorted_etc_importance][:num_top_features], 'o')\n",
    "\n",
    "for (id, (f_name, f_importance)) in enumerate(sorted_etc_importance[:num_top_features]):\n",
    "    axe.annotate('{}'.format(f_name),xy=(id, f_importance))\n",
    "axe.set_ylabel('Sensitivity index')\n",
    "fig = plt.gcf()\n",
    "fig.set_size_inches(24,8)"
   ]
  },
  {
   "cell_type": "code",
   "execution_count": 45,
   "metadata": {},
   "outputs": [
    {
     "data": {
      "text/plain": [
       "[('quantity-dry', 0.1483387551132379),\n",
       " ('extraction_type_class-other', 0.05142855361789028),\n",
       " ('latitude', 0.046401155660321276),\n",
       " ('longitude', 0.045811489802478345),\n",
       " ('extraction_type-other', 0.04571800157491441),\n",
       " ('quantity-enough', 0.040365440676693766),\n",
       " ('pump_age', 0.03680727050603063),\n",
       " ('construction_year', 0.03434650437406784),\n",
       " ('week_rec', 0.03159155209952463),\n",
       " ('day_rec', 0.030189586856217077),\n",
       " ('payment_type-never pay', 0.022433900029273878),\n",
       " ('quantity-insufficient', 0.02001736894012816),\n",
       " ('water_quality-unknown', 0.012971783059334954),\n",
       " ('funder-government of tanzania', 0.012817880096368433),\n",
       " ('extraction_type_class-handpump', 0.012474727299036365),\n",
       " ('funder-OTHER', 0.011965966460575525),\n",
       " ('year_rec', 0.01193580733103498),\n",
       " ('source-spring', 0.01171158258416542),\n",
       " ('payment_type-per bucket', 0.01114040821074373),\n",
       " ('management-vwc', 0.011051528520884153),\n",
       " ('payment_type-unknown', 0.010553592554512716),\n",
       " ('extraction_type_class-gravity', 0.010314951828583248),\n",
       " ('quantity-seasonal', 0.01015442532133781),\n",
       " ('extraction_type-nira/tanira', 0.009768989928811261),\n",
       " ('source-shallow well', 0.009353270279048854),\n",
       " ('water_quality-soft', 0.009266398644996954),\n",
       " ('payment_type-monthly', 0.009224750355925565),\n",
       " ('extraction_type-gravity', 0.009164821876040466),\n",
       " ('scheme_management-vwc', 0.00889467525060585),\n",
       " ('source-machine dbh', 0.008011305073422762),\n",
       " ('source-rainwater harvesting', 0.007857528378303674),\n",
       " ('source_class-surface', 0.007816367729481815),\n",
       " ('lga-OTHER', 0.007682492690487037),\n",
       " ('basin-internal', 0.007571973380350445),\n",
       " ('source_class-groundwater', 0.007552037103715188),\n",
       " ('payment_type-annually', 0.00700369981535707),\n",
       " ('basin-lake victoria', 0.006933566137038874),\n",
       " ('basin-lake nyasa', 0.006884255687139489),\n",
       " ('basin-pangani', 0.006678112335467501),\n",
       " ('basin-rufiji', 0.006289884595072324),\n",
       " ('basin-wami / ruvu', 0.00615203215202708),\n",
       " ('funder-Unknown', 0.006099171495670516),\n",
       " ('basin-lake tanganyika', 0.0057200079344237155),\n",
       " ('extraction_type_class-motorpump', 0.0056338432194900055),\n",
       " ('source-river', 0.0053667241159348145),\n",
       " ('extraction_type_class-submersible', 0.005256493430667662),\n",
       " ('basin-ruvuma / southern coast', 0.0051071055376162525),\n",
       " ('scheme_management-wug', 0.005042304678635129),\n",
       " ('extraction_type-mono', 0.0047002105984343375),\n",
       " ('water_quality-salty', 0.0046979507421676895),\n",
       " ('source-lake', 0.0045412654822836575),\n",
       " ('extraction_type-ksb', 0.004355597649424367),\n",
       " ('scheme_management-Unknown', 0.004165576950742948),\n",
       " ('basin-lake rukwa', 0.004042898913978664),\n",
       " ('extraction_type-submersible', 0.004025117178348279),\n",
       " ('payment_type-on failure', 0.0040174675582665504),\n",
       " ('extraction_type-swn 80', 0.0038422247466550646),\n",
       " ('funder-world bank', 0.0038158578057056526),\n",
       " ('management-wug', 0.0038157030101079),\n",
       " ('scheme_management-water authority', 0.003756580582750421),\n",
       " ('funder-danida', 0.003744103497451669),\n",
       " ('quantity-unknown', 0.0035218356480718983),\n",
       " ('management-private operator', 0.003510632629070663),\n",
       " ('funder-hesawa', 0.0034782407748771543),\n",
       " ('scheme_management-company', 0.003266849127214638),\n",
       " ('management-company', 0.0031350943255308477),\n",
       " ('scheme_management-water board', 0.0028771992230965655),\n",
       " ('management-water board', 0.002869185036998183),\n",
       " ('extraction_type-afridev', 0.0028309587428952832),\n",
       " ('lga-njombe', 0.0028282400443374743),\n",
       " ('extraction_type-OTHER', 0.0028092519885557724),\n",
       " ('extraction_type-india mark ii', 0.0027514113250408567),\n",
       " ('source-dam', 0.0025245373647016724),\n",
       " ('scheme_management-wua', 0.0024711325894616466),\n",
       " ('funder-rwssp', 0.0022652415272390123),\n",
       " ('funder-unicef', 0.0021351845451871095),\n",
       " ('management-OTHER', 0.0021021012644559882),\n",
       " ('management-wua', 0.0020291426789518442),\n",
       " ('funder-world vision', 0.001954363586968189),\n",
       " ('scheme_management-OTHER', 0.001951417000120919),\n",
       " ('management-parastatal', 0.0018881546169757623),\n",
       " ('water_quality-milky', 0.00179639317200369),\n",
       " ('lga-kasulu', 0.0017702120632141134),\n",
       " ('scheme_management-private operator', 0.0017683649780125277),\n",
       " ('lga-bariadi', 0.001768260778049375),\n",
       " ('scheme_management-parastatal', 0.0017551452505694192),\n",
       " ('funder-kkkt', 0.0017341698010267083),\n",
       " ('lga-kilosa', 0.0016699886271814928),\n",
       " ('lga-moshi rural', 0.0016479304365048066),\n",
       " ('lga-rungwe', 0.0016161268765359999),\n",
       " ('payment_type-other', 0.0015865661168890976),\n",
       " ('lga-arusha rural', 0.001573672679133196),\n",
       " ('management-water authority', 0.0015689261228769747),\n",
       " ('lga-mbozi', 0.0015387126183654559),\n",
       " ('source-hand dtw', 0.0015210402769707519),\n",
       " ('lga-meru', 0.0014628071224258388),\n",
       " ('management-other', 0.0013983837556829247),\n",
       " ('water_quality-coloured', 0.0012114502584653806),\n",
       " ('water_quality-salty abandoned', 0.00099366878160304),\n",
       " ('extraction_type_class-rope pump', 0.0009734632873208262),\n",
       " ('source_class-unknown', 0.0007696194802663659),\n",
       " ('water_quality-fluoride', 0.0007400609871073896),\n",
       " ('source-other', 0.0006226526049529974),\n",
       " ('extraction_type_class-wind-powered', 0.0004093494823735904),\n",
       " ('source-OTHER', 0.00035354559276404274),\n",
       " ('water_quality-fluoride abandoned', 0.0001547157505495264)]"
      ]
     },
     "execution_count": 45,
     "metadata": {},
     "output_type": "execute_result"
    }
   ],
   "source": [
    "sorted_etc_importance"
   ]
  },
  {
   "cell_type": "code",
   "execution_count": 46,
   "metadata": {},
   "outputs": [
    {
     "data": {
      "application/vnd.plotly.v1+json": {
       "config": {
        "linkText": "Export to plot.ly",
        "plotlyServerURL": "https://plot.ly",
        "showLink": false
       },
       "data": [
        {
         "type": "bar",
         "x": [
          "quantity-dry",
          "extraction_type_class-other",
          "latitude",
          "longitude",
          "extraction_type-other",
          "quantity-enough",
          "pump_age",
          "construction_year",
          "week_rec",
          "day_rec",
          "payment_type-never pay",
          "quantity-insufficient",
          "water_quality-unknown",
          "funder-government of tanzania",
          "extraction_type_class-handpump",
          "funder-OTHER",
          "year_rec",
          "source-spring",
          "payment_type-per bucket",
          "management-vwc",
          "payment_type-unknown",
          "extraction_type_class-gravity",
          "quantity-seasonal",
          "extraction_type-nira/tanira",
          "source-shallow well",
          "water_quality-soft",
          "payment_type-monthly",
          "extraction_type-gravity",
          "scheme_management-vwc",
          "source-machine dbh",
          "source-rainwater harvesting",
          "source_class-surface",
          "lga-OTHER",
          "basin-internal",
          "source_class-groundwater",
          "payment_type-annually",
          "basin-lake victoria",
          "basin-lake nyasa",
          "basin-pangani",
          "basin-rufiji"
         ],
         "y": [
          0.1483387551132379,
          0.05142855361789028,
          0.046401155660321276,
          0.045811489802478345,
          0.04571800157491441,
          0.040365440676693766,
          0.03680727050603063,
          0.03434650437406784,
          0.03159155209952463,
          0.030189586856217077
         ]
        }
       ],
       "layout": {
        "template": {
         "data": {
          "bar": [
           {
            "error_x": {
             "color": "#2a3f5f"
            },
            "error_y": {
             "color": "#2a3f5f"
            },
            "marker": {
             "line": {
              "color": "#E5ECF6",
              "width": 0.5
             }
            },
            "type": "bar"
           }
          ],
          "barpolar": [
           {
            "marker": {
             "line": {
              "color": "#E5ECF6",
              "width": 0.5
             }
            },
            "type": "barpolar"
           }
          ],
          "carpet": [
           {
            "aaxis": {
             "endlinecolor": "#2a3f5f",
             "gridcolor": "white",
             "linecolor": "white",
             "minorgridcolor": "white",
             "startlinecolor": "#2a3f5f"
            },
            "baxis": {
             "endlinecolor": "#2a3f5f",
             "gridcolor": "white",
             "linecolor": "white",
             "minorgridcolor": "white",
             "startlinecolor": "#2a3f5f"
            },
            "type": "carpet"
           }
          ],
          "choropleth": [
           {
            "colorbar": {
             "outlinewidth": 0,
             "ticks": ""
            },
            "type": "choropleth"
           }
          ],
          "contour": [
           {
            "colorbar": {
             "outlinewidth": 0,
             "ticks": ""
            },
            "colorscale": [
             [
              0,
              "#0d0887"
             ],
             [
              0.1111111111111111,
              "#46039f"
             ],
             [
              0.2222222222222222,
              "#7201a8"
             ],
             [
              0.3333333333333333,
              "#9c179e"
             ],
             [
              0.4444444444444444,
              "#bd3786"
             ],
             [
              0.5555555555555556,
              "#d8576b"
             ],
             [
              0.6666666666666666,
              "#ed7953"
             ],
             [
              0.7777777777777778,
              "#fb9f3a"
             ],
             [
              0.8888888888888888,
              "#fdca26"
             ],
             [
              1,
              "#f0f921"
             ]
            ],
            "type": "contour"
           }
          ],
          "contourcarpet": [
           {
            "colorbar": {
             "outlinewidth": 0,
             "ticks": ""
            },
            "type": "contourcarpet"
           }
          ],
          "heatmap": [
           {
            "colorbar": {
             "outlinewidth": 0,
             "ticks": ""
            },
            "colorscale": [
             [
              0,
              "#0d0887"
             ],
             [
              0.1111111111111111,
              "#46039f"
             ],
             [
              0.2222222222222222,
              "#7201a8"
             ],
             [
              0.3333333333333333,
              "#9c179e"
             ],
             [
              0.4444444444444444,
              "#bd3786"
             ],
             [
              0.5555555555555556,
              "#d8576b"
             ],
             [
              0.6666666666666666,
              "#ed7953"
             ],
             [
              0.7777777777777778,
              "#fb9f3a"
             ],
             [
              0.8888888888888888,
              "#fdca26"
             ],
             [
              1,
              "#f0f921"
             ]
            ],
            "type": "heatmap"
           }
          ],
          "heatmapgl": [
           {
            "colorbar": {
             "outlinewidth": 0,
             "ticks": ""
            },
            "colorscale": [
             [
              0,
              "#0d0887"
             ],
             [
              0.1111111111111111,
              "#46039f"
             ],
             [
              0.2222222222222222,
              "#7201a8"
             ],
             [
              0.3333333333333333,
              "#9c179e"
             ],
             [
              0.4444444444444444,
              "#bd3786"
             ],
             [
              0.5555555555555556,
              "#d8576b"
             ],
             [
              0.6666666666666666,
              "#ed7953"
             ],
             [
              0.7777777777777778,
              "#fb9f3a"
             ],
             [
              0.8888888888888888,
              "#fdca26"
             ],
             [
              1,
              "#f0f921"
             ]
            ],
            "type": "heatmapgl"
           }
          ],
          "histogram": [
           {
            "marker": {
             "colorbar": {
              "outlinewidth": 0,
              "ticks": ""
             }
            },
            "type": "histogram"
           }
          ],
          "histogram2d": [
           {
            "colorbar": {
             "outlinewidth": 0,
             "ticks": ""
            },
            "colorscale": [
             [
              0,
              "#0d0887"
             ],
             [
              0.1111111111111111,
              "#46039f"
             ],
             [
              0.2222222222222222,
              "#7201a8"
             ],
             [
              0.3333333333333333,
              "#9c179e"
             ],
             [
              0.4444444444444444,
              "#bd3786"
             ],
             [
              0.5555555555555556,
              "#d8576b"
             ],
             [
              0.6666666666666666,
              "#ed7953"
             ],
             [
              0.7777777777777778,
              "#fb9f3a"
             ],
             [
              0.8888888888888888,
              "#fdca26"
             ],
             [
              1,
              "#f0f921"
             ]
            ],
            "type": "histogram2d"
           }
          ],
          "histogram2dcontour": [
           {
            "colorbar": {
             "outlinewidth": 0,
             "ticks": ""
            },
            "colorscale": [
             [
              0,
              "#0d0887"
             ],
             [
              0.1111111111111111,
              "#46039f"
             ],
             [
              0.2222222222222222,
              "#7201a8"
             ],
             [
              0.3333333333333333,
              "#9c179e"
             ],
             [
              0.4444444444444444,
              "#bd3786"
             ],
             [
              0.5555555555555556,
              "#d8576b"
             ],
             [
              0.6666666666666666,
              "#ed7953"
             ],
             [
              0.7777777777777778,
              "#fb9f3a"
             ],
             [
              0.8888888888888888,
              "#fdca26"
             ],
             [
              1,
              "#f0f921"
             ]
            ],
            "type": "histogram2dcontour"
           }
          ],
          "mesh3d": [
           {
            "colorbar": {
             "outlinewidth": 0,
             "ticks": ""
            },
            "type": "mesh3d"
           }
          ],
          "parcoords": [
           {
            "line": {
             "colorbar": {
              "outlinewidth": 0,
              "ticks": ""
             }
            },
            "type": "parcoords"
           }
          ],
          "pie": [
           {
            "automargin": true,
            "type": "pie"
           }
          ],
          "scatter": [
           {
            "marker": {
             "colorbar": {
              "outlinewidth": 0,
              "ticks": ""
             }
            },
            "type": "scatter"
           }
          ],
          "scatter3d": [
           {
            "line": {
             "colorbar": {
              "outlinewidth": 0,
              "ticks": ""
             }
            },
            "marker": {
             "colorbar": {
              "outlinewidth": 0,
              "ticks": ""
             }
            },
            "type": "scatter3d"
           }
          ],
          "scattercarpet": [
           {
            "marker": {
             "colorbar": {
              "outlinewidth": 0,
              "ticks": ""
             }
            },
            "type": "scattercarpet"
           }
          ],
          "scattergeo": [
           {
            "marker": {
             "colorbar": {
              "outlinewidth": 0,
              "ticks": ""
             }
            },
            "type": "scattergeo"
           }
          ],
          "scattergl": [
           {
            "marker": {
             "colorbar": {
              "outlinewidth": 0,
              "ticks": ""
             }
            },
            "type": "scattergl"
           }
          ],
          "scattermapbox": [
           {
            "marker": {
             "colorbar": {
              "outlinewidth": 0,
              "ticks": ""
             }
            },
            "type": "scattermapbox"
           }
          ],
          "scatterpolar": [
           {
            "marker": {
             "colorbar": {
              "outlinewidth": 0,
              "ticks": ""
             }
            },
            "type": "scatterpolar"
           }
          ],
          "scatterpolargl": [
           {
            "marker": {
             "colorbar": {
              "outlinewidth": 0,
              "ticks": ""
             }
            },
            "type": "scatterpolargl"
           }
          ],
          "scatterternary": [
           {
            "marker": {
             "colorbar": {
              "outlinewidth": 0,
              "ticks": ""
             }
            },
            "type": "scatterternary"
           }
          ],
          "surface": [
           {
            "colorbar": {
             "outlinewidth": 0,
             "ticks": ""
            },
            "colorscale": [
             [
              0,
              "#0d0887"
             ],
             [
              0.1111111111111111,
              "#46039f"
             ],
             [
              0.2222222222222222,
              "#7201a8"
             ],
             [
              0.3333333333333333,
              "#9c179e"
             ],
             [
              0.4444444444444444,
              "#bd3786"
             ],
             [
              0.5555555555555556,
              "#d8576b"
             ],
             [
              0.6666666666666666,
              "#ed7953"
             ],
             [
              0.7777777777777778,
              "#fb9f3a"
             ],
             [
              0.8888888888888888,
              "#fdca26"
             ],
             [
              1,
              "#f0f921"
             ]
            ],
            "type": "surface"
           }
          ],
          "table": [
           {
            "cells": {
             "fill": {
              "color": "#EBF0F8"
             },
             "line": {
              "color": "white"
             }
            },
            "header": {
             "fill": {
              "color": "#C8D4E3"
             },
             "line": {
              "color": "white"
             }
            },
            "type": "table"
           }
          ]
         },
         "layout": {
          "annotationdefaults": {
           "arrowcolor": "#2a3f5f",
           "arrowhead": 0,
           "arrowwidth": 1
          },
          "coloraxis": {
           "colorbar": {
            "outlinewidth": 0,
            "ticks": ""
           }
          },
          "colorscale": {
           "diverging": [
            [
             0,
             "#8e0152"
            ],
            [
             0.1,
             "#c51b7d"
            ],
            [
             0.2,
             "#de77ae"
            ],
            [
             0.3,
             "#f1b6da"
            ],
            [
             0.4,
             "#fde0ef"
            ],
            [
             0.5,
             "#f7f7f7"
            ],
            [
             0.6,
             "#e6f5d0"
            ],
            [
             0.7,
             "#b8e186"
            ],
            [
             0.8,
             "#7fbc41"
            ],
            [
             0.9,
             "#4d9221"
            ],
            [
             1,
             "#276419"
            ]
           ],
           "sequential": [
            [
             0,
             "#0d0887"
            ],
            [
             0.1111111111111111,
             "#46039f"
            ],
            [
             0.2222222222222222,
             "#7201a8"
            ],
            [
             0.3333333333333333,
             "#9c179e"
            ],
            [
             0.4444444444444444,
             "#bd3786"
            ],
            [
             0.5555555555555556,
             "#d8576b"
            ],
            [
             0.6666666666666666,
             "#ed7953"
            ],
            [
             0.7777777777777778,
             "#fb9f3a"
            ],
            [
             0.8888888888888888,
             "#fdca26"
            ],
            [
             1,
             "#f0f921"
            ]
           ],
           "sequentialminus": [
            [
             0,
             "#0d0887"
            ],
            [
             0.1111111111111111,
             "#46039f"
            ],
            [
             0.2222222222222222,
             "#7201a8"
            ],
            [
             0.3333333333333333,
             "#9c179e"
            ],
            [
             0.4444444444444444,
             "#bd3786"
            ],
            [
             0.5555555555555556,
             "#d8576b"
            ],
            [
             0.6666666666666666,
             "#ed7953"
            ],
            [
             0.7777777777777778,
             "#fb9f3a"
            ],
            [
             0.8888888888888888,
             "#fdca26"
            ],
            [
             1,
             "#f0f921"
            ]
           ]
          },
          "colorway": [
           "#636efa",
           "#EF553B",
           "#00cc96",
           "#ab63fa",
           "#FFA15A",
           "#19d3f3",
           "#FF6692",
           "#B6E880",
           "#FF97FF",
           "#FECB52"
          ],
          "font": {
           "color": "#2a3f5f"
          },
          "geo": {
           "bgcolor": "white",
           "lakecolor": "white",
           "landcolor": "#E5ECF6",
           "showlakes": true,
           "showland": true,
           "subunitcolor": "white"
          },
          "hoverlabel": {
           "align": "left"
          },
          "hovermode": "closest",
          "mapbox": {
           "style": "light"
          },
          "paper_bgcolor": "white",
          "plot_bgcolor": "#E5ECF6",
          "polar": {
           "angularaxis": {
            "gridcolor": "white",
            "linecolor": "white",
            "ticks": ""
           },
           "bgcolor": "#E5ECF6",
           "radialaxis": {
            "gridcolor": "white",
            "linecolor": "white",
            "ticks": ""
           }
          },
          "scene": {
           "xaxis": {
            "backgroundcolor": "#E5ECF6",
            "gridcolor": "white",
            "gridwidth": 2,
            "linecolor": "white",
            "showbackground": true,
            "ticks": "",
            "zerolinecolor": "white"
           },
           "yaxis": {
            "backgroundcolor": "#E5ECF6",
            "gridcolor": "white",
            "gridwidth": 2,
            "linecolor": "white",
            "showbackground": true,
            "ticks": "",
            "zerolinecolor": "white"
           },
           "zaxis": {
            "backgroundcolor": "#E5ECF6",
            "gridcolor": "white",
            "gridwidth": 2,
            "linecolor": "white",
            "showbackground": true,
            "ticks": "",
            "zerolinecolor": "white"
           }
          },
          "shapedefaults": {
           "line": {
            "color": "#2a3f5f"
           }
          },
          "ternary": {
           "aaxis": {
            "gridcolor": "white",
            "linecolor": "white",
            "ticks": ""
           },
           "baxis": {
            "gridcolor": "white",
            "linecolor": "white",
            "ticks": ""
           },
           "bgcolor": "#E5ECF6",
           "caxis": {
            "gridcolor": "white",
            "linecolor": "white",
            "ticks": ""
           }
          },
          "title": {
           "x": 0.05
          },
          "xaxis": {
           "automargin": true,
           "gridcolor": "white",
           "linecolor": "white",
           "ticks": "",
           "title": {
            "standoff": 15
           },
           "zerolinecolor": "white",
           "zerolinewidth": 2
          },
          "yaxis": {
           "automargin": true,
           "gridcolor": "white",
           "linecolor": "white",
           "ticks": "",
           "title": {
            "standoff": 15
           },
           "zerolinecolor": "white",
           "zerolinewidth": 2
          }
         }
        },
        "title": {
         "text": "Feature Importances"
        },
        "yaxis": {
         "title": {
          "text": "Relative Importance"
         }
        }
       }
      },
      "text/html": [
       "<div>\n",
       "        \n",
       "        \n",
       "            <div id=\"fa9915ff-e3b4-4e8c-a5b0-c8917f877e13\" class=\"plotly-graph-div\" style=\"height:525px; width:100%;\"></div>\n",
       "            <script type=\"text/javascript\">\n",
       "                require([\"plotly\"], function(Plotly) {\n",
       "                    window.PLOTLYENV=window.PLOTLYENV || {};\n",
       "                    \n",
       "                if (document.getElementById(\"fa9915ff-e3b4-4e8c-a5b0-c8917f877e13\")) {\n",
       "                    Plotly.newPlot(\n",
       "                        'fa9915ff-e3b4-4e8c-a5b0-c8917f877e13',\n",
       "                        [{\"type\": \"bar\", \"x\": [\"quantity-dry\", \"extraction_type_class-other\", \"latitude\", \"longitude\", \"extraction_type-other\", \"quantity-enough\", \"pump_age\", \"construction_year\", \"week_rec\", \"day_rec\", \"payment_type-never pay\", \"quantity-insufficient\", \"water_quality-unknown\", \"funder-government of tanzania\", \"extraction_type_class-handpump\", \"funder-OTHER\", \"year_rec\", \"source-spring\", \"payment_type-per bucket\", \"management-vwc\", \"payment_type-unknown\", \"extraction_type_class-gravity\", \"quantity-seasonal\", \"extraction_type-nira/tanira\", \"source-shallow well\", \"water_quality-soft\", \"payment_type-monthly\", \"extraction_type-gravity\", \"scheme_management-vwc\", \"source-machine dbh\", \"source-rainwater harvesting\", \"source_class-surface\", \"lga-OTHER\", \"basin-internal\", \"source_class-groundwater\", \"payment_type-annually\", \"basin-lake victoria\", \"basin-lake nyasa\", \"basin-pangani\", \"basin-rufiji\"], \"y\": [0.1483387551132379, 0.05142855361789028, 0.046401155660321276, 0.045811489802478345, 0.04571800157491441, 0.040365440676693766, 0.03680727050603063, 0.03434650437406784, 0.03159155209952463, 0.030189586856217077]}],\n",
       "                        {\"template\": {\"data\": {\"bar\": [{\"error_x\": {\"color\": \"#2a3f5f\"}, \"error_y\": {\"color\": \"#2a3f5f\"}, \"marker\": {\"line\": {\"color\": \"#E5ECF6\", \"width\": 0.5}}, \"type\": \"bar\"}], \"barpolar\": [{\"marker\": {\"line\": {\"color\": \"#E5ECF6\", \"width\": 0.5}}, \"type\": \"barpolar\"}], \"carpet\": [{\"aaxis\": {\"endlinecolor\": \"#2a3f5f\", \"gridcolor\": \"white\", \"linecolor\": \"white\", \"minorgridcolor\": \"white\", \"startlinecolor\": \"#2a3f5f\"}, \"baxis\": {\"endlinecolor\": \"#2a3f5f\", \"gridcolor\": \"white\", \"linecolor\": \"white\", \"minorgridcolor\": \"white\", \"startlinecolor\": \"#2a3f5f\"}, \"type\": \"carpet\"}], \"choropleth\": [{\"colorbar\": {\"outlinewidth\": 0, \"ticks\": \"\"}, \"type\": \"choropleth\"}], \"contour\": [{\"colorbar\": {\"outlinewidth\": 0, \"ticks\": \"\"}, \"colorscale\": [[0.0, \"#0d0887\"], [0.1111111111111111, \"#46039f\"], [0.2222222222222222, \"#7201a8\"], [0.3333333333333333, \"#9c179e\"], [0.4444444444444444, \"#bd3786\"], [0.5555555555555556, \"#d8576b\"], [0.6666666666666666, \"#ed7953\"], [0.7777777777777778, \"#fb9f3a\"], [0.8888888888888888, \"#fdca26\"], [1.0, \"#f0f921\"]], \"type\": \"contour\"}], \"contourcarpet\": [{\"colorbar\": {\"outlinewidth\": 0, \"ticks\": \"\"}, \"type\": \"contourcarpet\"}], \"heatmap\": [{\"colorbar\": {\"outlinewidth\": 0, \"ticks\": \"\"}, \"colorscale\": [[0.0, \"#0d0887\"], [0.1111111111111111, \"#46039f\"], [0.2222222222222222, \"#7201a8\"], [0.3333333333333333, \"#9c179e\"], [0.4444444444444444, \"#bd3786\"], [0.5555555555555556, \"#d8576b\"], [0.6666666666666666, \"#ed7953\"], [0.7777777777777778, \"#fb9f3a\"], [0.8888888888888888, \"#fdca26\"], [1.0, \"#f0f921\"]], \"type\": \"heatmap\"}], \"heatmapgl\": [{\"colorbar\": {\"outlinewidth\": 0, \"ticks\": \"\"}, \"colorscale\": [[0.0, \"#0d0887\"], [0.1111111111111111, \"#46039f\"], [0.2222222222222222, \"#7201a8\"], [0.3333333333333333, \"#9c179e\"], [0.4444444444444444, \"#bd3786\"], [0.5555555555555556, \"#d8576b\"], [0.6666666666666666, \"#ed7953\"], [0.7777777777777778, \"#fb9f3a\"], [0.8888888888888888, \"#fdca26\"], [1.0, \"#f0f921\"]], \"type\": \"heatmapgl\"}], \"histogram\": [{\"marker\": {\"colorbar\": {\"outlinewidth\": 0, \"ticks\": \"\"}}, \"type\": \"histogram\"}], \"histogram2d\": [{\"colorbar\": {\"outlinewidth\": 0, \"ticks\": \"\"}, \"colorscale\": [[0.0, \"#0d0887\"], [0.1111111111111111, \"#46039f\"], [0.2222222222222222, \"#7201a8\"], [0.3333333333333333, \"#9c179e\"], [0.4444444444444444, \"#bd3786\"], [0.5555555555555556, \"#d8576b\"], [0.6666666666666666, \"#ed7953\"], [0.7777777777777778, \"#fb9f3a\"], [0.8888888888888888, \"#fdca26\"], [1.0, \"#f0f921\"]], \"type\": \"histogram2d\"}], \"histogram2dcontour\": [{\"colorbar\": {\"outlinewidth\": 0, \"ticks\": \"\"}, \"colorscale\": [[0.0, \"#0d0887\"], [0.1111111111111111, \"#46039f\"], [0.2222222222222222, \"#7201a8\"], [0.3333333333333333, \"#9c179e\"], [0.4444444444444444, \"#bd3786\"], [0.5555555555555556, \"#d8576b\"], [0.6666666666666666, \"#ed7953\"], [0.7777777777777778, \"#fb9f3a\"], [0.8888888888888888, \"#fdca26\"], [1.0, \"#f0f921\"]], \"type\": \"histogram2dcontour\"}], \"mesh3d\": [{\"colorbar\": {\"outlinewidth\": 0, \"ticks\": \"\"}, \"type\": \"mesh3d\"}], \"parcoords\": [{\"line\": {\"colorbar\": {\"outlinewidth\": 0, \"ticks\": \"\"}}, \"type\": \"parcoords\"}], \"pie\": [{\"automargin\": true, \"type\": \"pie\"}], \"scatter\": [{\"marker\": {\"colorbar\": {\"outlinewidth\": 0, \"ticks\": \"\"}}, \"type\": \"scatter\"}], \"scatter3d\": [{\"line\": {\"colorbar\": {\"outlinewidth\": 0, \"ticks\": \"\"}}, \"marker\": {\"colorbar\": {\"outlinewidth\": 0, \"ticks\": \"\"}}, \"type\": \"scatter3d\"}], \"scattercarpet\": [{\"marker\": {\"colorbar\": {\"outlinewidth\": 0, \"ticks\": \"\"}}, \"type\": \"scattercarpet\"}], \"scattergeo\": [{\"marker\": {\"colorbar\": {\"outlinewidth\": 0, \"ticks\": \"\"}}, \"type\": \"scattergeo\"}], \"scattergl\": [{\"marker\": {\"colorbar\": {\"outlinewidth\": 0, \"ticks\": \"\"}}, \"type\": \"scattergl\"}], \"scattermapbox\": [{\"marker\": {\"colorbar\": {\"outlinewidth\": 0, \"ticks\": \"\"}}, \"type\": \"scattermapbox\"}], \"scatterpolar\": [{\"marker\": {\"colorbar\": {\"outlinewidth\": 0, \"ticks\": \"\"}}, \"type\": \"scatterpolar\"}], \"scatterpolargl\": [{\"marker\": {\"colorbar\": {\"outlinewidth\": 0, \"ticks\": \"\"}}, \"type\": \"scatterpolargl\"}], \"scatterternary\": [{\"marker\": {\"colorbar\": {\"outlinewidth\": 0, \"ticks\": \"\"}}, \"type\": \"scatterternary\"}], \"surface\": [{\"colorbar\": {\"outlinewidth\": 0, \"ticks\": \"\"}, \"colorscale\": [[0.0, \"#0d0887\"], [0.1111111111111111, \"#46039f\"], [0.2222222222222222, \"#7201a8\"], [0.3333333333333333, \"#9c179e\"], [0.4444444444444444, \"#bd3786\"], [0.5555555555555556, \"#d8576b\"], [0.6666666666666666, \"#ed7953\"], [0.7777777777777778, \"#fb9f3a\"], [0.8888888888888888, \"#fdca26\"], [1.0, \"#f0f921\"]], \"type\": \"surface\"}], \"table\": [{\"cells\": {\"fill\": {\"color\": \"#EBF0F8\"}, \"line\": {\"color\": \"white\"}}, \"header\": {\"fill\": {\"color\": \"#C8D4E3\"}, \"line\": {\"color\": \"white\"}}, \"type\": \"table\"}]}, \"layout\": {\"annotationdefaults\": {\"arrowcolor\": \"#2a3f5f\", \"arrowhead\": 0, \"arrowwidth\": 1}, \"coloraxis\": {\"colorbar\": {\"outlinewidth\": 0, \"ticks\": \"\"}}, \"colorscale\": {\"diverging\": [[0, \"#8e0152\"], [0.1, \"#c51b7d\"], [0.2, \"#de77ae\"], [0.3, \"#f1b6da\"], [0.4, \"#fde0ef\"], [0.5, \"#f7f7f7\"], [0.6, \"#e6f5d0\"], [0.7, \"#b8e186\"], [0.8, \"#7fbc41\"], [0.9, \"#4d9221\"], [1, \"#276419\"]], \"sequential\": [[0.0, \"#0d0887\"], [0.1111111111111111, \"#46039f\"], [0.2222222222222222, \"#7201a8\"], [0.3333333333333333, \"#9c179e\"], [0.4444444444444444, \"#bd3786\"], [0.5555555555555556, \"#d8576b\"], [0.6666666666666666, \"#ed7953\"], [0.7777777777777778, \"#fb9f3a\"], [0.8888888888888888, \"#fdca26\"], [1.0, \"#f0f921\"]], \"sequentialminus\": [[0.0, \"#0d0887\"], [0.1111111111111111, \"#46039f\"], [0.2222222222222222, \"#7201a8\"], [0.3333333333333333, \"#9c179e\"], [0.4444444444444444, \"#bd3786\"], [0.5555555555555556, \"#d8576b\"], [0.6666666666666666, \"#ed7953\"], [0.7777777777777778, \"#fb9f3a\"], [0.8888888888888888, \"#fdca26\"], [1.0, \"#f0f921\"]]}, \"colorway\": [\"#636efa\", \"#EF553B\", \"#00cc96\", \"#ab63fa\", \"#FFA15A\", \"#19d3f3\", \"#FF6692\", \"#B6E880\", \"#FF97FF\", \"#FECB52\"], \"font\": {\"color\": \"#2a3f5f\"}, \"geo\": {\"bgcolor\": \"white\", \"lakecolor\": \"white\", \"landcolor\": \"#E5ECF6\", \"showlakes\": true, \"showland\": true, \"subunitcolor\": \"white\"}, \"hoverlabel\": {\"align\": \"left\"}, \"hovermode\": \"closest\", \"mapbox\": {\"style\": \"light\"}, \"paper_bgcolor\": \"white\", \"plot_bgcolor\": \"#E5ECF6\", \"polar\": {\"angularaxis\": {\"gridcolor\": \"white\", \"linecolor\": \"white\", \"ticks\": \"\"}, \"bgcolor\": \"#E5ECF6\", \"radialaxis\": {\"gridcolor\": \"white\", \"linecolor\": \"white\", \"ticks\": \"\"}}, \"scene\": {\"xaxis\": {\"backgroundcolor\": \"#E5ECF6\", \"gridcolor\": \"white\", \"gridwidth\": 2, \"linecolor\": \"white\", \"showbackground\": true, \"ticks\": \"\", \"zerolinecolor\": \"white\"}, \"yaxis\": {\"backgroundcolor\": \"#E5ECF6\", \"gridcolor\": \"white\", \"gridwidth\": 2, \"linecolor\": \"white\", \"showbackground\": true, \"ticks\": \"\", \"zerolinecolor\": \"white\"}, \"zaxis\": {\"backgroundcolor\": \"#E5ECF6\", \"gridcolor\": \"white\", \"gridwidth\": 2, \"linecolor\": \"white\", \"showbackground\": true, \"ticks\": \"\", \"zerolinecolor\": \"white\"}}, \"shapedefaults\": {\"line\": {\"color\": \"#2a3f5f\"}}, \"ternary\": {\"aaxis\": {\"gridcolor\": \"white\", \"linecolor\": \"white\", \"ticks\": \"\"}, \"baxis\": {\"gridcolor\": \"white\", \"linecolor\": \"white\", \"ticks\": \"\"}, \"bgcolor\": \"#E5ECF6\", \"caxis\": {\"gridcolor\": \"white\", \"linecolor\": \"white\", \"ticks\": \"\"}}, \"title\": {\"x\": 0.05}, \"xaxis\": {\"automargin\": true, \"gridcolor\": \"white\", \"linecolor\": \"white\", \"ticks\": \"\", \"title\": {\"standoff\": 15}, \"zerolinecolor\": \"white\", \"zerolinewidth\": 2}, \"yaxis\": {\"automargin\": true, \"gridcolor\": \"white\", \"linecolor\": \"white\", \"ticks\": \"\", \"title\": {\"standoff\": 15}, \"zerolinecolor\": \"white\", \"zerolinewidth\": 2}}}, \"title\": {\"text\": \"Feature Importances\"}, \"yaxis\": {\"title\": {\"text\": \"Relative Importance\"}}},\n",
       "                        {\"responsive\": true}\n",
       "                    ).then(function(){\n",
       "                            \n",
       "var gd = document.getElementById('fa9915ff-e3b4-4e8c-a5b0-c8917f877e13');\n",
       "var x = new MutationObserver(function (mutations, observer) {{\n",
       "        var display = window.getComputedStyle(gd).display;\n",
       "        if (!display || display === 'none') {{\n",
       "            console.log([gd, 'removed!']);\n",
       "            Plotly.purge(gd);\n",
       "            observer.disconnect();\n",
       "        }}\n",
       "}});\n",
       "\n",
       "// Listen for the removal of the full notebook cells\n",
       "var notebookContainer = gd.closest('#notebook-container');\n",
       "if (notebookContainer) {{\n",
       "    x.observe(notebookContainer, {childList: true});\n",
       "}}\n",
       "\n",
       "// Listen for the clearing of the current output cell\n",
       "var outputEl = gd.closest('.output');\n",
       "if (outputEl) {{\n",
       "    x.observe(outputEl, {childList: true});\n",
       "}}\n",
       "\n",
       "                        })\n",
       "                };\n",
       "                });\n",
       "            </script>\n",
       "        </div>"
      ]
     },
     "metadata": {},
     "output_type": "display_data"
    }
   ],
   "source": [
    "importances = pd.DataFrame({'feature': X_trans_names, 'importance': etc_feature_importance}).sort_values('importance', ascending=False).reset_index(drop=True)\n",
    "\n",
    "trace = go.Bar(x=importances.head(40).feature, y=importances.head(10).importance)\n",
    "\n",
    "layout = go.Layout(title='Feature Importances',\n",
    "                  yaxis=dict(title='Relative Importance'))\n",
    "\n",
    "fig = go.Figure([trace], layout)\n",
    "iplot(fig, filename='feature_importance.html')"
   ]
  },
  {
   "cell_type": "code",
   "execution_count": 47,
   "metadata": {},
   "outputs": [
    {
     "data": {
      "text/plain": [
       "XGBClassifier(base_score=0.5, booster='gbtree', colsample_bylevel=1,\n",
       "              colsample_bynode=1, colsample_bytree=0.4, eta=0.2,\n",
       "              eval_metric='merror', gamma=0, gpu_id=-1, importance_type='gain',\n",
       "              interaction_constraints=None, learning_rate=0.200000003,\n",
       "              max_delta_step=0, max_depth=14, maximize=False,\n",
       "              min_child_weight=1, missing=nan, monotone_constraints=None,\n",
       "              n_estimators=100, n_jobs=0, nrounds='min.error.idx', num_class=4,\n",
       "              num_parallel_tree=1, objective='multi:softmax', random_state=0,\n",
       "              reg_alpha=0, reg_lambda=1, scale_pos_weight=None, subsample=1,\n",
       "              tree_method=None, ...)"
      ]
     },
     "execution_count": 47,
     "metadata": {},
     "output_type": "execute_result"
    }
   ],
   "source": [
    "# Training XGBoost Classifier Model\n",
    "modelXGB = XGBClassifier(objective = 'multi:softmax', booster = 'gbtree', nrounds = 'min.error.idx', \n",
    "                      num_class = 4, maximize = False, eval_metric = 'merror', eta = .2,\n",
    "                      max_depth = 14, colsample_bytree = .4)\n",
    "\n",
    "modelXGB.fit(X_train, y_train)"
   ]
  },
  {
   "cell_type": "code",
   "execution_count": 48,
   "metadata": {},
   "outputs": [
    {
     "name": "stdout",
     "output_type": "stream",
     "text": [
      "XGBoost Classifier Accuracy: 0.86\n"
     ]
    }
   ],
   "source": [
    "# Accuracy score for XGBoost\n",
    "y_pred = modelXGB.predict(X_test)\n",
    "scoreXGB = accuracy_score(y_pred, y_test)\n",
    "print('XGBoost Classifier Accuracy: {:.2f}'.format(scoreXGB))"
   ]
  },
  {
   "cell_type": "code",
   "execution_count": 49,
   "metadata": {
    "scrolled": false
   },
   "outputs": [
    {
     "data": {
      "image/png": "[encoded data removed]",
      "text/plain": [
       "<Figure size 1728x576 with 1 Axes>"
      ]
     },
     "metadata": {
      "needs_background": "light"
     },
     "output_type": "display_data"
    }
   ],
   "source": [
    "# Plotting the most important features\n",
    "num_top_features = 10\n",
    "xgb_feature_importance = modelXGB.feature_importances_\n",
    "\n",
    "sorted_xgb_importance = sorted(zip(X_trans_names, xgb_feature_importance),\n",
    "                             key=lambda x:x[-1],\n",
    "                             reverse=True)\n",
    "fig, axe = plt.subplots(1,1)\n",
    "axe.plot([elm[-1] for elm in sorted_xgb_importance][:num_top_features], 'o')\n",
    "\n",
    "for (id, (f_name, f_importance)) in enumerate(sorted_xgb_importance[:num_top_features]):\n",
    "    axe.annotate('{}'.format(f_name),xy=(id, f_importance))\n",
    "axe.set_ylabel('Sensitivity index')\n",
    "fig = plt.gcf()\n",
    "fig.set_size_inches(24,8)"
   ]
  },
  {
   "cell_type": "code",
   "execution_count": 50,
   "metadata": {},
   "outputs": [
    {
     "data": {
      "text/plain": [
       "[('quantity-dry', 0.5114995),\n",
       " ('extraction_type_class-other', 0.1181342),\n",
       " ('extraction_type-other', 0.02027731),\n",
       " ('water_quality-unknown', 0.017594645),\n",
       " ('management-company', 0.013925047),\n",
       " ('payment_type-never pay', 0.009991333),\n",
       " ('lga-njombe', 0.008873277),\n",
       " ('quantity-enough', 0.008189857),\n",
       " ('funder-Unknown', 0.0069002877),\n",
       " ('payment_type-annually', 0.006706123),\n",
       " ('extraction_type-ksb', 0.00602103),\n",
       " ('extraction_type-mono', 0.005950746),\n",
       " ('lga-rungwe', 0.00589944),\n",
       " ('quantity-unknown', 0.005166608),\n",
       " ('basin-lake nyasa', 0.005032953),\n",
       " ('source_class-surface', 0.004998822),\n",
       " ('extraction_type_class-submersible', 0.004876918),\n",
       " ('scheme_management-water board', 0.0046246685),\n",
       " ('source-rainwater harvesting', 0.004585804),\n",
       " ('source-spring', 0.0045678886),\n",
       " ('lga-mbozi', 0.004495185),\n",
       " ('quantity-seasonal', 0.0043979906),\n",
       " ('payment_type-unknown', 0.004322427),\n",
       " ('management-water board', 0.004173556),\n",
       " ('funder-government of tanzania', 0.0041617774),\n",
       " ('management-private operator', 0.0041304124),\n",
       " ('payment_type-per bucket', 0.0040379167),\n",
       " ('source-dam', 0.0040084603),\n",
       " ('extraction_type_class-gravity', 0.003989031),\n",
       " ('extraction_type_class-rope pump', 0.003836241),\n",
       " ('lga-kasulu', 0.0037305981),\n",
       " ('source-other', 0.0036629052),\n",
       " ('quantity-insufficient', 0.0035258306),\n",
       " ('payment_type-monthly', 0.0034731766),\n",
       " ('lga-OTHER', 0.003459763),\n",
       " ('extraction_type_class-motorpump', 0.003427509),\n",
       " ('scheme_management-wug', 0.003408773),\n",
       " ('funder-world bank', 0.0033441703),\n",
       " ('extraction_type-nira/tanira', 0.0032971874),\n",
       " ('basin-ruvuma / southern coast', 0.0032754322),\n",
       " ('source-shallow well', 0.0032500569),\n",
       " ('management-vwc', 0.003181942),\n",
       " ('pump_age', 0.0031396798),\n",
       " ('year_rec', 0.0031334865),\n",
       " ('funder-unicef', 0.0030190027),\n",
       " ('latitude', 0.0029629003),\n",
       " ('management-other', 0.0029382142),\n",
       " ('lga-meru', 0.0029373672),\n",
       " ('lga-arusha rural', 0.0028331329),\n",
       " ('source-river', 0.002829743),\n",
       " ('basin-pangani', 0.0028044207),\n",
       " ('source-lake', 0.0027466388),\n",
       " ('scheme_management-vwc', 0.0027376155),\n",
       " ('extraction_type-submersible', 0.0027369272),\n",
       " ('basin-lake rukwa', 0.0027173713),\n",
       " ('source_class-groundwater', 0.0027068842),\n",
       " ('management-water authority', 0.0026748532),\n",
       " ('extraction_type-OTHER', 0.0026568593),\n",
       " ('lga-bariadi', 0.0026527285),\n",
       " ('scheme_management-company', 0.0026506353),\n",
       " ('source_class-unknown', 0.002623152),\n",
       " ('scheme_management-wua', 0.002616142),\n",
       " ('funder-danida', 0.0025942414),\n",
       " ('funder-rwssp', 0.0025776518),\n",
       " ('basin-rufiji', 0.0025710592),\n",
       " ('lga-moshi rural', 0.0025516322),\n",
       " ('water_quality-soft', 0.0025507417),\n",
       " ('extraction_type-gravity', 0.002497339),\n",
       " ('scheme_management-private operator', 0.0023384294),\n",
       " ('source-machine dbh', 0.002303299),\n",
       " ('funder-kkkt', 0.0022658396),\n",
       " ('scheme_management-OTHER', 0.0022491615),\n",
       " ('water_quality-milky', 0.0022281145),\n",
       " ('basin-internal', 0.0022245732),\n",
       " ('payment_type-on failure', 0.00222171),\n",
       " ('funder-hesawa', 0.0021923485),\n",
       " ('scheme_management-Unknown', 0.0021640195),\n",
       " ('basin-wami / ruvu', 0.0021572304),\n",
       " ('extraction_type-afridev', 0.0021466953),\n",
       " ('longitude', 0.0020856597),\n",
       " ('water_quality-coloured', 0.0020845484),\n",
       " ('scheme_management-water authority', 0.0020784067),\n",
       " ('payment_type-other', 0.0020673804),\n",
       " ('extraction_type_class-handpump', 0.0020576012),\n",
       " ('lga-kilosa', 0.0020544408),\n",
       " ('extraction_type-swn 80', 0.002005328),\n",
       " ('source-hand dtw', 0.0019844088),\n",
       " ('management-parastatal', 0.0019762276),\n",
       " ('water_quality-fluoride', 0.0019623744),\n",
       " ('funder-world vision', 0.0019041594),\n",
       " ('extraction_type-india mark ii', 0.0018861918),\n",
       " ('management-OTHER', 0.0018586122),\n",
       " ('management-wug', 0.001857731),\n",
       " ('basin-lake tanganyika', 0.0017986605),\n",
       " ('funder-OTHER', 0.0017874558),\n",
       " ('week_rec', 0.0017492772),\n",
       " ('extraction_type_class-wind-powered', 0.0017194663),\n",
       " ('management-wua', 0.0016390231),\n",
       " ('basin-lake victoria', 0.0016009638),\n",
       " ('water_quality-salty abandoned', 0.0015824761),\n",
       " ('water_quality-salty', 0.0015481091),\n",
       " ('day_rec', 0.0014463867),\n",
       " ('construction_year', 0.0014200389),\n",
       " ('source-OTHER', 0.0013545817),\n",
       " ('scheme_management-parastatal', 0.0013440604),\n",
       " ('water_quality-fluoride abandoned', 0.000787735)]"
      ]
     },
     "execution_count": 50,
     "metadata": {},
     "output_type": "execute_result"
    }
   ],
   "source": [
    "sorted_xgb_importance"
   ]
  },
  {
   "cell_type": "code",
   "execution_count": 51,
   "metadata": {},
   "outputs": [
    {
     "data": {
      "application/vnd.plotly.v1+json": {
       "config": {
        "linkText": "Export to plot.ly",
        "plotlyServerURL": "https://plot.ly",
        "showLink": false
       },
       "data": [
        {
         "type": "bar",
         "x": [
          "quantity-dry",
          "extraction_type_class-other",
          "extraction_type-other",
          "water_quality-unknown",
          "management-company",
          "payment_type-never pay",
          "lga-njombe",
          "quantity-enough",
          "funder-Unknown",
          "payment_type-annually",
          "extraction_type-ksb",
          "extraction_type-mono",
          "lga-rungwe",
          "quantity-unknown",
          "basin-lake nyasa",
          "source_class-surface",
          "extraction_type_class-submersible",
          "scheme_management-water board",
          "source-rainwater harvesting",
          "source-spring",
          "lga-mbozi",
          "quantity-seasonal",
          "payment_type-unknown",
          "management-water board",
          "funder-government of tanzania",
          "management-private operator",
          "payment_type-per bucket",
          "source-dam",
          "extraction_type_class-gravity",
          "extraction_type_class-rope pump",
          "lga-kasulu",
          "source-other",
          "quantity-insufficient",
          "payment_type-monthly",
          "lga-OTHER",
          "extraction_type_class-motorpump",
          "scheme_management-wug",
          "funder-world bank",
          "extraction_type-nira/tanira",
          "basin-ruvuma / southern coast"
         ],
         "y": [
          0.5114995241165161,
          0.11813420057296753,
          0.02027731016278267,
          0.01759464479982853,
          0.013925046660006046,
          0.00999133288860321,
          0.008873277343809605,
          0.008189857006072998,
          0.006900287698954344,
          0.006706122774630785
         ]
        }
       ],
       "layout": {
        "template": {
         "data": {
          "bar": [
           {
            "error_x": {
             "color": "#2a3f5f"
            },
            "error_y": {
             "color": "#2a3f5f"
            },
            "marker": {
             "line": {
              "color": "#E5ECF6",
              "width": 0.5
             }
            },
            "type": "bar"
           }
          ],
          "barpolar": [
           {
            "marker": {
             "line": {
              "color": "#E5ECF6",
              "width": 0.5
             }
            },
            "type": "barpolar"
           }
          ],
          "carpet": [
           {
            "aaxis": {
             "endlinecolor": "#2a3f5f",
             "gridcolor": "white",
             "linecolor": "white",
             "minorgridcolor": "white",
             "startlinecolor": "#2a3f5f"
            },
            "baxis": {
             "endlinecolor": "#2a3f5f",
             "gridcolor": "white",
             "linecolor": "white",
             "minorgridcolor": "white",
             "startlinecolor": "#2a3f5f"
            },
            "type": "carpet"
           }
          ],
          "choropleth": [
           {
            "colorbar": {
             "outlinewidth": 0,
             "ticks": ""
            },
            "type": "choropleth"
           }
          ],
          "contour": [
           {
            "colorbar": {
             "outlinewidth": 0,
             "ticks": ""
            },
            "colorscale": [
             [
              0,
              "#0d0887"
             ],
             [
              0.1111111111111111,
              "#46039f"
             ],
             [
              0.2222222222222222,
              "#7201a8"
             ],
             [
              0.3333333333333333,
              "#9c179e"
             ],
             [
              0.4444444444444444,
              "#bd3786"
             ],
             [
              0.5555555555555556,
              "#d8576b"
             ],
             [
              0.6666666666666666,
              "#ed7953"
             ],
             [
              0.7777777777777778,
              "#fb9f3a"
             ],
             [
              0.8888888888888888,
              "#fdca26"
             ],
             [
              1,
              "#f0f921"
             ]
            ],
            "type": "contour"
           }
          ],
          "contourcarpet": [
           {
            "colorbar": {
             "outlinewidth": 0,
             "ticks": ""
            },
            "type": "contourcarpet"
           }
          ],
          "heatmap": [
           {
            "colorbar": {
             "outlinewidth": 0,
             "ticks": ""
            },
            "colorscale": [
             [
              0,
              "#0d0887"
             ],
             [
              0.1111111111111111,
              "#46039f"
             ],
             [
              0.2222222222222222,
              "#7201a8"
             ],
             [
              0.3333333333333333,
              "#9c179e"
             ],
             [
              0.4444444444444444,
              "#bd3786"
             ],
             [
              0.5555555555555556,
              "#d8576b"
             ],
             [
              0.6666666666666666,
              "#ed7953"
             ],
             [
              0.7777777777777778,
              "#fb9f3a"
             ],
             [
              0.8888888888888888,
              "#fdca26"
             ],
             [
              1,
              "#f0f921"
             ]
            ],
            "type": "heatmap"
           }
          ],
          "heatmapgl": [
           {
            "colorbar": {
             "outlinewidth": 0,
             "ticks": ""
            },
            "colorscale": [
             [
              0,
              "#0d0887"
             ],
             [
              0.1111111111111111,
              "#46039f"
             ],
             [
              0.2222222222222222,
              "#7201a8"
             ],
             [
              0.3333333333333333,
              "#9c179e"
             ],
             [
              0.4444444444444444,
              "#bd3786"
             ],
             [
              0.5555555555555556,
              "#d8576b"
             ],
             [
              0.6666666666666666,
              "#ed7953"
             ],
             [
              0.7777777777777778,
              "#fb9f3a"
             ],
             [
              0.8888888888888888,
              "#fdca26"
             ],
             [
              1,
              "#f0f921"
             ]
            ],
            "type": "heatmapgl"
           }
          ],
          "histogram": [
           {
            "marker": {
             "colorbar": {
              "outlinewidth": 0,
              "ticks": ""
             }
            },
            "type": "histogram"
           }
          ],
          "histogram2d": [
           {
            "colorbar": {
             "outlinewidth": 0,
             "ticks": ""
            },
            "colorscale": [
             [
              0,
              "#0d0887"
             ],
             [
              0.1111111111111111,
              "#46039f"
             ],
             [
              0.2222222222222222,
              "#7201a8"
             ],
             [
              0.3333333333333333,
              "#9c179e"
             ],
             [
              0.4444444444444444,
              "#bd3786"
             ],
             [
              0.5555555555555556,
              "#d8576b"
             ],
             [
              0.6666666666666666,
              "#ed7953"
             ],
             [
              0.7777777777777778,
              "#fb9f3a"
             ],
             [
              0.8888888888888888,
              "#fdca26"
             ],
             [
              1,
              "#f0f921"
             ]
            ],
            "type": "histogram2d"
           }
          ],
          "histogram2dcontour": [
           {
            "colorbar": {
             "outlinewidth": 0,
             "ticks": ""
            },
            "colorscale": [
             [
              0,
              "#0d0887"
             ],
             [
              0.1111111111111111,
              "#46039f"
             ],
             [
              0.2222222222222222,
              "#7201a8"
             ],
             [
              0.3333333333333333,
              "#9c179e"
             ],
             [
              0.4444444444444444,
              "#bd3786"
             ],
             [
              0.5555555555555556,
              "#d8576b"
             ],
             [
              0.6666666666666666,
              "#ed7953"
             ],
             [
              0.7777777777777778,
              "#fb9f3a"
             ],
             [
              0.8888888888888888,
              "#fdca26"
             ],
             [
              1,
              "#f0f921"
             ]
            ],
            "type": "histogram2dcontour"
           }
          ],
          "mesh3d": [
           {
            "colorbar": {
             "outlinewidth": 0,
             "ticks": ""
            },
            "type": "mesh3d"
           }
          ],
          "parcoords": [
           {
            "line": {
             "colorbar": {
              "outlinewidth": 0,
              "ticks": ""
             }
            },
            "type": "parcoords"
           }
          ],
          "pie": [
           {
            "automargin": true,
            "type": "pie"
           }
          ],
          "scatter": [
           {
            "marker": {
             "colorbar": {
              "outlinewidth": 0,
              "ticks": ""
             }
            },
            "type": "scatter"
           }
          ],
          "scatter3d": [
           {
            "line": {
             "colorbar": {
              "outlinewidth": 0,
              "ticks": ""
             }
            },
            "marker": {
             "colorbar": {
              "outlinewidth": 0,
              "ticks": ""
             }
            },
            "type": "scatter3d"
           }
          ],
          "scattercarpet": [
           {
            "marker": {
             "colorbar": {
              "outlinewidth": 0,
              "ticks": ""
             }
            },
            "type": "scattercarpet"
           }
          ],
          "scattergeo": [
           {
            "marker": {
             "colorbar": {
              "outlinewidth": 0,
              "ticks": ""
             }
            },
            "type": "scattergeo"
           }
          ],
          "scattergl": [
           {
            "marker": {
             "colorbar": {
              "outlinewidth": 0,
              "ticks": ""
             }
            },
            "type": "scattergl"
           }
          ],
          "scattermapbox": [
           {
            "marker": {
             "colorbar": {
              "outlinewidth": 0,
              "ticks": ""
             }
            },
            "type": "scattermapbox"
           }
          ],
          "scatterpolar": [
           {
            "marker": {
             "colorbar": {
              "outlinewidth": 0,
              "ticks": ""
             }
            },
            "type": "scatterpolar"
           }
          ],
          "scatterpolargl": [
           {
            "marker": {
             "colorbar": {
              "outlinewidth": 0,
              "ticks": ""
             }
            },
            "type": "scatterpolargl"
           }
          ],
          "scatterternary": [
           {
            "marker": {
             "colorbar": {
              "outlinewidth": 0,
              "ticks": ""
             }
            },
            "type": "scatterternary"
           }
          ],
          "surface": [
           {
            "colorbar": {
             "outlinewidth": 0,
             "ticks": ""
            },
            "colorscale": [
             [
              0,
              "#0d0887"
             ],
             [
              0.1111111111111111,
              "#46039f"
             ],
             [
              0.2222222222222222,
              "#7201a8"
             ],
             [
              0.3333333333333333,
              "#9c179e"
             ],
             [
              0.4444444444444444,
              "#bd3786"
             ],
             [
              0.5555555555555556,
              "#d8576b"
             ],
             [
              0.6666666666666666,
              "#ed7953"
             ],
             [
              0.7777777777777778,
              "#fb9f3a"
             ],
             [
              0.8888888888888888,
              "#fdca26"
             ],
             [
              1,
              "#f0f921"
             ]
            ],
            "type": "surface"
           }
          ],
          "table": [
           {
            "cells": {
             "fill": {
              "color": "#EBF0F8"
             },
             "line": {
              "color": "white"
             }
            },
            "header": {
             "fill": {
              "color": "#C8D4E3"
             },
             "line": {
              "color": "white"
             }
            },
            "type": "table"
           }
          ]
         },
         "layout": {
          "annotationdefaults": {
           "arrowcolor": "#2a3f5f",
           "arrowhead": 0,
           "arrowwidth": 1
          },
          "coloraxis": {
           "colorbar": {
            "outlinewidth": 0,
            "ticks": ""
           }
          },
          "colorscale": {
           "diverging": [
            [
             0,
             "#8e0152"
            ],
            [
             0.1,
             "#c51b7d"
            ],
            [
             0.2,
             "#de77ae"
            ],
            [
             0.3,
             "#f1b6da"
            ],
            [
             0.4,
             "#fde0ef"
            ],
            [
             0.5,
             "#f7f7f7"
            ],
            [
             0.6,
             "#e6f5d0"
            ],
            [
             0.7,
             "#b8e186"
            ],
            [
             0.8,
             "#7fbc41"
            ],
            [
             0.9,
             "#4d9221"
            ],
            [
             1,
             "#276419"
            ]
           ],
           "sequential": [
            [
             0,
             "#0d0887"
            ],
            [
             0.1111111111111111,
             "#46039f"
            ],
            [
             0.2222222222222222,
             "#7201a8"
            ],
            [
             0.3333333333333333,
             "#9c179e"
            ],
            [
             0.4444444444444444,
             "#bd3786"
            ],
            [
             0.5555555555555556,
             "#d8576b"
            ],
            [
             0.6666666666666666,
             "#ed7953"
            ],
            [
             0.7777777777777778,
             "#fb9f3a"
            ],
            [
             0.8888888888888888,
             "#fdca26"
            ],
            [
             1,
             "#f0f921"
            ]
           ],
           "sequentialminus": [
            [
             0,
             "#0d0887"
            ],
            [
             0.1111111111111111,
             "#46039f"
            ],
            [
             0.2222222222222222,
             "#7201a8"
            ],
            [
             0.3333333333333333,
             "#9c179e"
            ],
            [
             0.4444444444444444,
             "#bd3786"
            ],
            [
             0.5555555555555556,
             "#d8576b"
            ],
            [
             0.6666666666666666,
             "#ed7953"
            ],
            [
             0.7777777777777778,
             "#fb9f3a"
            ],
            [
             0.8888888888888888,
             "#fdca26"
            ],
            [
             1,
             "#f0f921"
            ]
           ]
          },
          "colorway": [
           "#636efa",
           "#EF553B",
           "#00cc96",
           "#ab63fa",
           "#FFA15A",
           "#19d3f3",
           "#FF6692",
           "#B6E880",
           "#FF97FF",
           "#FECB52"
          ],
          "font": {
           "color": "#2a3f5f"
          },
          "geo": {
           "bgcolor": "white",
           "lakecolor": "white",
           "landcolor": "#E5ECF6",
           "showlakes": true,
           "showland": true,
           "subunitcolor": "white"
          },
          "hoverlabel": {
           "align": "left"
          },
          "hovermode": "closest",
          "mapbox": {
           "style": "light"
          },
          "paper_bgcolor": "white",
          "plot_bgcolor": "#E5ECF6",
          "polar": {
           "angularaxis": {
            "gridcolor": "white",
            "linecolor": "white",
            "ticks": ""
           },
           "bgcolor": "#E5ECF6",
           "radialaxis": {
            "gridcolor": "white",
            "linecolor": "white",
            "ticks": ""
           }
          },
          "scene": {
           "xaxis": {
            "backgroundcolor": "#E5ECF6",
            "gridcolor": "white",
            "gridwidth": 2,
            "linecolor": "white",
            "showbackground": true,
            "ticks": "",
            "zerolinecolor": "white"
           },
           "yaxis": {
            "backgroundcolor": "#E5ECF6",
            "gridcolor": "white",
            "gridwidth": 2,
            "linecolor": "white",
            "showbackground": true,
            "ticks": "",
            "zerolinecolor": "white"
           },
           "zaxis": {
            "backgroundcolor": "#E5ECF6",
            "gridcolor": "white",
            "gridwidth": 2,
            "linecolor": "white",
            "showbackground": true,
            "ticks": "",
            "zerolinecolor": "white"
           }
          },
          "shapedefaults": {
           "line": {
            "color": "#2a3f5f"
           }
          },
          "ternary": {
           "aaxis": {
            "gridcolor": "white",
            "linecolor": "white",
            "ticks": ""
           },
           "baxis": {
            "gridcolor": "white",
            "linecolor": "white",
            "ticks": ""
           },
           "bgcolor": "#E5ECF6",
           "caxis": {
            "gridcolor": "white",
            "linecolor": "white",
            "ticks": ""
           }
          },
          "title": {
           "x": 0.05
          },
          "xaxis": {
           "automargin": true,
           "gridcolor": "white",
           "linecolor": "white",
           "ticks": "",
           "title": {
            "standoff": 15
           },
           "zerolinecolor": "white",
           "zerolinewidth": 2
          },
          "yaxis": {
           "automargin": true,
           "gridcolor": "white",
           "linecolor": "white",
           "ticks": "",
           "title": {
            "standoff": 15
           },
           "zerolinecolor": "white",
           "zerolinewidth": 2
          }
         }
        },
        "title": {
         "text": "Feature Importances"
        },
        "yaxis": {
         "title": {
          "text": "Relative Importance"
         }
        }
       }
      },
      "text/html": [
       "<div>\n",
       "        \n",
       "        \n",
       "            <div id=\"f6f05dbc-ad89-467b-80d7-f22f47037035\" class=\"plotly-graph-div\" style=\"height:525px; width:100%;\"></div>\n",
       "            <script type=\"text/javascript\">\n",
       "                require([\"plotly\"], function(Plotly) {\n",
       "                    window.PLOTLYENV=window.PLOTLYENV || {};\n",
       "                    \n",
       "                if (document.getElementById(\"f6f05dbc-ad89-467b-80d7-f22f47037035\")) {\n",
       "                    Plotly.newPlot(\n",
       "                        'f6f05dbc-ad89-467b-80d7-f22f47037035',\n",
       "                        [{\"type\": \"bar\", \"x\": [\"quantity-dry\", \"extraction_type_class-other\", \"extraction_type-other\", \"water_quality-unknown\", \"management-company\", \"payment_type-never pay\", \"lga-njombe\", \"quantity-enough\", \"funder-Unknown\", \"payment_type-annually\", \"extraction_type-ksb\", \"extraction_type-mono\", \"lga-rungwe\", \"quantity-unknown\", \"basin-lake nyasa\", \"source_class-surface\", \"extraction_type_class-submersible\", \"scheme_management-water board\", \"source-rainwater harvesting\", \"source-spring\", \"lga-mbozi\", \"quantity-seasonal\", \"payment_type-unknown\", \"management-water board\", \"funder-government of tanzania\", \"management-private operator\", \"payment_type-per bucket\", \"source-dam\", \"extraction_type_class-gravity\", \"extraction_type_class-rope pump\", \"lga-kasulu\", \"source-other\", \"quantity-insufficient\", \"payment_type-monthly\", \"lga-OTHER\", \"extraction_type_class-motorpump\", \"scheme_management-wug\", \"funder-world bank\", \"extraction_type-nira/tanira\", \"basin-ruvuma / southern coast\"], \"y\": [0.5114995241165161, 0.11813420057296753, 0.02027731016278267, 0.01759464479982853, 0.013925046660006046, 0.00999133288860321, 0.008873277343809605, 0.008189857006072998, 0.006900287698954344, 0.006706122774630785]}],\n",
       "                        {\"template\": {\"data\": {\"bar\": [{\"error_x\": {\"color\": \"#2a3f5f\"}, \"error_y\": {\"color\": \"#2a3f5f\"}, \"marker\": {\"line\": {\"color\": \"#E5ECF6\", \"width\": 0.5}}, \"type\": \"bar\"}], \"barpolar\": [{\"marker\": {\"line\": {\"color\": \"#E5ECF6\", \"width\": 0.5}}, \"type\": \"barpolar\"}], \"carpet\": [{\"aaxis\": {\"endlinecolor\": \"#2a3f5f\", \"gridcolor\": \"white\", \"linecolor\": \"white\", \"minorgridcolor\": \"white\", \"startlinecolor\": \"#2a3f5f\"}, \"baxis\": {\"endlinecolor\": \"#2a3f5f\", \"gridcolor\": \"white\", \"linecolor\": \"white\", \"minorgridcolor\": \"white\", \"startlinecolor\": \"#2a3f5f\"}, \"type\": \"carpet\"}], \"choropleth\": [{\"colorbar\": {\"outlinewidth\": 0, \"ticks\": \"\"}, \"type\": \"choropleth\"}], \"contour\": [{\"colorbar\": {\"outlinewidth\": 0, \"ticks\": \"\"}, \"colorscale\": [[0.0, \"#0d0887\"], [0.1111111111111111, \"#46039f\"], [0.2222222222222222, \"#7201a8\"], [0.3333333333333333, \"#9c179e\"], [0.4444444444444444, \"#bd3786\"], [0.5555555555555556, \"#d8576b\"], [0.6666666666666666, \"#ed7953\"], [0.7777777777777778, \"#fb9f3a\"], [0.8888888888888888, \"#fdca26\"], [1.0, \"#f0f921\"]], \"type\": \"contour\"}], \"contourcarpet\": [{\"colorbar\": {\"outlinewidth\": 0, \"ticks\": \"\"}, \"type\": \"contourcarpet\"}], \"heatmap\": [{\"colorbar\": {\"outlinewidth\": 0, \"ticks\": \"\"}, \"colorscale\": [[0.0, \"#0d0887\"], [0.1111111111111111, \"#46039f\"], [0.2222222222222222, \"#7201a8\"], [0.3333333333333333, \"#9c179e\"], [0.4444444444444444, \"#bd3786\"], [0.5555555555555556, \"#d8576b\"], [0.6666666666666666, \"#ed7953\"], [0.7777777777777778, \"#fb9f3a\"], [0.8888888888888888, \"#fdca26\"], [1.0, \"#f0f921\"]], \"type\": \"heatmap\"}], \"heatmapgl\": [{\"colorbar\": {\"outlinewidth\": 0, \"ticks\": \"\"}, \"colorscale\": [[0.0, \"#0d0887\"], [0.1111111111111111, \"#46039f\"], [0.2222222222222222, \"#7201a8\"], [0.3333333333333333, \"#9c179e\"], [0.4444444444444444, \"#bd3786\"], [0.5555555555555556, \"#d8576b\"], [0.6666666666666666, \"#ed7953\"], [0.7777777777777778, \"#fb9f3a\"], [0.8888888888888888, \"#fdca26\"], [1.0, \"#f0f921\"]], \"type\": \"heatmapgl\"}], \"histogram\": [{\"marker\": {\"colorbar\": {\"outlinewidth\": 0, \"ticks\": \"\"}}, \"type\": \"histogram\"}], \"histogram2d\": [{\"colorbar\": {\"outlinewidth\": 0, \"ticks\": \"\"}, \"colorscale\": [[0.0, \"#0d0887\"], [0.1111111111111111, \"#46039f\"], [0.2222222222222222, \"#7201a8\"], [0.3333333333333333, \"#9c179e\"], [0.4444444444444444, \"#bd3786\"], [0.5555555555555556, \"#d8576b\"], [0.6666666666666666, \"#ed7953\"], [0.7777777777777778, \"#fb9f3a\"], [0.8888888888888888, \"#fdca26\"], [1.0, \"#f0f921\"]], \"type\": \"histogram2d\"}], \"histogram2dcontour\": [{\"colorbar\": {\"outlinewidth\": 0, \"ticks\": \"\"}, \"colorscale\": [[0.0, \"#0d0887\"], [0.1111111111111111, \"#46039f\"], [0.2222222222222222, \"#7201a8\"], [0.3333333333333333, \"#9c179e\"], [0.4444444444444444, \"#bd3786\"], [0.5555555555555556, \"#d8576b\"], [0.6666666666666666, \"#ed7953\"], [0.7777777777777778, \"#fb9f3a\"], [0.8888888888888888, \"#fdca26\"], [1.0, \"#f0f921\"]], \"type\": \"histogram2dcontour\"}], \"mesh3d\": [{\"colorbar\": {\"outlinewidth\": 0, \"ticks\": \"\"}, \"type\": \"mesh3d\"}], \"parcoords\": [{\"line\": {\"colorbar\": {\"outlinewidth\": 0, \"ticks\": \"\"}}, \"type\": \"parcoords\"}], \"pie\": [{\"automargin\": true, \"type\": \"pie\"}], \"scatter\": [{\"marker\": {\"colorbar\": {\"outlinewidth\": 0, \"ticks\": \"\"}}, \"type\": \"scatter\"}], \"scatter3d\": [{\"line\": {\"colorbar\": {\"outlinewidth\": 0, \"ticks\": \"\"}}, \"marker\": {\"colorbar\": {\"outlinewidth\": 0, \"ticks\": \"\"}}, \"type\": \"scatter3d\"}], \"scattercarpet\": [{\"marker\": {\"colorbar\": {\"outlinewidth\": 0, \"ticks\": \"\"}}, \"type\": \"scattercarpet\"}], \"scattergeo\": [{\"marker\": {\"colorbar\": {\"outlinewidth\": 0, \"ticks\": \"\"}}, \"type\": \"scattergeo\"}], \"scattergl\": [{\"marker\": {\"colorbar\": {\"outlinewidth\": 0, \"ticks\": \"\"}}, \"type\": \"scattergl\"}], \"scattermapbox\": [{\"marker\": {\"colorbar\": {\"outlinewidth\": 0, \"ticks\": \"\"}}, \"type\": \"scattermapbox\"}], \"scatterpolar\": [{\"marker\": {\"colorbar\": {\"outlinewidth\": 0, \"ticks\": \"\"}}, \"type\": \"scatterpolar\"}], \"scatterpolargl\": [{\"marker\": {\"colorbar\": {\"outlinewidth\": 0, \"ticks\": \"\"}}, \"type\": \"scatterpolargl\"}], \"scatterternary\": [{\"marker\": {\"colorbar\": {\"outlinewidth\": 0, \"ticks\": \"\"}}, \"type\": \"scatterternary\"}], \"surface\": [{\"colorbar\": {\"outlinewidth\": 0, \"ticks\": \"\"}, \"colorscale\": [[0.0, \"#0d0887\"], [0.1111111111111111, \"#46039f\"], [0.2222222222222222, \"#7201a8\"], [0.3333333333333333, \"#9c179e\"], [0.4444444444444444, \"#bd3786\"], [0.5555555555555556, \"#d8576b\"], [0.6666666666666666, \"#ed7953\"], [0.7777777777777778, \"#fb9f3a\"], [0.8888888888888888, \"#fdca26\"], [1.0, \"#f0f921\"]], \"type\": \"surface\"}], \"table\": [{\"cells\": {\"fill\": {\"color\": \"#EBF0F8\"}, \"line\": {\"color\": \"white\"}}, \"header\": {\"fill\": {\"color\": \"#C8D4E3\"}, \"line\": {\"color\": \"white\"}}, \"type\": \"table\"}]}, \"layout\": {\"annotationdefaults\": {\"arrowcolor\": \"#2a3f5f\", \"arrowhead\": 0, \"arrowwidth\": 1}, \"coloraxis\": {\"colorbar\": {\"outlinewidth\": 0, \"ticks\": \"\"}}, \"colorscale\": {\"diverging\": [[0, \"#8e0152\"], [0.1, \"#c51b7d\"], [0.2, \"#de77ae\"], [0.3, \"#f1b6da\"], [0.4, \"#fde0ef\"], [0.5, \"#f7f7f7\"], [0.6, \"#e6f5d0\"], [0.7, \"#b8e186\"], [0.8, \"#7fbc41\"], [0.9, \"#4d9221\"], [1, \"#276419\"]], \"sequential\": [[0.0, \"#0d0887\"], [0.1111111111111111, \"#46039f\"], [0.2222222222222222, \"#7201a8\"], [0.3333333333333333, \"#9c179e\"], [0.4444444444444444, \"#bd3786\"], [0.5555555555555556, \"#d8576b\"], [0.6666666666666666, \"#ed7953\"], [0.7777777777777778, \"#fb9f3a\"], [0.8888888888888888, \"#fdca26\"], [1.0, \"#f0f921\"]], \"sequentialminus\": [[0.0, \"#0d0887\"], [0.1111111111111111, \"#46039f\"], [0.2222222222222222, \"#7201a8\"], [0.3333333333333333, \"#9c179e\"], [0.4444444444444444, \"#bd3786\"], [0.5555555555555556, \"#d8576b\"], [0.6666666666666666, \"#ed7953\"], [0.7777777777777778, \"#fb9f3a\"], [0.8888888888888888, \"#fdca26\"], [1.0, \"#f0f921\"]]}, \"colorway\": [\"#636efa\", \"#EF553B\", \"#00cc96\", \"#ab63fa\", \"#FFA15A\", \"#19d3f3\", \"#FF6692\", \"#B6E880\", \"#FF97FF\", \"#FECB52\"], \"font\": {\"color\": \"#2a3f5f\"}, \"geo\": {\"bgcolor\": \"white\", \"lakecolor\": \"white\", \"landcolor\": \"#E5ECF6\", \"showlakes\": true, \"showland\": true, \"subunitcolor\": \"white\"}, \"hoverlabel\": {\"align\": \"left\"}, \"hovermode\": \"closest\", \"mapbox\": {\"style\": \"light\"}, \"paper_bgcolor\": \"white\", \"plot_bgcolor\": \"#E5ECF6\", \"polar\": {\"angularaxis\": {\"gridcolor\": \"white\", \"linecolor\": \"white\", \"ticks\": \"\"}, \"bgcolor\": \"#E5ECF6\", \"radialaxis\": {\"gridcolor\": \"white\", \"linecolor\": \"white\", \"ticks\": \"\"}}, \"scene\": {\"xaxis\": {\"backgroundcolor\": \"#E5ECF6\", \"gridcolor\": \"white\", \"gridwidth\": 2, \"linecolor\": \"white\", \"showbackground\": true, \"ticks\": \"\", \"zerolinecolor\": \"white\"}, \"yaxis\": {\"backgroundcolor\": \"#E5ECF6\", \"gridcolor\": \"white\", \"gridwidth\": 2, \"linecolor\": \"white\", \"showbackground\": true, \"ticks\": \"\", \"zerolinecolor\": \"white\"}, \"zaxis\": {\"backgroundcolor\": \"#E5ECF6\", \"gridcolor\": \"white\", \"gridwidth\": 2, \"linecolor\": \"white\", \"showbackground\": true, \"ticks\": \"\", \"zerolinecolor\": \"white\"}}, \"shapedefaults\": {\"line\": {\"color\": \"#2a3f5f\"}}, \"ternary\": {\"aaxis\": {\"gridcolor\": \"white\", \"linecolor\": \"white\", \"ticks\": \"\"}, \"baxis\": {\"gridcolor\": \"white\", \"linecolor\": \"white\", \"ticks\": \"\"}, \"bgcolor\": \"#E5ECF6\", \"caxis\": {\"gridcolor\": \"white\", \"linecolor\": \"white\", \"ticks\": \"\"}}, \"title\": {\"x\": 0.05}, \"xaxis\": {\"automargin\": true, \"gridcolor\": \"white\", \"linecolor\": \"white\", \"ticks\": \"\", \"title\": {\"standoff\": 15}, \"zerolinecolor\": \"white\", \"zerolinewidth\": 2}, \"yaxis\": {\"automargin\": true, \"gridcolor\": \"white\", \"linecolor\": \"white\", \"ticks\": \"\", \"title\": {\"standoff\": 15}, \"zerolinecolor\": \"white\", \"zerolinewidth\": 2}}}, \"title\": {\"text\": \"Feature Importances\"}, \"yaxis\": {\"title\": {\"text\": \"Relative Importance\"}}},\n",
       "                        {\"responsive\": true}\n",
       "                    ).then(function(){\n",
       "                            \n",
       "var gd = document.getElementById('f6f05dbc-ad89-467b-80d7-f22f47037035');\n",
       "var x = new MutationObserver(function (mutations, observer) {{\n",
       "        var display = window.getComputedStyle(gd).display;\n",
       "        if (!display || display === 'none') {{\n",
       "            console.log([gd, 'removed!']);\n",
       "            Plotly.purge(gd);\n",
       "            observer.disconnect();\n",
       "        }}\n",
       "}});\n",
       "\n",
       "// Listen for the removal of the full notebook cells\n",
       "var notebookContainer = gd.closest('#notebook-container');\n",
       "if (notebookContainer) {{\n",
       "    x.observe(notebookContainer, {childList: true});\n",
       "}}\n",
       "\n",
       "// Listen for the clearing of the current output cell\n",
       "var outputEl = gd.closest('.output');\n",
       "if (outputEl) {{\n",
       "    x.observe(outputEl, {childList: true});\n",
       "}}\n",
       "\n",
       "                        })\n",
       "                };\n",
       "                });\n",
       "            </script>\n",
       "        </div>"
      ]
     },
     "metadata": {},
     "output_type": "display_data"
    }
   ],
   "source": [
    "importances = pd.DataFrame({'feature': X_trans_names, 'importance': xgb_feature_importance}).sort_values('importance', ascending=False).reset_index(drop=True)\n",
    "\n",
    "trace = go.Bar(x=importances.head(40).feature, y=importances.head(10).importance)\n",
    "\n",
    "layout = go.Layout(title='Feature Importances',\n",
    "                  yaxis=dict(title='Relative Importance'))\n",
    "\n",
    "fig = go.Figure([trace], layout)\n",
    "iplot(fig, filename='feature_importance.html')"
   ]
  },
  {
   "cell_type": "code",
   "execution_count": null,
   "metadata": {},
   "outputs": [],
   "source": []
  },
  {
   "cell_type": "code",
   "execution_count": 52,
   "metadata": {},
   "outputs": [
    {
     "name": "stdout",
     "output_type": "stream",
     "text": [
      "Decision Tree 0.8227272727272728\n",
      "Random Forest 0.8539281705948373\n",
      "Extra Trees 0.8539281705948373\n",
      "XGBoost 0.8569584736251403\n"
     ]
    },
    {
     "data": {
      "image/png": "[encoded data removed]",
      "text/plain": [
       "<Figure size 432x288 with 1 Axes>"
      ]
     },
     "metadata": {
      "needs_background": "light"
     },
     "output_type": "display_data"
    }
   ],
   "source": [
    "# Plotting the scores between different models\n",
    "print ('Decision Tree', scoreDTC)\n",
    "print ('Random Forest' ,scoreRFC)\n",
    "print ('Extra Trees', scoreETC)\n",
    "print('XGBoost', scoreXGB)\n",
    "\n",
    "\n",
    "pd.DataFrame([\n",
    "    (\"Decision Tree\", scoreDTC),\n",
    "    (\"Random Forest\", scoreRFC),\n",
    "    (\"Extra Tree Classifier\", scoreETC),\n",
    "    (\"XGBoost Classifier\", scoreXGB),\n",
    "    ], columns=[\"Model\", \"score\"]).plot(x=\"Model\", y=\"score\", kind=\"bar\", fontsize=10)\n",
    "plt.xlabel('Model', fontsize=15)\n",
    "plt.ylabel('Score', fontsize=15)\n",
    "plt.show()"
   ]
  },
  {
   "cell_type": "code",
   "execution_count": null,
   "metadata": {},
   "outputs": [],
   "source": []
  }
 ],
 "metadata": {
  "kernelspec": {
   "display_name": "Python 3",
   "language": "python",
   "name": "python3"
  },
  "language_info": {
   "codemirror_mode": {
    "name": "ipython",
    "version": 3
   },
   "file_extension": ".py",
   "mimetype": "text/x-python",
   "name": "python",
   "nbconvert_exporter": "python",
   "pygments_lexer": "ipython3",
   "version": "3.7.7"
  }
 },
 "nbformat": 4,
 "nbformat_minor": 4
}
