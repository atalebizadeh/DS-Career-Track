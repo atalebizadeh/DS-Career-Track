{
 "cells": [
  {
   "cell_type": "code",
   "execution_count": 1,
   "metadata": {},
   "outputs": [],
   "source": [
    "# Import all the required libraries\n",
    "import pandas as pd\n",
    "import numpy as np\n",
    "from matplotlib import pyplot as plt\n",
    "%matplotlib inline\n",
    "import re\n",
    "# Ignore warnings\n",
    "import warnings\n",
    "warnings.filterwarnings(\"ignore\")"
   ]
  },
  {
   "cell_type": "code",
   "execution_count": 2,
   "metadata": {},
   "outputs": [],
   "source": [
    "# Import the random forest classifier - This is a classification problem and I think this is the best model for prediction\n",
    "from sklearn import preprocessing\n",
    "from sklearn.ensemble import RandomForestClassifier\n",
    "from sklearn.ensemble import ExtraTreesClassifier\n",
    "from sklearn.tree import DecisionTreeClassifier\n",
    "from sklearn.model_selection import GridSearchCV\n",
    "from sklearn.model_selection import train_test_split\n",
    "from sklearn.model_selection import cross_val_score\n",
    "from sklearn.metrics import classification_report\n",
    "from sklearn import compose"
   ]
  },
  {
   "cell_type": "code",
   "execution_count": 3,
   "metadata": {},
   "outputs": [],
   "source": [
    "catg_feature_names = [\n",
    "    'funder',\n",
    "    'basin',\n",
    "    'region',                    \n",
    "    'district_code',\n",
    "    'lga',\n",
    "    'scheme_management',\n",
    "    'extraction_type',\n",
    "    'extraction_type_class',\n",
    "    'management',\n",
    "    'payment_type',\n",
    "    'water_quality',\n",
    "    'quantity',\n",
    "    'source',     \n",
    "    'source_class',\n",
    "#    'waterpoint_type_group'\n",
    "]\n",
    "\n",
    "num_feature_names = [\n",
    "#    'amount_tsh',\n",
    "#    'gps_height',\n",
    "    'longitude',\n",
    "    'latitude',\n",
    "#    'population',\n",
    "    'construction_year',\n",
    "    'pump_age'\n",
    "]\n",
    "\n",
    "date_feature_names = [\n",
    "#    'date_recorded',\n",
    "    'year_rec',\n",
    "    'week_rec',\n",
    "    'day_rec'\n",
    "]\n",
    "\n",
    "label_names = ['status_group']"
   ]
  },
  {
   "cell_type": "code",
   "execution_count": 4,
   "metadata": {
    "scrolled": true
   },
   "outputs": [
    {
     "name": "stdout",
     "output_type": "stream",
     "text": [
      "<class 'pandas.core.frame.DataFrame'>\n",
      "RangeIndex: 59400 entries, 0 to 59399\n",
      "Data columns (total 20 columns):\n",
      " #   Column                 Non-Null Count  Dtype         \n",
      "---  ------                 --------------  -----         \n",
      " 0   date_recorded          59400 non-null  datetime64[ns]\n",
      " 1   funder                 59400 non-null  object        \n",
      " 2   longitude              59400 non-null  float64       \n",
      " 3   latitude               59400 non-null  float64       \n",
      " 4   basin                  59400 non-null  object        \n",
      " 5   region                 59400 non-null  object        \n",
      " 6   district_code          59400 non-null  int64         \n",
      " 7   lga                    59400 non-null  object        \n",
      " 8   scheme_management      59400 non-null  object        \n",
      " 9   construction_year      59400 non-null  float64       \n",
      " 10  extraction_type        59400 non-null  object        \n",
      " 11  extraction_type_class  59400 non-null  object        \n",
      " 12  management             59400 non-null  object        \n",
      " 13  payment_type           59400 non-null  object        \n",
      " 14  water_quality          59400 non-null  object        \n",
      " 15  quantity               59400 non-null  object        \n",
      " 16  source                 59400 non-null  object        \n",
      " 17  source_class           59400 non-null  object        \n",
      " 18  status_group           59400 non-null  object        \n",
      " 19  pump_age               59400 non-null  float64       \n",
      "dtypes: datetime64[ns](1), float64(4), int64(1), object(14)\n",
      "memory usage: 9.1+ MB\n"
     ]
    }
   ],
   "source": [
    "# Load the cleaned dataset and view the first few rows\n",
    "df = pd.read_csv('data/cleaned_df_v2.csv', usecols= ['date_recorded'] + catg_feature_names + num_feature_names + label_names)\n",
    "df['date_recorded'] = pd.to_datetime(df['date_recorded'])\n",
    "df.info()"
   ]
  },
  {
   "cell_type": "code",
   "execution_count": 5,
   "metadata": {},
   "outputs": [
    {
     "name": "stdout",
     "output_type": "stream",
     "text": [
      "<class 'pandas.core.frame.DataFrame'>\n",
      "RangeIndex: 59400 entries, 0 to 59399\n",
      "Data columns (total 22 columns):\n",
      " #   Column                 Non-Null Count  Dtype  \n",
      "---  ------                 --------------  -----  \n",
      " 0   funder                 59400 non-null  object \n",
      " 1   longitude              59400 non-null  float64\n",
      " 2   latitude               59400 non-null  float64\n",
      " 3   basin                  59400 non-null  object \n",
      " 4   region                 59400 non-null  object \n",
      " 5   district_code          59400 non-null  int64  \n",
      " 6   lga                    59400 non-null  object \n",
      " 7   scheme_management      59400 non-null  object \n",
      " 8   construction_year      59400 non-null  float64\n",
      " 9   extraction_type        59400 non-null  object \n",
      " 10  extraction_type_class  59400 non-null  object \n",
      " 11  management             59400 non-null  object \n",
      " 12  payment_type           59400 non-null  object \n",
      " 13  water_quality          59400 non-null  object \n",
      " 14  quantity               59400 non-null  object \n",
      " 15  source                 59400 non-null  object \n",
      " 16  source_class           59400 non-null  object \n",
      " 17  status_group           59400 non-null  object \n",
      " 18  pump_age               59400 non-null  float64\n",
      " 19  year_rec               59400 non-null  int64  \n",
      " 20  week_rec               59400 non-null  int64  \n",
      " 21  day_rec                59400 non-null  int64  \n",
      "dtypes: float64(4), int64(4), object(14)\n",
      "memory usage: 10.0+ MB\n"
     ]
    }
   ],
   "source": [
    "# Adding date features...\n",
    "df['year_rec'] = df['date_recorded'].apply(lambda x: pd.to_datetime(x).date().isocalendar()[0])\n",
    "df['week_rec'] = df['date_recorded'].apply(lambda x: pd.to_datetime(x).date().isocalendar()[1])\n",
    "df['day_rec'] = df['date_recorded'].apply(lambda x: pd.to_datetime(x).date().isocalendar()[2])\n",
    "df.drop('date_recorded', axis=1, inplace=True)\n",
    "df.info()"
   ]
  },
  {
   "cell_type": "code",
   "execution_count": 37,
   "metadata": {},
   "outputs": [
    {
     "data": {
      "text/plain": [
       "ColumnTransformer(n_jobs=None, remainder='drop', sparse_threshold=0.0,\n",
       "                  transformer_weights=None,\n",
       "                  transformers=[('catg',\n",
       "                                 OneHotEncoder(categories='auto', drop=None,\n",
       "                                               dtype=<class 'numpy.float64'>,\n",
       "                                               handle_unknown='error',\n",
       "                                               sparse=True),\n",
       "                                 ['funder', 'basin', 'region', 'district_code',\n",
       "                                  'lga', 'scheme_management', 'extraction_type',\n",
       "                                  'extraction_type_class', 'management',\n",
       "                                  'payment_type', 'water_quality', 'quantity',\n",
       "                                  'source', 'source_class'])],\n",
       "                  verbose=False)"
      ]
     },
     "execution_count": 37,
     "metadata": {},
     "output_type": "execute_result"
    }
   ],
   "source": [
    "# Transform and combine categorical and numerical features:\n",
    "catg_transformer = compose.ColumnTransformer(\n",
    "    transformers=\n",
    "    [\n",
    "     ('catg', preprocessing.OneHotEncoder(), catg_feature_names),\n",
    "    ],\n",
    "    #remainder='drop',\n",
    "    sparse_threshold=0.0,\n",
    "    #n_jobs=None,\n",
    "    transformer_weights=None,\n",
    "    #verbose=False\n",
    ")\n",
    "\n",
    "catg_transformer.fit(df.loc[:,catg_feature_names])"
   ]
  },
  {
   "cell_type": "code",
   "execution_count": 43,
   "metadata": {},
   "outputs": [],
   "source": [
    "#catg_transformer.transformers_"
   ]
  },
  {
   "cell_type": "code",
   "execution_count": 40,
   "metadata": {},
   "outputs": [],
   "source": [
    "#onehot_encoder.get_feature_names()"
   ]
  },
  {
   "cell_type": "code",
   "execution_count": 8,
   "metadata": {},
   "outputs": [],
   "source": [
    "def get_name_and_levels(onehot_encoder: compose.ColumnTransformer , catg_names):\n",
    "    \"\"\"\n",
    "    Gets 'transformed catg feature' names from compose.ColumnTransformer object and catg feature names.\n",
    "\n",
    "    \"\"\"\n",
    "    onehot_feature_names = onehot_encoder.get_feature_names()\n",
    "\n",
    "    f_name_and_level = [catg_names[int(re.search(r'\\d+', elm).group())]\n",
    "                        + '-' + elm.split('__', 1)[-1].split('_', 1)[-1]\n",
    "                        for elm in onehot_feature_names\n",
    "                        ]\n",
    "    return f_name_and_level\n",
    "\n",
    "\n",
    "catg_features_trans = catg_transformer.transform(df.loc[:, catg_feature_names])\n",
    "catg_feature_trans_names = get_name_and_levels(catg_transformer, catg_feature_names)\n",
    "num_features = df.loc[:, num_feature_names]\n",
    "date_features = df.loc[:, date_feature_names]\n",
    "# num_feature_trans_names = None\n",
    "\n",
    "X_trans = np.concatenate([catg_features_trans, num_features, date_features], axis=1)\n",
    "X_trans_names = catg_feature_trans_names + num_feature_names + date_feature_names\n",
    "y = df.loc[:,label_names].values"
   ]
  },
  {
   "cell_type": "code",
   "execution_count": 9,
   "metadata": {},
   "outputs": [
    {
     "data": {
      "text/html": [
       "<div>\n",
       "<style scoped>\n",
       "    .dataframe tbody tr th:only-of-type {\n",
       "        vertical-align: middle;\n",
       "    }\n",
       "\n",
       "    .dataframe tbody tr th {\n",
       "        vertical-align: top;\n",
       "    }\n",
       "\n",
       "    .dataframe thead th {\n",
       "        text-align: right;\n",
       "    }\n",
       "</style>\n",
       "<table border=\"1\" class=\"dataframe\">\n",
       "  <thead>\n",
       "    <tr style=\"text-align: right;\">\n",
       "      <th></th>\n",
       "      <th>funder</th>\n",
       "      <th>basin</th>\n",
       "      <th>region</th>\n",
       "      <th>district_code</th>\n",
       "      <th>lga</th>\n",
       "      <th>scheme_management</th>\n",
       "      <th>extraction_type</th>\n",
       "      <th>extraction_type_class</th>\n",
       "      <th>management</th>\n",
       "      <th>payment_type</th>\n",
       "      <th>water_quality</th>\n",
       "      <th>quantity</th>\n",
       "      <th>source</th>\n",
       "      <th>source_class</th>\n",
       "    </tr>\n",
       "  </thead>\n",
       "  <tbody>\n",
       "    <tr>\n",
       "      <th>0</th>\n",
       "      <td>roman</td>\n",
       "      <td>lake nyasa</td>\n",
       "      <td>iringa</td>\n",
       "      <td>5</td>\n",
       "      <td>ludewa</td>\n",
       "      <td>vwc</td>\n",
       "      <td>gravity</td>\n",
       "      <td>gravity</td>\n",
       "      <td>vwc</td>\n",
       "      <td>annually</td>\n",
       "      <td>soft</td>\n",
       "      <td>enough</td>\n",
       "      <td>spring</td>\n",
       "      <td>groundwater</td>\n",
       "    </tr>\n",
       "    <tr>\n",
       "      <th>1</th>\n",
       "      <td>grumeti</td>\n",
       "      <td>lake victoria</td>\n",
       "      <td>mara</td>\n",
       "      <td>2</td>\n",
       "      <td>serengeti</td>\n",
       "      <td>other</td>\n",
       "      <td>gravity</td>\n",
       "      <td>gravity</td>\n",
       "      <td>wug</td>\n",
       "      <td>never pay</td>\n",
       "      <td>soft</td>\n",
       "      <td>insufficient</td>\n",
       "      <td>rainwater harvesting</td>\n",
       "      <td>surface</td>\n",
       "    </tr>\n",
       "    <tr>\n",
       "      <th>2</th>\n",
       "      <td>lottery club</td>\n",
       "      <td>pangani</td>\n",
       "      <td>manyara</td>\n",
       "      <td>4</td>\n",
       "      <td>simanjiro</td>\n",
       "      <td>vwc</td>\n",
       "      <td>gravity</td>\n",
       "      <td>gravity</td>\n",
       "      <td>vwc</td>\n",
       "      <td>per bucket</td>\n",
       "      <td>soft</td>\n",
       "      <td>enough</td>\n",
       "      <td>dam</td>\n",
       "      <td>surface</td>\n",
       "    </tr>\n",
       "    <tr>\n",
       "      <th>3</th>\n",
       "      <td>unicef</td>\n",
       "      <td>ruvuma / southern coast</td>\n",
       "      <td>mtwara</td>\n",
       "      <td>63</td>\n",
       "      <td>nanyumbu</td>\n",
       "      <td>vwc</td>\n",
       "      <td>submersible</td>\n",
       "      <td>submersible</td>\n",
       "      <td>vwc</td>\n",
       "      <td>never pay</td>\n",
       "      <td>soft</td>\n",
       "      <td>dry</td>\n",
       "      <td>machine dbh</td>\n",
       "      <td>groundwater</td>\n",
       "    </tr>\n",
       "    <tr>\n",
       "      <th>4</th>\n",
       "      <td>action in a</td>\n",
       "      <td>lake victoria</td>\n",
       "      <td>kagera</td>\n",
       "      <td>1</td>\n",
       "      <td>karagwe</td>\n",
       "      <td>other</td>\n",
       "      <td>gravity</td>\n",
       "      <td>gravity</td>\n",
       "      <td>other</td>\n",
       "      <td>never pay</td>\n",
       "      <td>soft</td>\n",
       "      <td>seasonal</td>\n",
       "      <td>rainwater harvesting</td>\n",
       "      <td>surface</td>\n",
       "    </tr>\n",
       "    <tr>\n",
       "      <th>...</th>\n",
       "      <td>...</td>\n",
       "      <td>...</td>\n",
       "      <td>...</td>\n",
       "      <td>...</td>\n",
       "      <td>...</td>\n",
       "      <td>...</td>\n",
       "      <td>...</td>\n",
       "      <td>...</td>\n",
       "      <td>...</td>\n",
       "      <td>...</td>\n",
       "      <td>...</td>\n",
       "      <td>...</td>\n",
       "      <td>...</td>\n",
       "      <td>...</td>\n",
       "    </tr>\n",
       "    <tr>\n",
       "      <th>59395</th>\n",
       "      <td>germany republi</td>\n",
       "      <td>pangani</td>\n",
       "      <td>kilimanjaro</td>\n",
       "      <td>5</td>\n",
       "      <td>hai</td>\n",
       "      <td>water board</td>\n",
       "      <td>gravity</td>\n",
       "      <td>gravity</td>\n",
       "      <td>water board</td>\n",
       "      <td>per bucket</td>\n",
       "      <td>soft</td>\n",
       "      <td>enough</td>\n",
       "      <td>spring</td>\n",
       "      <td>groundwater</td>\n",
       "    </tr>\n",
       "    <tr>\n",
       "      <th>59396</th>\n",
       "      <td>cefa-njombe</td>\n",
       "      <td>rufiji</td>\n",
       "      <td>iringa</td>\n",
       "      <td>4</td>\n",
       "      <td>njombe</td>\n",
       "      <td>vwc</td>\n",
       "      <td>gravity</td>\n",
       "      <td>gravity</td>\n",
       "      <td>vwc</td>\n",
       "      <td>annually</td>\n",
       "      <td>soft</td>\n",
       "      <td>enough</td>\n",
       "      <td>river</td>\n",
       "      <td>surface</td>\n",
       "    </tr>\n",
       "    <tr>\n",
       "      <th>59397</th>\n",
       "      <td>other</td>\n",
       "      <td>rufiji</td>\n",
       "      <td>mbeya</td>\n",
       "      <td>7</td>\n",
       "      <td>mbarali</td>\n",
       "      <td>vwc</td>\n",
       "      <td>swn 80</td>\n",
       "      <td>handpump</td>\n",
       "      <td>vwc</td>\n",
       "      <td>monthly</td>\n",
       "      <td>fluoride</td>\n",
       "      <td>enough</td>\n",
       "      <td>machine dbh</td>\n",
       "      <td>groundwater</td>\n",
       "    </tr>\n",
       "    <tr>\n",
       "      <th>59398</th>\n",
       "      <td>malec</td>\n",
       "      <td>rufiji</td>\n",
       "      <td>dodoma</td>\n",
       "      <td>4</td>\n",
       "      <td>chamwino</td>\n",
       "      <td>vwc</td>\n",
       "      <td>nira/tanira</td>\n",
       "      <td>handpump</td>\n",
       "      <td>vwc</td>\n",
       "      <td>never pay</td>\n",
       "      <td>soft</td>\n",
       "      <td>insufficient</td>\n",
       "      <td>shallow well</td>\n",
       "      <td>groundwater</td>\n",
       "    </tr>\n",
       "    <tr>\n",
       "      <th>59399</th>\n",
       "      <td>world bank</td>\n",
       "      <td>wami / ruvu</td>\n",
       "      <td>morogoro</td>\n",
       "      <td>2</td>\n",
       "      <td>morogoro rural</td>\n",
       "      <td>vwc</td>\n",
       "      <td>nira/tanira</td>\n",
       "      <td>handpump</td>\n",
       "      <td>vwc</td>\n",
       "      <td>on failure</td>\n",
       "      <td>salty</td>\n",
       "      <td>enough</td>\n",
       "      <td>shallow well</td>\n",
       "      <td>groundwater</td>\n",
       "    </tr>\n",
       "  </tbody>\n",
       "</table>\n",
       "<p>59400 rows × 14 columns</p>\n",
       "</div>"
      ],
      "text/plain": [
       "                funder                    basin       region  district_code  \\\n",
       "0                roman               lake nyasa       iringa              5   \n",
       "1              grumeti            lake victoria         mara              2   \n",
       "2         lottery club                  pangani      manyara              4   \n",
       "3               unicef  ruvuma / southern coast       mtwara             63   \n",
       "4          action in a            lake victoria       kagera              1   \n",
       "...                ...                      ...          ...            ...   \n",
       "59395  germany republi                  pangani  kilimanjaro              5   \n",
       "59396      cefa-njombe                   rufiji       iringa              4   \n",
       "59397            other                   rufiji        mbeya              7   \n",
       "59398            malec                   rufiji       dodoma              4   \n",
       "59399       world bank              wami / ruvu     morogoro              2   \n",
       "\n",
       "                  lga scheme_management extraction_type extraction_type_class  \\\n",
       "0              ludewa               vwc         gravity               gravity   \n",
       "1           serengeti             other         gravity               gravity   \n",
       "2           simanjiro               vwc         gravity               gravity   \n",
       "3            nanyumbu               vwc     submersible           submersible   \n",
       "4             karagwe             other         gravity               gravity   \n",
       "...               ...               ...             ...                   ...   \n",
       "59395             hai       water board         gravity               gravity   \n",
       "59396          njombe               vwc         gravity               gravity   \n",
       "59397         mbarali               vwc          swn 80              handpump   \n",
       "59398        chamwino               vwc     nira/tanira              handpump   \n",
       "59399  morogoro rural               vwc     nira/tanira              handpump   \n",
       "\n",
       "        management payment_type water_quality      quantity  \\\n",
       "0              vwc     annually          soft        enough   \n",
       "1              wug    never pay          soft  insufficient   \n",
       "2              vwc   per bucket          soft        enough   \n",
       "3              vwc    never pay          soft           dry   \n",
       "4            other    never pay          soft      seasonal   \n",
       "...            ...          ...           ...           ...   \n",
       "59395  water board   per bucket          soft        enough   \n",
       "59396          vwc     annually          soft        enough   \n",
       "59397          vwc      monthly      fluoride        enough   \n",
       "59398          vwc    never pay          soft  insufficient   \n",
       "59399          vwc   on failure         salty        enough   \n",
       "\n",
       "                     source source_class  \n",
       "0                    spring  groundwater  \n",
       "1      rainwater harvesting      surface  \n",
       "2                       dam      surface  \n",
       "3               machine dbh  groundwater  \n",
       "4      rainwater harvesting      surface  \n",
       "...                     ...          ...  \n",
       "59395                spring  groundwater  \n",
       "59396                 river      surface  \n",
       "59397           machine dbh  groundwater  \n",
       "59398          shallow well  groundwater  \n",
       "59399          shallow well  groundwater  \n",
       "\n",
       "[59400 rows x 14 columns]"
      ]
     },
     "execution_count": 9,
     "metadata": {},
     "output_type": "execute_result"
    }
   ],
   "source": [
    "df.loc[:, catg_feature_names]"
   ]
  },
  {
   "cell_type": "code",
   "execution_count": 10,
   "metadata": {},
   "outputs": [
    {
     "name": "stdout",
     "output_type": "stream",
     "text": [
      "trained\n"
     ]
    }
   ],
   "source": [
    "# Training Decision Tree Classifier Model\n",
    "modelDTC = DecisionTreeClassifier(\n",
    "    criterion='gini',\n",
    "    splitter='best',\n",
    "    max_depth=3,\n",
    "    min_samples_split=2,\n",
    "    min_samples_leaf=1,\n",
    "    min_weight_fraction_leaf=0.0,\n",
    "    max_features=None,\n",
    "    random_state=15,\n",
    "    max_leaf_nodes=None,\n",
    "    min_impurity_decrease=0.0,\n",
    "    min_impurity_split=None,\n",
    "    class_weight='balanced',\n",
    "    presort=False)\n",
    "\n",
    "X_train, X_test, y_train, y_test = train_test_split(X_trans, y, test_size=0.1, random_state=20) # random_state =20\n",
    "\n",
    "modelDTC.fit(X_train, y_train)\n",
    "print('trained')\n",
    "y_pred = modelDTC.predict(X_test)\n",
    "y_actual = y_test"
   ]
  },
  {
   "cell_type": "code",
   "execution_count": 11,
   "metadata": {
    "scrolled": true
   },
   "outputs": [
    {
     "data": {
      "image/png": "[encoded data removed]",
      "text/plain": [
       "<Figure size 1728x576 with 1 Axes>"
      ]
     },
     "metadata": {
      "needs_background": "light"
     },
     "output_type": "display_data"
    }
   ],
   "source": [
    "# Plotting most important features\n",
    "num_top_features = 10\n",
    "feature_importance = modelDTC.feature_importances_\n",
    "\n",
    "sorted_f_importance = sorted(zip(X_trans_names, feature_importance),\n",
    "                             key=lambda x:x[-1],\n",
    "                             reverse=True)\n",
    "fig, axe = plt.subplots(1,1)\n",
    "axe.plot([elm[-1] for elm in sorted_f_importance][:num_top_features], 'o')\n",
    "\n",
    "for (id, (f_name, f_importance)) in enumerate(sorted_f_importance[:num_top_features]):\n",
    "    axe.annotate('{}'.format(f_name),xy=(id, f_importance))\n",
    "axe.set_ylabel('Sensitivity index')\n",
    "fig = plt.gcf()\n",
    "fig.set_size_inches(24,8)"
   ]
  },
  {
   "cell_type": "code",
   "execution_count": 12,
   "metadata": {},
   "outputs": [
    {
     "name": "stdout",
     "output_type": "stream",
     "text": [
      "Decision Tree Classifier Accuracy: 0.6964646464646465\n"
     ]
    }
   ],
   "source": [
    "y_pred = modelDTC.predict(X_test)\n",
    "y_actual = y_test\n",
    "\n",
    "# Performance metric\n",
    "#perf_metrics = classification_report(y_actual, y_pred, output_dict=True)\n",
    "model_accurary = modelDTC.score(X_test, y_test)\n",
    "print('Decision Tree Classifier Accuracy: {}'.format(model_accurary))"
   ]
  },
  {
   "cell_type": "code",
   "execution_count": 13,
   "metadata": {
    "scrolled": true
   },
   "outputs": [
    {
     "data": {
      "text/plain": [
       "\"\\n# Defining X and y columns to use with our models\\nX = df.drop('status_group', axis=1)\\n#X.columns\\ny = df['status_group']\\n\\n# Using train_test_split to split our dataset into training and test sets\\nX_train, X_test, y_train, y_test = train_test_split(X, y, test_size=0.3, random_state=42)\\n\\nprint(X_train.shape, X_test.shape)\\nprint(y_train.shape, y_test.shape)\\n\""
      ]
     },
     "execution_count": 13,
     "metadata": {},
     "output_type": "execute_result"
    }
   ],
   "source": [
    "'''\n",
    "# Defining X and y columns to use with our models\n",
    "X = df.drop('status_group', axis=1)\n",
    "#X.columns\n",
    "y = df['status_group']\n",
    "\n",
    "# Using train_test_split to split our dataset into training and test sets\n",
    "X_train, X_test, y_train, y_test = train_test_split(X, y, test_size=0.3, random_state=42)\n",
    "\n",
    "print(X_train.shape, X_test.shape)\n",
    "print(y_train.shape, y_test.shape)\n",
    "'''"
   ]
  },
  {
   "cell_type": "code",
   "execution_count": 14,
   "metadata": {},
   "outputs": [
    {
     "name": "stdout",
     "output_type": "stream",
     "text": [
      "RF accuracy: 0.822053872053872\n"
     ]
    }
   ],
   "source": [
    "modelRFC = RandomForestClassifier(n_estimators=100,min_samples_split=10,criterion='gini')\n",
    "modelRFC.fit(X_train, y_train)\n",
    "model_accurary = modelRFC.score(X_test, y_test)\n",
    "print('RF accuracy: {}'.format(model_accurary))"
   ]
  },
  {
   "cell_type": "code",
   "execution_count": 15,
   "metadata": {},
   "outputs": [
    {
     "name": "stdout",
     "output_type": "stream",
     "text": [
      "Random Forest 0.822053872053872\n",
      "Decision Tree 0.6964646464646465\n",
      "Extra Trees Classifiers 0.8235690235690236\n"
     ]
    },
    {
     "data": {
      "image/png": "[encoded data removed]",
      "text/plain": [
       "<Figure size 432x288 with 1 Axes>"
      ]
     },
     "metadata": {
      "needs_background": "light"
     },
     "output_type": "display_data"
    }
   ],
   "source": [
    "modelETC = ExtraTreesClassifier(n_estimators=100,min_samples_split=10)\n",
    "modelETC.fit(X_train, y_train)\n",
    "\n",
    "\n",
    "#modelDTC = DecisionTreeClassifier()\n",
    "#modelDTC.fit(X_train, y_train)\n",
    "\n",
    "scoreRFC= modelRFC.score(X_test, y_test)\n",
    "scoreDTC= modelDTC.score(X_test, y_test)\n",
    "scoreETC= modelETC.score(X_test, y_test)\n",
    "\n",
    "\n",
    "\n",
    "print ('Random Forest' ,scoreRFC)\n",
    "print ('Decision Tree', scoreDTC)\n",
    "print ('Extra Trees Classifiers', scoreETC)\n",
    "\n",
    "\n",
    "pd.DataFrame([\n",
    "    (\"Decision Tree\", scoreDTC),\n",
    "    (\"Random Forest\", scoreRFC),\n",
    "    (\"Extra Tree Classifier\", scoreETC),\n",
    "    ], columns=[\"Model\", \"score\"]).plot(x=\"Model\", y=\"score\", kind=\"bar\", fontsize=10)\n",
    "plt.xlabel('Model', fontsize=15)\n",
    "plt.ylabel('Score', fontsize=15)\n",
    "plt.show()"
   ]
  },
  {
   "cell_type": "code",
   "execution_count": null,
   "metadata": {},
   "outputs": [],
   "source": []
  }
 ],
 "metadata": {
  "kernelspec": {
   "display_name": "Python 3",
   "language": "python",
   "name": "python3"
  },
  "language_info": {
   "codemirror_mode": {
    "name": "ipython",
    "version": 3
   },
   "file_extension": ".py",
   "mimetype": "text/x-python",
   "name": "python",
   "nbconvert_exporter": "python",
   "pygments_lexer": "ipython3",
   "version": "3.7.3"
  }
 },
 "nbformat": 4,
 "nbformat_minor": 4
}
