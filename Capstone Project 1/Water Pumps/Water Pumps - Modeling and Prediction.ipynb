{
 "cells": [
  {
   "cell_type": "code",
   "execution_count": 1,
   "metadata": {},
   "outputs": [],
   "source": [
    "# Import all the required libraries\n",
    "import pandas as pd\n",
    "import numpy as np\n",
    "from matplotlib import pyplot as plt\n",
    "%matplotlib inline\n",
    "import re\n",
    "# Ignore warnings\n",
    "import warnings\n",
    "warnings.filterwarnings(\"ignore\")\n"
   ]
  },
  {
   "cell_type": "code",
   "execution_count": 2,
   "metadata": {},
   "outputs": [],
   "source": [
    "# Import all of the classifiers that we are interested to try\n",
    "from sklearn import preprocessing\n",
    "from sklearn.ensemble import RandomForestClassifier\n",
    "from sklearn.ensemble import ExtraTreesClassifier\n",
    "from sklearn.tree import DecisionTreeClassifier\n",
    "from sklearn.model_selection import GridSearchCV\n",
    "from sklearn.model_selection import train_test_split\n",
    "from sklearn.model_selection import cross_val_score\n",
    "from sklearn import compose\n",
    "from xgboost import XGBClassifier\n",
    "from sklearn.metrics import classification_report\n",
    "from sklearn.metrics import accuracy_score\n",
    "from sklearn.metrics import roc_curve\n",
    "from sklearn.metrics import roc_auc_score"
   ]
  },
  {
   "cell_type": "code",
   "execution_count": 3,
   "metadata": {},
   "outputs": [],
   "source": [
    "# I decided to use list of names for my catg_feature_names, num_feature_names and date_feature_names so later on I can\n",
    "# easily add or remove these features from my training and test sets.\n",
    "catg_feature_names = [\n",
    "    'funder',\n",
    "    'basin',\n",
    "#    'region',                    \n",
    "#    'district_code',\n",
    "    'lga',\n",
    "    'scheme_management',\n",
    "    'extraction_type',\n",
    "    'extraction_type_class',\n",
    "    'management',\n",
    "    'payment_type',\n",
    "    'water_quality',\n",
    "    'quantity',\n",
    "    'source',     \n",
    "    'source_class',\n",
    "#    'waterpoint_type_group'\n",
    "]\n",
    "\n",
    "num_feature_names = [\n",
    "#    'amount_tsh',\n",
    "#    'gps_height',\n",
    "    'longitude',\n",
    "    'latitude',\n",
    "#    'population',\n",
    "    'construction_year',\n",
    "    'pump_age'\n",
    "]\n",
    "\n",
    "date_feature_names = [\n",
    "#    'date_recorded',\n",
    "    'year_rec',\n",
    "    'week_rec',\n",
    "    'day_rec'\n",
    "]\n",
    "\n",
    "label_names = ['status_group']"
   ]
  },
  {
   "cell_type": "code",
   "execution_count": 4,
   "metadata": {
    "scrolled": true
   },
   "outputs": [
    {
     "name": "stdout",
     "output_type": "stream",
     "text": [
      "<class 'pandas.core.frame.DataFrame'>\n",
      "RangeIndex: 59400 entries, 0 to 59399\n",
      "Data columns (total 18 columns):\n",
      " #   Column                 Non-Null Count  Dtype         \n",
      "---  ------                 --------------  -----         \n",
      " 0   date_recorded          59400 non-null  datetime64[ns]\n",
      " 1   funder                 59400 non-null  object        \n",
      " 2   longitude              59400 non-null  float64       \n",
      " 3   latitude               59400 non-null  float64       \n",
      " 4   basin                  59400 non-null  object        \n",
      " 5   lga                    59400 non-null  object        \n",
      " 6   scheme_management      59400 non-null  object        \n",
      " 7   construction_year      59400 non-null  float64       \n",
      " 8   extraction_type        59400 non-null  object        \n",
      " 9   extraction_type_class  59400 non-null  object        \n",
      " 10  management             59400 non-null  object        \n",
      " 11  payment_type           59400 non-null  object        \n",
      " 12  water_quality          59400 non-null  object        \n",
      " 13  quantity               59400 non-null  object        \n",
      " 14  source                 59400 non-null  object        \n",
      " 15  source_class           59400 non-null  object        \n",
      " 16  status_group           59400 non-null  object        \n",
      " 17  pump_age               59400 non-null  float64       \n",
      "dtypes: datetime64[ns](1), float64(4), object(13)\n",
      "memory usage: 8.2+ MB\n"
     ]
    }
   ],
   "source": [
    "# Load the cleaned dataset and view the first few rows\n",
    "df = pd.read_csv('data/cleaned_df_v2.csv', usecols= ['date_recorded'] + catg_feature_names + num_feature_names + label_names)\n",
    "df['date_recorded'] = pd.to_datetime(df['date_recorded'])\n",
    "df.info()"
   ]
  },
  {
   "cell_type": "code",
   "execution_count": 5,
   "metadata": {
    "scrolled": true
   },
   "outputs": [
    {
     "name": "stdout",
     "output_type": "stream",
     "text": [
      "<class 'pandas.core.frame.DataFrame'>\n",
      "RangeIndex: 59400 entries, 0 to 59399\n",
      "Data columns (total 20 columns):\n",
      " #   Column                 Non-Null Count  Dtype  \n",
      "---  ------                 --------------  -----  \n",
      " 0   funder                 59400 non-null  object \n",
      " 1   longitude              59400 non-null  float64\n",
      " 2   latitude               59400 non-null  float64\n",
      " 3   basin                  59400 non-null  object \n",
      " 4   lga                    59400 non-null  object \n",
      " 5   scheme_management      59400 non-null  object \n",
      " 6   construction_year      59400 non-null  float64\n",
      " 7   extraction_type        59400 non-null  object \n",
      " 8   extraction_type_class  59400 non-null  object \n",
      " 9   management             59400 non-null  object \n",
      " 10  payment_type           59400 non-null  object \n",
      " 11  water_quality          59400 non-null  object \n",
      " 12  quantity               59400 non-null  object \n",
      " 13  source                 59400 non-null  object \n",
      " 14  source_class           59400 non-null  object \n",
      " 15  status_group           59400 non-null  object \n",
      " 16  pump_age               59400 non-null  float64\n",
      " 17  year_rec               59400 non-null  int64  \n",
      " 18  week_rec               59400 non-null  int64  \n",
      " 19  day_rec                59400 non-null  int64  \n",
      "dtypes: float64(4), int64(3), object(13)\n",
      "memory usage: 9.1+ MB\n"
     ]
    }
   ],
   "source": [
    "# Breaking date_recorded into year_rec, week_rec and day_rec so later we can check if we can use these features.\n",
    "df['year_rec'] = df['date_recorded'].apply(lambda x: pd.to_datetime(x).date().isocalendar()[0])\n",
    "df['week_rec'] = df['date_recorded'].apply(lambda x: pd.to_datetime(x).date().isocalendar()[1])\n",
    "df['day_rec'] = df['date_recorded'].apply(lambda x: pd.to_datetime(x).date().isocalendar()[2])\n",
    "df.drop('date_recorded', axis=1, inplace=True)\n",
    "df.info()"
   ]
  },
  {
   "cell_type": "markdown",
   "metadata": {},
   "source": [
    "### Reducing the levels and transformation of categorical data\n",
    "The levels of some of the categorical variables were reduced to keep a manageable number of features. Small-size levels were grouped into a separate level named 'OTHERS':"
   ]
  },
  {
   "cell_type": "code",
   "execution_count": 6,
   "metadata": {
    "scrolled": true
   },
   "outputs": [],
   "source": [
    "#top_ith = 10 # Maximum levels to keep for categorical variables\n",
    "\n",
    "for catg_feature in catg_feature_names:\n",
    "    unique_percent_counts = df[catg_feature].value_counts()\n",
    "    \n",
    "    top_frequent_indexes = unique_percent_counts[:10-1].index.values.tolist()\n",
    "    x = df[catg_feature].copy()\n",
    "    x[~x.isin(top_frequent_indexes)] = 'OTHER'\n",
    "    \n",
    "    df.loc[:,catg_feature] = x\n",
    "    df[catg_feature].value_counts()"
   ]
  },
  {
   "cell_type": "markdown",
   "metadata": {},
   "source": [
    "#### Checking to make sure all the values lower than the top 10 value_counts() have been replaced with 'OTHER'"
   ]
  },
  {
   "cell_type": "code",
   "execution_count": 7,
   "metadata": {
    "scrolled": true
   },
   "outputs": [
    {
     "data": {
      "text/plain": [
       "OTHER                     35052\n",
       "government of tanzania     9084\n",
       "Unknown                    3635\n",
       "danida                     3114\n",
       "hesawa                     2202\n",
       "rwssp                      1374\n",
       "world bank                 1349\n",
       "kkkt                       1287\n",
       "world vision               1246\n",
       "unicef                     1057\n",
       "Name: funder, dtype: int64"
      ]
     },
     "execution_count": 7,
     "metadata": {},
     "output_type": "execute_result"
    }
   ],
   "source": [
    "df.funder.value_counts()"
   ]
  },
  {
   "cell_type": "code",
   "execution_count": 8,
   "metadata": {
    "scrolled": true
   },
   "outputs": [
    {
     "data": {
      "text/plain": [
       "['funder',\n",
       " 'basin',\n",
       " 'lga',\n",
       " 'scheme_management',\n",
       " 'extraction_type',\n",
       " 'extraction_type_class',\n",
       " 'management',\n",
       " 'payment_type',\n",
       " 'water_quality',\n",
       " 'quantity',\n",
       " 'source',\n",
       " 'source_class']"
      ]
     },
     "execution_count": 8,
     "metadata": {},
     "output_type": "execute_result"
    }
   ],
   "source": [
    "catg_feature_names"
   ]
  },
  {
   "cell_type": "code",
   "execution_count": 9,
   "metadata": {},
   "outputs": [
    {
     "data": {
      "text/plain": [
       "array(['OTHER', 'unicef', 'rwssp', 'danida', 'world vision', 'hesawa',\n",
       "       'government of tanzania', 'Unknown', 'kkkt', 'world bank'],\n",
       "      dtype=object)"
      ]
     },
     "execution_count": 9,
     "metadata": {},
     "output_type": "execute_result"
    }
   ],
   "source": [
    "df.funder.unique()"
   ]
  },
  {
   "cell_type": "code",
   "execution_count": 10,
   "metadata": {
    "scrolled": true
   },
   "outputs": [
    {
     "data": {
      "text/plain": [
       "array(['lake nyasa', 'lake victoria', 'pangani',\n",
       "       'ruvuma / southern coast', 'internal', 'lake tanganyika',\n",
       "       'wami / ruvu', 'rufiji', 'lake rukwa'], dtype=object)"
      ]
     },
     "execution_count": 10,
     "metadata": {},
     "output_type": "execute_result"
    }
   ],
   "source": [
    "df.basin.unique()"
   ]
  },
  {
   "cell_type": "code",
   "execution_count": 11,
   "metadata": {},
   "outputs": [
    {
     "data": {
      "text/plain": [
       "array(['gravity', 'submersible', 'swn 80', 'nira/tanira', 'india mark ii',\n",
       "       'other', 'ksb', 'mono', 'OTHER', 'afridev'], dtype=object)"
      ]
     },
     "execution_count": 11,
     "metadata": {},
     "output_type": "execute_result"
    }
   ],
   "source": [
    "df.extraction_type.unique()"
   ]
  },
  {
   "cell_type": "code",
   "execution_count": 12,
   "metadata": {},
   "outputs": [
    {
     "data": {
      "text/plain": [
       "ColumnTransformer(n_jobs=None, remainder='drop', sparse_threshold=0.0,\n",
       "                  transformer_weights=None,\n",
       "                  transformers=[('catg',\n",
       "                                 OneHotEncoder(categories='auto', drop=None,\n",
       "                                               dtype=<class 'numpy.float64'>,\n",
       "                                               handle_unknown='error',\n",
       "                                               sparse=True),\n",
       "                                 ['funder', 'basin', 'lga', 'scheme_management',\n",
       "                                  'extraction_type', 'extraction_type_class',\n",
       "                                  'management', 'payment_type', 'water_quality',\n",
       "                                  'quantity', 'source', 'source_class'])],\n",
       "                  verbose=False)"
      ]
     },
     "execution_count": 12,
     "metadata": {},
     "output_type": "execute_result"
    }
   ],
   "source": [
    "# Transform and combine categorical and numerical features:\n",
    "# compose.ColumnTransformer is a great way to transform all the categorical columns. I also used a pipeline (transformers)\n",
    "catg_transformer = compose.ColumnTransformer(\n",
    "    transformers=\n",
    "    [\n",
    "     ('catg', preprocessing.OneHotEncoder(), catg_feature_names),\n",
    "    ],\n",
    "    #remainder='drop',\n",
    "    sparse_threshold=0.0,\n",
    "    #n_jobs=None,\n",
    "    transformer_weights=None,\n",
    "    #verbose=False\n",
    ")\n",
    "\n",
    "catg_transformer.fit(df.loc[:,catg_feature_names])"
   ]
  },
  {
   "cell_type": "code",
   "execution_count": 13,
   "metadata": {},
   "outputs": [],
   "source": [
    "#catg_transformer.transformers_"
   ]
  },
  {
   "cell_type": "code",
   "execution_count": 14,
   "metadata": {},
   "outputs": [],
   "source": [
    "#onehot_encoder.get_feature_names()"
   ]
  },
  {
   "cell_type": "code",
   "execution_count": 15,
   "metadata": {},
   "outputs": [],
   "source": [
    "# Gets 'transformed catg feature' names from compose.ColumnTransformer object and catg feature names.\n",
    "# This function helps us track where each transformed column is coming from so later it's easier to put things back together\n",
    "\n",
    "def get_name_and_levels(onehot_encoder: compose.ColumnTransformer , catg_names):\n",
    "    \n",
    "    onehot_feature_names = onehot_encoder.get_feature_names()\n",
    "\n",
    "    f_name_and_level = [catg_names[int(re.search(r'\\d+', elm).group())]\n",
    "                        + '-' + elm.split('__', 1)[-1].split('_', 1)[-1]\n",
    "                        for elm in onehot_feature_names\n",
    "                        ]\n",
    "    return f_name_and_level\n",
    "\n",
    "\n",
    "catg_features_trans = catg_transformer.transform(df.loc[:, catg_feature_names])\n",
    "catg_feature_trans_names = get_name_and_levels(catg_transformer, catg_feature_names)\n",
    "num_features = df.loc[:, num_feature_names]\n",
    "date_features = df.loc[:, date_feature_names]\n",
    "# num_feature_trans_names = None\n",
    "\n",
    "X_trans = np.concatenate([catg_features_trans, num_features, date_features], axis=1)\n",
    "X_trans_names = catg_feature_trans_names + num_feature_names + date_feature_names\n",
    "y = df.loc[:,label_names].values"
   ]
  },
  {
   "cell_type": "code",
   "execution_count": 41,
   "metadata": {
    "scrolled": true
   },
   "outputs": [],
   "source": [
    "# Setting the target variables to 0s and 1s - I assigned 'functional' to 1 and broken and needs repair to 0.\n",
    "y_true = [1 if x == 'functional' else 0 for x in y]\n",
    "#y_true"
   ]
  },
  {
   "cell_type": "code",
   "execution_count": 17,
   "metadata": {
    "scrolled": true
   },
   "outputs": [
    {
     "data": {
      "text/plain": [
       "['funder-OTHER',\n",
       " 'funder-Unknown',\n",
       " 'funder-danida',\n",
       " 'funder-government of tanzania',\n",
       " 'funder-hesawa',\n",
       " 'funder-kkkt',\n",
       " 'funder-rwssp',\n",
       " 'funder-unicef',\n",
       " 'funder-world bank',\n",
       " 'funder-world vision',\n",
       " 'basin-internal',\n",
       " 'basin-lake nyasa',\n",
       " 'basin-lake rukwa',\n",
       " 'basin-lake tanganyika',\n",
       " 'basin-lake victoria',\n",
       " 'basin-pangani',\n",
       " 'basin-rufiji',\n",
       " 'basin-ruvuma / southern coast',\n",
       " 'basin-wami / ruvu',\n",
       " 'lga-OTHER',\n",
       " 'lga-arusha rural',\n",
       " 'lga-bariadi',\n",
       " 'lga-kasulu',\n",
       " 'lga-kilosa',\n",
       " 'lga-mbozi',\n",
       " 'lga-meru',\n",
       " 'lga-moshi rural',\n",
       " 'lga-njombe',\n",
       " 'lga-rungwe',\n",
       " 'scheme_management-OTHER',\n",
       " 'scheme_management-Unknown',\n",
       " 'scheme_management-company',\n",
       " 'scheme_management-parastatal',\n",
       " 'scheme_management-private operator',\n",
       " 'scheme_management-vwc',\n",
       " 'scheme_management-water authority',\n",
       " 'scheme_management-water board',\n",
       " 'scheme_management-wua',\n",
       " 'scheme_management-wug',\n",
       " 'extraction_type-OTHER',\n",
       " 'extraction_type-afridev',\n",
       " 'extraction_type-gravity',\n",
       " 'extraction_type-india mark ii',\n",
       " 'extraction_type-ksb',\n",
       " 'extraction_type-mono',\n",
       " 'extraction_type-nira/tanira',\n",
       " 'extraction_type-other',\n",
       " 'extraction_type-submersible',\n",
       " 'extraction_type-swn 80',\n",
       " 'extraction_type_class-gravity',\n",
       " 'extraction_type_class-handpump',\n",
       " 'extraction_type_class-motorpump',\n",
       " 'extraction_type_class-other',\n",
       " 'extraction_type_class-rope pump',\n",
       " 'extraction_type_class-submersible',\n",
       " 'extraction_type_class-wind-powered',\n",
       " 'management-OTHER',\n",
       " 'management-company',\n",
       " 'management-other',\n",
       " 'management-parastatal',\n",
       " 'management-private operator',\n",
       " 'management-vwc',\n",
       " 'management-water authority',\n",
       " 'management-water board',\n",
       " 'management-wua',\n",
       " 'management-wug',\n",
       " 'payment_type-annually',\n",
       " 'payment_type-monthly',\n",
       " 'payment_type-never pay',\n",
       " 'payment_type-on failure',\n",
       " 'payment_type-other',\n",
       " 'payment_type-per bucket',\n",
       " 'payment_type-unknown',\n",
       " 'water_quality-coloured',\n",
       " 'water_quality-fluoride',\n",
       " 'water_quality-fluoride abandoned',\n",
       " 'water_quality-milky',\n",
       " 'water_quality-salty',\n",
       " 'water_quality-salty abandoned',\n",
       " 'water_quality-soft',\n",
       " 'water_quality-unknown',\n",
       " 'quantity-dry',\n",
       " 'quantity-enough',\n",
       " 'quantity-insufficient',\n",
       " 'quantity-seasonal',\n",
       " 'quantity-unknown',\n",
       " 'source-OTHER',\n",
       " 'source-dam',\n",
       " 'source-hand dtw',\n",
       " 'source-lake',\n",
       " 'source-machine dbh',\n",
       " 'source-other',\n",
       " 'source-rainwater harvesting',\n",
       " 'source-river',\n",
       " 'source-shallow well',\n",
       " 'source-spring',\n",
       " 'source_class-groundwater',\n",
       " 'source_class-surface',\n",
       " 'source_class-unknown']"
      ]
     },
     "execution_count": 17,
     "metadata": {},
     "output_type": "execute_result"
    }
   ],
   "source": [
    "catg_feature_trans_names"
   ]
  },
  {
   "cell_type": "code",
   "execution_count": 18,
   "metadata": {},
   "outputs": [
    {
     "data": {
      "text/html": [
       "<div>\n",
       "<style scoped>\n",
       "    .dataframe tbody tr th:only-of-type {\n",
       "        vertical-align: middle;\n",
       "    }\n",
       "\n",
       "    .dataframe tbody tr th {\n",
       "        vertical-align: top;\n",
       "    }\n",
       "\n",
       "    .dataframe thead th {\n",
       "        text-align: right;\n",
       "    }\n",
       "</style>\n",
       "<table border=\"1\" class=\"dataframe\">\n",
       "  <thead>\n",
       "    <tr style=\"text-align: right;\">\n",
       "      <th></th>\n",
       "      <th>funder</th>\n",
       "      <th>basin</th>\n",
       "      <th>lga</th>\n",
       "      <th>scheme_management</th>\n",
       "      <th>extraction_type</th>\n",
       "      <th>extraction_type_class</th>\n",
       "      <th>management</th>\n",
       "      <th>payment_type</th>\n",
       "      <th>water_quality</th>\n",
       "      <th>quantity</th>\n",
       "      <th>source</th>\n",
       "      <th>source_class</th>\n",
       "    </tr>\n",
       "  </thead>\n",
       "  <tbody>\n",
       "    <tr>\n",
       "      <th>0</th>\n",
       "      <td>OTHER</td>\n",
       "      <td>lake nyasa</td>\n",
       "      <td>OTHER</td>\n",
       "      <td>vwc</td>\n",
       "      <td>gravity</td>\n",
       "      <td>gravity</td>\n",
       "      <td>vwc</td>\n",
       "      <td>annually</td>\n",
       "      <td>soft</td>\n",
       "      <td>enough</td>\n",
       "      <td>spring</td>\n",
       "      <td>groundwater</td>\n",
       "    </tr>\n",
       "    <tr>\n",
       "      <th>1</th>\n",
       "      <td>OTHER</td>\n",
       "      <td>lake victoria</td>\n",
       "      <td>OTHER</td>\n",
       "      <td>OTHER</td>\n",
       "      <td>gravity</td>\n",
       "      <td>gravity</td>\n",
       "      <td>wug</td>\n",
       "      <td>never pay</td>\n",
       "      <td>soft</td>\n",
       "      <td>insufficient</td>\n",
       "      <td>rainwater harvesting</td>\n",
       "      <td>surface</td>\n",
       "    </tr>\n",
       "    <tr>\n",
       "      <th>2</th>\n",
       "      <td>OTHER</td>\n",
       "      <td>pangani</td>\n",
       "      <td>OTHER</td>\n",
       "      <td>vwc</td>\n",
       "      <td>gravity</td>\n",
       "      <td>gravity</td>\n",
       "      <td>vwc</td>\n",
       "      <td>per bucket</td>\n",
       "      <td>soft</td>\n",
       "      <td>enough</td>\n",
       "      <td>dam</td>\n",
       "      <td>surface</td>\n",
       "    </tr>\n",
       "    <tr>\n",
       "      <th>3</th>\n",
       "      <td>unicef</td>\n",
       "      <td>ruvuma / southern coast</td>\n",
       "      <td>OTHER</td>\n",
       "      <td>vwc</td>\n",
       "      <td>submersible</td>\n",
       "      <td>submersible</td>\n",
       "      <td>vwc</td>\n",
       "      <td>never pay</td>\n",
       "      <td>soft</td>\n",
       "      <td>dry</td>\n",
       "      <td>machine dbh</td>\n",
       "      <td>groundwater</td>\n",
       "    </tr>\n",
       "    <tr>\n",
       "      <th>4</th>\n",
       "      <td>OTHER</td>\n",
       "      <td>lake victoria</td>\n",
       "      <td>OTHER</td>\n",
       "      <td>Unknown</td>\n",
       "      <td>gravity</td>\n",
       "      <td>gravity</td>\n",
       "      <td>other</td>\n",
       "      <td>never pay</td>\n",
       "      <td>soft</td>\n",
       "      <td>seasonal</td>\n",
       "      <td>rainwater harvesting</td>\n",
       "      <td>surface</td>\n",
       "    </tr>\n",
       "    <tr>\n",
       "      <th>...</th>\n",
       "      <td>...</td>\n",
       "      <td>...</td>\n",
       "      <td>...</td>\n",
       "      <td>...</td>\n",
       "      <td>...</td>\n",
       "      <td>...</td>\n",
       "      <td>...</td>\n",
       "      <td>...</td>\n",
       "      <td>...</td>\n",
       "      <td>...</td>\n",
       "      <td>...</td>\n",
       "      <td>...</td>\n",
       "    </tr>\n",
       "    <tr>\n",
       "      <th>59395</th>\n",
       "      <td>OTHER</td>\n",
       "      <td>pangani</td>\n",
       "      <td>OTHER</td>\n",
       "      <td>water board</td>\n",
       "      <td>gravity</td>\n",
       "      <td>gravity</td>\n",
       "      <td>water board</td>\n",
       "      <td>per bucket</td>\n",
       "      <td>soft</td>\n",
       "      <td>enough</td>\n",
       "      <td>spring</td>\n",
       "      <td>groundwater</td>\n",
       "    </tr>\n",
       "    <tr>\n",
       "      <th>59396</th>\n",
       "      <td>OTHER</td>\n",
       "      <td>rufiji</td>\n",
       "      <td>njombe</td>\n",
       "      <td>vwc</td>\n",
       "      <td>gravity</td>\n",
       "      <td>gravity</td>\n",
       "      <td>vwc</td>\n",
       "      <td>annually</td>\n",
       "      <td>soft</td>\n",
       "      <td>enough</td>\n",
       "      <td>river</td>\n",
       "      <td>surface</td>\n",
       "    </tr>\n",
       "    <tr>\n",
       "      <th>59397</th>\n",
       "      <td>Unknown</td>\n",
       "      <td>rufiji</td>\n",
       "      <td>OTHER</td>\n",
       "      <td>vwc</td>\n",
       "      <td>swn 80</td>\n",
       "      <td>handpump</td>\n",
       "      <td>vwc</td>\n",
       "      <td>monthly</td>\n",
       "      <td>fluoride</td>\n",
       "      <td>enough</td>\n",
       "      <td>machine dbh</td>\n",
       "      <td>groundwater</td>\n",
       "    </tr>\n",
       "    <tr>\n",
       "      <th>59398</th>\n",
       "      <td>OTHER</td>\n",
       "      <td>rufiji</td>\n",
       "      <td>OTHER</td>\n",
       "      <td>vwc</td>\n",
       "      <td>nira/tanira</td>\n",
       "      <td>handpump</td>\n",
       "      <td>vwc</td>\n",
       "      <td>never pay</td>\n",
       "      <td>soft</td>\n",
       "      <td>insufficient</td>\n",
       "      <td>shallow well</td>\n",
       "      <td>groundwater</td>\n",
       "    </tr>\n",
       "    <tr>\n",
       "      <th>59399</th>\n",
       "      <td>world bank</td>\n",
       "      <td>wami / ruvu</td>\n",
       "      <td>OTHER</td>\n",
       "      <td>vwc</td>\n",
       "      <td>nira/tanira</td>\n",
       "      <td>handpump</td>\n",
       "      <td>vwc</td>\n",
       "      <td>on failure</td>\n",
       "      <td>salty</td>\n",
       "      <td>enough</td>\n",
       "      <td>shallow well</td>\n",
       "      <td>groundwater</td>\n",
       "    </tr>\n",
       "  </tbody>\n",
       "</table>\n",
       "<p>59400 rows × 12 columns</p>\n",
       "</div>"
      ],
      "text/plain": [
       "           funder                    basin     lga scheme_management  \\\n",
       "0           OTHER               lake nyasa   OTHER               vwc   \n",
       "1           OTHER            lake victoria   OTHER             OTHER   \n",
       "2           OTHER                  pangani   OTHER               vwc   \n",
       "3          unicef  ruvuma / southern coast   OTHER               vwc   \n",
       "4           OTHER            lake victoria   OTHER           Unknown   \n",
       "...           ...                      ...     ...               ...   \n",
       "59395       OTHER                  pangani   OTHER       water board   \n",
       "59396       OTHER                   rufiji  njombe               vwc   \n",
       "59397     Unknown                   rufiji   OTHER               vwc   \n",
       "59398       OTHER                   rufiji   OTHER               vwc   \n",
       "59399  world bank              wami / ruvu   OTHER               vwc   \n",
       "\n",
       "      extraction_type extraction_type_class   management payment_type  \\\n",
       "0             gravity               gravity          vwc     annually   \n",
       "1             gravity               gravity          wug    never pay   \n",
       "2             gravity               gravity          vwc   per bucket   \n",
       "3         submersible           submersible          vwc    never pay   \n",
       "4             gravity               gravity        other    never pay   \n",
       "...               ...                   ...          ...          ...   \n",
       "59395         gravity               gravity  water board   per bucket   \n",
       "59396         gravity               gravity          vwc     annually   \n",
       "59397          swn 80              handpump          vwc      monthly   \n",
       "59398     nira/tanira              handpump          vwc    never pay   \n",
       "59399     nira/tanira              handpump          vwc   on failure   \n",
       "\n",
       "      water_quality      quantity                source source_class  \n",
       "0              soft        enough                spring  groundwater  \n",
       "1              soft  insufficient  rainwater harvesting      surface  \n",
       "2              soft        enough                   dam      surface  \n",
       "3              soft           dry           machine dbh  groundwater  \n",
       "4              soft      seasonal  rainwater harvesting      surface  \n",
       "...             ...           ...                   ...          ...  \n",
       "59395          soft        enough                spring  groundwater  \n",
       "59396          soft        enough                 river      surface  \n",
       "59397      fluoride        enough           machine dbh  groundwater  \n",
       "59398          soft  insufficient          shallow well  groundwater  \n",
       "59399         salty        enough          shallow well  groundwater  \n",
       "\n",
       "[59400 rows x 12 columns]"
      ]
     },
     "execution_count": 18,
     "metadata": {},
     "output_type": "execute_result"
    }
   ],
   "source": [
    "df.loc[:, catg_feature_names]"
   ]
  },
  {
   "cell_type": "code",
   "execution_count": 19,
   "metadata": {},
   "outputs": [],
   "source": [
    "# Splitting the data into training and test sets\n",
    "X_train, X_test, y_train, y_test = train_test_split(X_trans, y_true, test_size=0.3, random_state=42)"
   ]
  },
  {
   "cell_type": "code",
   "execution_count": 20,
   "metadata": {},
   "outputs": [
    {
     "data": {
      "text/plain": [
       "DecisionTreeClassifier(ccp_alpha=0.0, class_weight='balanced', criterion='gini',\n",
       "                       max_depth=3, max_features=None, max_leaf_nodes=None,\n",
       "                       min_impurity_decrease=0.0, min_impurity_split=None,\n",
       "                       min_samples_leaf=1, min_samples_split=2,\n",
       "                       min_weight_fraction_leaf=0.0, presort=False,\n",
       "                       random_state=15, splitter='best')"
      ]
     },
     "execution_count": 20,
     "metadata": {},
     "output_type": "execute_result"
    }
   ],
   "source": [
    "# Training Decision Tree Classifier Model\n",
    "modelDTC = DecisionTreeClassifier(\n",
    "    criterion='gini',\n",
    "    splitter='best',\n",
    "    max_depth=3,\n",
    "    min_samples_split=2,\n",
    "    min_samples_leaf=1,\n",
    "    min_weight_fraction_leaf=0.0,\n",
    "    max_features=None,\n",
    "    random_state=15,\n",
    "    max_leaf_nodes=None,\n",
    "    min_impurity_decrease=0.0,\n",
    "    min_impurity_split=None,\n",
    "    class_weight='balanced',\n",
    "    presort=False)\n",
    "\n",
    "modelDTC.fit(X_train, y_train)"
   ]
  },
  {
   "cell_type": "code",
   "execution_count": 21,
   "metadata": {},
   "outputs": [
    {
     "name": "stdout",
     "output_type": "stream",
     "text": [
      "Decision Tree Classifier accuracy: 0.71\n"
     ]
    }
   ],
   "source": [
    "# Accuracy score for Decision Tree\n",
    "y_pred = modelDTC.predict(X_test)\n",
    "scoreDTC = accuracy_score(y_pred, y_test)\n",
    "print('Decision Tree Classifier accuracy: {:.2f}'.format(scoreDTC))"
   ]
  },
  {
   "cell_type": "code",
   "execution_count": 22,
   "metadata": {},
   "outputs": [
    {
     "data": {
      "text/plain": [
       "GridSearchCV(cv=5, error_score=nan,\n",
       "             estimator=DecisionTreeClassifier(ccp_alpha=0.0,\n",
       "                                              class_weight='balanced',\n",
       "                                              criterion='gini', max_depth=3,\n",
       "                                              max_features=None,\n",
       "                                              max_leaf_nodes=None,\n",
       "                                              min_impurity_decrease=0.0,\n",
       "                                              min_impurity_split=None,\n",
       "                                              min_samples_leaf=1,\n",
       "                                              min_samples_split=2,\n",
       "                                              min_weight_fraction_leaf=0.0,\n",
       "                                              presort=False, random_state=15,\n",
       "                                              splitter='best'),\n",
       "             iid='deprecated', n_jobs=None,\n",
       "             param_grid={'max_depth': array([ 1,  2,  3,  4,  5,  6,  7,  8,  9, 10, 11, 12, 13, 14, 15, 16, 17,\n",
       "       18, 19, 20]),\n",
       "                         'min_samples_leaf': [1, 5, 10, 20, 50, 100]},\n",
       "             pre_dispatch='2*n_jobs', refit=True, return_train_score=False,\n",
       "             scoring=None, verbose=0)"
      ]
     },
     "execution_count": 22,
     "metadata": {},
     "output_type": "execute_result"
    }
   ],
   "source": [
    "# Using GridSearchCV on DecisionTreeClassifier\n",
    "#create a dictionary of all values we want to test\n",
    "param_dist = {\"max_depth\": np.arange(1, 21),\n",
    "              #\"max_features\": randint(1, 9),\n",
    "              \"min_samples_leaf\": [1, 5, 10, 20, 50, 100],\n",
    "              #\"criterion\": [\"gini\", \"entropy\"]\n",
    "             }\n",
    "#use gridsearch to test all values\n",
    "tree_cv = GridSearchCV(modelDTC, param_dist, cv=5)\n",
    "#fit model to data\n",
    "tree_cv.fit(X_train, y_train)"
   ]
  },
  {
   "cell_type": "code",
   "execution_count": 23,
   "metadata": {},
   "outputs": [
    {
     "name": "stdout",
     "output_type": "stream",
     "text": [
      "{'max_depth': 20, 'min_samples_leaf': 1}\n",
      "0.7834455667789001\n"
     ]
    }
   ],
   "source": [
    "print(tree_cv.best_params_)\n",
    "print(accuracy_score(tree_cv.predict(X_test), y_test))"
   ]
  },
  {
   "cell_type": "markdown",
   "metadata": {},
   "source": [
    "The GridSearchCV best_params_ for DTC are *'max_depth': 20, 'min_samples_leaf': 1*"
   ]
  },
  {
   "cell_type": "code",
   "execution_count": 24,
   "metadata": {
    "scrolled": true
   },
   "outputs": [
    {
     "data": {
      "image/png": "[encoded data removed]",
      "text/plain": [
       "<Figure size 432x288 with 1 Axes>"
      ]
     },
     "metadata": {
      "needs_background": "light"
     },
     "output_type": "display_data"
    }
   ],
   "source": [
    "# Compute predicted probabilities: y_pred_prob\n",
    "y_pred_prob = modelDTC.predict_proba(X_test)[:,1]\n",
    "\n",
    "# Generate ROC curve values: fpr, tpr, thresholds\n",
    "fpr, tpr, thresholds = roc_curve(y_test, y_pred_prob)\n",
    "\n",
    "# Plot ROC curve\n",
    "plt.plot([0, 1], [0, 1], 'k--')\n",
    "plt.plot(fpr, tpr)\n",
    "plt.xlabel('False Positive Rate')\n",
    "plt.ylabel('True Positive Rate')\n",
    "plt.title('ROC Curve')\n",
    "plt.show()"
   ]
  },
  {
   "cell_type": "code",
   "execution_count": 25,
   "metadata": {},
   "outputs": [
    {
     "name": "stdout",
     "output_type": "stream",
     "text": [
      "AUC: 0.7080420596608692\n",
      "AUC scores computed using 5-fold cross-validation: [0.71228772 0.69937858 0.7043076  0.70590238 0.71427638]\n"
     ]
    }
   ],
   "source": [
    "# Compute and print AUC score\n",
    "# If the AUC is greater than 0.5, the model is better than random guessing. Always a good sign!\n",
    "print(\"AUC: {}\".format(roc_auc_score(y_test, y_pred_prob)))\n",
    "\n",
    "# Compute cross-validated AUC scores: cv_auc\n",
    "cv_auc = cross_val_score(modelDTC, X_trans, y_true, cv=5, scoring='roc_auc')\n",
    "\n",
    "# Print list of AUC scores\n",
    "print(\"AUC scores computed using 5-fold cross-validation: {}\".format(cv_auc))"
   ]
  },
  {
   "cell_type": "code",
   "execution_count": 26,
   "metadata": {
    "scrolled": true
   },
   "outputs": [
    {
     "data": {
      "image/png": "[encoded data removed]",
      "text/plain": [
       "<Figure size 1728x576 with 1 Axes>"
      ]
     },
     "metadata": {
      "needs_background": "light"
     },
     "output_type": "display_data"
    }
   ],
   "source": [
    "# Plotting the most important features\n",
    "num_top_features = 10\n",
    "feature_importance = modelDTC.feature_importances_\n",
    "\n",
    "sorted_f_importance = sorted(zip(X_trans_names, feature_importance),\n",
    "                             key=lambda x:x[-1],\n",
    "                             reverse=True)\n",
    "fig, axe = plt.subplots(1,1)\n",
    "axe.plot([elm[-1] for elm in sorted_f_importance][:num_top_features], 'o')\n",
    "\n",
    "for (id, (f_name, f_importance)) in enumerate(sorted_f_importance[:num_top_features]):\n",
    "    axe.annotate('{}'.format(f_name),xy=(id, f_importance))\n",
    "axe.set_ylabel('Sensitivity index')\n",
    "fig = plt.gcf()\n",
    "fig.set_size_inches(24,8)"
   ]
  },
  {
   "cell_type": "markdown",
   "metadata": {},
   "source": [
    "#### This is a classification problem and I think Random Forest Classifier is the best model for prediction"
   ]
  },
  {
   "cell_type": "code",
   "execution_count": 27,
   "metadata": {},
   "outputs": [
    {
     "data": {
      "text/plain": [
       "RandomForestClassifier(bootstrap=True, ccp_alpha=0.0, class_weight=None,\n",
       "                       criterion='gini', max_depth=None, max_features='auto',\n",
       "                       max_leaf_nodes=None, max_samples=None,\n",
       "                       min_impurity_decrease=0.0, min_impurity_split=None,\n",
       "                       min_samples_leaf=1, min_samples_split=10,\n",
       "                       min_weight_fraction_leaf=0.0, n_estimators=200,\n",
       "                       n_jobs=None, oob_score=False, random_state=None,\n",
       "                       verbose=0, warm_start=False)"
      ]
     },
     "execution_count": 27,
     "metadata": {},
     "output_type": "execute_result"
    }
   ],
   "source": [
    "# Training Random Forest Classifier Model\n",
    "modelRFC = RandomForestClassifier(n_estimators=200, min_samples_split=10, criterion='gini')\n",
    "modelRFC.fit(X_train, y_train)"
   ]
  },
  {
   "cell_type": "code",
   "execution_count": 28,
   "metadata": {},
   "outputs": [
    {
     "name": "stdout",
     "output_type": "stream",
     "text": [
      "Random Forest Classifier Accuracy: 0.82\n"
     ]
    }
   ],
   "source": [
    "# Accuracy score for Random Forest\n",
    "y_pred = modelRFC.predict(X_test)\n",
    "scoreRFC = accuracy_score(y_pred, y_test)\n",
    "print('Random Forest Classifier Accuracy: {:.2f}'.format(scoreRFC))"
   ]
  },
  {
   "cell_type": "code",
   "execution_count": 29,
   "metadata": {},
   "outputs": [
    {
     "data": {
      "text/plain": [
       "GridSearchCV(cv=5, error_score=nan,\n",
       "             estimator=RandomForestClassifier(bootstrap=True, ccp_alpha=0.0,\n",
       "                                              class_weight=None,\n",
       "                                              criterion='gini', max_depth=None,\n",
       "                                              max_features='auto',\n",
       "                                              max_leaf_nodes=None,\n",
       "                                              max_samples=None,\n",
       "                                              min_impurity_decrease=0.0,\n",
       "                                              min_impurity_split=None,\n",
       "                                              min_samples_leaf=1,\n",
       "                                              min_samples_split=10,\n",
       "                                              min_weight_fraction_leaf=0.0,\n",
       "                                              n_estimators=200, n_jobs=None,\n",
       "                                              oob_score=False,\n",
       "                                              random_state=None, verbose=0,\n",
       "                                              warm_start=False),\n",
       "             iid='deprecated', n_jobs=None,\n",
       "             param_grid={'max_depth': array([ 1,  2,  3,  4,  5,  6,  7,  8,  9, 10, 11, 12, 13, 14, 15, 16, 17,\n",
       "       18, 19, 20]),\n",
       "                         'min_samples_leaf': [1, 5, 10, 20, 50, 100]},\n",
       "             pre_dispatch='2*n_jobs', refit=True, return_train_score=False,\n",
       "             scoring=None, verbose=0)"
      ]
     },
     "execution_count": 29,
     "metadata": {},
     "output_type": "execute_result"
    }
   ],
   "source": [
    "# Using GridSearchCV on RandomForestClassifier\n",
    "#create a dictionary of all values we want to test\n",
    "param_dist = {\"max_depth\": np.arange(1, 21),\n",
    "              #\"max_features\": randint(1, 9),\n",
    "              \"min_samples_leaf\": [1, 5, 10, 20, 50, 100],\n",
    "              #\"criterion\": [\"gini\", \"entropy\"]\n",
    "             }\n",
    "#use gridsearch to test all values\n",
    "rf_cv = GridSearchCV(modelRFC, param_dist, cv=5)\n",
    "#fit model to data\n",
    "rf_cv.fit(X_train, y_train)"
   ]
  },
  {
   "cell_type": "code",
   "execution_count": 30,
   "metadata": {},
   "outputs": [
    {
     "name": "stdout",
     "output_type": "stream",
     "text": [
      "{'max_depth': 20, 'min_samples_leaf': 1}\n",
      "Random Forest GridSearchCV Accuracy: 0.81\n"
     ]
    }
   ],
   "source": [
    "print(rf_cv.best_params_)\n",
    "print('Random Forest GridSearchCV Accuracy: {:.2f}'.format(accuracy_score(rf_cv.predict(X_test), y_test)))"
   ]
  },
  {
   "cell_type": "markdown",
   "metadata": {},
   "source": [
    "The GridSearchCV best_params_ for RFC are *'max_depth': 20, 'min_samples_leaf': 1*"
   ]
  },
  {
   "cell_type": "code",
   "execution_count": 31,
   "metadata": {},
   "outputs": [
    {
     "data": {
      "image/png": "[encoded data removed]",
      "text/plain": [
       "<Figure size 432x288 with 1 Axes>"
      ]
     },
     "metadata": {
      "needs_background": "light"
     },
     "output_type": "display_data"
    }
   ],
   "source": [
    "# Compute predicted probabilities: y_pred_prob\n",
    "y_pred_prob = modelRFC.predict_proba(X_test)[:,1]\n",
    "\n",
    "# Generate ROC curve values: fpr, tpr, thresholds\n",
    "fpr, tpr, thresholds = roc_curve(y_test, y_pred_prob)\n",
    "\n",
    "# Plot ROC curve\n",
    "plt.plot([0, 1], [0, 1], 'k--')\n",
    "plt.plot(fpr, tpr)\n",
    "plt.xlabel('False Positive Rate')\n",
    "plt.ylabel('True Positive Rate')\n",
    "plt.title('ROC Curve')\n",
    "plt.show()"
   ]
  },
  {
   "cell_type": "code",
   "execution_count": 32,
   "metadata": {},
   "outputs": [
    {
     "name": "stdout",
     "output_type": "stream",
     "text": [
      "AUC: 0.898167333422216\n",
      "AUC scores computed using 5-fold cross-validation: [0.90158192 0.89682219 0.90101742 0.89601483 0.89823767]\n"
     ]
    }
   ],
   "source": [
    "# Compute and print AUC score\n",
    "# If the AUC is greater than 0.5, the model is better than random guessing. Always a good sign!\n",
    "print(\"AUC: {}\".format(roc_auc_score(y_test, y_pred_prob)))\n",
    "\n",
    "# Compute cross-validated AUC scores: cv_auc\n",
    "cv_auc = cross_val_score(modelRFC, X_trans, y_true, cv=5, scoring='roc_auc')\n",
    "\n",
    "# Print list of AUC scores\n",
    "print(\"AUC scores computed using 5-fold cross-validation: {}\".format(cv_auc))"
   ]
  },
  {
   "cell_type": "markdown",
   "metadata": {},
   "source": [
    "##### We can see that the ROC Curve and AUC score for Random Forest Classifier is much better."
   ]
  },
  {
   "cell_type": "code",
   "execution_count": 33,
   "metadata": {},
   "outputs": [
    {
     "data": {
      "image/png": "[encoded data removed]",
      "text/plain": [
       "<Figure size 1728x576 with 1 Axes>"
      ]
     },
     "metadata": {
      "needs_background": "light"
     },
     "output_type": "display_data"
    }
   ],
   "source": [
    "# Plotting the most important features\n",
    "num_top_features = 10\n",
    "feature_importance = modelRFC.feature_importances_\n",
    "\n",
    "sorted_f_importance = sorted(zip(X_trans_names, feature_importance),\n",
    "                             key=lambda x:x[-1],\n",
    "                             reverse=True)\n",
    "fig, axe = plt.subplots(1,1)\n",
    "axe.plot([elm[-1] for elm in sorted_f_importance][:num_top_features], 'o')\n",
    "\n",
    "for (id, (f_name, f_importance)) in enumerate(sorted_f_importance[:num_top_features]):\n",
    "    axe.annotate('{}'.format(f_name),xy=(id, f_importance))\n",
    "axe.set_ylabel('Sensitivity index')\n",
    "fig = plt.gcf()\n",
    "fig.set_size_inches(24,8)"
   ]
  },
  {
   "cell_type": "code",
   "execution_count": 34,
   "metadata": {},
   "outputs": [
    {
     "data": {
      "text/plain": [
       "ExtraTreesClassifier(bootstrap=False, ccp_alpha=0.0, class_weight=None,\n",
       "                     criterion='gini', max_depth=None, max_features='auto',\n",
       "                     max_leaf_nodes=None, max_samples=None,\n",
       "                     min_impurity_decrease=0.0, min_impurity_split=None,\n",
       "                     min_samples_leaf=1, min_samples_split=10,\n",
       "                     min_weight_fraction_leaf=0.0, n_estimators=100,\n",
       "                     n_jobs=None, oob_score=False, random_state=None, verbose=0,\n",
       "                     warm_start=False)"
      ]
     },
     "execution_count": 34,
     "metadata": {},
     "output_type": "execute_result"
    }
   ],
   "source": [
    "# Training Extra Trees Classifier Model\n",
    "modelETC = ExtraTreesClassifier(n_estimators=100,min_samples_split=10)\n",
    "modelETC.fit(X_train, y_train)"
   ]
  },
  {
   "cell_type": "code",
   "execution_count": 35,
   "metadata": {},
   "outputs": [
    {
     "name": "stdout",
     "output_type": "stream",
     "text": [
      "Extra Trees Classifier Accuracy: 0.82\n"
     ]
    }
   ],
   "source": [
    "# Accuracy score for Extra Trees\n",
    "y_pred = modelRFC.predict(X_test)\n",
    "scoreETC = accuracy_score(y_pred, y_test)\n",
    "print('Extra Trees Classifier Accuracy: {:.2f}'.format(scoreETC))"
   ]
  },
  {
   "cell_type": "code",
   "execution_count": 36,
   "metadata": {},
   "outputs": [
    {
     "data": {
      "image/png": "[encoded data removed]",
      "text/plain": [
       "<Figure size 1728x576 with 1 Axes>"
      ]
     },
     "metadata": {
      "needs_background": "light"
     },
     "output_type": "display_data"
    }
   ],
   "source": [
    "# Plotting the most important features\n",
    "num_top_features = 10\n",
    "feature_importance = modelETC.feature_importances_\n",
    "\n",
    "feature_importances_sorted_f_importance = sorted(zip(X_trans_names, feature_importance),\n",
    "                             key=lambda x:x[-1],\n",
    "                             reverse=True)\n",
    "fig, axe = plt.subplots(1,1)\n",
    "axe.plot([elm[-1] for elm in sorted_f_importance][:num_top_features], 'o')\n",
    "\n",
    "for (id, (f_name, f_importance)) in enumerate(sorted_f_importance[:num_top_features]):\n",
    "    axe.annotate('{}'.format(f_name),xy=(id, f_importance))\n",
    "axe.set_ylabel('Sensitivity index')\n",
    "fig = plt.gcf()\n",
    "fig.set_size_inches(24,8)"
   ]
  },
  {
   "cell_type": "code",
   "execution_count": 37,
   "metadata": {},
   "outputs": [
    {
     "data": {
      "text/plain": [
       "XGBClassifier(base_score=0.5, booster='gbtree', colsample_bylevel=1,\n",
       "              colsample_bynode=1, colsample_bytree=0.4, eta=0.2,\n",
       "              eval_metric='merror', gamma=0, gpu_id=-1, importance_type='gain',\n",
       "              interaction_constraints=None, learning_rate=0.200000003,\n",
       "              max_delta_step=0, max_depth=14, maximize=False,\n",
       "              min_child_weight=1, missing=nan, monotone_constraints=None,\n",
       "              n_estimators=100, n_jobs=0, nrounds='min.error.idx', num_class=4,\n",
       "              num_parallel_tree=1, objective='multi:softmax', random_state=0,\n",
       "              reg_alpha=0, reg_lambda=1, scale_pos_weight=None, subsample=1,\n",
       "              tree_method=None, ...)"
      ]
     },
     "execution_count": 37,
     "metadata": {},
     "output_type": "execute_result"
    }
   ],
   "source": [
    "# Training XGBoost Classifier Model\n",
    "modelXGB = XGBClassifier(objective = 'multi:softmax', booster = 'gbtree', nrounds = 'min.error.idx', \n",
    "                      num_class = 4, maximize = False, eval_metric = 'merror', eta = .2,\n",
    "                      max_depth = 14, colsample_bytree = .4)\n",
    "\n",
    "modelXGB.fit(X_train, y_train)"
   ]
  },
  {
   "cell_type": "code",
   "execution_count": 38,
   "metadata": {},
   "outputs": [
    {
     "name": "stdout",
     "output_type": "stream",
     "text": [
      "XGBoost Classifier Accuracy: 0.82\n"
     ]
    }
   ],
   "source": [
    "# Accuracy score for XGBoost\n",
    "y_pred = modelXGB.predict(X_test)\n",
    "scoreXGB = accuracy_score(y_pred, y_test)\n",
    "print('XGBoost Classifier Accuracy: {:.2f}'.format(scoreXGB))"
   ]
  },
  {
   "cell_type": "code",
   "execution_count": 39,
   "metadata": {},
   "outputs": [
    {
     "data": {
      "image/png": "[encoded data removed]",
      "text/plain": [
       "<Figure size 1728x576 with 1 Axes>"
      ]
     },
     "metadata": {
      "needs_background": "light"
     },
     "output_type": "display_data"
    }
   ],
   "source": [
    "# Plotting the most important features\n",
    "num_top_features = 10\n",
    "feature_importance = modelXGB.feature_importances_\n",
    "\n",
    "feature_importances_sorted_f_importance = sorted(zip(X_trans_names, feature_importance),\n",
    "                             key=lambda x:x[-1],\n",
    "                             reverse=True)\n",
    "fig, axe = plt.subplots(1,1)\n",
    "axe.plot([elm[-1] for elm in sorted_f_importance][:num_top_features], 'o')\n",
    "\n",
    "for (id, (f_name, f_importance)) in enumerate(sorted_f_importance[:num_top_features]):\n",
    "    axe.annotate('{}'.format(f_name),xy=(id, f_importance))\n",
    "axe.set_ylabel('Sensitivity index')\n",
    "fig = plt.gcf()\n",
    "fig.set_size_inches(24,8)"
   ]
  },
  {
   "cell_type": "code",
   "execution_count": 40,
   "metadata": {},
   "outputs": [
    {
     "name": "stdout",
     "output_type": "stream",
     "text": [
      "Decision Tree 0.7122895622895623\n",
      "Random Forest 0.8182379349046016\n",
      "Extra Trees 0.8182379349046016\n",
      "XGBoost 0.8173400673400674\n"
     ]
    },
    {
     "data": {
      "image/png": "[encoded data removed]",
      "text/plain": [
       "<Figure size 432x288 with 1 Axes>"
      ]
     },
     "metadata": {
      "needs_background": "light"
     },
     "output_type": "display_data"
    }
   ],
   "source": [
    "# Plotting the scores between different models\n",
    "print ('Decision Tree', scoreDTC)\n",
    "print ('Random Forest' ,scoreRFC)\n",
    "print ('Extra Trees', scoreETC)\n",
    "print('XGBoost', scoreXGB)\n",
    "\n",
    "\n",
    "pd.DataFrame([\n",
    "    (\"Decision Tree\", scoreDTC),\n",
    "    (\"Random Forest\", scoreRFC),\n",
    "    (\"Extra Tree Classifier\", scoreETC),\n",
    "    (\"XGBoost Classifier\", scoreXGB),\n",
    "    ], columns=[\"Model\", \"score\"]).plot(x=\"Model\", y=\"score\", kind=\"bar\", fontsize=10)\n",
    "plt.xlabel('Model', fontsize=15)\n",
    "plt.ylabel('Score', fontsize=15)\n",
    "plt.show()"
   ]
  },
  {
   "cell_type": "code",
   "execution_count": null,
   "metadata": {},
   "outputs": [],
   "source": []
  }
 ],
 "metadata": {
  "kernelspec": {
   "display_name": "Python 3",
   "language": "python",
   "name": "python3"
  },
  "language_info": {
   "codemirror_mode": {
    "name": "ipython",
    "version": 3
   },
   "file_extension": ".py",
   "mimetype": "text/x-python",
   "name": "python",
   "nbconvert_exporter": "python",
   "pygments_lexer": "ipython3",
   "version": "3.7.3"
  }
 },
 "nbformat": 4,
 "nbformat_minor": 4
}
