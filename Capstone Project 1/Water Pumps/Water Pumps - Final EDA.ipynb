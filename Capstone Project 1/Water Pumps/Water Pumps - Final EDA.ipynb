{
 "cells": [
  {
   "cell_type": "markdown",
   "metadata": {},
   "source": [
    "### Driven Data Pump it Up Challenge:"
   ]
  },
  {
   "cell_type": "code",
   "execution_count": 1,
   "metadata": {
    "scrolled": true
   },
   "outputs": [],
   "source": [
    "# Importing all the required libraries\n",
    "import pandas as pd\n",
    "import numpy as np\n",
    "import matplotlib.pyplot as plt\n",
    "import seaborn as sns\n",
    "from sklearn.preprocessing import MinMaxScaler\n",
    "#import os\n",
    "#os.environ[\"PROJ_LIB\"] = \"C:\\\\Users\\\\rtalebiz\\\\AppData\\\\Local\\\\Continuum\\\\anaconda3\\\\Library\\\\share\"\n",
    "#from mpl_toolkits.basemap import Basemap\n",
    "\n",
    "%matplotlib inline"
   ]
  },
  {
   "cell_type": "code",
   "execution_count": 2,
   "metadata": {},
   "outputs": [],
   "source": [
    "#Reading the df files and assigning them to variables - we have 2 csv files\n",
    "training_label = pd.read_csv('data/training set labels.csv')\n",
    "training_values_df = pd.read_csv('data/training set values.csv')"
   ]
  },
  {
   "cell_type": "code",
   "execution_count": 3,
   "metadata": {},
   "outputs": [],
   "source": [
    "# Merge training_values_df and training_label dfs to have one df\n",
    "train_df = pd.merge(training_values_df, training_label, on = \"id\")"
   ]
  },
  {
   "cell_type": "code",
   "execution_count": 4,
   "metadata": {},
   "outputs": [],
   "source": [
    "# Deleting training_label df\n",
    "del training_label"
   ]
  },
  {
   "cell_type": "code",
   "execution_count": 5,
   "metadata": {},
   "outputs": [],
   "source": [
    "# Creating a copy of train df so making changes would not alter the initial dataset\n",
    "df = train_df.copy()"
   ]
  },
  {
   "cell_type": "markdown",
   "metadata": {},
   "source": [
    "#### Let's look at our data using .info(), .shape and .head() methods"
   ]
  },
  {
   "cell_type": "code",
   "execution_count": 6,
   "metadata": {
    "scrolled": true
   },
   "outputs": [
    {
     "name": "stdout",
     "output_type": "stream",
     "text": [
      "<class 'pandas.core.frame.DataFrame'>\n",
      "Int64Index: 59400 entries, 0 to 59399\n",
      "Data columns (total 41 columns):\n",
      "id                       59400 non-null int64\n",
      "amount_tsh               59400 non-null float64\n",
      "date_recorded            59400 non-null object\n",
      "funder                   55765 non-null object\n",
      "gps_height               59400 non-null int64\n",
      "installer                55745 non-null object\n",
      "longitude                59400 non-null float64\n",
      "latitude                 59400 non-null float64\n",
      "wpt_name                 59400 non-null object\n",
      "num_private              59400 non-null int64\n",
      "basin                    59400 non-null object\n",
      "subvillage               59029 non-null object\n",
      "region                   59400 non-null object\n",
      "region_code              59400 non-null int64\n",
      "district_code            59400 non-null int64\n",
      "lga                      59400 non-null object\n",
      "ward                     59400 non-null object\n",
      "population               59400 non-null int64\n",
      "public_meeting           56066 non-null object\n",
      "recorded_by              59400 non-null object\n",
      "scheme_management        55523 non-null object\n",
      "scheme_name              31234 non-null object\n",
      "permit                   56344 non-null object\n",
      "construction_year        59400 non-null int64\n",
      "extraction_type          59400 non-null object\n",
      "extraction_type_group    59400 non-null object\n",
      "extraction_type_class    59400 non-null object\n",
      "management               59400 non-null object\n",
      "management_group         59400 non-null object\n",
      "payment                  59400 non-null object\n",
      "payment_type             59400 non-null object\n",
      "water_quality            59400 non-null object\n",
      "quality_group            59400 non-null object\n",
      "quantity                 59400 non-null object\n",
      "quantity_group           59400 non-null object\n",
      "source                   59400 non-null object\n",
      "source_type              59400 non-null object\n",
      "source_class             59400 non-null object\n",
      "waterpoint_type          59400 non-null object\n",
      "waterpoint_type_group    59400 non-null object\n",
      "status_group             59400 non-null object\n",
      "dtypes: float64(3), int64(7), object(31)\n",
      "memory usage: 19.0+ MB\n"
     ]
    }
   ],
   "source": [
    "df.info()"
   ]
  },
  {
   "cell_type": "code",
   "execution_count": 7,
   "metadata": {
    "scrolled": true
   },
   "outputs": [
    {
     "data": {
      "text/plain": [
       "id                           0\n",
       "amount_tsh                   0\n",
       "date_recorded                0\n",
       "funder                    3635\n",
       "gps_height                   0\n",
       "installer                 3655\n",
       "longitude                    0\n",
       "latitude                     0\n",
       "wpt_name                     0\n",
       "num_private                  0\n",
       "basin                        0\n",
       "subvillage                 371\n",
       "region                       0\n",
       "region_code                  0\n",
       "district_code                0\n",
       "lga                          0\n",
       "ward                         0\n",
       "population                   0\n",
       "public_meeting            3334\n",
       "recorded_by                  0\n",
       "scheme_management         3877\n",
       "scheme_name              28166\n",
       "permit                    3056\n",
       "construction_year            0\n",
       "extraction_type              0\n",
       "extraction_type_group        0\n",
       "extraction_type_class        0\n",
       "management                   0\n",
       "management_group             0\n",
       "payment                      0\n",
       "payment_type                 0\n",
       "water_quality                0\n",
       "quality_group                0\n",
       "quantity                     0\n",
       "quantity_group               0\n",
       "source                       0\n",
       "source_type                  0\n",
       "source_class                 0\n",
       "waterpoint_type              0\n",
       "waterpoint_type_group        0\n",
       "status_group                 0\n",
       "dtype: int64"
      ]
     },
     "execution_count": 7,
     "metadata": {},
     "output_type": "execute_result"
    }
   ],
   "source": [
    "df.isnull().sum()"
   ]
  },
  {
   "cell_type": "markdown",
   "metadata": {},
   "source": [
    "### We notice that some of our features like *(funder, installer, subvillage, public_meeting, scheme_management, scheme_name and permit)* have missing values. We need to look at these features and decide if they have a vitale role in predicting which pump is likely to stop working. Also, some of these features have duplicate data like *funder and installer* so I would likely drop one of them."
   ]
  },
  {
   "cell_type": "code",
   "execution_count": 8,
   "metadata": {
    "scrolled": true
   },
   "outputs": [
    {
     "data": {
      "text/plain": [
       "(59400, 41)"
      ]
     },
     "execution_count": 8,
     "metadata": {},
     "output_type": "execute_result"
    }
   ],
   "source": [
    "df.shape"
   ]
  },
  {
   "cell_type": "markdown",
   "metadata": {},
   "source": [
    "#### Our dataset has 59,400 datapoints and 41 features. Now let's look at a few datapoints using .head()"
   ]
  },
  {
   "cell_type": "code",
   "execution_count": 9,
   "metadata": {},
   "outputs": [
    {
     "data": {
      "text/html": [
       "<div>\n",
       "<style scoped>\n",
       "    .dataframe tbody tr th:only-of-type {\n",
       "        vertical-align: middle;\n",
       "    }\n",
       "\n",
       "    .dataframe tbody tr th {\n",
       "        vertical-align: top;\n",
       "    }\n",
       "\n",
       "    .dataframe thead th {\n",
       "        text-align: right;\n",
       "    }\n",
       "</style>\n",
       "<table border=\"1\" class=\"dataframe\">\n",
       "  <thead>\n",
       "    <tr style=\"text-align: right;\">\n",
       "      <th></th>\n",
       "      <th>id</th>\n",
       "      <th>amount_tsh</th>\n",
       "      <th>date_recorded</th>\n",
       "      <th>funder</th>\n",
       "      <th>gps_height</th>\n",
       "      <th>installer</th>\n",
       "      <th>longitude</th>\n",
       "      <th>latitude</th>\n",
       "      <th>wpt_name</th>\n",
       "      <th>num_private</th>\n",
       "      <th>...</th>\n",
       "      <th>water_quality</th>\n",
       "      <th>quality_group</th>\n",
       "      <th>quantity</th>\n",
       "      <th>quantity_group</th>\n",
       "      <th>source</th>\n",
       "      <th>source_type</th>\n",
       "      <th>source_class</th>\n",
       "      <th>waterpoint_type</th>\n",
       "      <th>waterpoint_type_group</th>\n",
       "      <th>status_group</th>\n",
       "    </tr>\n",
       "  </thead>\n",
       "  <tbody>\n",
       "    <tr>\n",
       "      <th>0</th>\n",
       "      <td>69572</td>\n",
       "      <td>6000.0</td>\n",
       "      <td>2011-03-14</td>\n",
       "      <td>Roman</td>\n",
       "      <td>1390</td>\n",
       "      <td>Roman</td>\n",
       "      <td>34.938093</td>\n",
       "      <td>-9.856322</td>\n",
       "      <td>none</td>\n",
       "      <td>0</td>\n",
       "      <td>...</td>\n",
       "      <td>soft</td>\n",
       "      <td>good</td>\n",
       "      <td>enough</td>\n",
       "      <td>enough</td>\n",
       "      <td>spring</td>\n",
       "      <td>spring</td>\n",
       "      <td>groundwater</td>\n",
       "      <td>communal standpipe</td>\n",
       "      <td>communal standpipe</td>\n",
       "      <td>functional</td>\n",
       "    </tr>\n",
       "    <tr>\n",
       "      <th>1</th>\n",
       "      <td>8776</td>\n",
       "      <td>0.0</td>\n",
       "      <td>2013-03-06</td>\n",
       "      <td>Grumeti</td>\n",
       "      <td>1399</td>\n",
       "      <td>GRUMETI</td>\n",
       "      <td>34.698766</td>\n",
       "      <td>-2.147466</td>\n",
       "      <td>Zahanati</td>\n",
       "      <td>0</td>\n",
       "      <td>...</td>\n",
       "      <td>soft</td>\n",
       "      <td>good</td>\n",
       "      <td>insufficient</td>\n",
       "      <td>insufficient</td>\n",
       "      <td>rainwater harvesting</td>\n",
       "      <td>rainwater harvesting</td>\n",
       "      <td>surface</td>\n",
       "      <td>communal standpipe</td>\n",
       "      <td>communal standpipe</td>\n",
       "      <td>functional</td>\n",
       "    </tr>\n",
       "    <tr>\n",
       "      <th>2</th>\n",
       "      <td>34310</td>\n",
       "      <td>25.0</td>\n",
       "      <td>2013-02-25</td>\n",
       "      <td>Lottery Club</td>\n",
       "      <td>686</td>\n",
       "      <td>World vision</td>\n",
       "      <td>37.460664</td>\n",
       "      <td>-3.821329</td>\n",
       "      <td>Kwa Mahundi</td>\n",
       "      <td>0</td>\n",
       "      <td>...</td>\n",
       "      <td>soft</td>\n",
       "      <td>good</td>\n",
       "      <td>enough</td>\n",
       "      <td>enough</td>\n",
       "      <td>dam</td>\n",
       "      <td>dam</td>\n",
       "      <td>surface</td>\n",
       "      <td>communal standpipe multiple</td>\n",
       "      <td>communal standpipe</td>\n",
       "      <td>functional</td>\n",
       "    </tr>\n",
       "    <tr>\n",
       "      <th>3</th>\n",
       "      <td>67743</td>\n",
       "      <td>0.0</td>\n",
       "      <td>2013-01-28</td>\n",
       "      <td>Unicef</td>\n",
       "      <td>263</td>\n",
       "      <td>UNICEF</td>\n",
       "      <td>38.486161</td>\n",
       "      <td>-11.155298</td>\n",
       "      <td>Zahanati Ya Nanyumbu</td>\n",
       "      <td>0</td>\n",
       "      <td>...</td>\n",
       "      <td>soft</td>\n",
       "      <td>good</td>\n",
       "      <td>dry</td>\n",
       "      <td>dry</td>\n",
       "      <td>machine dbh</td>\n",
       "      <td>borehole</td>\n",
       "      <td>groundwater</td>\n",
       "      <td>communal standpipe multiple</td>\n",
       "      <td>communal standpipe</td>\n",
       "      <td>non functional</td>\n",
       "    </tr>\n",
       "    <tr>\n",
       "      <th>4</th>\n",
       "      <td>19728</td>\n",
       "      <td>0.0</td>\n",
       "      <td>2011-07-13</td>\n",
       "      <td>Action In A</td>\n",
       "      <td>0</td>\n",
       "      <td>Artisan</td>\n",
       "      <td>31.130847</td>\n",
       "      <td>-1.825359</td>\n",
       "      <td>Shuleni</td>\n",
       "      <td>0</td>\n",
       "      <td>...</td>\n",
       "      <td>soft</td>\n",
       "      <td>good</td>\n",
       "      <td>seasonal</td>\n",
       "      <td>seasonal</td>\n",
       "      <td>rainwater harvesting</td>\n",
       "      <td>rainwater harvesting</td>\n",
       "      <td>surface</td>\n",
       "      <td>communal standpipe</td>\n",
       "      <td>communal standpipe</td>\n",
       "      <td>functional</td>\n",
       "    </tr>\n",
       "  </tbody>\n",
       "</table>\n",
       "<p>5 rows × 41 columns</p>\n",
       "</div>"
      ],
      "text/plain": [
       "      id  amount_tsh date_recorded        funder  gps_height     installer  \\\n",
       "0  69572      6000.0    2011-03-14         Roman        1390         Roman   \n",
       "1   8776         0.0    2013-03-06       Grumeti        1399       GRUMETI   \n",
       "2  34310        25.0    2013-02-25  Lottery Club         686  World vision   \n",
       "3  67743         0.0    2013-01-28        Unicef         263        UNICEF   \n",
       "4  19728         0.0    2011-07-13   Action In A           0       Artisan   \n",
       "\n",
       "   longitude   latitude              wpt_name  num_private  ... water_quality  \\\n",
       "0  34.938093  -9.856322                  none            0  ...          soft   \n",
       "1  34.698766  -2.147466              Zahanati            0  ...          soft   \n",
       "2  37.460664  -3.821329           Kwa Mahundi            0  ...          soft   \n",
       "3  38.486161 -11.155298  Zahanati Ya Nanyumbu            0  ...          soft   \n",
       "4  31.130847  -1.825359               Shuleni            0  ...          soft   \n",
       "\n",
       "  quality_group      quantity  quantity_group                source  \\\n",
       "0          good        enough          enough                spring   \n",
       "1          good  insufficient    insufficient  rainwater harvesting   \n",
       "2          good        enough          enough                   dam   \n",
       "3          good           dry             dry           machine dbh   \n",
       "4          good      seasonal        seasonal  rainwater harvesting   \n",
       "\n",
       "            source_type source_class              waterpoint_type  \\\n",
       "0                spring  groundwater           communal standpipe   \n",
       "1  rainwater harvesting      surface           communal standpipe   \n",
       "2                   dam      surface  communal standpipe multiple   \n",
       "3              borehole  groundwater  communal standpipe multiple   \n",
       "4  rainwater harvesting      surface           communal standpipe   \n",
       "\n",
       "  waterpoint_type_group    status_group  \n",
       "0    communal standpipe      functional  \n",
       "1    communal standpipe      functional  \n",
       "2    communal standpipe      functional  \n",
       "3    communal standpipe  non functional  \n",
       "4    communal standpipe      functional  \n",
       "\n",
       "[5 rows x 41 columns]"
      ]
     },
     "execution_count": 9,
     "metadata": {},
     "output_type": "execute_result"
    }
   ],
   "source": [
    "df.head()"
   ]
  },
  {
   "cell_type": "markdown",
   "metadata": {},
   "source": [
    "### I'll be looking at some of these features and dropping the ones with duplicate data as well as figuring out a way to fill all the NaNs and/or 0s"
   ]
  },
  {
   "cell_type": "markdown",
   "metadata": {},
   "source": [
    "#### Now let's look at the amount of each functional type pumps in our dataset"
   ]
  },
  {
   "cell_type": "code",
   "execution_count": 10,
   "metadata": {},
   "outputs": [
    {
     "name": "stdout",
     "output_type": "stream",
     "text": [
      "Count of each functional type:\n",
      "functional                 32259\n",
      "non functional             22824\n",
      "functional needs repair     4317\n",
      "Name: status_group, dtype: int64\n",
      "\n",
      "Percent of each functional type:\n",
      "functional                 54.308081\n",
      "non functional             38.424242\n",
      "functional needs repair     7.267677\n",
      "Name: status_group, dtype: float64\n"
     ]
    }
   ],
   "source": [
    "# The count of each fuctional type of the pumps in status_group so that we will understand the functional scenario \n",
    "# of the pump status\n",
    "print('Count of each functional type:' + '\\n' + str(df.status_group.value_counts()))\n",
    "print('\\n' + 'Percent of each functional type:' + '\\n' + str(df.status_group.value_counts(normalize=True) * 100))"
   ]
  },
  {
   "cell_type": "markdown",
   "metadata": {},
   "source": [
    "#### By the above figures, we can roughly estimate that there is 54.31% chance that if we take a random pump in the data to be a functional pump."
   ]
  },
  {
   "cell_type": "markdown",
   "metadata": {},
   "source": [
    "### Now let's separate our Numerical and Categorical features and visualize some of the most sensitive columns"
   ]
  },
  {
   "cell_type": "code",
   "execution_count": 11,
   "metadata": {},
   "outputs": [],
   "source": [
    "sensitive_num_features = [\n",
    "    'amount_tsh',\n",
    "    'gps_height',\n",
    "    'longitude',\n",
    "    'latitude',\n",
    "    'population',\n",
    "    'construction_year'\n",
    "]"
   ]
  },
  {
   "cell_type": "code",
   "execution_count": 12,
   "metadata": {},
   "outputs": [
    {
     "data": {
      "image/png": "[encoded data removed]",
      "text/plain": [
       "<Figure size 1080x1080 with 6 Axes>"
      ]
     },
     "metadata": {},
     "output_type": "display_data"
    }
   ],
   "source": [
    "sns.set()\n",
    "df.loc[:,sensitive_num_features].hist()\n",
    "fig = plt.gcf()\n",
    "fig.set_size_inches(15,15)\n",
    "fig.subplots_adjust(wspace=0.2, hspace=0.5)"
   ]
  },
  {
   "cell_type": "markdown",
   "metadata": {},
   "source": [
    "### Let's look at numerical values"
   ]
  },
  {
   "cell_type": "code",
   "execution_count": 13,
   "metadata": {},
   "outputs": [],
   "source": [
    "#df[df['construction_year'] == 0]"
   ]
  },
  {
   "cell_type": "code",
   "execution_count": 14,
   "metadata": {
    "scrolled": true
   },
   "outputs": [
    {
     "data": {
      "text/plain": [
       "0       34.863636\n",
       "2010     4.452862\n",
       "2008     4.398990\n",
       "2009     4.264310\n",
       "2000     3.520202\n",
       "2007     2.671717\n",
       "2006     2.476431\n",
       "2003     2.164983\n",
       "2011     2.114478\n",
       "2004     1.890572\n",
       "2012     1.824916\n",
       "2002     1.809764\n",
       "1978     1.745791\n",
       "1995     1.707071\n",
       "2005     1.702020\n",
       "1999     1.648148\n",
       "1998     1.626263\n",
       "1990     1.606061\n",
       "1985     1.590909\n",
       "1980     1.365320\n",
       "1996     1.365320\n",
       "1984     1.311448\n",
       "1982     1.252525\n",
       "1994     1.242424\n",
       "1972     1.191919\n",
       "1974     1.138047\n",
       "1997     1.084175\n",
       "1992     1.077441\n",
       "1993     1.023569\n",
       "2001     0.909091\n",
       "1988     0.877104\n",
       "1983     0.821549\n",
       "1975     0.735690\n",
       "1986     0.730640\n",
       "1976     0.696970\n",
       "1970     0.691919\n",
       "1991     0.545455\n",
       "1989     0.531987\n",
       "1987     0.508418\n",
       "1981     0.400673\n",
       "1977     0.340067\n",
       "1979     0.323232\n",
       "1973     0.309764\n",
       "2013     0.296296\n",
       "1971     0.244108\n",
       "1960     0.171717\n",
       "1967     0.148148\n",
       "1963     0.143098\n",
       "1968     0.129630\n",
       "1969     0.099327\n",
       "1964     0.067340\n",
       "1962     0.050505\n",
       "1961     0.035354\n",
       "1965     0.031987\n",
       "1966     0.028620\n",
       "Name: construction_year, dtype: float64"
      ]
     },
     "execution_count": 14,
     "metadata": {},
     "output_type": "execute_result"
    }
   ],
   "source": [
    "df['construction_year'].value_counts(normalize=True) * 100"
   ]
  },
  {
   "cell_type": "code",
   "execution_count": 15,
   "metadata": {
    "scrolled": true
   },
   "outputs": [],
   "source": [
    "#df[df['population'] == 0]"
   ]
  },
  {
   "cell_type": "code",
   "execution_count": 16,
   "metadata": {
    "scrolled": true
   },
   "outputs": [
    {
     "data": {
      "text/plain": [
       "0       35.994949\n",
       "1       11.826599\n",
       "200      3.265993\n",
       "150      3.185185\n",
       "250      2.829966\n",
       "300      2.484848\n",
       "100      1.929293\n",
       "50       1.917508\n",
       "500      1.698653\n",
       "350      1.659933\n",
       "120      1.542088\n",
       "400      1.304714\n",
       "60       1.188552\n",
       "30       1.053872\n",
       "40       0.929293\n",
       "80       0.897306\n",
       "450      0.840067\n",
       "20       0.777778\n",
       "600      0.737374\n",
       "230      0.653199\n",
       "75       0.486532\n",
       "1000     0.468013\n",
       "800      0.452862\n",
       "90       0.446128\n",
       "130      0.444444\n",
       "25       0.429293\n",
       "320      0.419192\n",
       "35       0.412458\n",
       "360      0.373737\n",
       "140      0.361953\n",
       "          ...    \n",
       "8848     0.001684\n",
       "628      0.001684\n",
       "4520     0.001684\n",
       "468      0.001684\n",
       "693      0.001684\n",
       "725      0.001684\n",
       "789      0.001684\n",
       "821      0.001684\n",
       "5300     0.001684\n",
       "3127     0.001684\n",
       "2345     0.001684\n",
       "3031     0.001684\n",
       "886      0.001684\n",
       "392      0.001684\n",
       "424      0.001684\n",
       "2807     0.001684\n",
       "726      0.001684\n",
       "694      0.001684\n",
       "2569     0.001684\n",
       "4788     0.001684\n",
       "662      0.001684\n",
       "4660     0.001684\n",
       "406      0.001684\n",
       "1032     0.001684\n",
       "1160     0.001684\n",
       "3241     0.001684\n",
       "1960     0.001684\n",
       "1685     0.001684\n",
       "2248     0.001684\n",
       "1439     0.001684\n",
       "Name: population, Length: 1049, dtype: float64"
      ]
     },
     "execution_count": 16,
     "metadata": {},
     "output_type": "execute_result"
    }
   ],
   "source": [
    "df['population'].value_counts(normalize=True) * 100"
   ]
  },
  {
   "cell_type": "code",
   "execution_count": 17,
   "metadata": {
    "scrolled": true
   },
   "outputs": [
    {
     "data": {
      "text/plain": [
       "0.00         70.099327\n",
       "500.00        5.222222\n",
       "50.00         4.161616\n",
       "1000.00       2.505051\n",
       "20.00         2.462963\n",
       "200.00        2.053872\n",
       "100.00        1.373737\n",
       "10.00         1.356902\n",
       "30.00         1.250842\n",
       "2000.00       1.185185\n",
       "250.00        0.957912\n",
       "300.00        0.937710\n",
       "5000.00       0.757576\n",
       "5.00          0.632997\n",
       "25.00         0.599327\n",
       "3000.00       0.562290\n",
       "1200.00       0.449495\n",
       "1500.00       0.331650\n",
       "6.00          0.319865\n",
       "600.00        0.296296\n",
       "4000.00       0.262626\n",
       "2400.00       0.244108\n",
       "2500.00       0.234007\n",
       "6000.00       0.210438\n",
       "7.00          0.116162\n",
       "8000.00       0.102694\n",
       "750.00        0.099327\n",
       "40.00         0.099327\n",
       "10000.00      0.095960\n",
       "12000.00      0.085859\n",
       "               ...    \n",
       "16000.00      0.003367\n",
       "16300.00      0.003367\n",
       "800.00        0.003367\n",
       "11000.00      0.003367\n",
       "590.00        0.003367\n",
       "520.00        0.003367\n",
       "26000.00      0.003367\n",
       "13000.00      0.003367\n",
       "9.00          0.001684\n",
       "170000.00     0.001684\n",
       "200000.00     0.001684\n",
       "900.00        0.001684\n",
       "0.25          0.001684\n",
       "53.00         0.001684\n",
       "350000.00     0.001684\n",
       "306.00        0.001684\n",
       "120000.00     0.001684\n",
       "26.00         0.001684\n",
       "59.00         0.001684\n",
       "60000.00      0.001684\n",
       "5400.00       0.001684\n",
       "70000.00      0.001684\n",
       "250000.00     0.001684\n",
       "38000.00      0.001684\n",
       "1400.00       0.001684\n",
       "8500.00       0.001684\n",
       "6300.00       0.001684\n",
       "220.00        0.001684\n",
       "138000.00     0.001684\n",
       "12.00         0.001684\n",
       "Name: amount_tsh, Length: 98, dtype: float64"
      ]
     },
     "execution_count": 17,
     "metadata": {},
     "output_type": "execute_result"
    }
   ],
   "source": [
    "df['amount_tsh'].value_counts(normalize=True) * 100"
   ]
  },
  {
   "cell_type": "code",
   "execution_count": 18,
   "metadata": {},
   "outputs": [],
   "source": [
    "#dropping this feature because it has too many missing values. 70% 0s.\n",
    "#df.drop('amount_tsh', axis=1, inplace=True)"
   ]
  },
  {
   "cell_type": "code",
   "execution_count": 19,
   "metadata": {
    "scrolled": true
   },
   "outputs": [
    {
     "data": {
      "text/plain": [
       " 0       34.407407\n",
       "-15       0.101010\n",
       "-16       0.092593\n",
       "-13       0.092593\n",
       "-20       0.087542\n",
       " 1290     0.087542\n",
       "-14       0.085859\n",
       " 303      0.085859\n",
       "-18       0.082492\n",
       "-19       0.079125\n",
       " 1269     0.077441\n",
       " 1295     0.077441\n",
       " 1304     0.075758\n",
       "-23       0.075758\n",
       " 280      0.074074\n",
       " 1538     0.074074\n",
       " 1286     0.074074\n",
       "-8        0.074074\n",
       "-17       0.074074\n",
       " 1332     0.072391\n",
       " 320      0.072391\n",
       " 1317     0.070707\n",
       " 1293     0.070707\n",
       " 1319     0.070707\n",
       " 1359     0.070707\n",
       " 1264     0.070707\n",
       " 1288     0.070707\n",
       " 1401     0.070707\n",
       " 1303     0.070707\n",
       "-27       0.070707\n",
       "           ...    \n",
       " 2506     0.001684\n",
       " 2023     0.001684\n",
       "-53       0.001684\n",
       " 2364     0.001684\n",
       " 2332     0.001684\n",
       " 2402     0.001684\n",
       " 2236     0.001684\n",
       " 2420     0.001684\n",
       " 2291     0.001684\n",
       " 2407     0.001684\n",
       " 2080     0.001684\n",
       " 2250     0.001684\n",
       " 591      0.001684\n",
       " 2378     0.001684\n",
       " 2535     0.001684\n",
       " 2614     0.001684\n",
       " 2484     0.001684\n",
       " 2450     0.001684\n",
       " 2072     0.001684\n",
       " 2286     0.001684\n",
       " 2567     0.001684\n",
       " 2322     0.001684\n",
       " 2254     0.001684\n",
       " 2264     0.001684\n",
       " 2464     0.001684\n",
       " 2285     0.001684\n",
       " 2424     0.001684\n",
       " 2552     0.001684\n",
       " 2413     0.001684\n",
       " 2385     0.001684\n",
       "Name: gps_height, Length: 2428, dtype: float64"
      ]
     },
     "execution_count": 19,
     "metadata": {},
     "output_type": "execute_result"
    }
   ],
   "source": [
    "df['gps_height'].value_counts(normalize=True) * 100"
   ]
  },
  {
   "cell_type": "code",
   "execution_count": 20,
   "metadata": {
    "scrolled": true
   },
   "outputs": [
    {
     "data": {
      "text/plain": [
       "0.000000     3.050505\n",
       "37.540901    0.003367\n",
       "33.010510    0.003367\n",
       "39.093484    0.003367\n",
       "32.972719    0.003367\n",
       "33.006275    0.003367\n",
       "39.103950    0.003367\n",
       "37.542785    0.003367\n",
       "36.802490    0.003367\n",
       "39.098374    0.003367\n",
       "33.090347    0.003367\n",
       "33.005032    0.003367\n",
       "32.978062    0.003367\n",
       "39.088875    0.003367\n",
       "31.619530    0.003367\n",
       "39.093095    0.003367\n",
       "39.105307    0.003367\n",
       "32.936689    0.003367\n",
       "32.987511    0.003367\n",
       "39.090880    0.003367\n",
       "37.314250    0.003367\n",
       "32.984790    0.003367\n",
       "39.091434    0.003367\n",
       "37.274352    0.003367\n",
       "32.919861    0.003367\n",
       "37.530515    0.003367\n",
       "32.955597    0.003367\n",
       "39.098514    0.003367\n",
       "32.988560    0.003367\n",
       "32.987670    0.003367\n",
       "               ...   \n",
       "36.831815    0.001684\n",
       "31.530352    0.001684\n",
       "35.455622    0.001684\n",
       "37.672581    0.001684\n",
       "29.964104    0.001684\n",
       "34.862237    0.001684\n",
       "37.663466    0.001684\n",
       "37.128824    0.001684\n",
       "38.766058    0.001684\n",
       "38.710520    0.001684\n",
       "40.117029    0.001684\n",
       "34.672962    0.001684\n",
       "39.433604    0.001684\n",
       "35.901580    0.001684\n",
       "37.532216    0.001684\n",
       "35.790038    0.001684\n",
       "33.926958    0.001684\n",
       "37.371204    0.001684\n",
       "33.494134    0.001684\n",
       "34.462228    0.001684\n",
       "36.658880    0.001684\n",
       "33.877577    0.001684\n",
       "38.579468    0.001684\n",
       "31.715232    0.001684\n",
       "36.871976    0.001684\n",
       "37.579803    0.001684\n",
       "33.196490    0.001684\n",
       "34.017119    0.001684\n",
       "33.788326    0.001684\n",
       "30.163579    0.001684\n",
       "Name: longitude, Length: 57516, dtype: float64"
      ]
     },
     "execution_count": 20,
     "metadata": {},
     "output_type": "execute_result"
    }
   ],
   "source": [
    "df['longitude'].value_counts(normalize=True) * 100"
   ]
  },
  {
   "cell_type": "markdown",
   "metadata": {},
   "source": [
    "#### As we can see above, we have 3% counts of the value 0 for longitude which is not correct for Tanzania. [Map of Tanzania with latitude and longitude](https://www.worldatlas.com/img/areamap/44fb0cbaa5eb7ba2770b00485a23d97a.gif). You can also find more information about Tanzania using this [link](https://www.worldatlas.com/webimage/countrys/africa/tz.htm)"
   ]
  },
  {
   "cell_type": "code",
   "execution_count": 21,
   "metadata": {
    "scrolled": true
   },
   "outputs": [
    {
     "data": {
      "text/plain": [
       "-2.000000e-08    3.050505\n",
       "-6.985842e+00    0.003367\n",
       "-3.797579e+00    0.003367\n",
       "-6.981884e+00    0.003367\n",
       "-7.104625e+00    0.003367\n",
       "-7.056923e+00    0.003367\n",
       "-7.175174e+00    0.003367\n",
       "-6.990731e+00    0.003367\n",
       "-6.978755e+00    0.003367\n",
       "-6.994704e+00    0.003367\n",
       "-2.494546e+00    0.003367\n",
       "-6.964258e+00    0.003367\n",
       "-2.506590e+00    0.003367\n",
       "-6.990549e+00    0.003367\n",
       "-2.485227e+00    0.003367\n",
       "-2.494353e+00    0.003367\n",
       "-6.962475e+00    0.003367\n",
       "-6.989456e+00    0.003367\n",
       "-6.957328e+00    0.003367\n",
       "-6.958716e+00    0.003367\n",
       "-6.992611e+00    0.003367\n",
       "-6.991294e+00    0.003367\n",
       "-7.177155e+00    0.003367\n",
       "-2.501627e+00    0.003367\n",
       "-1.793342e+00    0.003367\n",
       "-7.102004e+00    0.003367\n",
       "-2.467137e+00    0.003367\n",
       "-2.516619e+00    0.003367\n",
       "-7.095131e+00    0.003367\n",
       "-6.981326e+00    0.003367\n",
       "                   ...   \n",
       "-1.820702e+00    0.001684\n",
       "-3.849252e+00    0.001684\n",
       "-4.624770e+00    0.001684\n",
       "-6.405513e+00    0.001684\n",
       "-1.530104e+00    0.001684\n",
       "-3.482213e+00    0.001684\n",
       "-6.345435e+00    0.001684\n",
       "-3.914628e+00    0.001684\n",
       "-3.140772e+00    0.001684\n",
       "-3.223370e+00    0.001684\n",
       "-3.263586e+00    0.001684\n",
       "-6.339804e+00    0.001684\n",
       "-8.519241e+00    0.001684\n",
       "-9.342734e+00    0.001684\n",
       "-1.988030e+00    0.001684\n",
       "-3.962936e+00    0.001684\n",
       "-8.889594e+00    0.001684\n",
       "-4.828176e+00    0.001684\n",
       "-4.265410e+00    0.001684\n",
       "-4.750163e+00    0.001684\n",
       "-3.411358e+00    0.001684\n",
       "-8.958207e+00    0.001684\n",
       "-3.261113e+00    0.001684\n",
       "-5.435762e+00    0.001684\n",
       "-4.476671e+00    0.001684\n",
       "-5.726001e+00    0.001684\n",
       "-9.646831e+00    0.001684\n",
       "-8.124530e+00    0.001684\n",
       "-2.535985e+00    0.001684\n",
       "-2.598965e+00    0.001684\n",
       "Name: latitude, Length: 57517, dtype: float64"
      ]
     },
     "execution_count": 21,
     "metadata": {},
     "output_type": "execute_result"
    }
   ],
   "source": [
    "df['latitude'].value_counts(normalize=True) * 100"
   ]
  },
  {
   "cell_type": "markdown",
   "metadata": {},
   "source": [
    "### We see above that the we have *'amount_tsh'* == 0 (amount water available to waterpoint) and this doesn't make sense when the *'quantity'* is not 'dry'. I'll assume that 0 value in *'amount_tsh'* means we are missing values in this feature and we need to handle it."
   ]
  },
  {
   "cell_type": "markdown",
   "metadata": {},
   "source": [
    "### Now let's compare the *status_group* feature with other numerical features to see if we can find a trend"
   ]
  },
  {
   "cell_type": "code",
   "execution_count": 22,
   "metadata": {
    "scrolled": true
   },
   "outputs": [],
   "source": [
    "df['date_recorded'] = pd.to_datetime(df['date_recorded'])\n",
    "#df['construction_year'] = df.construction_year.map(lambda x: np.nan if x == 0 else x)"
   ]
  },
  {
   "cell_type": "code",
   "execution_count": 23,
   "metadata": {},
   "outputs": [],
   "source": [
    "#recalculate operation year\n",
    "#df['operation_year'] = df.date_recorded.dt.year - df.construction_year"
   ]
  },
  {
   "cell_type": "code",
   "execution_count": 24,
   "metadata": {
    "scrolled": true
   },
   "outputs": [
    {
     "data": {
      "text/plain": [
       "id                           0\n",
       "amount_tsh                   0\n",
       "date_recorded                0\n",
       "funder                    3635\n",
       "gps_height                   0\n",
       "installer                 3655\n",
       "longitude                    0\n",
       "latitude                     0\n",
       "wpt_name                     0\n",
       "num_private                  0\n",
       "basin                        0\n",
       "subvillage                 371\n",
       "region                       0\n",
       "region_code                  0\n",
       "district_code                0\n",
       "lga                          0\n",
       "ward                         0\n",
       "population                   0\n",
       "public_meeting            3334\n",
       "recorded_by                  0\n",
       "scheme_management         3877\n",
       "scheme_name              28166\n",
       "permit                    3056\n",
       "construction_year            0\n",
       "extraction_type              0\n",
       "extraction_type_group        0\n",
       "extraction_type_class        0\n",
       "management                   0\n",
       "management_group             0\n",
       "payment                      0\n",
       "payment_type                 0\n",
       "water_quality                0\n",
       "quality_group                0\n",
       "quantity                     0\n",
       "quantity_group               0\n",
       "source                       0\n",
       "source_type                  0\n",
       "source_class                 0\n",
       "waterpoint_type              0\n",
       "waterpoint_type_group        0\n",
       "status_group                 0\n",
       "dtype: int64"
      ]
     },
     "execution_count": 24,
     "metadata": {},
     "output_type": "execute_result"
    }
   ],
   "source": [
    "df.isnull().sum()"
   ]
  },
  {
   "cell_type": "code",
   "execution_count": 25,
   "metadata": {},
   "outputs": [],
   "source": [
    "#create season variable \n",
    "#look at monthly counts for reference\n",
    "#df.date_recorded.dt.month.value_counts().sort_index()"
   ]
  },
  {
   "cell_type": "code",
   "execution_count": 26,
   "metadata": {},
   "outputs": [],
   "source": [
    "#df['month_recorded'] = df.date_recorded.dt.month"
   ]
  },
  {
   "cell_type": "code",
   "execution_count": 27,
   "metadata": {},
   "outputs": [],
   "source": [
    "#Jan and Feb short dry season\n",
    "#long rains lasts during about March, April and May \n",
    "#long dry season lasts throughout June, July, August, September and October \n",
    "#During November and December there's another rainy season: the 'short rains'"
   ]
  },
  {
   "cell_type": "code",
   "execution_count": 28,
   "metadata": {},
   "outputs": [],
   "source": [
    "#def season_selection (x):\n",
    "#    if x <= 2: return 1 #short dry season \n",
    "#    elif x <= 5: return 2 #long raining season\n",
    "#    elif x <= 10: return 3 #long dry season\n",
    "#    elif x<= 12: return 4 # short raining season\n",
    "#    return"
   ]
  },
  {
   "cell_type": "code",
   "execution_count": 29,
   "metadata": {},
   "outputs": [],
   "source": [
    "#df['season']=df.month_recorded.apply(season_selection)"
   ]
  },
  {
   "cell_type": "code",
   "execution_count": 30,
   "metadata": {
    "scrolled": true
   },
   "outputs": [],
   "source": [
    "#df.season.value_counts()"
   ]
  },
  {
   "cell_type": "code",
   "execution_count": 31,
   "metadata": {},
   "outputs": [],
   "source": [
    "# We can see that there are 41639 0's in amount_tsh column. Since these 0's might cause some \n",
    "#issues later, we need to change them to NaN values and then replace the NaN values \n",
    "#with transform(\"mean\") and transform(\"median\") - This is also true for population and gps_height\n",
    "df['amount_tsh'].replace(0.0, np.nan, inplace=True)\n",
    "df['gps_height'].replace(0.0, np.nan, inplace=True)\n",
    "df['population'].replace(0.0, np.nan, inplace=True)\n",
    "df['longitude'].replace(0.0, np.nan, inplace=True)\n",
    "df['construction_year'].replace(0.0, np.nan, inplace=True)\n",
    "#df['pupm_age'].replace('0', np.nan, inplace=True)"
   ]
  },
  {
   "cell_type": "code",
   "execution_count": 32,
   "metadata": {},
   "outputs": [],
   "source": [
    "df['amount_tsh'].fillna(df.groupby(['region', 'district_code'])['amount_tsh'].transform(\"median\"), inplace=True)\n",
    "df['amount_tsh'].fillna(df.groupby(['region'])['amount_tsh'].transform(\"median\"), inplace=True)\n",
    "df['amount_tsh'].fillna(df['amount_tsh'].median(), inplace=True)\n",
    "df['gps_height'].fillna(df.groupby(['region', 'district_code'])['gps_height'].transform(\"mean\"), inplace=True)\n",
    "df['gps_height'].fillna(df.groupby(['region'])['gps_height'].transform(\"mean\"), inplace=True)\n",
    "df['gps_height'].fillna(df['gps_height'].mean(), inplace=True)\n",
    "df['population'].fillna(df.groupby(['region', 'district_code'])['population'].transform(\"median\"), inplace=True)\n",
    "df['population'].fillna(df.groupby(['region'])['population'].transform(\"median\"), inplace=True)\n",
    "df['population'].fillna(df['population'].median(), inplace=True)\n",
    "df['longitude'].fillna(df.groupby(['region', 'district_code'])['longitude'].transform(\"mean\"), inplace=True)\n",
    "df['longitude'].fillna(df.groupby(['region'])['longitude'].transform(\"mean\"), inplace=True)\n",
    "df['construction_year'].fillna(df['construction_year'].median(), inplace=True)"
   ]
  },
  {
   "cell_type": "markdown",
   "metadata": {},
   "source": [
    "### Let's start to remove unnecessary features"
   ]
  },
  {
   "cell_type": "code",
   "execution_count": 33,
   "metadata": {
    "scrolled": true
   },
   "outputs": [
    {
     "data": {
      "text/plain": [
       "['funder',\n",
       " 'installer',\n",
       " 'wpt_name',\n",
       " 'basin',\n",
       " 'subvillage',\n",
       " 'region',\n",
       " 'lga',\n",
       " 'ward',\n",
       " 'public_meeting',\n",
       " 'recorded_by',\n",
       " 'scheme_management',\n",
       " 'scheme_name',\n",
       " 'permit',\n",
       " 'extraction_type',\n",
       " 'extraction_type_group',\n",
       " 'extraction_type_class',\n",
       " 'management',\n",
       " 'management_group',\n",
       " 'payment',\n",
       " 'payment_type',\n",
       " 'water_quality',\n",
       " 'quality_group',\n",
       " 'quantity',\n",
       " 'quantity_group',\n",
       " 'source',\n",
       " 'source_type',\n",
       " 'source_class',\n",
       " 'waterpoint_type',\n",
       " 'waterpoint_type_group',\n",
       " 'status_group']"
      ]
     },
     "execution_count": 33,
     "metadata": {},
     "output_type": "execute_result"
    }
   ],
   "source": [
    "list(df.select_dtypes(object))"
   ]
  },
  {
   "cell_type": "code",
   "execution_count": 34,
   "metadata": {},
   "outputs": [],
   "source": [
    "#df['funder'].unique()"
   ]
  },
  {
   "cell_type": "code",
   "execution_count": 35,
   "metadata": {
    "scrolled": true
   },
   "outputs": [],
   "source": [
    "#df['lga'].unique()"
   ]
  },
  {
   "cell_type": "code",
   "execution_count": 36,
   "metadata": {},
   "outputs": [
    {
     "data": {
      "text/plain": [
       "array(['GeoData Consultants Ltd'], dtype=object)"
      ]
     },
     "execution_count": 36,
     "metadata": {},
     "output_type": "execute_result"
    }
   ],
   "source": [
    "df['recorded_by'].unique()"
   ]
  },
  {
   "cell_type": "code",
   "execution_count": 37,
   "metadata": {},
   "outputs": [],
   "source": [
    "# Recorded_by has no unique values so let's drop this feature\n",
    "#df.drop('recorded_by', axis=1, inplace=True)"
   ]
  },
  {
   "cell_type": "code",
   "execution_count": 38,
   "metadata": {},
   "outputs": [],
   "source": [
    "# Also dropping 'public_meeting' and 'permit' features because they are not sensitive\n",
    "#df.drop('public_meeting', axis=1, inplace=True)\n",
    "#df.drop('permit', axis=1, inplace=True)"
   ]
  },
  {
   "cell_type": "markdown",
   "metadata": {},
   "source": [
    "### For every categorical response, convert the levels to lower case, in case there is random capitalization"
   ]
  },
  {
   "cell_type": "code",
   "execution_count": 39,
   "metadata": {},
   "outputs": [],
   "source": [
    "#df.installer = df.installer.str.lower()\n",
    "df.funder = df.funder.str.lower()\n",
    "df.wpt_name = df.wpt_name.str.lower()\n",
    "df.basin = df.basin.str.lower()\n",
    "df.subvillage = df.subvillage.str.lower()\n",
    "df.region = df.region.str.lower()\n",
    "df.lga = df.lga.str.lower()\n",
    "#df.ward = df.ward.str.lower()\n",
    "df.management = df.management.str.lower()\n",
    "df.management_group = df.management_group.str.lower()\n",
    "df.scheme_management = df.scheme_management.str.lower()"
   ]
  },
  {
   "cell_type": "markdown",
   "metadata": {},
   "source": [
    "### Now let's look at categorical features that have similar information"
   ]
  },
  {
   "cell_type": "code",
   "execution_count": 40,
   "metadata": {
    "scrolled": true
   },
   "outputs": [
    {
     "data": {
      "text/plain": [
       "installer             funder                        \n",
       "-                     government of tanzania              2\n",
       "                      kalebejo parish                     1\n",
       "0                     0                                 777\n",
       "A.D.B                 hesawa                              1\n",
       "AAR                   aar                                 4\n",
       "ABASIA                abasia                             29\n",
       "ABD                   abd                                 1\n",
       "ABDALA                abdala                              1\n",
       "ABDUL                 abdul                               1\n",
       "AC                    action aid                          2\n",
       "ACORD                 acord                               3\n",
       "ACRA                  acra                               46\n",
       "                      eu/acra                            18\n",
       "                      rc                                 39\n",
       "                      rc church                         108\n",
       "                      roman catholic                     66\n",
       "                      rv                                  1\n",
       "ACT                   act                                 1\n",
       "ACT MARA              act mara                            1\n",
       "ACTION AID            action aid                          1\n",
       "ACTIVE TANK CO        wfp                                 9\n",
       "ACTIVE TANK CO LTD    afdp                                1\n",
       "                      wfp                                 1\n",
       "AD                    private individual                 14\n",
       "ADAP                  adap                                4\n",
       "ADB                   adb                                 4\n",
       "                      government of tanzania              1\n",
       "ADP                   area                                1\n",
       "                      district council                    1\n",
       "                      world vision                       17\n",
       "                                                       ... \n",
       "unknown               unknown                             1\n",
       "upper Ruvu            plan int                            1\n",
       "villager              balo                                1\n",
       "villagers             answeer muslim grou                 1\n",
       "                      ballo                               1\n",
       "                      balo                                1\n",
       "                      british colonial government         1\n",
       "                      jimmy                               1\n",
       "                      kkkt                                1\n",
       "                      kome parish                         1\n",
       "                      not known                           1\n",
       "                      oak'zion' and bugango b' commu      1\n",
       "                      silvester shilingi                  1\n",
       "                      tasaf                               1\n",
       "                      villagers                           2\n",
       "villigers             balo                                1\n",
       "wanan                 roman                              47\n",
       "                      wanan                               5\n",
       "wananchi              lwiji italy                         6\n",
       "                      nado                               10\n",
       "                      wananchi                          102\n",
       "                      wanginyi water                      1\n",
       "wananchi technicians  wananchi                            1\n",
       "wasab                 kanis                               1\n",
       "water board           water board                         1\n",
       "                      world bank                          1\n",
       "wizara ya maji        serikali                            2\n",
       "world                 world bank                          4\n",
       "world banks           world bank                          1\n",
       "world vision          world vision                        1\n",
       "Length: 3697, dtype: int64"
      ]
     },
     "execution_count": 40,
     "metadata": {},
     "output_type": "execute_result"
    }
   ],
   "source": [
    "df.groupby(['installer', 'funder']).size()"
   ]
  },
  {
   "cell_type": "code",
   "execution_count": 41,
   "metadata": {},
   "outputs": [],
   "source": [
    "#df.drop('installer',axis=1,inplace=True)"
   ]
  },
  {
   "cell_type": "code",
   "execution_count": 42,
   "metadata": {
    "scrolled": true
   },
   "outputs": [
    {
     "data": {
      "text/plain": [
       "extraction_type_group  extraction_type_class  extraction_type          \n",
       "afridev                handpump               afridev                       1770\n",
       "gravity                gravity                gravity                      26780\n",
       "india mark ii          handpump               india mark ii                 2400\n",
       "india mark iii         handpump               india mark iii                  98\n",
       "mono                   motorpump              mono                          2865\n",
       "nira/tanira            handpump               nira/tanira                   8154\n",
       "other                  other                  other                         6430\n",
       "other handpump         handpump               other - mkulima/shinyanga        2\n",
       "                                              other - play pump               85\n",
       "                                              other - swn 81                 229\n",
       "                                              walimi                          48\n",
       "other motorpump        motorpump              cemo                            90\n",
       "                                              climax                          32\n",
       "rope pump              rope pump              other - rope pump              451\n",
       "submersible            submersible            ksb                           1415\n",
       "                                              submersible                   4764\n",
       "swn 80                 handpump               swn 80                        3670\n",
       "wind-powered           wind-powered           windmill                       117\n",
       "dtype: int64"
      ]
     },
     "execution_count": 42,
     "metadata": {},
     "output_type": "execute_result"
    }
   ],
   "source": [
    "#start with extraction_type, extraction_type_group, and extraction_type_class\n",
    "df.groupby(['extraction_type_group', 'extraction_type_class','extraction_type']).size()"
   ]
  },
  {
   "cell_type": "code",
   "execution_count": 43,
   "metadata": {},
   "outputs": [],
   "source": [
    "#df.drop(['extraction_type_group', 'extraction_type_class'],axis=1,inplace=True)"
   ]
  },
  {
   "cell_type": "code",
   "execution_count": 44,
   "metadata": {
    "scrolled": true
   },
   "outputs": [
    {
     "data": {
      "text/plain": [
       "lga           ward         \n",
       "arusha rural  Bangata           33\n",
       "              Bwawani           37\n",
       "              Ilkiding'a        86\n",
       "              Kimnyaki          79\n",
       "              Kiranyi          115\n",
       "              Kisongo           33\n",
       "              Mateves           22\n",
       "              Mlangarini        92\n",
       "              Moivo             44\n",
       "              Moshono           44\n",
       "              Murieti           29\n",
       "              Musa              29\n",
       "              Mwandeti          17\n",
       "              Nduruma          205\n",
       "              Oldonyosambu      77\n",
       "              Oljoro             8\n",
       "              Olkokola         133\n",
       "              Oltroto           75\n",
       "              Oltrumet          52\n",
       "              Sokoni II         42\n",
       "arusha urban  Baraa              2\n",
       "              Daraja Mbili       3\n",
       "              Elerai            11\n",
       "              Engutoto           1\n",
       "              Kaloleni           5\n",
       "              Kimandolu          2\n",
       "              Lemara             4\n",
       "              Levolosi           2\n",
       "              Ngarenaro          3\n",
       "              Olorien            4\n",
       "                              ... \n",
       "urambo        Mwongozo          16\n",
       "              Songambele        28\n",
       "              Ugunga             7\n",
       "              Ukondamoyo         7\n",
       "              Ukumbisiganga     13\n",
       "              Urambo            28\n",
       "              Ushokola           5\n",
       "              Usinge             8\n",
       "              Usisya            13\n",
       "              Ussoke            11\n",
       "              Uyowa              6\n",
       "              Uyumbu            32\n",
       "              Vumilia            6\n",
       "uyui          Bukumbi           20\n",
       "              Goweko            18\n",
       "              Ibiri             37\n",
       "              Igalula           46\n",
       "              Ikongolo          11\n",
       "              Ilolangulu        40\n",
       "              Isikizya          29\n",
       "              Kizengi           13\n",
       "              Loya              10\n",
       "              Lutende            6\n",
       "              Mabama            25\n",
       "              Magiri            10\n",
       "              Ndono             12\n",
       "              Shitage            3\n",
       "              Ufuluma           16\n",
       "              Upuge             18\n",
       "              Usagali           25\n",
       "Length: 2191, dtype: int64"
      ]
     },
     "execution_count": 44,
     "metadata": {},
     "output_type": "execute_result"
    }
   ],
   "source": [
    "df.groupby(['lga', 'ward']).size()"
   ]
  },
  {
   "cell_type": "code",
   "execution_count": 45,
   "metadata": {},
   "outputs": [],
   "source": [
    "#df.drop('ward',axis=1,inplace=True)"
   ]
  },
  {
   "cell_type": "code",
   "execution_count": 46,
   "metadata": {},
   "outputs": [
    {
     "data": {
      "text/plain": [
       "management        management_group\n",
       "company           commercial            685\n",
       "other             other                 844\n",
       "other - school    other                  99\n",
       "parastatal        parastatal           1768\n",
       "private operator  commercial           1971\n",
       "trust             commercial             78\n",
       "unknown           unknown               561\n",
       "vwc               user-group          40507\n",
       "water authority   commercial            904\n",
       "water board       user-group           2933\n",
       "wua               user-group           2535\n",
       "wug               user-group           6515\n",
       "dtype: int64"
      ]
     },
     "execution_count": 46,
     "metadata": {},
     "output_type": "execute_result"
    }
   ],
   "source": [
    "df.groupby(['management', 'management_group']).size()"
   ]
  },
  {
   "cell_type": "code",
   "execution_count": 47,
   "metadata": {},
   "outputs": [],
   "source": [
    "#df.drop('management_group',axis=1,inplace=True)"
   ]
  },
  {
   "cell_type": "code",
   "execution_count": 48,
   "metadata": {
    "scrolled": true
   },
   "outputs": [
    {
     "data": {
      "text/plain": [
       "scheme_management  scheme_name                              \n",
       "company            BFFS                                           1\n",
       "                   Bagamoyo Wate                                 60\n",
       "                   Bagamoyo wate                                210\n",
       "                   Borehole                                       1\n",
       "                   Borehole drilling project                      1\n",
       "                   Bulamba piped scheme                           2\n",
       "                   Burieni water supply                           1\n",
       "                   Doe water supply                               3\n",
       "                   EKTM 2 water  supply                           1\n",
       "                   EKTM 2 water suply                            25\n",
       "                   EKTM 2 water supply                            9\n",
       "                   EKTM 3 water supply                           51\n",
       "                   Fufulamsuri water supply                       1\n",
       "                   GRUMETI                                        6\n",
       "                   HESAWA                                         1\n",
       "                   Hakwe water supply                            10\n",
       "                   Holili water supply                           23\n",
       "                   I                                              1\n",
       "                   IKTM 2                                         1\n",
       "                   IKTM 2 water supply                            1\n",
       "                   IKTM 3 water supply                            1\n",
       "                   Ibukoni kimanga water supply                   1\n",
       "                   Iburieni water supply                          6\n",
       "                   Ihum                                           1\n",
       "                   Ikela Wa                                      89\n",
       "                   It                                             1\n",
       "                   Kamdawi water supply                           8\n",
       "                   Kandika water supply                           4\n",
       "                   Kaseni water supply                            1\n",
       "                   Kastamu water supply                           8\n",
       "                                                               ... \n",
       "wug                QWUICKWIN                                      1\n",
       "                   RUMWAMCH                                      12\n",
       "                   RWSSP                                          6\n",
       "                   Robanda pumping scheme                        18\n",
       "                   Ru                                             1\n",
       "                   Ruhatwe water supply                           1\n",
       "                   Rural water sector and sanitation program      1\n",
       "                   Rural water supply &sanitation  program        1\n",
       "                   Rural water supply &sanitation program         3\n",
       "                   Rural water supply&sanitation program          1\n",
       "                   Ruyaya water supply                            1\n",
       "                   SHIMASA                                        2\n",
       "                   Sanga piped Scheme                             1\n",
       "                   Sanga piped scheme                             2\n",
       "                   Shinyanga shallow well project                 7\n",
       "                   Shungubweni Water Supply                       1\n",
       "                   Soro                                           2\n",
       "                   TASAF                                          4\n",
       "                   Tand                                           1\n",
       "                   Tungu water piped scheme                       2\n",
       "                   Tuvaila gravity water supply                   1\n",
       "                   UNUA piped scheme                              1\n",
       "                   Ukuu                                           1\n",
       "                   Vianzi Water Supply                            1\n",
       "                   Vikindu Water Supply                           2\n",
       "                   Water Project Mbawala chini                   14\n",
       "                   Water pipe scheme                              2\n",
       "                   Water sector development program               5\n",
       "                   Windmili system                                1\n",
       "                   mhunze water piped scheme                      1\n",
       "Length: 3077, dtype: int64"
      ]
     },
     "execution_count": 48,
     "metadata": {},
     "output_type": "execute_result"
    }
   ],
   "source": [
    "df.groupby(['scheme_management', 'scheme_name']).size()"
   ]
  },
  {
   "cell_type": "code",
   "execution_count": 49,
   "metadata": {},
   "outputs": [],
   "source": [
    "#df.drop('scheme_name',axis=1,inplace=True)"
   ]
  },
  {
   "cell_type": "code",
   "execution_count": 50,
   "metadata": {},
   "outputs": [
    {
     "data": {
      "text/plain": [
       "payment                payment_type\n",
       "never pay              never pay       25348\n",
       "other                  other            1054\n",
       "pay annually           annually         3642\n",
       "pay monthly            monthly          8300\n",
       "pay per bucket         per bucket       8985\n",
       "pay when scheme fails  on failure       3914\n",
       "unknown                unknown          8157\n",
       "dtype: int64"
      ]
     },
     "execution_count": 50,
     "metadata": {},
     "output_type": "execute_result"
    }
   ],
   "source": [
    "df.groupby(['payment', 'payment_type']).size()"
   ]
  },
  {
   "cell_type": "code",
   "execution_count": 51,
   "metadata": {},
   "outputs": [],
   "source": [
    "#df.drop('payment',axis=1,inplace=True)"
   ]
  },
  {
   "cell_type": "code",
   "execution_count": 52,
   "metadata": {},
   "outputs": [
    {
     "data": {
      "text/plain": [
       "water_quality       quality_group\n",
       "coloured            colored            490\n",
       "fluoride            fluoride           200\n",
       "fluoride abandoned  fluoride            17\n",
       "milky               milky              804\n",
       "salty               salty             4856\n",
       "salty abandoned     salty              339\n",
       "soft                good             50818\n",
       "unknown             unknown           1876\n",
       "dtype: int64"
      ]
     },
     "execution_count": 52,
     "metadata": {},
     "output_type": "execute_result"
    }
   ],
   "source": [
    "df.groupby(['water_quality', 'quality_group']).size()"
   ]
  },
  {
   "cell_type": "code",
   "execution_count": 53,
   "metadata": {},
   "outputs": [],
   "source": [
    "#df.drop('quality_group',axis=1,inplace=True)"
   ]
  },
  {
   "cell_type": "code",
   "execution_count": 54,
   "metadata": {},
   "outputs": [
    {
     "data": {
      "text/plain": [
       "quantity      quantity_group\n",
       "dry           dry                6246\n",
       "enough        enough            33186\n",
       "insufficient  insufficient      15129\n",
       "seasonal      seasonal           4050\n",
       "unknown       unknown             789\n",
       "dtype: int64"
      ]
     },
     "execution_count": 54,
     "metadata": {},
     "output_type": "execute_result"
    }
   ],
   "source": [
    "df.groupby(['quantity', 'quantity_group']).size()"
   ]
  },
  {
   "cell_type": "code",
   "execution_count": 55,
   "metadata": {},
   "outputs": [],
   "source": [
    "#df.drop('quantity_group',axis=1,inplace=True)"
   ]
  },
  {
   "cell_type": "code",
   "execution_count": 56,
   "metadata": {},
   "outputs": [
    {
     "data": {
      "text/plain": [
       "source                source_type           source_class\n",
       "dam                   dam                   surface           656\n",
       "hand dtw              borehole              groundwater       874\n",
       "lake                  river/lake            surface           765\n",
       "machine dbh           borehole              groundwater     11075\n",
       "other                 other                 unknown           212\n",
       "rainwater harvesting  rainwater harvesting  surface          2295\n",
       "river                 river/lake            surface          9612\n",
       "shallow well          shallow well          groundwater     16824\n",
       "spring                spring                groundwater     17021\n",
       "unknown               other                 unknown            66\n",
       "dtype: int64"
      ]
     },
     "execution_count": 56,
     "metadata": {},
     "output_type": "execute_result"
    }
   ],
   "source": [
    "df.groupby(['source', 'source_type', 'source_class']).size()"
   ]
  },
  {
   "cell_type": "code",
   "execution_count": 57,
   "metadata": {},
   "outputs": [],
   "source": [
    "#df.drop('source_type',axis=1,inplace=True)"
   ]
  },
  {
   "cell_type": "code",
   "execution_count": 58,
   "metadata": {},
   "outputs": [
    {
     "data": {
      "text/plain": [
       "waterpoint_type              waterpoint_type_group\n",
       "cattle trough                cattle trough              116\n",
       "communal standpipe           communal standpipe       28522\n",
       "communal standpipe multiple  communal standpipe        6103\n",
       "dam                          dam                          7\n",
       "hand pump                    hand pump                17488\n",
       "improved spring              improved spring            784\n",
       "other                        other                     6380\n",
       "dtype: int64"
      ]
     },
     "execution_count": 58,
     "metadata": {},
     "output_type": "execute_result"
    }
   ],
   "source": [
    "df.groupby(['waterpoint_type', 'waterpoint_type_group']).size()"
   ]
  },
  {
   "cell_type": "code",
   "execution_count": 59,
   "metadata": {},
   "outputs": [],
   "source": [
    "#df.drop('waterpoint_type_group',axis=1,inplace=True)"
   ]
  },
  {
   "cell_type": "code",
   "execution_count": 60,
   "metadata": {},
   "outputs": [],
   "source": [
    "# region and region_code are representing the same thing\n",
    "#f.drop('region', axis=1, inplace=True)"
   ]
  },
  {
   "cell_type": "code",
   "execution_count": 61,
   "metadata": {},
   "outputs": [],
   "source": [
    "df['funder'].fillna(\"other\", inplace=True)\n",
    "df['scheme_management'].fillna(\"other\", inplace=True)"
   ]
  },
  {
   "cell_type": "code",
   "execution_count": 62,
   "metadata": {},
   "outputs": [],
   "source": [
    "#df['operation_year'] = df.date_recorded.dt.year - df.construction_year"
   ]
  },
  {
   "cell_type": "code",
   "execution_count": 63,
   "metadata": {
    "scrolled": true
   },
   "outputs": [
    {
     "data": {
      "text/plain": [
       "id                           0\n",
       "amount_tsh                   0\n",
       "date_recorded                0\n",
       "funder                       0\n",
       "gps_height                   0\n",
       "installer                 3655\n",
       "longitude                    0\n",
       "latitude                     0\n",
       "wpt_name                     0\n",
       "num_private                  0\n",
       "basin                        0\n",
       "subvillage                 371\n",
       "region                       0\n",
       "region_code                  0\n",
       "district_code                0\n",
       "lga                          0\n",
       "ward                         0\n",
       "population                   0\n",
       "public_meeting            3334\n",
       "recorded_by                  0\n",
       "scheme_management            0\n",
       "scheme_name              28166\n",
       "permit                    3056\n",
       "construction_year            0\n",
       "extraction_type              0\n",
       "extraction_type_group        0\n",
       "extraction_type_class        0\n",
       "management                   0\n",
       "management_group             0\n",
       "payment                      0\n",
       "payment_type                 0\n",
       "water_quality                0\n",
       "quality_group                0\n",
       "quantity                     0\n",
       "quantity_group               0\n",
       "source                       0\n",
       "source_type                  0\n",
       "source_class                 0\n",
       "waterpoint_type              0\n",
       "waterpoint_type_group        0\n",
       "status_group                 0\n",
       "dtype: int64"
      ]
     },
     "execution_count": 63,
     "metadata": {},
     "output_type": "execute_result"
    }
   ],
   "source": [
    "df.isnull().sum()"
   ]
  },
  {
   "cell_type": "code",
   "execution_count": 64,
   "metadata": {
    "scrolled": true
   },
   "outputs": [
    {
     "data": {
      "text/html": [
       "<div>\n",
       "<style scoped>\n",
       "    .dataframe tbody tr th:only-of-type {\n",
       "        vertical-align: middle;\n",
       "    }\n",
       "\n",
       "    .dataframe tbody tr th {\n",
       "        vertical-align: top;\n",
       "    }\n",
       "\n",
       "    .dataframe thead th {\n",
       "        text-align: right;\n",
       "    }\n",
       "</style>\n",
       "<table border=\"1\" class=\"dataframe\">\n",
       "  <thead>\n",
       "    <tr style=\"text-align: right;\">\n",
       "      <th></th>\n",
       "      <th>construction_year</th>\n",
       "      <th>date_recorded</th>\n",
       "      <th>status_group</th>\n",
       "    </tr>\n",
       "  </thead>\n",
       "  <tbody>\n",
       "    <tr>\n",
       "      <th>10</th>\n",
       "      <td>2011.0</td>\n",
       "      <td>2011-02-20</td>\n",
       "      <td>functional</td>\n",
       "    </tr>\n",
       "    <tr>\n",
       "      <th>42</th>\n",
       "      <td>2011.0</td>\n",
       "      <td>2011-07-07</td>\n",
       "      <td>functional</td>\n",
       "    </tr>\n",
       "    <tr>\n",
       "      <th>402</th>\n",
       "      <td>2011.0</td>\n",
       "      <td>2011-07-24</td>\n",
       "      <td>functional</td>\n",
       "    </tr>\n",
       "    <tr>\n",
       "      <th>591</th>\n",
       "      <td>2011.0</td>\n",
       "      <td>2011-03-24</td>\n",
       "      <td>functional</td>\n",
       "    </tr>\n",
       "    <tr>\n",
       "      <th>593</th>\n",
       "      <td>2013.0</td>\n",
       "      <td>2013-06-03</td>\n",
       "      <td>non functional</td>\n",
       "    </tr>\n",
       "    <tr>\n",
       "      <th>765</th>\n",
       "      <td>2011.0</td>\n",
       "      <td>2011-03-21</td>\n",
       "      <td>functional</td>\n",
       "    </tr>\n",
       "    <tr>\n",
       "      <th>784</th>\n",
       "      <td>2011.0</td>\n",
       "      <td>2011-02-23</td>\n",
       "      <td>functional</td>\n",
       "    </tr>\n",
       "    <tr>\n",
       "      <th>833</th>\n",
       "      <td>2011.0</td>\n",
       "      <td>2011-07-30</td>\n",
       "      <td>functional</td>\n",
       "    </tr>\n",
       "    <tr>\n",
       "      <th>901</th>\n",
       "      <td>2011.0</td>\n",
       "      <td>2011-08-25</td>\n",
       "      <td>functional</td>\n",
       "    </tr>\n",
       "    <tr>\n",
       "      <th>907</th>\n",
       "      <td>2011.0</td>\n",
       "      <td>2011-03-12</td>\n",
       "      <td>functional</td>\n",
       "    </tr>\n",
       "    <tr>\n",
       "      <th>919</th>\n",
       "      <td>2012.0</td>\n",
       "      <td>2012-10-26</td>\n",
       "      <td>functional</td>\n",
       "    </tr>\n",
       "    <tr>\n",
       "      <th>1220</th>\n",
       "      <td>2011.0</td>\n",
       "      <td>2011-08-04</td>\n",
       "      <td>functional</td>\n",
       "    </tr>\n",
       "    <tr>\n",
       "      <th>1307</th>\n",
       "      <td>2011.0</td>\n",
       "      <td>2011-03-23</td>\n",
       "      <td>functional</td>\n",
       "    </tr>\n",
       "    <tr>\n",
       "      <th>1339</th>\n",
       "      <td>2011.0</td>\n",
       "      <td>2011-03-04</td>\n",
       "      <td>non functional</td>\n",
       "    </tr>\n",
       "    <tr>\n",
       "      <th>1371</th>\n",
       "      <td>2013.0</td>\n",
       "      <td>2013-02-15</td>\n",
       "      <td>functional</td>\n",
       "    </tr>\n",
       "    <tr>\n",
       "      <th>1385</th>\n",
       "      <td>2011.0</td>\n",
       "      <td>2011-02-28</td>\n",
       "      <td>functional</td>\n",
       "    </tr>\n",
       "    <tr>\n",
       "      <th>1486</th>\n",
       "      <td>2011.0</td>\n",
       "      <td>2011-03-23</td>\n",
       "      <td>non functional</td>\n",
       "    </tr>\n",
       "    <tr>\n",
       "      <th>1647</th>\n",
       "      <td>2013.0</td>\n",
       "      <td>2013-02-08</td>\n",
       "      <td>functional</td>\n",
       "    </tr>\n",
       "    <tr>\n",
       "      <th>1786</th>\n",
       "      <td>2012.0</td>\n",
       "      <td>2012-10-26</td>\n",
       "      <td>non functional</td>\n",
       "    </tr>\n",
       "    <tr>\n",
       "      <th>1796</th>\n",
       "      <td>2011.0</td>\n",
       "      <td>2011-03-13</td>\n",
       "      <td>non functional</td>\n",
       "    </tr>\n",
       "    <tr>\n",
       "      <th>1877</th>\n",
       "      <td>2013.0</td>\n",
       "      <td>2013-08-03</td>\n",
       "      <td>non functional</td>\n",
       "    </tr>\n",
       "    <tr>\n",
       "      <th>2057</th>\n",
       "      <td>2013.0</td>\n",
       "      <td>2013-02-04</td>\n",
       "      <td>non functional</td>\n",
       "    </tr>\n",
       "    <tr>\n",
       "      <th>2111</th>\n",
       "      <td>2011.0</td>\n",
       "      <td>2011-07-07</td>\n",
       "      <td>functional</td>\n",
       "    </tr>\n",
       "    <tr>\n",
       "      <th>2128</th>\n",
       "      <td>2011.0</td>\n",
       "      <td>2011-02-20</td>\n",
       "      <td>non functional</td>\n",
       "    </tr>\n",
       "    <tr>\n",
       "      <th>2215</th>\n",
       "      <td>2011.0</td>\n",
       "      <td>2011-03-11</td>\n",
       "      <td>non functional</td>\n",
       "    </tr>\n",
       "    <tr>\n",
       "      <th>2216</th>\n",
       "      <td>2011.0</td>\n",
       "      <td>2011-03-24</td>\n",
       "      <td>functional</td>\n",
       "    </tr>\n",
       "    <tr>\n",
       "      <th>2231</th>\n",
       "      <td>2013.0</td>\n",
       "      <td>2013-03-24</td>\n",
       "      <td>functional</td>\n",
       "    </tr>\n",
       "    <tr>\n",
       "      <th>2441</th>\n",
       "      <td>2011.0</td>\n",
       "      <td>2011-03-22</td>\n",
       "      <td>functional</td>\n",
       "    </tr>\n",
       "    <tr>\n",
       "      <th>2445</th>\n",
       "      <td>2013.0</td>\n",
       "      <td>2013-10-03</td>\n",
       "      <td>non functional</td>\n",
       "    </tr>\n",
       "    <tr>\n",
       "      <th>2562</th>\n",
       "      <td>2011.0</td>\n",
       "      <td>2011-07-30</td>\n",
       "      <td>functional</td>\n",
       "    </tr>\n",
       "    <tr>\n",
       "      <th>...</th>\n",
       "      <td>...</td>\n",
       "      <td>...</td>\n",
       "      <td>...</td>\n",
       "    </tr>\n",
       "    <tr>\n",
       "      <th>57248</th>\n",
       "      <td>2013.0</td>\n",
       "      <td>2013-03-17</td>\n",
       "      <td>functional</td>\n",
       "    </tr>\n",
       "    <tr>\n",
       "      <th>57461</th>\n",
       "      <td>2011.0</td>\n",
       "      <td>2011-03-24</td>\n",
       "      <td>functional</td>\n",
       "    </tr>\n",
       "    <tr>\n",
       "      <th>57538</th>\n",
       "      <td>2011.0</td>\n",
       "      <td>2011-02-14</td>\n",
       "      <td>non functional</td>\n",
       "    </tr>\n",
       "    <tr>\n",
       "      <th>57559</th>\n",
       "      <td>2011.0</td>\n",
       "      <td>2011-11-03</td>\n",
       "      <td>functional</td>\n",
       "    </tr>\n",
       "    <tr>\n",
       "      <th>57621</th>\n",
       "      <td>2011.0</td>\n",
       "      <td>2011-03-12</td>\n",
       "      <td>functional</td>\n",
       "    </tr>\n",
       "    <tr>\n",
       "      <th>57652</th>\n",
       "      <td>2011.0</td>\n",
       "      <td>2011-07-30</td>\n",
       "      <td>functional</td>\n",
       "    </tr>\n",
       "    <tr>\n",
       "      <th>57708</th>\n",
       "      <td>2011.0</td>\n",
       "      <td>2011-03-21</td>\n",
       "      <td>functional</td>\n",
       "    </tr>\n",
       "    <tr>\n",
       "      <th>57749</th>\n",
       "      <td>2011.0</td>\n",
       "      <td>2011-03-11</td>\n",
       "      <td>non functional</td>\n",
       "    </tr>\n",
       "    <tr>\n",
       "      <th>57842</th>\n",
       "      <td>2012.0</td>\n",
       "      <td>2012-10-31</td>\n",
       "      <td>non functional</td>\n",
       "    </tr>\n",
       "    <tr>\n",
       "      <th>58183</th>\n",
       "      <td>2011.0</td>\n",
       "      <td>2011-03-06</td>\n",
       "      <td>functional</td>\n",
       "    </tr>\n",
       "    <tr>\n",
       "      <th>58271</th>\n",
       "      <td>2013.0</td>\n",
       "      <td>2013-09-03</td>\n",
       "      <td>non functional</td>\n",
       "    </tr>\n",
       "    <tr>\n",
       "      <th>58372</th>\n",
       "      <td>2011.0</td>\n",
       "      <td>2011-08-07</td>\n",
       "      <td>functional</td>\n",
       "    </tr>\n",
       "    <tr>\n",
       "      <th>58393</th>\n",
       "      <td>2011.0</td>\n",
       "      <td>2011-03-23</td>\n",
       "      <td>functional</td>\n",
       "    </tr>\n",
       "    <tr>\n",
       "      <th>58474</th>\n",
       "      <td>2011.0</td>\n",
       "      <td>2011-03-04</td>\n",
       "      <td>functional</td>\n",
       "    </tr>\n",
       "    <tr>\n",
       "      <th>58513</th>\n",
       "      <td>2012.0</td>\n",
       "      <td>2012-10-17</td>\n",
       "      <td>functional</td>\n",
       "    </tr>\n",
       "    <tr>\n",
       "      <th>58540</th>\n",
       "      <td>2013.0</td>\n",
       "      <td>2013-02-16</td>\n",
       "      <td>functional</td>\n",
       "    </tr>\n",
       "    <tr>\n",
       "      <th>58589</th>\n",
       "      <td>2012.0</td>\n",
       "      <td>2012-10-20</td>\n",
       "      <td>functional needs repair</td>\n",
       "    </tr>\n",
       "    <tr>\n",
       "      <th>58639</th>\n",
       "      <td>2012.0</td>\n",
       "      <td>2012-10-26</td>\n",
       "      <td>functional</td>\n",
       "    </tr>\n",
       "    <tr>\n",
       "      <th>58644</th>\n",
       "      <td>2011.0</td>\n",
       "      <td>2011-02-28</td>\n",
       "      <td>functional</td>\n",
       "    </tr>\n",
       "    <tr>\n",
       "      <th>58699</th>\n",
       "      <td>2012.0</td>\n",
       "      <td>2012-11-03</td>\n",
       "      <td>non functional</td>\n",
       "    </tr>\n",
       "    <tr>\n",
       "      <th>58709</th>\n",
       "      <td>2011.0</td>\n",
       "      <td>2011-03-25</td>\n",
       "      <td>functional</td>\n",
       "    </tr>\n",
       "    <tr>\n",
       "      <th>58721</th>\n",
       "      <td>2011.0</td>\n",
       "      <td>2011-03-17</td>\n",
       "      <td>non functional</td>\n",
       "    </tr>\n",
       "    <tr>\n",
       "      <th>58776</th>\n",
       "      <td>2011.0</td>\n",
       "      <td>2011-02-25</td>\n",
       "      <td>functional</td>\n",
       "    </tr>\n",
       "    <tr>\n",
       "      <th>58785</th>\n",
       "      <td>2013.0</td>\n",
       "      <td>2013-11-03</td>\n",
       "      <td>functional</td>\n",
       "    </tr>\n",
       "    <tr>\n",
       "      <th>58983</th>\n",
       "      <td>2011.0</td>\n",
       "      <td>2011-03-04</td>\n",
       "      <td>functional</td>\n",
       "    </tr>\n",
       "    <tr>\n",
       "      <th>58984</th>\n",
       "      <td>2012.0</td>\n",
       "      <td>2012-11-03</td>\n",
       "      <td>non functional</td>\n",
       "    </tr>\n",
       "    <tr>\n",
       "      <th>59031</th>\n",
       "      <td>2011.0</td>\n",
       "      <td>2011-03-04</td>\n",
       "      <td>functional</td>\n",
       "    </tr>\n",
       "    <tr>\n",
       "      <th>59060</th>\n",
       "      <td>2011.0</td>\n",
       "      <td>2011-02-03</td>\n",
       "      <td>non functional</td>\n",
       "    </tr>\n",
       "    <tr>\n",
       "      <th>59277</th>\n",
       "      <td>2011.0</td>\n",
       "      <td>2011-03-26</td>\n",
       "      <td>functional</td>\n",
       "    </tr>\n",
       "    <tr>\n",
       "      <th>59306</th>\n",
       "      <td>2013.0</td>\n",
       "      <td>2013-01-16</td>\n",
       "      <td>non functional</td>\n",
       "    </tr>\n",
       "  </tbody>\n",
       "</table>\n",
       "<p>588 rows × 3 columns</p>\n",
       "</div>"
      ],
      "text/plain": [
       "       construction_year date_recorded             status_group\n",
       "10                2011.0    2011-02-20               functional\n",
       "42                2011.0    2011-07-07               functional\n",
       "402               2011.0    2011-07-24               functional\n",
       "591               2011.0    2011-03-24               functional\n",
       "593               2013.0    2013-06-03           non functional\n",
       "765               2011.0    2011-03-21               functional\n",
       "784               2011.0    2011-02-23               functional\n",
       "833               2011.0    2011-07-30               functional\n",
       "901               2011.0    2011-08-25               functional\n",
       "907               2011.0    2011-03-12               functional\n",
       "919               2012.0    2012-10-26               functional\n",
       "1220              2011.0    2011-08-04               functional\n",
       "1307              2011.0    2011-03-23               functional\n",
       "1339              2011.0    2011-03-04           non functional\n",
       "1371              2013.0    2013-02-15               functional\n",
       "1385              2011.0    2011-02-28               functional\n",
       "1486              2011.0    2011-03-23           non functional\n",
       "1647              2013.0    2013-02-08               functional\n",
       "1786              2012.0    2012-10-26           non functional\n",
       "1796              2011.0    2011-03-13           non functional\n",
       "1877              2013.0    2013-08-03           non functional\n",
       "2057              2013.0    2013-02-04           non functional\n",
       "2111              2011.0    2011-07-07               functional\n",
       "2128              2011.0    2011-02-20           non functional\n",
       "2215              2011.0    2011-03-11           non functional\n",
       "2216              2011.0    2011-03-24               functional\n",
       "2231              2013.0    2013-03-24               functional\n",
       "2441              2011.0    2011-03-22               functional\n",
       "2445              2013.0    2013-10-03           non functional\n",
       "2562              2011.0    2011-07-30               functional\n",
       "...                  ...           ...                      ...\n",
       "57248             2013.0    2013-03-17               functional\n",
       "57461             2011.0    2011-03-24               functional\n",
       "57538             2011.0    2011-02-14           non functional\n",
       "57559             2011.0    2011-11-03               functional\n",
       "57621             2011.0    2011-03-12               functional\n",
       "57652             2011.0    2011-07-30               functional\n",
       "57708             2011.0    2011-03-21               functional\n",
       "57749             2011.0    2011-03-11           non functional\n",
       "57842             2012.0    2012-10-31           non functional\n",
       "58183             2011.0    2011-03-06               functional\n",
       "58271             2013.0    2013-09-03           non functional\n",
       "58372             2011.0    2011-08-07               functional\n",
       "58393             2011.0    2011-03-23               functional\n",
       "58474             2011.0    2011-03-04               functional\n",
       "58513             2012.0    2012-10-17               functional\n",
       "58540             2013.0    2013-02-16               functional\n",
       "58589             2012.0    2012-10-20  functional needs repair\n",
       "58639             2012.0    2012-10-26               functional\n",
       "58644             2011.0    2011-02-28               functional\n",
       "58699             2012.0    2012-11-03           non functional\n",
       "58709             2011.0    2011-03-25               functional\n",
       "58721             2011.0    2011-03-17           non functional\n",
       "58776             2011.0    2011-02-25               functional\n",
       "58785             2013.0    2013-11-03               functional\n",
       "58983             2011.0    2011-03-04               functional\n",
       "58984             2012.0    2012-11-03           non functional\n",
       "59031             2011.0    2011-03-04               functional\n",
       "59060             2011.0    2011-02-03           non functional\n",
       "59277             2011.0    2011-03-26               functional\n",
       "59306             2013.0    2013-01-16           non functional\n",
       "\n",
       "[588 rows x 3 columns]"
      ]
     },
     "execution_count": 64,
     "metadata": {},
     "output_type": "execute_result"
    }
   ],
   "source": [
    "df['pump_age'] = df.date_recorded.dt.year - df.construction_year\n",
    "df[df['pump_age']==0][['construction_year','date_recorded', 'status_group']]#, 'date_recorded', 'construction_year']].head(10)"
   ]
  },
  {
   "cell_type": "code",
   "execution_count": 65,
   "metadata": {},
   "outputs": [],
   "source": [
    "garbage_features = ['permit', 'public_meeting','installer','ward','wpt_name','num_private',\n",
    "                    'subvillage','region_code','recorded_by', 'management_group', 'extraction_type_group',\n",
    "                    'scheme_name', 'payment', 'quality_group', 'quantity_group',\n",
    "                    'source_type', 'waterpoint_type_group']#,'date_recorded', 'construction_year']\n",
    "\n",
    "df.drop(garbage_features,axis=1,inplace=True)"
   ]
  },
  {
   "cell_type": "code",
   "execution_count": 66,
   "metadata": {
    "scrolled": true
   },
   "outputs": [
    {
     "data": {
      "text/plain": [
       "id                       0\n",
       "amount_tsh               0\n",
       "date_recorded            0\n",
       "funder                   0\n",
       "gps_height               0\n",
       "longitude                0\n",
       "latitude                 0\n",
       "basin                    0\n",
       "region                   0\n",
       "district_code            0\n",
       "lga                      0\n",
       "population               0\n",
       "scheme_management        0\n",
       "construction_year        0\n",
       "extraction_type          0\n",
       "extraction_type_class    0\n",
       "management               0\n",
       "payment_type             0\n",
       "water_quality            0\n",
       "quantity                 0\n",
       "source                   0\n",
       "source_class             0\n",
       "waterpoint_type          0\n",
       "status_group             0\n",
       "pump_age                 0\n",
       "dtype: int64"
      ]
     },
     "execution_count": 66,
     "metadata": {},
     "output_type": "execute_result"
    }
   ],
   "source": [
    "df.isnull().sum()"
   ]
  },
  {
   "cell_type": "code",
   "execution_count": 67,
   "metadata": {},
   "outputs": [
    {
     "data": {
      "text/plain": [
       "25"
      ]
     },
     "execution_count": 67,
     "metadata": {},
     "output_type": "execute_result"
    }
   ],
   "source": [
    "len(df.columns)"
   ]
  },
  {
   "cell_type": "code",
   "execution_count": 68,
   "metadata": {},
   "outputs": [],
   "source": [
    "pd.DataFrame.to_csv(df, \"data/cleaned_df_v2.csv\")"
   ]
  },
  {
   "cell_type": "code",
   "execution_count": 69,
   "metadata": {
    "scrolled": true
   },
   "outputs": [],
   "source": [
    "#plt.figure(figsize=(15,7))\n",
    "#_ = sns.countplot(data=df,x='region',hue='status_group')\n",
    "#_.set_xticklabels(_.get_xticklabels(),rotation=90)\n",
    "#plt.legend(bbox_to_anchor=(1,1), loc=2)"
   ]
  },
  {
   "cell_type": "code",
   "execution_count": 70,
   "metadata": {
    "scrolled": true
   },
   "outputs": [],
   "source": [
    "#plt.figure(figsize=(15,7))\n",
    "#sns.countplot(data=df,x='basin',hue='status_group')\n",
    "#plt.legend(bbox_to_anchor=(1,1), loc=2)"
   ]
  },
  {
   "cell_type": "code",
   "execution_count": 71,
   "metadata": {
    "scrolled": false
   },
   "outputs": [
    {
     "data": {
      "text/plain": [
       "functional                 54.308081\n",
       "non functional             38.424242\n",
       "functional needs repair     7.267677\n",
       "Name: status_group, dtype: float64"
      ]
     },
     "execution_count": 71,
     "metadata": {},
     "output_type": "execute_result"
    },
    {
     "data": {
      "image/png": "[encoded data removed]",
      "text/plain": [
       "<Figure size 936x432 with 1 Axes>"
      ]
     },
     "metadata": {},
     "output_type": "display_data"
    }
   ],
   "source": [
    "# Let's look at countplot of status_group that we need to eventually predict\n",
    "plt.figure(figsize=(13,6))\n",
    "sns.countplot(data=df, x='status_group', palette='Set2')\n",
    "plt.title('Water Pumps Functionality',fontsize=16)\n",
    "plt.margins(0.02)\n",
    "df.status_group.value_counts(normalize=True) * 100"
   ]
  },
  {
   "cell_type": "code",
   "execution_count": 72,
   "metadata": {
    "scrolled": false
   },
   "outputs": [
    {
     "data": {
      "text/plain": [
       "soft                  85.552189\n",
       "salty                  8.175084\n",
       "unknown                3.158249\n",
       "milky                  1.353535\n",
       "coloured               0.824916\n",
       "salty abandoned        0.570707\n",
       "fluoride               0.336700\n",
       "fluoride abandoned     0.028620\n",
       "Name: water_quality, dtype: float64"
      ]
     },
     "execution_count": 72,
     "metadata": {},
     "output_type": "execute_result"
    },
    {
     "data": {
      "image/png": "[encoded data removed]",
      "text/plain": [
       "<Figure size 936x432 with 1 Axes>"
      ]
     },
     "metadata": {},
     "output_type": "display_data"
    }
   ],
   "source": [
    "# Let's look at water_quality vs status_group \n",
    "plt.figure(figsize=(13,6))\n",
    "sns.countplot(data=df,x='water_quality',hue='status_group', palette = 'Set2')\n",
    "plt.title('Water Quality vs Status Group', fontsize=16)\n",
    "plt.margins(0.02)\n",
    "df.water_quality.value_counts(normalize=True) * 100"
   ]
  },
  {
   "cell_type": "code",
   "execution_count": 73,
   "metadata": {},
   "outputs": [
    {
     "data": {
      "text/plain": [
       "iringa           8.912458\n",
       "shinyanga        8.387205\n",
       "mbeya            7.809764\n",
       "kilimanjaro      7.372054\n",
       "morogoro         6.744108\n",
       "arusha           5.639731\n",
       "kagera           5.582492\n",
       "mwanza           5.222222\n",
       "kigoma           4.740741\n",
       "ruvuma           4.444444\n",
       "pwani            4.436027\n",
       "tanga            4.287879\n",
       "dodoma           3.705387\n",
       "singida          3.523569\n",
       "mara             3.314815\n",
       "tabora           3.297980\n",
       "rukwa            3.043771\n",
       "mtwara           2.912458\n",
       "manyara          2.664983\n",
       "lindi            2.602694\n",
       "dar es salaam    1.355219\n",
       "Name: region, dtype: float64"
      ]
     },
     "execution_count": 73,
     "metadata": {},
     "output_type": "execute_result"
    },
    {
     "data": {
      "image/png": "[encoded data removed]",
      "text/plain": [
       "<Figure size 1440x504 with 1 Axes>"
      ]
     },
     "metadata": {},
     "output_type": "display_data"
    }
   ],
   "source": [
    "# Let's look at regions vs status group\n",
    "plt.figure(figsize=(20, 7))\n",
    "sns.countplot(data=df, x='region', hue='status_group', palette = 'Set2')\n",
    "plt.title('Region vs Status Group',fontsize=16)\n",
    "plt.margins(0.02)\n",
    "df.region.value_counts(normalize=True) * 100"
   ]
  },
  {
   "cell_type": "code",
   "execution_count": 74,
   "metadata": {
    "scrolled": false
   },
   "outputs": [
    {
     "data": {
      "text/plain": [
       "vwc                 68.193603\n",
       "wug                 10.968013\n",
       "water board          4.937710\n",
       "wua                  4.267677\n",
       "private operator     3.318182\n",
       "parastatal           2.976431\n",
       "water authority      1.521886\n",
       "other                1.420875\n",
       "company              1.153199\n",
       "unknown              0.944444\n",
       "other - school       0.166667\n",
       "trust                0.131313\n",
       "Name: management, dtype: float64"
      ]
     },
     "execution_count": 74,
     "metadata": {},
     "output_type": "execute_result"
    },
    {
     "data": {
      "image/png": "[encoded data removed]",
      "text/plain": [
       "<Figure size 1080x576 with 1 Axes>"
      ]
     },
     "metadata": {},
     "output_type": "display_data"
    }
   ],
   "source": [
    "# Let's look at management types\n",
    "plt.figure(figsize=(15,8))\n",
    "sns.countplot(data=df, x='management', hue='status_group',palette = 'Set2')\n",
    "plt.title('Management Types',fontsize=16)\n",
    "plt.margins(0.02)\n",
    "df.management.value_counts(normalize=True) * 100"
   ]
  },
  {
   "cell_type": "code",
   "execution_count": 75,
   "metadata": {
    "scrolled": false
   },
   "outputs": [
    {
     "data": {
      "text/plain": [
       "gravity         45.084175\n",
       "handpump        27.703704\n",
       "other           10.824916\n",
       "submersible     10.402357\n",
       "motorpump        5.028620\n",
       "rope pump        0.759259\n",
       "wind-powered     0.196970\n",
       "Name: extraction_type_class, dtype: float64"
      ]
     },
     "execution_count": 75,
     "metadata": {},
     "output_type": "execute_result"
    },
    {
     "data": {
      "image/png": "[encoded data removed]",
      "text/plain": [
       "<Figure size 936x432 with 1 Axes>"
      ]
     },
     "metadata": {},
     "output_type": "display_data"
    }
   ],
   "source": [
    "# Let's look at the types of pumps\n",
    "plt.figure(figsize=(13,6))\n",
    "sns.countplot(data=df, x='extraction_type_class', hue='status_group', palette = 'Set2')\n",
    "plt.xlabel('Extraction Type')\n",
    "plt.title('Pump Types vs Status Group',fontsize=16)\n",
    "plt.margins(0.02)\n",
    "df.extraction_type_class.value_counts(normalize=True) * 100"
   ]
  },
  {
   "cell_type": "code",
   "execution_count": 76,
   "metadata": {
    "scrolled": false
   },
   "outputs": [
    {
     "data": {
      "text/plain": [
       "functional                 54.308081\n",
       "non functional             38.424242\n",
       "functional needs repair     7.267677\n",
       "Name: status_group, dtype: float64"
      ]
     },
     "execution_count": 76,
     "metadata": {},
     "output_type": "execute_result"
    },
    {
     "data": {
      "image/png": "[encoded data removed]",
      "text/plain": [
       "<Figure size 936x432 with 1 Axes>"
      ]
     },
     "metadata": {},
     "output_type": "display_data"
    }
   ],
   "source": [
    "# Let's switch the status_group and extraction_type_class in x and hue\n",
    "plt.figure(figsize=(13,6))\n",
    "sns.countplot(data=df, x='status_group',hue='extraction_type_class', palette = 'Set2')\n",
    "plt.title('Status Group vs Pump Types',fontsize=16)\n",
    "plt.margins(0.02)\n",
    "df.status_group.value_counts(normalize=True) * 100"
   ]
  },
  {
   "cell_type": "code",
   "execution_count": 77,
   "metadata": {},
   "outputs": [
    {
     "data": {
      "text/plain": [
       "gravity         45.084175\n",
       "handpump        27.703704\n",
       "other           10.824916\n",
       "submersible     10.402357\n",
       "motorpump        5.028620\n",
       "rope pump        0.759259\n",
       "wind-powered     0.196970\n",
       "Name: extraction_type_class, dtype: float64"
      ]
     },
     "execution_count": 77,
     "metadata": {},
     "output_type": "execute_result"
    },
    {
     "data": {
      "image/png": "[encoded data removed]",
      "text/plain": [
       "<Figure size 936x432 with 1 Axes>"
      ]
     },
     "metadata": {},
     "output_type": "display_data"
    }
   ],
   "source": [
    "# Let's look at the quantity and status_group\n",
    "plt.figure(figsize=(13,6))\n",
    "sns.countplot(data=df,x='quantity',hue='status_group', palette = 'Set2')\n",
    "plt.title('Quantity vs Status Group',fontsize=16)\n",
    "plt.margins(0.02)\n",
    "df.extraction_type_class.value_counts(normalize=True) * 100"
   ]
  },
  {
   "cell_type": "code",
   "execution_count": 78,
   "metadata": {
    "scrolled": true
   },
   "outputs": [
    {
     "data": {
      "text/plain": [
       "<matplotlib.axes._subplots.AxesSubplot at 0x15147706470>"
      ]
     },
     "execution_count": 78,
     "metadata": {},
     "output_type": "execute_result"
    },
    {
     "data": {
      "image/png": "[encoded data removed]",
      "text/plain": [
       "<Figure size 432x288 with 1 Axes>"
      ]
     },
     "metadata": {},
     "output_type": "display_data"
    }
   ],
   "source": [
    "#look at water pump recorded over years as well as the age\n",
    "df['date_recorded'].value_counts().sort_index().plot()"
   ]
  },
  {
   "cell_type": "code",
   "execution_count": 79,
   "metadata": {},
   "outputs": [
    {
     "data": {
      "text/plain": [
       "<matplotlib.axes._subplots.AxesSubplot at 0x151477a9898>"
      ]
     },
     "execution_count": 79,
     "metadata": {},
     "output_type": "execute_result"
    },
    {
     "data": {
      "image/png": "[encoded data removed]",
      "text/plain": [
       "<Figure size 432x288 with 1 Axes>"
      ]
     },
     "metadata": {},
     "output_type": "display_data"
    }
   ],
   "source": [
    "df['pump_age'].value_counts().sort_index().plot()"
   ]
  },
  {
   "cell_type": "code",
   "execution_count": null,
   "metadata": {},
   "outputs": [],
   "source": []
  },
  {
   "cell_type": "code",
   "execution_count": null,
   "metadata": {},
   "outputs": [],
   "source": []
  }
 ],
 "metadata": {
  "kernelspec": {
   "display_name": "Python 3",
   "language": "python",
   "name": "python3"
  },
  "language_info": {
   "codemirror_mode": {
    "name": "ipython",
    "version": 3
   },
   "file_extension": ".py",
   "mimetype": "text/x-python",
   "name": "python",
   "nbconvert_exporter": "python",
   "pygments_lexer": "ipython3",
   "version": "3.7.3"
  }
 },
 "nbformat": 4,
 "nbformat_minor": 2
}
