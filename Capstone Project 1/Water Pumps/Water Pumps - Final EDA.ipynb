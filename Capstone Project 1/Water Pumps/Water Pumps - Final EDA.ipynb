{
 "cells": [
  {
   "cell_type": "markdown",
   "metadata": {},
   "source": [
    "### Driven Data Pump it Up Challenge:"
   ]
  },
  {
   "cell_type": "code",
   "execution_count": 1,
   "metadata": {
    "scrolled": true
   },
   "outputs": [],
   "source": [
    "# Importing all the required libraries\n",
    "import pandas as pd\n",
    "import numpy as np\n",
    "import matplotlib.pyplot as plt\n",
    "import seaborn as sns\n",
    "from sklearn.preprocessing import MinMaxScaler\n",
    "#import os\n",
    "#os.environ[\"PROJ_LIB\"] = \"C:\\\\Users\\\\rtalebiz\\\\AppData\\\\Local\\\\Continuum\\\\anaconda3\\\\Library\\\\share\"\n",
    "#from mpl_toolkits.basemap import Basemap\n",
    "\n",
    "%matplotlib inline"
   ]
  },
  {
   "cell_type": "code",
   "execution_count": 2,
   "metadata": {},
   "outputs": [],
   "source": [
    "#Reading the df files and assigning them to variables - we have 2 csv files\n",
    "training_label = pd.read_csv('data/training set labels.csv')\n",
    "training_values_df = pd.read_csv('data/training set values.csv')"
   ]
  },
  {
   "cell_type": "code",
   "execution_count": 3,
   "metadata": {},
   "outputs": [],
   "source": [
    "# Merge training_values_df and training_label dfs to have one df\n",
    "train_df = pd.merge(training_values_df, training_label, on = \"id\")"
   ]
  },
  {
   "cell_type": "code",
   "execution_count": 4,
   "metadata": {},
   "outputs": [],
   "source": [
    "# Deleting training_label df\n",
    "del training_label"
   ]
  },
  {
   "cell_type": "code",
   "execution_count": 5,
   "metadata": {},
   "outputs": [],
   "source": [
    "# Creating a copy of train df so making changes would not alter the initial dataset\n",
    "df = train_df.copy()"
   ]
  },
  {
   "cell_type": "markdown",
   "metadata": {},
   "source": [
    "#### Let's look at our data using .info(), .shape and .head() methods"
   ]
  },
  {
   "cell_type": "code",
   "execution_count": 6,
   "metadata": {
    "scrolled": true
   },
   "outputs": [
    {
     "name": "stdout",
     "output_type": "stream",
     "text": [
      "<class 'pandas.core.frame.DataFrame'>\n",
      "Int64Index: 59400 entries, 0 to 59399\n",
      "Data columns (total 41 columns):\n",
      "id                       59400 non-null int64\n",
      "amount_tsh               59400 non-null float64\n",
      "date_recorded            59400 non-null object\n",
      "funder                   55765 non-null object\n",
      "gps_height               59400 non-null int64\n",
      "installer                55745 non-null object\n",
      "longitude                59400 non-null float64\n",
      "latitude                 59400 non-null float64\n",
      "wpt_name                 59400 non-null object\n",
      "num_private              59400 non-null int64\n",
      "basin                    59400 non-null object\n",
      "subvillage               59029 non-null object\n",
      "region                   59400 non-null object\n",
      "region_code              59400 non-null int64\n",
      "district_code            59400 non-null int64\n",
      "lga                      59400 non-null object\n",
      "ward                     59400 non-null object\n",
      "population               59400 non-null int64\n",
      "public_meeting           56066 non-null object\n",
      "recorded_by              59400 non-null object\n",
      "scheme_management        55523 non-null object\n",
      "scheme_name              31234 non-null object\n",
      "permit                   56344 non-null object\n",
      "construction_year        59400 non-null int64\n",
      "extraction_type          59400 non-null object\n",
      "extraction_type_group    59400 non-null object\n",
      "extraction_type_class    59400 non-null object\n",
      "management               59400 non-null object\n",
      "management_group         59400 non-null object\n",
      "payment                  59400 non-null object\n",
      "payment_type             59400 non-null object\n",
      "water_quality            59400 non-null object\n",
      "quality_group            59400 non-null object\n",
      "quantity                 59400 non-null object\n",
      "quantity_group           59400 non-null object\n",
      "source                   59400 non-null object\n",
      "source_type              59400 non-null object\n",
      "source_class             59400 non-null object\n",
      "waterpoint_type          59400 non-null object\n",
      "waterpoint_type_group    59400 non-null object\n",
      "status_group             59400 non-null object\n",
      "dtypes: float64(3), int64(7), object(31)\n",
      "memory usage: 19.0+ MB\n"
     ]
    }
   ],
   "source": [
    "df.info()"
   ]
  },
  {
   "cell_type": "code",
   "execution_count": 7,
   "metadata": {
    "scrolled": true
   },
   "outputs": [
    {
     "data": {
      "text/plain": [
       "id                           0\n",
       "amount_tsh                   0\n",
       "date_recorded                0\n",
       "funder                    3635\n",
       "gps_height                   0\n",
       "installer                 3655\n",
       "longitude                    0\n",
       "latitude                     0\n",
       "wpt_name                     0\n",
       "num_private                  0\n",
       "basin                        0\n",
       "subvillage                 371\n",
       "region                       0\n",
       "region_code                  0\n",
       "district_code                0\n",
       "lga                          0\n",
       "ward                         0\n",
       "population                   0\n",
       "public_meeting            3334\n",
       "recorded_by                  0\n",
       "scheme_management         3877\n",
       "scheme_name              28166\n",
       "permit                    3056\n",
       "construction_year            0\n",
       "extraction_type              0\n",
       "extraction_type_group        0\n",
       "extraction_type_class        0\n",
       "management                   0\n",
       "management_group             0\n",
       "payment                      0\n",
       "payment_type                 0\n",
       "water_quality                0\n",
       "quality_group                0\n",
       "quantity                     0\n",
       "quantity_group               0\n",
       "source                       0\n",
       "source_type                  0\n",
       "source_class                 0\n",
       "waterpoint_type              0\n",
       "waterpoint_type_group        0\n",
       "status_group                 0\n",
       "dtype: int64"
      ]
     },
     "execution_count": 7,
     "metadata": {},
     "output_type": "execute_result"
    }
   ],
   "source": [
    "df.isnull().sum()"
   ]
  },
  {
   "cell_type": "markdown",
   "metadata": {},
   "source": [
    "### We notice that some of our features like *(funder, installer, subvillage, public_meeting, scheme_management, scheme_name and permit)* have missing values. We need to look at these features and decide if they have a vitale role in predicting which pump is likely to stop working. Also, some of these features have duplicate data like *funder and installer* so I would likely drop one of them."
   ]
  },
  {
   "cell_type": "code",
   "execution_count": 8,
   "metadata": {
    "scrolled": true
   },
   "outputs": [
    {
     "data": {
      "text/plain": [
       "(59400, 41)"
      ]
     },
     "execution_count": 8,
     "metadata": {},
     "output_type": "execute_result"
    }
   ],
   "source": [
    "df.shape"
   ]
  },
  {
   "cell_type": "markdown",
   "metadata": {},
   "source": [
    "#### Our dataset has 59,400 datapoints and 41 features. Now let's look at a few datapoints using .head()"
   ]
  },
  {
   "cell_type": "code",
   "execution_count": 9,
   "metadata": {},
   "outputs": [
    {
     "data": {
      "text/html": [
       "<div>\n",
       "<style scoped>\n",
       "    .dataframe tbody tr th:only-of-type {\n",
       "        vertical-align: middle;\n",
       "    }\n",
       "\n",
       "    .dataframe tbody tr th {\n",
       "        vertical-align: top;\n",
       "    }\n",
       "\n",
       "    .dataframe thead th {\n",
       "        text-align: right;\n",
       "    }\n",
       "</style>\n",
       "<table border=\"1\" class=\"dataframe\">\n",
       "  <thead>\n",
       "    <tr style=\"text-align: right;\">\n",
       "      <th></th>\n",
       "      <th>id</th>\n",
       "      <th>amount_tsh</th>\n",
       "      <th>date_recorded</th>\n",
       "      <th>funder</th>\n",
       "      <th>gps_height</th>\n",
       "      <th>installer</th>\n",
       "      <th>longitude</th>\n",
       "      <th>latitude</th>\n",
       "      <th>wpt_name</th>\n",
       "      <th>num_private</th>\n",
       "      <th>...</th>\n",
       "      <th>water_quality</th>\n",
       "      <th>quality_group</th>\n",
       "      <th>quantity</th>\n",
       "      <th>quantity_group</th>\n",
       "      <th>source</th>\n",
       "      <th>source_type</th>\n",
       "      <th>source_class</th>\n",
       "      <th>waterpoint_type</th>\n",
       "      <th>waterpoint_type_group</th>\n",
       "      <th>status_group</th>\n",
       "    </tr>\n",
       "  </thead>\n",
       "  <tbody>\n",
       "    <tr>\n",
       "      <th>0</th>\n",
       "      <td>69572</td>\n",
       "      <td>6000.0</td>\n",
       "      <td>2011-03-14</td>\n",
       "      <td>Roman</td>\n",
       "      <td>1390</td>\n",
       "      <td>Roman</td>\n",
       "      <td>34.938093</td>\n",
       "      <td>-9.856322</td>\n",
       "      <td>none</td>\n",
       "      <td>0</td>\n",
       "      <td>...</td>\n",
       "      <td>soft</td>\n",
       "      <td>good</td>\n",
       "      <td>enough</td>\n",
       "      <td>enough</td>\n",
       "      <td>spring</td>\n",
       "      <td>spring</td>\n",
       "      <td>groundwater</td>\n",
       "      <td>communal standpipe</td>\n",
       "      <td>communal standpipe</td>\n",
       "      <td>functional</td>\n",
       "    </tr>\n",
       "    <tr>\n",
       "      <th>1</th>\n",
       "      <td>8776</td>\n",
       "      <td>0.0</td>\n",
       "      <td>2013-03-06</td>\n",
       "      <td>Grumeti</td>\n",
       "      <td>1399</td>\n",
       "      <td>GRUMETI</td>\n",
       "      <td>34.698766</td>\n",
       "      <td>-2.147466</td>\n",
       "      <td>Zahanati</td>\n",
       "      <td>0</td>\n",
       "      <td>...</td>\n",
       "      <td>soft</td>\n",
       "      <td>good</td>\n",
       "      <td>insufficient</td>\n",
       "      <td>insufficient</td>\n",
       "      <td>rainwater harvesting</td>\n",
       "      <td>rainwater harvesting</td>\n",
       "      <td>surface</td>\n",
       "      <td>communal standpipe</td>\n",
       "      <td>communal standpipe</td>\n",
       "      <td>functional</td>\n",
       "    </tr>\n",
       "    <tr>\n",
       "      <th>2</th>\n",
       "      <td>34310</td>\n",
       "      <td>25.0</td>\n",
       "      <td>2013-02-25</td>\n",
       "      <td>Lottery Club</td>\n",
       "      <td>686</td>\n",
       "      <td>World vision</td>\n",
       "      <td>37.460664</td>\n",
       "      <td>-3.821329</td>\n",
       "      <td>Kwa Mahundi</td>\n",
       "      <td>0</td>\n",
       "      <td>...</td>\n",
       "      <td>soft</td>\n",
       "      <td>good</td>\n",
       "      <td>enough</td>\n",
       "      <td>enough</td>\n",
       "      <td>dam</td>\n",
       "      <td>dam</td>\n",
       "      <td>surface</td>\n",
       "      <td>communal standpipe multiple</td>\n",
       "      <td>communal standpipe</td>\n",
       "      <td>functional</td>\n",
       "    </tr>\n",
       "    <tr>\n",
       "      <th>3</th>\n",
       "      <td>67743</td>\n",
       "      <td>0.0</td>\n",
       "      <td>2013-01-28</td>\n",
       "      <td>Unicef</td>\n",
       "      <td>263</td>\n",
       "      <td>UNICEF</td>\n",
       "      <td>38.486161</td>\n",
       "      <td>-11.155298</td>\n",
       "      <td>Zahanati Ya Nanyumbu</td>\n",
       "      <td>0</td>\n",
       "      <td>...</td>\n",
       "      <td>soft</td>\n",
       "      <td>good</td>\n",
       "      <td>dry</td>\n",
       "      <td>dry</td>\n",
       "      <td>machine dbh</td>\n",
       "      <td>borehole</td>\n",
       "      <td>groundwater</td>\n",
       "      <td>communal standpipe multiple</td>\n",
       "      <td>communal standpipe</td>\n",
       "      <td>non functional</td>\n",
       "    </tr>\n",
       "    <tr>\n",
       "      <th>4</th>\n",
       "      <td>19728</td>\n",
       "      <td>0.0</td>\n",
       "      <td>2011-07-13</td>\n",
       "      <td>Action In A</td>\n",
       "      <td>0</td>\n",
       "      <td>Artisan</td>\n",
       "      <td>31.130847</td>\n",
       "      <td>-1.825359</td>\n",
       "      <td>Shuleni</td>\n",
       "      <td>0</td>\n",
       "      <td>...</td>\n",
       "      <td>soft</td>\n",
       "      <td>good</td>\n",
       "      <td>seasonal</td>\n",
       "      <td>seasonal</td>\n",
       "      <td>rainwater harvesting</td>\n",
       "      <td>rainwater harvesting</td>\n",
       "      <td>surface</td>\n",
       "      <td>communal standpipe</td>\n",
       "      <td>communal standpipe</td>\n",
       "      <td>functional</td>\n",
       "    </tr>\n",
       "  </tbody>\n",
       "</table>\n",
       "<p>5 rows × 41 columns</p>\n",
       "</div>"
      ],
      "text/plain": [
       "      id  amount_tsh date_recorded        funder  gps_height     installer  \\\n",
       "0  69572      6000.0    2011-03-14         Roman        1390         Roman   \n",
       "1   8776         0.0    2013-03-06       Grumeti        1399       GRUMETI   \n",
       "2  34310        25.0    2013-02-25  Lottery Club         686  World vision   \n",
       "3  67743         0.0    2013-01-28        Unicef         263        UNICEF   \n",
       "4  19728         0.0    2011-07-13   Action In A           0       Artisan   \n",
       "\n",
       "   longitude   latitude              wpt_name  num_private  ... water_quality  \\\n",
       "0  34.938093  -9.856322                  none            0  ...          soft   \n",
       "1  34.698766  -2.147466              Zahanati            0  ...          soft   \n",
       "2  37.460664  -3.821329           Kwa Mahundi            0  ...          soft   \n",
       "3  38.486161 -11.155298  Zahanati Ya Nanyumbu            0  ...          soft   \n",
       "4  31.130847  -1.825359               Shuleni            0  ...          soft   \n",
       "\n",
       "  quality_group      quantity  quantity_group                source  \\\n",
       "0          good        enough          enough                spring   \n",
       "1          good  insufficient    insufficient  rainwater harvesting   \n",
       "2          good        enough          enough                   dam   \n",
       "3          good           dry             dry           machine dbh   \n",
       "4          good      seasonal        seasonal  rainwater harvesting   \n",
       "\n",
       "            source_type source_class              waterpoint_type  \\\n",
       "0                spring  groundwater           communal standpipe   \n",
       "1  rainwater harvesting      surface           communal standpipe   \n",
       "2                   dam      surface  communal standpipe multiple   \n",
       "3              borehole  groundwater  communal standpipe multiple   \n",
       "4  rainwater harvesting      surface           communal standpipe   \n",
       "\n",
       "  waterpoint_type_group    status_group  \n",
       "0    communal standpipe      functional  \n",
       "1    communal standpipe      functional  \n",
       "2    communal standpipe      functional  \n",
       "3    communal standpipe  non functional  \n",
       "4    communal standpipe      functional  \n",
       "\n",
       "[5 rows x 41 columns]"
      ]
     },
     "execution_count": 9,
     "metadata": {},
     "output_type": "execute_result"
    }
   ],
   "source": [
    "df.head()"
   ]
  },
  {
   "cell_type": "markdown",
   "metadata": {},
   "source": [
    "### I'll be looking at some of these features and dropping the ones with duplicate data as well as figuring out a way to fill all the NaNs and/or 0s"
   ]
  },
  {
   "cell_type": "markdown",
   "metadata": {},
   "source": [
    "#### Now let's look at the amount of each functional type pumps in our dataset"
   ]
  },
  {
   "cell_type": "code",
   "execution_count": 10,
   "metadata": {},
   "outputs": [
    {
     "name": "stdout",
     "output_type": "stream",
     "text": [
      "Count of each functional type:\n",
      "functional                 32259\n",
      "non functional             22824\n",
      "functional needs repair     4317\n",
      "Name: status_group, dtype: int64\n",
      "\n",
      "Percent of each functional type:\n",
      "functional                 0.543081\n",
      "non functional             0.384242\n",
      "functional needs repair    0.072677\n",
      "Name: status_group, dtype: float64\n"
     ]
    }
   ],
   "source": [
    "# The count of each fuctional type of the pumps in status_group so that we will understand the functional scenario \n",
    "# of the pump status\n",
    "print('Count of each functional type:' + '\\n' + str(df.status_group.value_counts()))\n",
    "print('\\n' + 'Percent of each functional type:' + '\\n' + str(df.status_group.value_counts(normalize=True)))"
   ]
  },
  {
   "cell_type": "code",
   "execution_count": 11,
   "metadata": {},
   "outputs": [
    {
     "data": {
      "text/plain": [
       "<matplotlib.axes._subplots.AxesSubplot at 0x25935ef02b0>"
      ]
     },
     "execution_count": 11,
     "metadata": {},
     "output_type": "execute_result"
    },
    {
     "data": {
      "image/png": "[encoded data removed]",
      "text/plain": [
       "<Figure size 1008x432 with 1 Axes>"
      ]
     },
     "metadata": {
      "needs_background": "light"
     },
     "output_type": "display_data"
    }
   ],
   "source": [
    "plt.figure(figsize=(14,6))\n",
    "plt.title(\"Water Pumps Functionality\",fontsize=16)\n",
    "sns.countplot(x=df['status_group'], data=df, palette='Dark2')"
   ]
  },
  {
   "cell_type": "markdown",
   "metadata": {},
   "source": [
    "#### By the above figures, we can roughly estimate that there is 54.31% chance that if we take a random pump in the data to be a functional pump."
   ]
  },
  {
   "cell_type": "markdown",
   "metadata": {},
   "source": [
    "### Now let's separate our Numerical and Categorical features and visualize some of the most sensitive columns"
   ]
  },
  {
   "cell_type": "code",
   "execution_count": 12,
   "metadata": {},
   "outputs": [],
   "source": [
    "sensitive_num_features = [\n",
    "    'amount_tsh',\n",
    "    'gps_height',\n",
    "    'longitude',\n",
    "    'latitude',\n",
    "    'population',\n",
    "    'construction_year'\n",
    "]"
   ]
  },
  {
   "cell_type": "code",
   "execution_count": 13,
   "metadata": {},
   "outputs": [
    {
     "data": {
      "image/png": "[encoded data removed]",
      "text/plain": [
       "<Figure size 1080x1080 with 6 Axes>"
      ]
     },
     "metadata": {},
     "output_type": "display_data"
    }
   ],
   "source": [
    "sns.set()\n",
    "df.loc[:,sensitive_num_features].hist()\n",
    "fig = plt.gcf()\n",
    "fig.set_size_inches(15,15)\n",
    "fig.subplots_adjust(wspace=0.2, hspace=0.5)"
   ]
  },
  {
   "cell_type": "markdown",
   "metadata": {},
   "source": [
    "### Let's look at numerical values"
   ]
  },
  {
   "cell_type": "code",
   "execution_count": 14,
   "metadata": {},
   "outputs": [],
   "source": [
    "#df[df['construction_year'] == 0]"
   ]
  },
  {
   "cell_type": "code",
   "execution_count": 15,
   "metadata": {
    "scrolled": true
   },
   "outputs": [
    {
     "data": {
      "text/plain": [
       "0       34.863636\n",
       "2010     4.452862\n",
       "2008     4.398990\n",
       "2009     4.264310\n",
       "2000     3.520202\n",
       "2007     2.671717\n",
       "2006     2.476431\n",
       "2003     2.164983\n",
       "2011     2.114478\n",
       "2004     1.890572\n",
       "2012     1.824916\n",
       "2002     1.809764\n",
       "1978     1.745791\n",
       "1995     1.707071\n",
       "2005     1.702020\n",
       "1999     1.648148\n",
       "1998     1.626263\n",
       "1990     1.606061\n",
       "1985     1.590909\n",
       "1980     1.365320\n",
       "1996     1.365320\n",
       "1984     1.311448\n",
       "1982     1.252525\n",
       "1994     1.242424\n",
       "1972     1.191919\n",
       "1974     1.138047\n",
       "1997     1.084175\n",
       "1992     1.077441\n",
       "1993     1.023569\n",
       "2001     0.909091\n",
       "1988     0.877104\n",
       "1983     0.821549\n",
       "1975     0.735690\n",
       "1986     0.730640\n",
       "1976     0.696970\n",
       "1970     0.691919\n",
       "1991     0.545455\n",
       "1989     0.531987\n",
       "1987     0.508418\n",
       "1981     0.400673\n",
       "1977     0.340067\n",
       "1979     0.323232\n",
       "1973     0.309764\n",
       "2013     0.296296\n",
       "1971     0.244108\n",
       "1960     0.171717\n",
       "1967     0.148148\n",
       "1963     0.143098\n",
       "1968     0.129630\n",
       "1969     0.099327\n",
       "1964     0.067340\n",
       "1962     0.050505\n",
       "1961     0.035354\n",
       "1965     0.031987\n",
       "1966     0.028620\n",
       "Name: construction_year, dtype: float64"
      ]
     },
     "execution_count": 15,
     "metadata": {},
     "output_type": "execute_result"
    }
   ],
   "source": [
    "df['construction_year'].value_counts(normalize=True) * 100"
   ]
  },
  {
   "cell_type": "code",
   "execution_count": 16,
   "metadata": {
    "scrolled": true
   },
   "outputs": [],
   "source": [
    "#df[df['population'] == 0]"
   ]
  },
  {
   "cell_type": "code",
   "execution_count": 17,
   "metadata": {
    "scrolled": true
   },
   "outputs": [
    {
     "data": {
      "text/plain": [
       "0       35.994949\n",
       "1       11.826599\n",
       "200      3.265993\n",
       "150      3.185185\n",
       "250      2.829966\n",
       "300      2.484848\n",
       "100      1.929293\n",
       "50       1.917508\n",
       "500      1.698653\n",
       "350      1.659933\n",
       "120      1.542088\n",
       "400      1.304714\n",
       "60       1.188552\n",
       "30       1.053872\n",
       "40       0.929293\n",
       "80       0.897306\n",
       "450      0.840067\n",
       "20       0.777778\n",
       "600      0.737374\n",
       "230      0.653199\n",
       "75       0.486532\n",
       "1000     0.468013\n",
       "800      0.452862\n",
       "90       0.446128\n",
       "130      0.444444\n",
       "25       0.429293\n",
       "320      0.419192\n",
       "35       0.412458\n",
       "360      0.373737\n",
       "140      0.361953\n",
       "          ...    \n",
       "8848     0.001684\n",
       "628      0.001684\n",
       "4520     0.001684\n",
       "468      0.001684\n",
       "693      0.001684\n",
       "725      0.001684\n",
       "789      0.001684\n",
       "821      0.001684\n",
       "5300     0.001684\n",
       "3127     0.001684\n",
       "2345     0.001684\n",
       "3031     0.001684\n",
       "886      0.001684\n",
       "392      0.001684\n",
       "424      0.001684\n",
       "2807     0.001684\n",
       "726      0.001684\n",
       "694      0.001684\n",
       "2569     0.001684\n",
       "4788     0.001684\n",
       "662      0.001684\n",
       "4660     0.001684\n",
       "406      0.001684\n",
       "1032     0.001684\n",
       "1160     0.001684\n",
       "3241     0.001684\n",
       "1960     0.001684\n",
       "1685     0.001684\n",
       "2248     0.001684\n",
       "1439     0.001684\n",
       "Name: population, Length: 1049, dtype: float64"
      ]
     },
     "execution_count": 17,
     "metadata": {},
     "output_type": "execute_result"
    }
   ],
   "source": [
    "df['population'].value_counts(normalize=True) * 100"
   ]
  },
  {
   "cell_type": "code",
   "execution_count": 18,
   "metadata": {
    "scrolled": true
   },
   "outputs": [
    {
     "data": {
      "text/plain": [
       "0.00         70.099327\n",
       "500.00        5.222222\n",
       "50.00         4.161616\n",
       "1000.00       2.505051\n",
       "20.00         2.462963\n",
       "200.00        2.053872\n",
       "100.00        1.373737\n",
       "10.00         1.356902\n",
       "30.00         1.250842\n",
       "2000.00       1.185185\n",
       "250.00        0.957912\n",
       "300.00        0.937710\n",
       "5000.00       0.757576\n",
       "5.00          0.632997\n",
       "25.00         0.599327\n",
       "3000.00       0.562290\n",
       "1200.00       0.449495\n",
       "1500.00       0.331650\n",
       "6.00          0.319865\n",
       "600.00        0.296296\n",
       "4000.00       0.262626\n",
       "2400.00       0.244108\n",
       "2500.00       0.234007\n",
       "6000.00       0.210438\n",
       "7.00          0.116162\n",
       "8000.00       0.102694\n",
       "750.00        0.099327\n",
       "40.00         0.099327\n",
       "10000.00      0.095960\n",
       "12000.00      0.085859\n",
       "               ...    \n",
       "16000.00      0.003367\n",
       "16300.00      0.003367\n",
       "800.00        0.003367\n",
       "11000.00      0.003367\n",
       "590.00        0.003367\n",
       "520.00        0.003367\n",
       "26000.00      0.003367\n",
       "13000.00      0.003367\n",
       "9.00          0.001684\n",
       "170000.00     0.001684\n",
       "200000.00     0.001684\n",
       "900.00        0.001684\n",
       "0.25          0.001684\n",
       "53.00         0.001684\n",
       "350000.00     0.001684\n",
       "306.00        0.001684\n",
       "120000.00     0.001684\n",
       "26.00         0.001684\n",
       "59.00         0.001684\n",
       "60000.00      0.001684\n",
       "5400.00       0.001684\n",
       "70000.00      0.001684\n",
       "250000.00     0.001684\n",
       "38000.00      0.001684\n",
       "1400.00       0.001684\n",
       "8500.00       0.001684\n",
       "6300.00       0.001684\n",
       "220.00        0.001684\n",
       "138000.00     0.001684\n",
       "12.00         0.001684\n",
       "Name: amount_tsh, Length: 98, dtype: float64"
      ]
     },
     "execution_count": 18,
     "metadata": {},
     "output_type": "execute_result"
    }
   ],
   "source": [
    "df['amount_tsh'].value_counts(normalize=True) * 100"
   ]
  },
  {
   "cell_type": "code",
   "execution_count": 19,
   "metadata": {
    "scrolled": true
   },
   "outputs": [
    {
     "data": {
      "text/plain": [
       " 0       34.407407\n",
       "-15       0.101010\n",
       "-16       0.092593\n",
       "-13       0.092593\n",
       "-20       0.087542\n",
       " 1290     0.087542\n",
       "-14       0.085859\n",
       " 303      0.085859\n",
       "-18       0.082492\n",
       "-19       0.079125\n",
       " 1269     0.077441\n",
       " 1295     0.077441\n",
       " 1304     0.075758\n",
       "-23       0.075758\n",
       " 280      0.074074\n",
       " 1538     0.074074\n",
       " 1286     0.074074\n",
       "-8        0.074074\n",
       "-17       0.074074\n",
       " 1332     0.072391\n",
       " 320      0.072391\n",
       " 1317     0.070707\n",
       " 1293     0.070707\n",
       " 1319     0.070707\n",
       " 1359     0.070707\n",
       " 1264     0.070707\n",
       " 1288     0.070707\n",
       " 1401     0.070707\n",
       " 1303     0.070707\n",
       "-27       0.070707\n",
       "           ...    \n",
       " 2506     0.001684\n",
       " 2023     0.001684\n",
       "-53       0.001684\n",
       " 2364     0.001684\n",
       " 2332     0.001684\n",
       " 2402     0.001684\n",
       " 2236     0.001684\n",
       " 2420     0.001684\n",
       " 2291     0.001684\n",
       " 2407     0.001684\n",
       " 2080     0.001684\n",
       " 2250     0.001684\n",
       " 591      0.001684\n",
       " 2378     0.001684\n",
       " 2535     0.001684\n",
       " 2614     0.001684\n",
       " 2484     0.001684\n",
       " 2450     0.001684\n",
       " 2072     0.001684\n",
       " 2286     0.001684\n",
       " 2567     0.001684\n",
       " 2322     0.001684\n",
       " 2254     0.001684\n",
       " 2264     0.001684\n",
       " 2464     0.001684\n",
       " 2285     0.001684\n",
       " 2424     0.001684\n",
       " 2552     0.001684\n",
       " 2413     0.001684\n",
       " 2385     0.001684\n",
       "Name: gps_height, Length: 2428, dtype: float64"
      ]
     },
     "execution_count": 19,
     "metadata": {},
     "output_type": "execute_result"
    }
   ],
   "source": [
    "df['gps_height'].value_counts(normalize=True) * 100"
   ]
  },
  {
   "cell_type": "code",
   "execution_count": 20,
   "metadata": {
    "scrolled": true
   },
   "outputs": [
    {
     "data": {
      "text/plain": [
       "0.000000     3.050505\n",
       "37.540901    0.003367\n",
       "33.010510    0.003367\n",
       "39.093484    0.003367\n",
       "32.972719    0.003367\n",
       "33.006275    0.003367\n",
       "39.103950    0.003367\n",
       "37.542785    0.003367\n",
       "36.802490    0.003367\n",
       "39.098374    0.003367\n",
       "33.090347    0.003367\n",
       "33.005032    0.003367\n",
       "32.978062    0.003367\n",
       "39.088875    0.003367\n",
       "31.619530    0.003367\n",
       "39.093095    0.003367\n",
       "39.105307    0.003367\n",
       "32.936689    0.003367\n",
       "32.987511    0.003367\n",
       "39.090880    0.003367\n",
       "37.314250    0.003367\n",
       "32.984790    0.003367\n",
       "39.091434    0.003367\n",
       "37.274352    0.003367\n",
       "32.919861    0.003367\n",
       "37.530515    0.003367\n",
       "32.955597    0.003367\n",
       "39.098514    0.003367\n",
       "32.988560    0.003367\n",
       "32.987670    0.003367\n",
       "               ...   \n",
       "36.831815    0.001684\n",
       "31.530352    0.001684\n",
       "35.455622    0.001684\n",
       "37.672581    0.001684\n",
       "29.964104    0.001684\n",
       "34.862237    0.001684\n",
       "37.663466    0.001684\n",
       "37.128824    0.001684\n",
       "38.766058    0.001684\n",
       "38.710520    0.001684\n",
       "40.117029    0.001684\n",
       "34.672962    0.001684\n",
       "39.433604    0.001684\n",
       "35.901580    0.001684\n",
       "37.532216    0.001684\n",
       "35.790038    0.001684\n",
       "33.926958    0.001684\n",
       "37.371204    0.001684\n",
       "33.494134    0.001684\n",
       "34.462228    0.001684\n",
       "36.658880    0.001684\n",
       "33.877577    0.001684\n",
       "38.579468    0.001684\n",
       "31.715232    0.001684\n",
       "36.871976    0.001684\n",
       "37.579803    0.001684\n",
       "33.196490    0.001684\n",
       "34.017119    0.001684\n",
       "33.788326    0.001684\n",
       "30.163579    0.001684\n",
       "Name: longitude, Length: 57516, dtype: float64"
      ]
     },
     "execution_count": 20,
     "metadata": {},
     "output_type": "execute_result"
    }
   ],
   "source": [
    "df['longitude'].value_counts(normalize=True) * 100"
   ]
  },
  {
   "cell_type": "markdown",
   "metadata": {},
   "source": [
    "#### As we can see above, we have 3% counts of the value 0 for longitude which is not correct for Tanzania. [Map of Tanzania with latitude and longitude](https://www.worldatlas.com/img/areamap/44fb0cbaa5eb7ba2770b00485a23d97a.gif). You can also find more information about Tanzania using this [link](https://www.worldatlas.com/webimage/countrys/africa/tz.htm)"
   ]
  },
  {
   "cell_type": "code",
   "execution_count": 21,
   "metadata": {
    "scrolled": true
   },
   "outputs": [
    {
     "data": {
      "text/plain": [
       "-2.000000e-08    3.050505\n",
       "-6.985842e+00    0.003367\n",
       "-3.797579e+00    0.003367\n",
       "-6.981884e+00    0.003367\n",
       "-7.104625e+00    0.003367\n",
       "-7.056923e+00    0.003367\n",
       "-7.175174e+00    0.003367\n",
       "-6.990731e+00    0.003367\n",
       "-6.978755e+00    0.003367\n",
       "-6.994704e+00    0.003367\n",
       "-2.494546e+00    0.003367\n",
       "-6.964258e+00    0.003367\n",
       "-2.506590e+00    0.003367\n",
       "-6.990549e+00    0.003367\n",
       "-2.485227e+00    0.003367\n",
       "-2.494353e+00    0.003367\n",
       "-6.962475e+00    0.003367\n",
       "-6.989456e+00    0.003367\n",
       "-6.957328e+00    0.003367\n",
       "-6.958716e+00    0.003367\n",
       "-6.992611e+00    0.003367\n",
       "-6.991294e+00    0.003367\n",
       "-7.177155e+00    0.003367\n",
       "-2.501627e+00    0.003367\n",
       "-1.793342e+00    0.003367\n",
       "-7.102004e+00    0.003367\n",
       "-2.467137e+00    0.003367\n",
       "-2.516619e+00    0.003367\n",
       "-7.095131e+00    0.003367\n",
       "-6.981326e+00    0.003367\n",
       "                   ...   \n",
       "-1.820702e+00    0.001684\n",
       "-3.849252e+00    0.001684\n",
       "-4.624770e+00    0.001684\n",
       "-6.405513e+00    0.001684\n",
       "-1.530104e+00    0.001684\n",
       "-3.482213e+00    0.001684\n",
       "-6.345435e+00    0.001684\n",
       "-3.914628e+00    0.001684\n",
       "-3.140772e+00    0.001684\n",
       "-3.223370e+00    0.001684\n",
       "-3.263586e+00    0.001684\n",
       "-6.339804e+00    0.001684\n",
       "-8.519241e+00    0.001684\n",
       "-9.342734e+00    0.001684\n",
       "-1.988030e+00    0.001684\n",
       "-3.962936e+00    0.001684\n",
       "-8.889594e+00    0.001684\n",
       "-4.828176e+00    0.001684\n",
       "-4.265410e+00    0.001684\n",
       "-4.750163e+00    0.001684\n",
       "-3.411358e+00    0.001684\n",
       "-8.958207e+00    0.001684\n",
       "-3.261113e+00    0.001684\n",
       "-5.435762e+00    0.001684\n",
       "-4.476671e+00    0.001684\n",
       "-5.726001e+00    0.001684\n",
       "-9.646831e+00    0.001684\n",
       "-8.124530e+00    0.001684\n",
       "-2.535985e+00    0.001684\n",
       "-2.598965e+00    0.001684\n",
       "Name: latitude, Length: 57517, dtype: float64"
      ]
     },
     "execution_count": 21,
     "metadata": {},
     "output_type": "execute_result"
    }
   ],
   "source": [
    "df['latitude'].value_counts(normalize=True) * 100"
   ]
  },
  {
   "cell_type": "code",
   "execution_count": 22,
   "metadata": {
    "scrolled": false
   },
   "outputs": [
    {
     "data": {
      "text/plain": [
       "quantity\n",
       "dry              5516\n",
       "enough          21103\n",
       "insufficient    10914\n",
       "seasonal         3411\n",
       "unknown           695\n",
       "dtype: int64"
      ]
     },
     "execution_count": 22,
     "metadata": {},
     "output_type": "execute_result"
    }
   ],
   "source": [
    "df[df['amount_tsh']==0].groupby(df['quantity']).size()"
   ]
  },
  {
   "cell_type": "markdown",
   "metadata": {},
   "source": [
    "### We see above that the we have *'amount_tsh'* == 0 (amount water available to waterpoint) and this doesn't make sense when the *'quantity'* is not 'dry'. I'll assume that 0 value in *'amount_tsh'* means we are missing values in this feature and we need to handle it."
   ]
  },
  {
   "cell_type": "markdown",
   "metadata": {},
   "source": [
    "### Now let's compare the *status_group* feature with other numerical features to see if we can find a trend"
   ]
  },
  {
   "cell_type": "code",
   "execution_count": 23,
   "metadata": {
    "scrolled": true
   },
   "outputs": [
    {
     "data": {
      "text/plain": [
       "status_group\n",
       "functional                 32259\n",
       "functional needs repair     4317\n",
       "non functional             22824\n",
       "dtype: int64"
      ]
     },
     "execution_count": 23,
     "metadata": {},
     "output_type": "execute_result"
    }
   ],
   "source": [
    "df[['amount_tsh']].groupby(df['status_group']).size()"
   ]
  },
  {
   "cell_type": "code",
   "execution_count": 24,
   "metadata": {},
   "outputs": [],
   "source": [
    "# We can see that there are 41639 0's in amount_tsh column. Since these 0's might cause some \n",
    "#issues later, we need to change them to NaN values and then replace the NaN values \n",
    "#with transform(\"mean\") and transform(\"median\") - This is also true for population and gps_height\n",
    "df['amount_tsh'].replace(0.0, np.nan, inplace=True)\n",
    "df['gps_height'].replace(0.0, np.nan, inplace=True)\n",
    "df['population'].replace(0.0, np.nan, inplace=True)\n",
    "df['longitude'].replace(0.0, np.nan, inplace=True)\n",
    "df['construction_year'].replace(0.0, np.nan, inplace=True)"
   ]
  },
  {
   "cell_type": "code",
   "execution_count": 25,
   "metadata": {},
   "outputs": [],
   "source": [
    "df[\"amount_tsh\"].fillna(df.groupby(['region', 'district_code'])[\"amount_tsh\"].transform(\"median\"), inplace=True)\n",
    "df[\"amount_tsh\"].fillna(df.groupby(['region'])[\"amount_tsh\"].transform(\"median\"), inplace=True)\n",
    "df[\"amount_tsh\"].fillna(df[\"amount_tsh\"].median(), inplace=True)\n",
    "df[\"gps_height\"].fillna(df.groupby(['region', 'district_code'])[\"gps_height\"].transform(\"mean\"), inplace=True)\n",
    "df[\"gps_height\"].fillna(df.groupby(['region'])[\"gps_height\"].transform(\"mean\"), inplace=True)\n",
    "df[\"gps_height\"].fillna(df[\"gps_height\"].mean(), inplace=True)\n",
    "df[\"population\"].fillna(df.groupby(['region', 'district_code'])[\"population\"].transform(\"median\"), inplace=True)\n",
    "df[\"population\"].fillna(df.groupby(['region'])[\"population\"].transform(\"median\"), inplace=True)\n",
    "df[\"population\"].fillna(df[\"population\"].median(), inplace=True)\n",
    "df[\"longitude\"].fillna(df.groupby(['region', 'district_code'])[\"longitude\"].transform(\"mean\"), inplace=True)\n",
    "df[\"longitude\"].fillna(df.groupby(['region'])[\"longitude\"].transform(\"mean\"), inplace=True)\n",
    "df[\"construction_year\"].fillna(df.groupby(['region', 'district_code'])[\"construction_year\"].transform(\"median\"), inplace=True)\n",
    "df[\"construction_year\"].fillna(df.groupby(['region'])[\"construction_year\"].transform(\"median\"), inplace=True)\n",
    "df[\"construction_year\"].fillna(df.groupby(['district_code'])[\"construction_year\"].transform(\"median\"), inplace=True)\n",
    "df[\"construction_year\"].fillna(df[\"construction_year\"].median(), inplace=True)"
   ]
  },
  {
   "cell_type": "code",
   "execution_count": 26,
   "metadata": {
    "scrolled": true
   },
   "outputs": [
    {
     "data": {
      "text/plain": [
       "['date_recorded',\n",
       " 'funder',\n",
       " 'installer',\n",
       " 'wpt_name',\n",
       " 'basin',\n",
       " 'subvillage',\n",
       " 'region',\n",
       " 'lga',\n",
       " 'ward',\n",
       " 'public_meeting',\n",
       " 'recorded_by',\n",
       " 'scheme_management',\n",
       " 'scheme_name',\n",
       " 'permit',\n",
       " 'extraction_type',\n",
       " 'extraction_type_group',\n",
       " 'extraction_type_class',\n",
       " 'management',\n",
       " 'management_group',\n",
       " 'payment',\n",
       " 'payment_type',\n",
       " 'water_quality',\n",
       " 'quality_group',\n",
       " 'quantity',\n",
       " 'quantity_group',\n",
       " 'source',\n",
       " 'source_type',\n",
       " 'source_class',\n",
       " 'waterpoint_type',\n",
       " 'waterpoint_type_group',\n",
       " 'status_group']"
      ]
     },
     "execution_count": 26,
     "metadata": {},
     "output_type": "execute_result"
    }
   ],
   "source": [
    "list(df.select_dtypes(object))"
   ]
  },
  {
   "cell_type": "code",
   "execution_count": 27,
   "metadata": {},
   "outputs": [
    {
     "data": {
      "text/plain": [
       "array(['Roman', 'Grumeti', 'Lottery Club', ..., 'Dina', 'Brown', 'Samlo'],\n",
       "      dtype=object)"
      ]
     },
     "execution_count": 27,
     "metadata": {},
     "output_type": "execute_result"
    }
   ],
   "source": [
    "df['funder'].unique()"
   ]
  },
  {
   "cell_type": "code",
   "execution_count": 28,
   "metadata": {},
   "outputs": [
    {
     "data": {
      "text/plain": [
       "array(['Ludewa', 'Serengeti', 'Simanjiro', 'Nanyumbu', 'Karagwe',\n",
       "       'Mkinga', 'Shinyanga Rural', 'Kahama', 'Tabora Urban', 'Mkuranga',\n",
       "       'Namtumbo', 'Maswa', 'Siha', 'Meatu', 'Sumbawanga Rural', 'Njombe',\n",
       "       'Ukerewe', 'Bariadi', 'Same', 'Kigoma Rural', 'Moshi Rural',\n",
       "       'Lindi Rural', 'Rombo', 'Chamwino', 'Bagamoyo', 'Mafia',\n",
       "       'Arusha Rural', 'Kyela', 'Kondoa', 'Kilolo', 'Kibondo', 'Makete',\n",
       "       'Singida Rural', 'Masasi', 'Rungwe', 'Moshi Urban', 'Geita',\n",
       "       'Mbulu', 'Bukoba Rural', 'Muheza', 'Lushoto', 'Meru', 'Iramba',\n",
       "       'Kilombero', 'Mbarali', 'Kasulu', 'Bukoba Urban', 'Korogwe',\n",
       "       'Bukombe', 'Morogoro Rural', 'Kishapu', 'Musoma Rural',\n",
       "       'Sengerema', 'Iringa Rural', 'Muleba', 'Dodoma Urban', 'Ruangwa',\n",
       "       'Hanang', 'Misenyi', 'Missungwi', 'Songea Rural', 'Tanga',\n",
       "       'Tunduru', 'Hai', 'Mwanga', 'Chato', 'Biharamulo', 'Ileje',\n",
       "       'Mpwapwa', 'Mvomero', 'Bunda', 'Kiteto', 'Longido', 'Urambo',\n",
       "       'Mbozi', 'Sikonge', 'Ilala', 'Tarime', 'Temeke', 'Mbeya Rural',\n",
       "       'Magu', 'Manyoni', 'Igunga', 'Kilosa', 'Babati', 'Chunya',\n",
       "       'Mufindi', 'Mtwara Rural', 'Ngara', 'Karatu', 'Mpanda', 'Kibaha',\n",
       "       'Singida Urban', 'Newala', 'Nzega', 'Nkasi', 'Bahi', 'Mbinga',\n",
       "       'Ulanga', 'Sumbawanga Urban', 'Morogoro Urban', 'Tandahimba',\n",
       "       'Kisarawe', 'Mtwara Urban', 'Kilwa', 'Liwale', 'Kongwa', 'Uyui',\n",
       "       'Rufiji', 'Kwimba', 'Monduli', 'Shinyanga Urban', 'Ngorongoro',\n",
       "       'Handeni', 'Rorya', 'Pangani', 'Lindi Urban', 'Nachingwea',\n",
       "       'Kinondoni', 'Kigoma Urban', 'Ilemela', 'Kilindi', 'Arusha Urban',\n",
       "       'Songea Urban', 'Nyamagana'], dtype=object)"
      ]
     },
     "execution_count": 28,
     "metadata": {},
     "output_type": "execute_result"
    }
   ],
   "source": [
    "df['lga'].unique()"
   ]
  },
  {
   "cell_type": "code",
   "execution_count": 29,
   "metadata": {
    "scrolled": true
   },
   "outputs": [
    {
     "data": {
      "text/plain": [
       "<matplotlib.legend.Legend at 0x25937d4db00>"
      ]
     },
     "execution_count": 29,
     "metadata": {},
     "output_type": "execute_result"
    },
    {
     "data": {
      "image/png": "[encoded data removed]",
      "text/plain": [
       "<Figure size 1080x504 with 1 Axes>"
      ]
     },
     "metadata": {},
     "output_type": "display_data"
    }
   ],
   "source": [
    "plt.figure(figsize=(15,7))\n",
    "_ = sns.countplot(data=df,x='region',hue='status_group')\n",
    "_.set_xticklabels(_.get_xticklabels(),rotation=90)\n",
    "plt.legend(bbox_to_anchor=(1,1), loc=2)"
   ]
  },
  {
   "cell_type": "code",
   "execution_count": 30,
   "metadata": {},
   "outputs": [
    {
     "data": {
      "text/plain": [
       "array(['Lake Nyasa', 'Lake Victoria', 'Pangani',\n",
       "       'Ruvuma / Southern Coast', 'Internal', 'Lake Tanganyika',\n",
       "       'Wami / Ruvu', 'Rufiji', 'Lake Rukwa'], dtype=object)"
      ]
     },
     "execution_count": 30,
     "metadata": {},
     "output_type": "execute_result"
    }
   ],
   "source": [
    "df['basin'].unique()"
   ]
  },
  {
   "cell_type": "code",
   "execution_count": 31,
   "metadata": {
    "scrolled": true
   },
   "outputs": [
    {
     "data": {
      "text/plain": [
       "<matplotlib.legend.Legend at 0x259380fec18>"
      ]
     },
     "execution_count": 31,
     "metadata": {},
     "output_type": "execute_result"
    },
    {
     "data": {
      "image/png": "[encoded data removed]",
      "text/plain": [
       "<Figure size 1080x504 with 1 Axes>"
      ]
     },
     "metadata": {},
     "output_type": "display_data"
    }
   ],
   "source": [
    "plt.figure(figsize=(15,7))\n",
    "sns.countplot(data=df,x='basin',hue='status_group')\n",
    "plt.legend(bbox_to_anchor=(1,1), loc=2)"
   ]
  },
  {
   "cell_type": "code",
   "execution_count": null,
   "metadata": {},
   "outputs": [],
   "source": []
  }
 ],
 "metadata": {
  "kernelspec": {
   "display_name": "Python 3",
   "language": "python",
   "name": "python3"
  },
  "language_info": {
   "codemirror_mode": {
    "name": "ipython",
    "version": 3
   },
   "file_extension": ".py",
   "mimetype": "text/x-python",
   "name": "python",
   "nbconvert_exporter": "python",
   "pygments_lexer": "ipython3",
   "version": "3.7.3"
  }
 },
 "nbformat": 4,
 "nbformat_minor": 2
}
