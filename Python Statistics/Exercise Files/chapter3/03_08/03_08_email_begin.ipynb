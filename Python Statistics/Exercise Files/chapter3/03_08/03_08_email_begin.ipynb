{
 "cells": [
  {
   "cell_type": "markdown",
   "metadata": {},
   "source": [
    "## Python statistics essential training - 03_08_email"
   ]
  },
  {
   "cell_type": "markdown",
   "metadata": {},
   "source": [
    "Standard imports"
   ]
  },
  {
   "cell_type": "code",
   "execution_count": 1,
   "metadata": {},
   "outputs": [],
   "source": [
    "import numpy as np\n",
    "import scipy.stats\n",
    "import pandas as pd"
   ]
  },
  {
   "cell_type": "code",
   "execution_count": 2,
   "metadata": {},
   "outputs": [],
   "source": [
    "import matplotlib\n",
    "import matplotlib.pyplot as pp\n",
    "\n",
    "import pandas.plotting\n",
    "\n",
    "from IPython import display\n",
    "from ipywidgets import interact, widgets\n",
    "\n",
    "%matplotlib inline"
   ]
  },
  {
   "cell_type": "code",
   "execution_count": 3,
   "metadata": {},
   "outputs": [],
   "source": [
    "import re\n",
    "import mailbox\n",
    "import csv"
   ]
  },
  {
   "cell_type": "markdown",
   "metadata": {},
   "source": [
    "### How I converted my mailbox."
   ]
  },
  {
   "cell_type": "code",
   "execution_count": 4,
   "metadata": {},
   "outputs": [],
   "source": [
    "mbox = mailbox.mbox('Sent.mbox')"
   ]
  },
  {
   "cell_type": "markdown",
   "metadata": {},
   "source": [
    "The resulting object is array-like, with one entry per message. Each entry is dictionary like, with keys corresponding to metadata and data for each message."
   ]
  },
  {
   "cell_type": "code",
   "execution_count": 5,
   "metadata": {},
   "outputs": [
    {
     "data": {
      "text/plain": [
       "['X-GM-THRID',\n",
       " 'X-Gmail-Labels',\n",
       " 'MIME-Version',\n",
       " 'Date',\n",
       " 'References',\n",
       " 'In-Reply-To',\n",
       " 'Message-ID',\n",
       " 'Subject',\n",
       " 'From',\n",
       " 'To',\n",
       " 'Content-Type']"
      ]
     },
     "execution_count": 5,
     "metadata": {},
     "output_type": "execute_result"
    }
   ],
   "source": [
    "mbox[0].keys()"
   ]
  },
  {
   "cell_type": "markdown",
   "metadata": {},
   "source": [
    "The easiest way to get these data into Pandas is to build a CSV file from them. We use the module `csv` to write out the CSV file as we loop over the mailbox object. We save only subject, from, to, and date, and we write a simple header at the top with the names of columns."
   ]
  },
  {
   "cell_type": "code",
   "execution_count": 6,
   "metadata": {},
   "outputs": [],
   "source": [
    "with open('mbox.csv', 'w') as outfile:\n",
    "    writer = csv.writer(outfile)\n",
    "    writer.writerow(['subject','from','to','date'])\n",
    "    \n",
    "    for message in mbox:\n",
    "        writer.writerow([message['subject'], message['from'], message['to'], message['date']])"
   ]
  },
  {
   "cell_type": "markdown",
   "metadata": {},
   "source": [
    "All done! Thanks to Justin Ellis for inspiration with https://jellis18.github.io/post/2018-01-17-mail-analysis."
   ]
  },
  {
   "cell_type": "markdown",
   "metadata": {},
   "source": [
    "## Moving on!"
   ]
  },
  {
   "cell_type": "code",
   "execution_count": 7,
   "metadata": {},
   "outputs": [],
   "source": [
    "messages = pd.read_csv('mbox.csv')"
   ]
  },
  {
   "cell_type": "code",
   "execution_count": 9,
   "metadata": {},
   "outputs": [
    {
     "name": "stdout",
     "output_type": "stream",
     "text": [
      "<class 'pandas.core.frame.DataFrame'>\n",
      "RangeIndex: 2723 entries, 0 to 2722\n",
      "Data columns (total 4 columns):\n",
      "subject    2695 non-null object\n",
      "from       2723 non-null object\n",
      "to         2720 non-null object\n",
      "date       2723 non-null object\n",
      "dtypes: object(4)\n",
      "memory usage: 85.2+ KB\n"
     ]
    }
   ],
   "source": [
    "messages.info()"
   ]
  },
  {
   "cell_type": "code",
   "execution_count": 10,
   "metadata": {
    "scrolled": true
   },
   "outputs": [
    {
     "data": {
      "text/html": [
       "<div>\n",
       "<style scoped>\n",
       "    .dataframe tbody tr th:only-of-type {\n",
       "        vertical-align: middle;\n",
       "    }\n",
       "\n",
       "    .dataframe tbody tr th {\n",
       "        vertical-align: top;\n",
       "    }\n",
       "\n",
       "    .dataframe thead th {\n",
       "        text-align: right;\n",
       "    }\n",
       "</style>\n",
       "<table border=\"1\" class=\"dataframe\">\n",
       "  <thead>\n",
       "    <tr style=\"text-align: right;\">\n",
       "      <th></th>\n",
       "      <th>subject</th>\n",
       "      <th>from</th>\n",
       "      <th>to</th>\n",
       "      <th>date</th>\n",
       "    </tr>\n",
       "  </thead>\n",
       "  <tbody>\n",
       "    <tr>\n",
       "      <th>0</th>\n",
       "      <td>Re: Reference # 190732569</td>\n",
       "      <td>Alireza Talebizadeh &lt;alireza.talebizadeh@gmail...</td>\n",
       "      <td>VW Experience &lt;VWExperience@vw.com&gt;</td>\n",
       "      <td>Thu, 7 Nov 2019 15:20:35 -0600</td>\n",
       "    </tr>\n",
       "    <tr>\n",
       "      <th>1</th>\n",
       "      <td>Reference # 190732569</td>\n",
       "      <td>VW Experience &lt;VWExperience@vw.com&gt;</td>\n",
       "      <td>\"alireza.talebizadeh@gmail.com\" &lt;alireza.taleb...</td>\n",
       "      <td>Fri, 1 Nov 2019 21:28:46 +0000</td>\n",
       "    </tr>\n",
       "    <tr>\n",
       "      <th>2</th>\n",
       "      <td>Re: Amazon Returns Policy Notice</td>\n",
       "      <td>Alireza Talebizadeh &lt;alireza.talebizadeh@gmail...</td>\n",
       "      <td>\"ofm@amazon.com\" &lt;ofm@amazon.com&gt;</td>\n",
       "      <td>Thu, 21 Nov 2019 12:07:42 -0600</td>\n",
       "    </tr>\n",
       "    <tr>\n",
       "      <th>3</th>\n",
       "      <td>Amazon Returns Policy Notice</td>\n",
       "      <td>\"ofm@amazon.com\" &lt;ofm@amazon.com&gt;</td>\n",
       "      <td>alireza.talebizadeh@gmail.com</td>\n",
       "      <td>Thu, 21 Nov 2019 05:32:29 +0000</td>\n",
       "    </tr>\n",
       "    <tr>\n",
       "      <th>4</th>\n",
       "      <td>Resume Programming</td>\n",
       "      <td>Alireza Talebizadeh &lt;alireza.talebizadeh@gmail...</td>\n",
       "      <td>Alireza Talebizadeh &lt;atalebizadeh@icloud.com&gt;</td>\n",
       "      <td>Mon, 18 Feb 2019 00:11:37 -0600</td>\n",
       "    </tr>\n",
       "  </tbody>\n",
       "</table>\n",
       "</div>"
      ],
      "text/plain": [
       "                            subject  \\\n",
       "0         Re: Reference # 190732569   \n",
       "1            Reference # 190732569    \n",
       "2  Re: Amazon Returns Policy Notice   \n",
       "3      Amazon Returns Policy Notice   \n",
       "4               Resume Programming    \n",
       "\n",
       "                                                from  \\\n",
       "0  Alireza Talebizadeh <alireza.talebizadeh@gmail...   \n",
       "1                VW Experience <VWExperience@vw.com>   \n",
       "2  Alireza Talebizadeh <alireza.talebizadeh@gmail...   \n",
       "3                  \"ofm@amazon.com\" <ofm@amazon.com>   \n",
       "4  Alireza Talebizadeh <alireza.talebizadeh@gmail...   \n",
       "\n",
       "                                                  to  \\\n",
       "0                VW Experience <VWExperience@vw.com>   \n",
       "1  \"alireza.talebizadeh@gmail.com\" <alireza.taleb...   \n",
       "2                  \"ofm@amazon.com\" <ofm@amazon.com>   \n",
       "3                      alireza.talebizadeh@gmail.com   \n",
       "4      Alireza Talebizadeh <atalebizadeh@icloud.com>   \n",
       "\n",
       "                              date  \n",
       "0   Thu, 7 Nov 2019 15:20:35 -0600  \n",
       "1   Fri, 1 Nov 2019 21:28:46 +0000  \n",
       "2  Thu, 21 Nov 2019 12:07:42 -0600  \n",
       "3  Thu, 21 Nov 2019 05:32:29 +0000  \n",
       "4  Mon, 18 Feb 2019 00:11:37 -0600  "
      ]
     },
     "execution_count": 10,
     "metadata": {},
     "output_type": "execute_result"
    }
   ],
   "source": [
    "messages.head()"
   ]
  },
  {
   "cell_type": "code",
   "execution_count": 12,
   "metadata": {},
   "outputs": [
    {
     "data": {
      "text/plain": [
       "'Alireza Talebizadeh <alireza.talebizadeh@gmail.com>'"
      ]
     },
     "execution_count": 12,
     "metadata": {},
     "output_type": "execute_result"
    }
   ],
   "source": [
    "messages['from'][0]"
   ]
  },
  {
   "cell_type": "code",
   "execution_count": 14,
   "metadata": {},
   "outputs": [
    {
     "data": {
      "text/plain": [
       "<re.Match object; span=(20, 51), match='<alireza.talebizadeh@gmail.com>'>"
      ]
     },
     "execution_count": 14,
     "metadata": {},
     "output_type": "execute_result"
    }
   ],
   "source": [
    "re.search('<(.+)>', messages['from'][0])"
   ]
  },
  {
   "cell_type": "code",
   "execution_count": 15,
   "metadata": {},
   "outputs": [
    {
     "data": {
      "text/plain": [
       "'<alireza.talebizadeh@gmail.com>'"
      ]
     },
     "execution_count": 15,
     "metadata": {},
     "output_type": "execute_result"
    }
   ],
   "source": [
    "re.search('<(.+)>', messages['from'][0]).group(0)"
   ]
  },
  {
   "cell_type": "code",
   "execution_count": 16,
   "metadata": {},
   "outputs": [
    {
     "data": {
      "text/plain": [
       "'alireza.talebizadeh@gmail.com'"
      ]
     },
     "execution_count": 16,
     "metadata": {},
     "output_type": "execute_result"
    }
   ],
   "source": [
    "re.search('<(.+)>', messages['from'][0]).group(1)"
   ]
  },
  {
   "cell_type": "code",
   "execution_count": 18,
   "metadata": {},
   "outputs": [
    {
     "ename": "AttributeError",
     "evalue": "'NoneType' object has no attribute 'group'",
     "output_type": "error",
     "traceback": [
      "\u001b[1;31m---------------------------------------------------------------------------\u001b[0m",
      "\u001b[1;31mAttributeError\u001b[0m                            Traceback (most recent call last)",
      "\u001b[1;32m<ipython-input-18-cf830d2e803e>\u001b[0m in \u001b[0;36m<module>\u001b[1;34m\u001b[0m\n\u001b[1;32m----> 1\u001b[1;33m \u001b[0mre\u001b[0m\u001b[1;33m.\u001b[0m\u001b[0msearch\u001b[0m\u001b[1;33m(\u001b[0m\u001b[1;34m'<(.+)>'\u001b[0m\u001b[1;33m,\u001b[0m \u001b[1;34m'alireza.talebizadeh@gmail.com'\u001b[0m\u001b[1;33m)\u001b[0m\u001b[1;33m.\u001b[0m\u001b[0mgroup\u001b[0m\u001b[1;33m(\u001b[0m\u001b[1;36m1\u001b[0m\u001b[1;33m)\u001b[0m\u001b[1;33m\u001b[0m\u001b[1;33m\u001b[0m\u001b[0m\n\u001b[0m",
      "\u001b[1;31mAttributeError\u001b[0m: 'NoneType' object has no attribute 'group'"
     ]
    }
   ],
   "source": [
    "re.search('<(.+)>', 'alireza.talebizadeh@gmail.com').group(1)"
   ]
  },
  {
   "cell_type": "code",
   "execution_count": 20,
   "metadata": {},
   "outputs": [],
   "source": [
    "def clean_address(raw):\n",
    "    match = re.search('<(.+)>', raw)\n",
    "    \n",
    "    if match is None:\n",
    "        return raw\n",
    "    else:\n",
    "        return match.group(1)"
   ]
  },
  {
   "cell_type": "code",
   "execution_count": 21,
   "metadata": {},
   "outputs": [
    {
     "data": {
      "text/plain": [
       "'alireza.talebizadeh@gmail.com'"
      ]
     },
     "execution_count": 21,
     "metadata": {},
     "output_type": "execute_result"
    }
   ],
   "source": [
    "clean_address(messages['from'][0])"
   ]
  },
  {
   "cell_type": "code",
   "execution_count": 22,
   "metadata": {},
   "outputs": [],
   "source": [
    "messages['from'] = messages['from'].apply(clean_address)"
   ]
  },
  {
   "cell_type": "code",
   "execution_count": 25,
   "metadata": {
    "scrolled": true
   },
   "outputs": [
    {
     "ename": "TypeError",
     "evalue": "expected string or bytes-like object",
     "output_type": "error",
     "traceback": [
      "\u001b[1;31m---------------------------------------------------------------------------\u001b[0m",
      "\u001b[1;31mTypeError\u001b[0m                                 Traceback (most recent call last)",
      "\u001b[1;32m<ipython-input-25-edbca45ca392>\u001b[0m in \u001b[0;36m<module>\u001b[1;34m\u001b[0m\n\u001b[1;32m----> 1\u001b[1;33m \u001b[0mmessages\u001b[0m\u001b[1;33m[\u001b[0m\u001b[1;34m'to'\u001b[0m\u001b[1;33m]\u001b[0m \u001b[1;33m=\u001b[0m \u001b[0mmessages\u001b[0m\u001b[1;33m[\u001b[0m\u001b[1;34m'to'\u001b[0m\u001b[1;33m]\u001b[0m\u001b[1;33m.\u001b[0m\u001b[0mapply\u001b[0m\u001b[1;33m(\u001b[0m\u001b[0mclean_address\u001b[0m\u001b[1;33m)\u001b[0m\u001b[1;33m\u001b[0m\u001b[1;33m\u001b[0m\u001b[0m\n\u001b[0m",
      "\u001b[1;32m~\\AppData\\Local\\Continuum\\anaconda3\\lib\\site-packages\\pandas\\core\\series.py\u001b[0m in \u001b[0;36mapply\u001b[1;34m(self, func, convert_dtype, args, **kwds)\u001b[0m\n\u001b[0;32m   3589\u001b[0m             \u001b[1;32melse\u001b[0m\u001b[1;33m:\u001b[0m\u001b[1;33m\u001b[0m\u001b[1;33m\u001b[0m\u001b[0m\n\u001b[0;32m   3590\u001b[0m                 \u001b[0mvalues\u001b[0m \u001b[1;33m=\u001b[0m \u001b[0mself\u001b[0m\u001b[1;33m.\u001b[0m\u001b[0mastype\u001b[0m\u001b[1;33m(\u001b[0m\u001b[0mobject\u001b[0m\u001b[1;33m)\u001b[0m\u001b[1;33m.\u001b[0m\u001b[0mvalues\u001b[0m\u001b[1;33m\u001b[0m\u001b[1;33m\u001b[0m\u001b[0m\n\u001b[1;32m-> 3591\u001b[1;33m                 \u001b[0mmapped\u001b[0m \u001b[1;33m=\u001b[0m \u001b[0mlib\u001b[0m\u001b[1;33m.\u001b[0m\u001b[0mmap_infer\u001b[0m\u001b[1;33m(\u001b[0m\u001b[0mvalues\u001b[0m\u001b[1;33m,\u001b[0m \u001b[0mf\u001b[0m\u001b[1;33m,\u001b[0m \u001b[0mconvert\u001b[0m\u001b[1;33m=\u001b[0m\u001b[0mconvert_dtype\u001b[0m\u001b[1;33m)\u001b[0m\u001b[1;33m\u001b[0m\u001b[1;33m\u001b[0m\u001b[0m\n\u001b[0m\u001b[0;32m   3592\u001b[0m \u001b[1;33m\u001b[0m\u001b[0m\n\u001b[0;32m   3593\u001b[0m         \u001b[1;32mif\u001b[0m \u001b[0mlen\u001b[0m\u001b[1;33m(\u001b[0m\u001b[0mmapped\u001b[0m\u001b[1;33m)\u001b[0m \u001b[1;32mand\u001b[0m \u001b[0misinstance\u001b[0m\u001b[1;33m(\u001b[0m\u001b[0mmapped\u001b[0m\u001b[1;33m[\u001b[0m\u001b[1;36m0\u001b[0m\u001b[1;33m]\u001b[0m\u001b[1;33m,\u001b[0m \u001b[0mSeries\u001b[0m\u001b[1;33m)\u001b[0m\u001b[1;33m:\u001b[0m\u001b[1;33m\u001b[0m\u001b[1;33m\u001b[0m\u001b[0m\n",
      "\u001b[1;32mpandas/_libs/lib.pyx\u001b[0m in \u001b[0;36mpandas._libs.lib.map_infer\u001b[1;34m()\u001b[0m\n",
      "\u001b[1;32m<ipython-input-20-934bd7fa4389>\u001b[0m in \u001b[0;36mclean_address\u001b[1;34m(raw)\u001b[0m\n\u001b[0;32m      1\u001b[0m \u001b[1;32mdef\u001b[0m \u001b[0mclean_address\u001b[0m\u001b[1;33m(\u001b[0m\u001b[0mraw\u001b[0m\u001b[1;33m)\u001b[0m\u001b[1;33m:\u001b[0m\u001b[1;33m\u001b[0m\u001b[1;33m\u001b[0m\u001b[0m\n\u001b[1;32m----> 2\u001b[1;33m     \u001b[0mmatch\u001b[0m \u001b[1;33m=\u001b[0m \u001b[0mre\u001b[0m\u001b[1;33m.\u001b[0m\u001b[0msearch\u001b[0m\u001b[1;33m(\u001b[0m\u001b[1;34m'<(.+)>'\u001b[0m\u001b[1;33m,\u001b[0m \u001b[0mraw\u001b[0m\u001b[1;33m)\u001b[0m\u001b[1;33m\u001b[0m\u001b[1;33m\u001b[0m\u001b[0m\n\u001b[0m\u001b[0;32m      3\u001b[0m \u001b[1;33m\u001b[0m\u001b[0m\n\u001b[0;32m      4\u001b[0m     \u001b[1;32mif\u001b[0m \u001b[0mmatch\u001b[0m \u001b[1;32mis\u001b[0m \u001b[1;32mNone\u001b[0m\u001b[1;33m:\u001b[0m\u001b[1;33m\u001b[0m\u001b[1;33m\u001b[0m\u001b[0m\n\u001b[0;32m      5\u001b[0m         \u001b[1;32mreturn\u001b[0m \u001b[0mraw\u001b[0m\u001b[1;33m\u001b[0m\u001b[1;33m\u001b[0m\u001b[0m\n",
      "\u001b[1;32m~\\AppData\\Local\\Continuum\\anaconda3\\lib\\re.py\u001b[0m in \u001b[0;36msearch\u001b[1;34m(pattern, string, flags)\u001b[0m\n\u001b[0;32m    181\u001b[0m     \"\"\"Scan through string looking for a match to the pattern, returning\n\u001b[0;32m    182\u001b[0m     a Match object, or None if no match was found.\"\"\"\n\u001b[1;32m--> 183\u001b[1;33m     \u001b[1;32mreturn\u001b[0m \u001b[0m_compile\u001b[0m\u001b[1;33m(\u001b[0m\u001b[0mpattern\u001b[0m\u001b[1;33m,\u001b[0m \u001b[0mflags\u001b[0m\u001b[1;33m)\u001b[0m\u001b[1;33m.\u001b[0m\u001b[0msearch\u001b[0m\u001b[1;33m(\u001b[0m\u001b[0mstring\u001b[0m\u001b[1;33m)\u001b[0m\u001b[1;33m\u001b[0m\u001b[1;33m\u001b[0m\u001b[0m\n\u001b[0m\u001b[0;32m    184\u001b[0m \u001b[1;33m\u001b[0m\u001b[0m\n\u001b[0;32m    185\u001b[0m \u001b[1;32mdef\u001b[0m \u001b[0msub\u001b[0m\u001b[1;33m(\u001b[0m\u001b[0mpattern\u001b[0m\u001b[1;33m,\u001b[0m \u001b[0mrepl\u001b[0m\u001b[1;33m,\u001b[0m \u001b[0mstring\u001b[0m\u001b[1;33m,\u001b[0m \u001b[0mcount\u001b[0m\u001b[1;33m=\u001b[0m\u001b[1;36m0\u001b[0m\u001b[1;33m,\u001b[0m \u001b[0mflags\u001b[0m\u001b[1;33m=\u001b[0m\u001b[1;36m0\u001b[0m\u001b[1;33m)\u001b[0m\u001b[1;33m:\u001b[0m\u001b[1;33m\u001b[0m\u001b[1;33m\u001b[0m\u001b[0m\n",
      "\u001b[1;31mTypeError\u001b[0m: expected string or bytes-like object"
     ]
    }
   ],
   "source": [
    "messages['to'] = messages['to'].apply(clean_address)"
   ]
  },
  {
   "cell_type": "code",
   "execution_count": 26,
   "metadata": {},
   "outputs": [
    {
     "data": {
      "text/plain": [
       "3"
      ]
     },
     "execution_count": 26,
     "metadata": {},
     "output_type": "execute_result"
    }
   ],
   "source": [
    "messages['to'].isnull().sum()"
   ]
  },
  {
   "cell_type": "code",
   "execution_count": 27,
   "metadata": {},
   "outputs": [
    {
     "name": "stdout",
     "output_type": "stream",
     "text": [
      "> \u001b[1;32mc:\\users\\atale\\appdata\\local\\continuum\\anaconda3\\lib\\re.py\u001b[0m(183)\u001b[0;36msearch\u001b[1;34m()\u001b[0m\n",
      "\u001b[1;32m    181 \u001b[1;33m    \"\"\"Scan through string looking for a match to the pattern, returning\n",
      "\u001b[0m\u001b[1;32m    182 \u001b[1;33m    a Match object, or None if no match was found.\"\"\"\n",
      "\u001b[0m\u001b[1;32m--> 183 \u001b[1;33m    \u001b[1;32mreturn\u001b[0m \u001b[0m_compile\u001b[0m\u001b[1;33m(\u001b[0m\u001b[0mpattern\u001b[0m\u001b[1;33m,\u001b[0m \u001b[0mflags\u001b[0m\u001b[1;33m)\u001b[0m\u001b[1;33m.\u001b[0m\u001b[0msearch\u001b[0m\u001b[1;33m(\u001b[0m\u001b[0mstring\u001b[0m\u001b[1;33m)\u001b[0m\u001b[1;33m\u001b[0m\u001b[1;33m\u001b[0m\u001b[0m\n",
      "\u001b[0m\u001b[1;32m    184 \u001b[1;33m\u001b[1;33m\u001b[0m\u001b[0m\n",
      "\u001b[0m\u001b[1;32m    185 \u001b[1;33m\u001b[1;32mdef\u001b[0m \u001b[0msub\u001b[0m\u001b[1;33m(\u001b[0m\u001b[0mpattern\u001b[0m\u001b[1;33m,\u001b[0m \u001b[0mrepl\u001b[0m\u001b[1;33m,\u001b[0m \u001b[0mstring\u001b[0m\u001b[1;33m,\u001b[0m \u001b[0mcount\u001b[0m\u001b[1;33m=\u001b[0m\u001b[1;36m0\u001b[0m\u001b[1;33m,\u001b[0m \u001b[0mflags\u001b[0m\u001b[1;33m=\u001b[0m\u001b[1;36m0\u001b[0m\u001b[1;33m)\u001b[0m\u001b[1;33m:\u001b[0m\u001b[1;33m\u001b[0m\u001b[1;33m\u001b[0m\u001b[0m\n",
      "\u001b[0m\n",
      "ipdb> up\n",
      "> \u001b[1;32m<ipython-input-20-934bd7fa4389>\u001b[0m(2)\u001b[0;36mclean_address\u001b[1;34m()\u001b[0m\n",
      "\u001b[1;32m      1 \u001b[1;33m\u001b[1;32mdef\u001b[0m \u001b[0mclean_address\u001b[0m\u001b[1;33m(\u001b[0m\u001b[0mraw\u001b[0m\u001b[1;33m)\u001b[0m\u001b[1;33m:\u001b[0m\u001b[1;33m\u001b[0m\u001b[1;33m\u001b[0m\u001b[0m\n",
      "\u001b[0m\u001b[1;32m----> 2 \u001b[1;33m    \u001b[0mmatch\u001b[0m \u001b[1;33m=\u001b[0m \u001b[0mre\u001b[0m\u001b[1;33m.\u001b[0m\u001b[0msearch\u001b[0m\u001b[1;33m(\u001b[0m\u001b[1;34m'<(.+)>'\u001b[0m\u001b[1;33m,\u001b[0m \u001b[0mraw\u001b[0m\u001b[1;33m)\u001b[0m\u001b[1;33m\u001b[0m\u001b[1;33m\u001b[0m\u001b[0m\n",
      "\u001b[0m\u001b[1;32m      3 \u001b[1;33m\u001b[1;33m\u001b[0m\u001b[0m\n",
      "\u001b[0m\u001b[1;32m      4 \u001b[1;33m    \u001b[1;32mif\u001b[0m \u001b[0mmatch\u001b[0m \u001b[1;32mis\u001b[0m \u001b[1;32mNone\u001b[0m\u001b[1;33m:\u001b[0m\u001b[1;33m\u001b[0m\u001b[1;33m\u001b[0m\u001b[0m\n",
      "\u001b[0m\u001b[1;32m      5 \u001b[1;33m        \u001b[1;32mreturn\u001b[0m \u001b[0mraw\u001b[0m\u001b[1;33m\u001b[0m\u001b[1;33m\u001b[0m\u001b[0m\n",
      "\u001b[0m\n",
      "ipdb> print(raw)\n",
      "nan\n",
      "ipdb> quit\n"
     ]
    }
   ],
   "source": [
    "%debug"
   ]
  },
  {
   "cell_type": "code",
   "execution_count": 30,
   "metadata": {},
   "outputs": [],
   "source": [
    "messages['to'] = messages['to'].dropna().apply(clean_address)"
   ]
  },
  {
   "cell_type": "code",
   "execution_count": 33,
   "metadata": {},
   "outputs": [],
   "source": [
    "messages['from'] = messages['from'].dropna().apply(clean_address)"
   ]
  },
  {
   "cell_type": "code",
   "execution_count": 34,
   "metadata": {},
   "outputs": [
    {
     "data": {
      "text/html": [
       "<div>\n",
       "<style scoped>\n",
       "    .dataframe tbody tr th:only-of-type {\n",
       "        vertical-align: middle;\n",
       "    }\n",
       "\n",
       "    .dataframe tbody tr th {\n",
       "        vertical-align: top;\n",
       "    }\n",
       "\n",
       "    .dataframe thead th {\n",
       "        text-align: right;\n",
       "    }\n",
       "</style>\n",
       "<table border=\"1\" class=\"dataframe\">\n",
       "  <thead>\n",
       "    <tr style=\"text-align: right;\">\n",
       "      <th></th>\n",
       "      <th>subject</th>\n",
       "      <th>from</th>\n",
       "      <th>to</th>\n",
       "      <th>date</th>\n",
       "    </tr>\n",
       "  </thead>\n",
       "  <tbody>\n",
       "    <tr>\n",
       "      <th>0</th>\n",
       "      <td>Re: Reference # 190732569</td>\n",
       "      <td>alireza.talebizadeh@gmail.com</td>\n",
       "      <td>VWExperience@vw.com</td>\n",
       "      <td>Thu, 7 Nov 2019 15:20:35 -0600</td>\n",
       "    </tr>\n",
       "    <tr>\n",
       "      <th>1</th>\n",
       "      <td>Reference # 190732569</td>\n",
       "      <td>VWExperience@vw.com</td>\n",
       "      <td>alireza.talebizadeh@gmail.com</td>\n",
       "      <td>Fri, 1 Nov 2019 21:28:46 +0000</td>\n",
       "    </tr>\n",
       "    <tr>\n",
       "      <th>2</th>\n",
       "      <td>Re: Amazon Returns Policy Notice</td>\n",
       "      <td>alireza.talebizadeh@gmail.com</td>\n",
       "      <td>ofm@amazon.com</td>\n",
       "      <td>Thu, 21 Nov 2019 12:07:42 -0600</td>\n",
       "    </tr>\n",
       "    <tr>\n",
       "      <th>3</th>\n",
       "      <td>Amazon Returns Policy Notice</td>\n",
       "      <td>ofm@amazon.com</td>\n",
       "      <td>alireza.talebizadeh@gmail.com</td>\n",
       "      <td>Thu, 21 Nov 2019 05:32:29 +0000</td>\n",
       "    </tr>\n",
       "    <tr>\n",
       "      <th>4</th>\n",
       "      <td>Resume Programming</td>\n",
       "      <td>alireza.talebizadeh@gmail.com</td>\n",
       "      <td>atalebizadeh@icloud.com</td>\n",
       "      <td>Mon, 18 Feb 2019 00:11:37 -0600</td>\n",
       "    </tr>\n",
       "  </tbody>\n",
       "</table>\n",
       "</div>"
      ],
      "text/plain": [
       "                            subject                           from  \\\n",
       "0         Re: Reference # 190732569  alireza.talebizadeh@gmail.com   \n",
       "1            Reference # 190732569             VWExperience@vw.com   \n",
       "2  Re: Amazon Returns Policy Notice  alireza.talebizadeh@gmail.com   \n",
       "3      Amazon Returns Policy Notice                 ofm@amazon.com   \n",
       "4               Resume Programming   alireza.talebizadeh@gmail.com   \n",
       "\n",
       "                              to                             date  \n",
       "0            VWExperience@vw.com   Thu, 7 Nov 2019 15:20:35 -0600  \n",
       "1  alireza.talebizadeh@gmail.com   Fri, 1 Nov 2019 21:28:46 +0000  \n",
       "2                 ofm@amazon.com  Thu, 21 Nov 2019 12:07:42 -0600  \n",
       "3  alireza.talebizadeh@gmail.com  Thu, 21 Nov 2019 05:32:29 +0000  \n",
       "4        atalebizadeh@icloud.com  Mon, 18 Feb 2019 00:11:37 -0600  "
      ]
     },
     "execution_count": 34,
     "metadata": {},
     "output_type": "execute_result"
    }
   ],
   "source": [
    "messages.head()"
   ]
  },
  {
   "cell_type": "code",
   "execution_count": 35,
   "metadata": {},
   "outputs": [
    {
     "data": {
      "text/plain": [
       "'Thu, 7 Nov 2019 15:20:35 -0600'"
      ]
     },
     "execution_count": 35,
     "metadata": {},
     "output_type": "execute_result"
    }
   ],
   "source": [
    "messages['date'][0]"
   ]
  },
  {
   "cell_type": "code",
   "execution_count": 39,
   "metadata": {
    "scrolled": true
   },
   "outputs": [
    {
     "data": {
      "text/plain": [
       "Timestamp('2019-11-07 15:20:35-0600', tz='America/Chicago')"
      ]
     },
     "execution_count": 39,
     "metadata": {},
     "output_type": "execute_result"
    }
   ],
   "source": [
    "pd.to_datetime(messages['date'][0]).tz_convert('America/Chicago')"
   ]
  },
  {
   "cell_type": "code",
   "execution_count": 40,
   "metadata": {},
   "outputs": [],
   "source": [
    "messages['date'] = messages['date'].apply(lambda s: pd.to_datetime(s).tz_convert('America/Chicago'))"
   ]
  },
  {
   "cell_type": "code",
   "execution_count": 41,
   "metadata": {
    "scrolled": true
   },
   "outputs": [
    {
     "data": {
      "text/plain": [
       "0      2019-11-07 15:20:35-06:00\n",
       "1      2019-11-01 16:28:46-05:00\n",
       "2      2019-11-21 12:07:42-06:00\n",
       "3      2019-11-20 23:32:29-06:00\n",
       "4      2019-02-18 00:11:37-06:00\n",
       "5      2019-08-07 07:28:12-05:00\n",
       "6      2019-08-06 15:24:00-05:00\n",
       "7      2019-08-06 12:38:54-05:00\n",
       "8      2019-08-06 12:36:00-05:00\n",
       "9      2019-08-05 11:30:25-05:00\n",
       "10     2019-03-12 11:48:33-05:00\n",
       "11     2019-03-12 10:38:18-05:00\n",
       "12     2019-03-12 10:24:29-05:00\n",
       "13     2019-03-12 10:19:13-05:00\n",
       "14     2019-03-12 10:07:14-05:00\n",
       "15     2019-11-06 20:31:40-06:00\n",
       "16     2019-11-06 16:00:00-06:00\n",
       "17     2019-11-06 07:35:23-06:00\n",
       "18     2019-11-06 07:32:39-06:00\n",
       "19     2019-11-05 15:47:53-06:00\n",
       "20     2019-10-31 13:31:39-05:00\n",
       "21     2019-10-31 13:10:35-05:00\n",
       "22     2019-10-31 13:07:04-05:00\n",
       "23     2019-10-31 13:05:13-05:00\n",
       "24     2019-10-31 13:02:18-05:00\n",
       "25     2019-10-31 13:00:04-05:00\n",
       "26     2019-10-31 10:23:04-05:00\n",
       "27     2017-12-29 21:34:08-06:00\n",
       "28     2017-12-29 21:14:51-06:00\n",
       "29     2017-12-29 18:28:40-06:00\n",
       "                  ...           \n",
       "2693   2016-01-19 10:03:38-06:00\n",
       "2694   2016-01-15 08:02:55-06:00\n",
       "2695   2016-01-14 08:11:47-06:00\n",
       "2696   2016-01-14 08:10:36-06:00\n",
       "2697   2016-01-14 08:07:29-06:00\n",
       "2698   2016-01-12 12:31:56-06:00\n",
       "2699   2012-11-17 08:15:03-06:00\n",
       "2700   2012-11-17 03:40:24-06:00\n",
       "2701   2015-12-22 15:01:50-06:00\n",
       "2702   2017-05-28 12:56:50-05:00\n",
       "2703   2017-02-23 09:26:45-06:00\n",
       "2704   2017-02-20 20:12:03-06:00\n",
       "2705   2017-02-20 19:35:54-06:00\n",
       "2706   2017-02-20 16:45:34-06:00\n",
       "2707   2017-02-20 15:33:44-06:00\n",
       "2708   2017-02-20 13:51:51-06:00\n",
       "2709   2017-02-20 12:00:06-06:00\n",
       "2710   2017-02-19 20:03:52-06:00\n",
       "2711   2017-02-19 11:25:24-06:00\n",
       "2712   2017-02-19 11:16:03-06:00\n",
       "2713   2017-02-19 11:07:00-06:00\n",
       "2714   2017-02-19 10:07:33-06:00\n",
       "2715   2017-03-15 11:34:13-05:00\n",
       "2716   2017-03-15 01:04:36-05:00\n",
       "2717   2014-09-09 18:34:00-05:00\n",
       "2718   2014-09-09 18:25:46-05:00\n",
       "2719   2014-09-09 18:18:45-05:00\n",
       "2720   2014-09-09 18:16:52-05:00\n",
       "2721   2016-02-22 21:51:21-06:00\n",
       "2722   2016-02-22 21:45:35-06:00\n",
       "Name: date, Length: 2723, dtype: datetime64[ns, America/Chicago]"
      ]
     },
     "execution_count": 41,
     "metadata": {},
     "output_type": "execute_result"
    }
   ],
   "source": [
    "messages['date']"
   ]
  },
  {
   "cell_type": "code",
   "execution_count": 42,
   "metadata": {},
   "outputs": [
    {
     "data": {
      "text/plain": [
       "(Timestamp('2012-02-12 21:58:15-0600', tz='America/Chicago'),\n",
       " Timestamp('2019-12-20 23:03:14-0600', tz='America/Chicago'))"
      ]
     },
     "execution_count": 42,
     "metadata": {},
     "output_type": "execute_result"
    }
   ],
   "source": [
    "messages['date'].min(), messages['date'].max()"
   ]
  },
  {
   "cell_type": "markdown",
   "metadata": {},
   "source": [
    "### Let's break the date object a part"
   ]
  },
  {
   "cell_type": "code",
   "execution_count": 43,
   "metadata": {},
   "outputs": [
    {
     "data": {
      "text/plain": [
       "0     Thursday\n",
       "1       Friday\n",
       "2     Thursday\n",
       "3    Wednesday\n",
       "4       Monday\n",
       "Name: date, dtype: object"
      ]
     },
     "execution_count": 43,
     "metadata": {},
     "output_type": "execute_result"
    }
   ],
   "source": [
    "messages['date'].dt.weekday_name.head()"
   ]
  },
  {
   "cell_type": "code",
   "execution_count": 47,
   "metadata": {},
   "outputs": [],
   "source": [
    "messages['dayofweek'] = pd.Categorical(messages['date'].dt.weekday_name,\n",
    "                                      ordered=True, categories=['Monday', 'Tuesday', 'Wednesday', 'Thursday', 'Friday', 'Saturday', 'Sunday'])"
   ]
  },
  {
   "cell_type": "code",
   "execution_count": 48,
   "metadata": {
    "scrolled": true
   },
   "outputs": [
    {
     "data": {
      "text/plain": [
       "0        Thursday\n",
       "1          Friday\n",
       "2        Thursday\n",
       "3       Wednesday\n",
       "4          Monday\n",
       "5       Wednesday\n",
       "6         Tuesday\n",
       "7         Tuesday\n",
       "8         Tuesday\n",
       "9          Monday\n",
       "10        Tuesday\n",
       "11        Tuesday\n",
       "12        Tuesday\n",
       "13        Tuesday\n",
       "14        Tuesday\n",
       "15      Wednesday\n",
       "16      Wednesday\n",
       "17      Wednesday\n",
       "18      Wednesday\n",
       "19        Tuesday\n",
       "20       Thursday\n",
       "21       Thursday\n",
       "22       Thursday\n",
       "23       Thursday\n",
       "24       Thursday\n",
       "25       Thursday\n",
       "26       Thursday\n",
       "27         Friday\n",
       "28         Friday\n",
       "29         Friday\n",
       "          ...    \n",
       "2693      Tuesday\n",
       "2694       Friday\n",
       "2695     Thursday\n",
       "2696     Thursday\n",
       "2697     Thursday\n",
       "2698      Tuesday\n",
       "2699     Saturday\n",
       "2700     Saturday\n",
       "2701      Tuesday\n",
       "2702       Sunday\n",
       "2703     Thursday\n",
       "2704       Monday\n",
       "2705       Monday\n",
       "2706       Monday\n",
       "2707       Monday\n",
       "2708       Monday\n",
       "2709       Monday\n",
       "2710       Sunday\n",
       "2711       Sunday\n",
       "2712       Sunday\n",
       "2713       Sunday\n",
       "2714       Sunday\n",
       "2715    Wednesday\n",
       "2716    Wednesday\n",
       "2717      Tuesday\n",
       "2718      Tuesday\n",
       "2719      Tuesday\n",
       "2720      Tuesday\n",
       "2721       Monday\n",
       "2722       Monday\n",
       "Name: dayofweek, Length: 2723, dtype: category\n",
       "Categories (7, object): [Monday < Tuesday < Wednesday < Thursday < Friday < Saturday < Sunday]"
      ]
     },
     "execution_count": 48,
     "metadata": {},
     "output_type": "execute_result"
    }
   ],
   "source": [
    "messages['dayofweek']"
   ]
  },
  {
   "cell_type": "code",
   "execution_count": 53,
   "metadata": {},
   "outputs": [],
   "source": [
    "messages['timeofday'] = messages['date'].dt.hour + messages['date'].dt.minute / 60"
   ]
  },
  {
   "cell_type": "code",
   "execution_count": 54,
   "metadata": {
    "scrolled": true
   },
   "outputs": [
    {
     "data": {
      "text/plain": [
       "0       15.333333\n",
       "1       16.466667\n",
       "2       12.116667\n",
       "3       23.533333\n",
       "4        0.183333\n",
       "5        7.466667\n",
       "6       15.400000\n",
       "7       12.633333\n",
       "8       12.600000\n",
       "9       11.500000\n",
       "10      11.800000\n",
       "11      10.633333\n",
       "12      10.400000\n",
       "13      10.316667\n",
       "14      10.116667\n",
       "15      20.516667\n",
       "16      16.000000\n",
       "17       7.583333\n",
       "18       7.533333\n",
       "19      15.783333\n",
       "20      13.516667\n",
       "21      13.166667\n",
       "22      13.116667\n",
       "23      13.083333\n",
       "24      13.033333\n",
       "25      13.000000\n",
       "26      10.383333\n",
       "27      21.566667\n",
       "28      21.233333\n",
       "29      18.466667\n",
       "          ...    \n",
       "2693    10.050000\n",
       "2694     8.033333\n",
       "2695     8.183333\n",
       "2696     8.166667\n",
       "2697     8.116667\n",
       "2698    12.516667\n",
       "2699     8.250000\n",
       "2700     3.666667\n",
       "2701    15.016667\n",
       "2702    12.933333\n",
       "2703     9.433333\n",
       "2704    20.200000\n",
       "2705    19.583333\n",
       "2706    16.750000\n",
       "2707    15.550000\n",
       "2708    13.850000\n",
       "2709    12.000000\n",
       "2710    20.050000\n",
       "2711    11.416667\n",
       "2712    11.266667\n",
       "2713    11.116667\n",
       "2714    10.116667\n",
       "2715    11.566667\n",
       "2716     1.066667\n",
       "2717    18.566667\n",
       "2718    18.416667\n",
       "2719    18.300000\n",
       "2720    18.266667\n",
       "2721    21.850000\n",
       "2722    21.750000\n",
       "Name: timeofday, Length: 2723, dtype: float64"
      ]
     },
     "execution_count": 54,
     "metadata": {},
     "output_type": "execute_result"
    }
   ],
   "source": [
    "messages['timeofday']"
   ]
  },
  {
   "cell_type": "code",
   "execution_count": 74,
   "metadata": {},
   "outputs": [],
   "source": [
    "messages['nyear'] = messages['date'].dt.year + messages['date'].dt.dayofyear / 365.25 + messages['timeofday'] / 24 / 365.25"
   ]
  },
  {
   "cell_type": "code",
   "execution_count": 75,
   "metadata": {
    "scrolled": true
   },
   "outputs": [
    {
     "data": {
      "text/plain": [
       "0       2019.853221\n",
       "1       2019.836923\n",
       "2       2019.891184\n",
       "3       2019.889748\n",
       "4       2019.134176\n",
       "5       2019.600441\n",
       "6       2019.598608\n",
       "7       2019.598293\n",
       "8       2019.598289\n",
       "9       2019.595426\n",
       "10      2019.195734\n",
       "11      2019.195600\n",
       "12      2019.195574\n",
       "13      2019.195564\n",
       "14      2019.195541\n",
       "15      2019.851074\n",
       "16      2019.850559\n",
       "17      2019.849599\n",
       "18      2019.849593\n",
       "19      2019.847796\n",
       "20      2019.833849\n",
       "21      2019.833809\n",
       "22      2019.833803\n",
       "23      2019.833799\n",
       "24      2019.833793\n",
       "25      2019.833790\n",
       "26      2019.833491\n",
       "27      2017.996300\n",
       "28      2017.996262\n",
       "29      2017.995946\n",
       "           ...     \n",
       "2693    2016.053166\n",
       "2694    2016.041984\n",
       "2695    2016.039263\n",
       "2696    2016.039262\n",
       "2697    2016.039256\n",
       "2698    2016.034282\n",
       "2699    2012.882529\n",
       "2700    2012.882006\n",
       "2701    2015.976388\n",
       "2702    2017.406677\n",
       "2703    2017.148920\n",
       "2704    2017.141935\n",
       "2705    2017.141864\n",
       "2706    2017.141541\n",
       "2707    2017.141404\n",
       "2708    2017.141210\n",
       "2709    2017.140999\n",
       "2710    2017.139180\n",
       "2711    2017.138195\n",
       "2712    2017.138178\n",
       "2713    2017.138161\n",
       "2714    2017.138047\n",
       "2715    2017.203920\n",
       "2716    2017.202723\n",
       "2717    2014.692056\n",
       "2718    2014.692039\n",
       "2719    2014.692026\n",
       "2720    2014.692022\n",
       "2721    2016.147599\n",
       "2722    2016.147587\n",
       "Name: nyear, Length: 2723, dtype: float64"
      ]
     },
     "execution_count": 75,
     "metadata": {},
     "output_type": "execute_result"
    }
   ],
   "source": [
    "messages['nyear']"
   ]
  },
  {
   "cell_type": "code",
   "execution_count": 78,
   "metadata": {},
   "outputs": [
    {
     "data": {
      "text/plain": [
       "<matplotlib.axes._subplots.AxesSubplot at 0x243ba7879b0>"
      ]
     },
     "execution_count": 78,
     "metadata": {},
     "output_type": "execute_result"
    },
    {
     "data": {
      "image/png": "[encoded data removed]",
      "text/plain": [
       "<Figure size 432x288 with 1 Axes>"
      ]
     },
     "metadata": {
      "needs_background": "light"
     },
     "output_type": "display_data"
    }
   ],
   "source": [
    "messages.plot.scatter('nyear', 'timeofday', s=3)"
   ]
  },
  {
   "cell_type": "code",
   "execution_count": 79,
   "metadata": {},
   "outputs": [
    {
     "data": {
      "text/plain": [
       "<matplotlib.axes._subplots.AxesSubplot at 0x243ba3eb048>"
      ]
     },
     "execution_count": 79,
     "metadata": {},
     "output_type": "execute_result"
    },
    {
     "data": {
      "image/png": "[encoded data removed]",
      "text/plain": [
       "<Figure size 432x288 with 1 Axes>"
      ]
     },
     "metadata": {
      "needs_background": "light"
     },
     "output_type": "display_data"
    }
   ],
   "source": [
    "messages['nyear'].hist()"
   ]
  },
  {
   "cell_type": "code",
   "execution_count": 80,
   "metadata": {},
   "outputs": [
    {
     "data": {
      "text/plain": [
       "<matplotlib.axes._subplots.AxesSubplot at 0x243ba382588>"
      ]
     },
     "execution_count": 80,
     "metadata": {},
     "output_type": "execute_result"
    },
    {
     "data": {
      "image/png": "[encoded data removed]",
      "text/plain": [
       "<Figure size 432x288 with 1 Axes>"
      ]
     },
     "metadata": {
      "needs_background": "light"
     },
     "output_type": "display_data"
    }
   ],
   "source": [
    "messages['timeofday'].hist()"
   ]
  },
  {
   "cell_type": "code",
   "execution_count": 81,
   "metadata": {},
   "outputs": [
    {
     "data": {
      "text/plain": [
       "Monday       569\n",
       "Tuesday      519\n",
       "Wednesday    461\n",
       "Thursday     445\n",
       "Friday       368\n",
       "Saturday     189\n",
       "Sunday       172\n",
       "Name: dayofweek, dtype: int64"
      ]
     },
     "execution_count": 81,
     "metadata": {},
     "output_type": "execute_result"
    }
   ],
   "source": [
    "messages['dayofweek'].value_counts()"
   ]
  },
  {
   "cell_type": "code",
   "execution_count": 82,
   "metadata": {},
   "outputs": [
    {
     "data": {
      "text/plain": [
       "<matplotlib.axes._subplots.AxesSubplot at 0x243ba3d2b00>"
      ]
     },
     "execution_count": 82,
     "metadata": {},
     "output_type": "execute_result"
    },
    {
     "data": {
      "image/png": "[encoded data removed]",
      "text/plain": [
       "<Figure size 432x288 with 1 Axes>"
      ]
     },
     "metadata": {
      "needs_background": "light"
     },
     "output_type": "display_data"
    }
   ],
   "source": [
    "counts = messages['dayofweek'].value_counts(sort=False)\n",
    "counts.plot(kind='bar')"
   ]
  },
  {
   "cell_type": "code",
   "execution_count": null,
   "metadata": {},
   "outputs": [],
   "source": []
  }
 ],
 "metadata": {
  "kernelspec": {
   "display_name": "Python 3",
   "language": "python",
   "name": "python3"
  },
  "language_info": {
   "codemirror_mode": {
    "name": "ipython",
    "version": 3
   },
   "file_extension": ".py",
   "mimetype": "text/x-python",
   "name": "python",
   "nbconvert_exporter": "python",
   "pygments_lexer": "ipython3",
   "version": "3.7.3"
  },
  "toc": {
   "base_numbering": 1,
   "nav_menu": {},
   "number_sections": true,
   "sideBar": true,
   "skip_h1_title": false,
   "title_cell": "Table of Contents",
   "title_sidebar": "Contents",
   "toc_cell": false,
   "toc_position": {},
   "toc_section_display": true,
   "toc_window_display": false
  }
 },
 "nbformat": 4,
 "nbformat_minor": 2
}
