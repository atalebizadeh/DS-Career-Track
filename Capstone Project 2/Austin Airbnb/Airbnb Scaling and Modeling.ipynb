{
 "cells": [
  {
   "cell_type": "code",
   "execution_count": 1,
   "metadata": {},
   "outputs": [],
   "source": [
    "# import libraries\n",
    "\n",
    "from sklearn.model_selection import train_test_split\n",
    "from sklearn.metrics import r2_score, mean_squared_error\n",
    "from sklearn.preprocessing import MinMaxScaler\n",
    "from sklearn.neighbors import KNeighborsRegressor\n",
    "from sklearn.linear_model import LinearRegression\n",
    "from sklearn.svm import SVR\n",
    "from sklearn.ensemble import RandomForestRegressor\n",
    "from sklearn.tree import DecisionTreeRegressor\n",
    "import xgboost as xgb\n",
    "from xgboost.sklearn import XGBRegressor\n",
    "from sklearn.model_selection import GridSearchCV, cross_val_score\n",
    "from scipy.stats import pearsonr\n",
    "from sklearn.metrics import accuracy_score\n",
    "\n",
    "import pandas as pd\n",
    "import numpy as np\n",
    "\n",
    "import time\n",
    "\n",
    "# Pandas warning messages (optional)\n",
    "pd.options.mode.chained_assignment = None  #default='warn'\n",
    "\n",
    "# Plot options\n",
    "import matplotlib.pyplot as plt\n",
    "import seaborn as sns\n",
    "sns.palplot(sns.color_palette('deep'))\n",
    "sns.set_style(\"whitegrid\")\n",
    "%matplotlib inline"
   ]
  },
  {
   "cell_type": "code",
   "execution_count": 2,
   "metadata": {},
   "outputs": [
    {
     "data": {
      "text/html": [
       "<div>\n",
       "<style scoped>\n",
       "    .dataframe tbody tr th:only-of-type {\n",
       "        vertical-align: middle;\n",
       "    }\n",
       "\n",
       "    .dataframe tbody tr th {\n",
       "        vertical-align: top;\n",
       "    }\n",
       "\n",
       "    .dataframe thead th {\n",
       "        text-align: right;\n",
       "    }\n",
       "</style>\n",
       "<table border=\"1\" class=\"dataframe\">\n",
       "  <thead>\n",
       "    <tr style=\"text-align: right;\">\n",
       "      <th></th>\n",
       "      <th>id</th>\n",
       "      <th>price</th>\n",
       "      <th>latitude</th>\n",
       "      <th>longitude</th>\n",
       "      <th>property_type</th>\n",
       "      <th>room_type</th>\n",
       "      <th>accommodates</th>\n",
       "      <th>bathrooms</th>\n",
       "      <th>bedrooms</th>\n",
       "      <th>bed_type</th>\n",
       "      <th>...</th>\n",
       "      <th>is_business_travel_ready</th>\n",
       "      <th>cancellation_policy</th>\n",
       "      <th>host_is_superhost</th>\n",
       "      <th>listing_url</th>\n",
       "      <th>cleaning_fee</th>\n",
       "      <th>security_deposit</th>\n",
       "      <th>extra_people</th>\n",
       "      <th>guests_included</th>\n",
       "      <th>region</th>\n",
       "      <th>price_per_person</th>\n",
       "    </tr>\n",
       "  </thead>\n",
       "  <tbody>\n",
       "    <tr>\n",
       "      <th>0</th>\n",
       "      <td>2265</td>\n",
       "      <td>225.0</td>\n",
       "      <td>30.27750</td>\n",
       "      <td>-97.71398</td>\n",
       "      <td>House</td>\n",
       "      <td>Entire home/apt</td>\n",
       "      <td>4</td>\n",
       "      <td>2.0</td>\n",
       "      <td>2.0</td>\n",
       "      <td>Real Bed</td>\n",
       "      <td>...</td>\n",
       "      <td>f</td>\n",
       "      <td>strict_14_with_grace_period</td>\n",
       "      <td>t</td>\n",
       "      <td>https://www.airbnb.com/rooms/2265</td>\n",
       "      <td>100.0</td>\n",
       "      <td>500.0</td>\n",
       "      <td>30.0</td>\n",
       "      <td>4</td>\n",
       "      <td>East</td>\n",
       "      <td>56.250000</td>\n",
       "    </tr>\n",
       "    <tr>\n",
       "      <th>1</th>\n",
       "      <td>5245</td>\n",
       "      <td>100.0</td>\n",
       "      <td>30.27577</td>\n",
       "      <td>-97.71379</td>\n",
       "      <td>House</td>\n",
       "      <td>Private room</td>\n",
       "      <td>2</td>\n",
       "      <td>1.0</td>\n",
       "      <td>1.0</td>\n",
       "      <td>Real Bed</td>\n",
       "      <td>...</td>\n",
       "      <td>f</td>\n",
       "      <td>strict_14_with_grace_period</td>\n",
       "      <td>t</td>\n",
       "      <td>https://www.airbnb.com/rooms/5245</td>\n",
       "      <td>75.0</td>\n",
       "      <td>500.0</td>\n",
       "      <td>35.0</td>\n",
       "      <td>2</td>\n",
       "      <td>East</td>\n",
       "      <td>50.000000</td>\n",
       "    </tr>\n",
       "    <tr>\n",
       "      <th>2</th>\n",
       "      <td>5456</td>\n",
       "      <td>95.0</td>\n",
       "      <td>30.26112</td>\n",
       "      <td>-97.73448</td>\n",
       "      <td>Guesthouse</td>\n",
       "      <td>Entire home/apt</td>\n",
       "      <td>3</td>\n",
       "      <td>1.0</td>\n",
       "      <td>1.0</td>\n",
       "      <td>Real Bed</td>\n",
       "      <td>...</td>\n",
       "      <td>f</td>\n",
       "      <td>strict_14_with_grace_period</td>\n",
       "      <td>t</td>\n",
       "      <td>https://www.airbnb.com/rooms/5456</td>\n",
       "      <td>0.0</td>\n",
       "      <td>100.0</td>\n",
       "      <td>45.0</td>\n",
       "      <td>2</td>\n",
       "      <td>East</td>\n",
       "      <td>31.666667</td>\n",
       "    </tr>\n",
       "    <tr>\n",
       "      <th>3</th>\n",
       "      <td>5769</td>\n",
       "      <td>40.0</td>\n",
       "      <td>30.45697</td>\n",
       "      <td>-97.78422</td>\n",
       "      <td>House</td>\n",
       "      <td>Private room</td>\n",
       "      <td>2</td>\n",
       "      <td>1.0</td>\n",
       "      <td>1.0</td>\n",
       "      <td>Real Bed</td>\n",
       "      <td>...</td>\n",
       "      <td>f</td>\n",
       "      <td>moderate</td>\n",
       "      <td>t</td>\n",
       "      <td>https://www.airbnb.com/rooms/5769</td>\n",
       "      <td>0.0</td>\n",
       "      <td>0.0</td>\n",
       "      <td>0.0</td>\n",
       "      <td>2</td>\n",
       "      <td>North</td>\n",
       "      <td>20.000000</td>\n",
       "    </tr>\n",
       "    <tr>\n",
       "      <th>4</th>\n",
       "      <td>6413</td>\n",
       "      <td>99.0</td>\n",
       "      <td>30.24829</td>\n",
       "      <td>-97.73726</td>\n",
       "      <td>Guesthouse</td>\n",
       "      <td>Entire home/apt</td>\n",
       "      <td>2</td>\n",
       "      <td>1.0</td>\n",
       "      <td>1.0</td>\n",
       "      <td>Real Bed</td>\n",
       "      <td>...</td>\n",
       "      <td>f</td>\n",
       "      <td>strict_14_with_grace_period</td>\n",
       "      <td>t</td>\n",
       "      <td>https://www.airbnb.com/rooms/6413</td>\n",
       "      <td>50.0</td>\n",
       "      <td>0.0</td>\n",
       "      <td>25.0</td>\n",
       "      <td>2</td>\n",
       "      <td>South</td>\n",
       "      <td>49.500000</td>\n",
       "    </tr>\n",
       "  </tbody>\n",
       "</table>\n",
       "<p>5 rows × 26 columns</p>\n",
       "</div>"
      ],
      "text/plain": [
       "     id  price  latitude  longitude property_type        room_type  \\\n",
       "0  2265  225.0  30.27750  -97.71398         House  Entire home/apt   \n",
       "1  5245  100.0  30.27577  -97.71379         House     Private room   \n",
       "2  5456   95.0  30.26112  -97.73448    Guesthouse  Entire home/apt   \n",
       "3  5769   40.0  30.45697  -97.78422         House     Private room   \n",
       "4  6413   99.0  30.24829  -97.73726    Guesthouse  Entire home/apt   \n",
       "\n",
       "   accommodates  bathrooms  bedrooms  bed_type  ... is_business_travel_ready  \\\n",
       "0             4        2.0       2.0  Real Bed  ...                        f   \n",
       "1             2        1.0       1.0  Real Bed  ...                        f   \n",
       "2             3        1.0       1.0  Real Bed  ...                        f   \n",
       "3             2        1.0       1.0  Real Bed  ...                        f   \n",
       "4             2        1.0       1.0  Real Bed  ...                        f   \n",
       "\n",
       "           cancellation_policy  host_is_superhost  \\\n",
       "0  strict_14_with_grace_period                  t   \n",
       "1  strict_14_with_grace_period                  t   \n",
       "2  strict_14_with_grace_period                  t   \n",
       "3                     moderate                  t   \n",
       "4  strict_14_with_grace_period                  t   \n",
       "\n",
       "                         listing_url  cleaning_fee security_deposit  \\\n",
       "0  https://www.airbnb.com/rooms/2265         100.0            500.0   \n",
       "1  https://www.airbnb.com/rooms/5245          75.0            500.0   \n",
       "2  https://www.airbnb.com/rooms/5456           0.0            100.0   \n",
       "3  https://www.airbnb.com/rooms/5769           0.0              0.0   \n",
       "4  https://www.airbnb.com/rooms/6413          50.0              0.0   \n",
       "\n",
       "  extra_people guests_included region price_per_person  \n",
       "0         30.0               4   East        56.250000  \n",
       "1         35.0               2   East        50.000000  \n",
       "2         45.0               2   East        31.666667  \n",
       "3          0.0               2  North        20.000000  \n",
       "4         25.0               2  South        49.500000  \n",
       "\n",
       "[5 rows x 26 columns]"
      ]
     },
     "execution_count": 2,
     "metadata": {},
     "output_type": "execute_result"
    }
   ],
   "source": [
    "df_cleaned = pd.read_csv('data/listings_cleaned.csv', low_memory=False)\n",
    "df_cleaned.head()"
   ]
  },
  {
   "cell_type": "code",
   "execution_count": 3,
   "metadata": {},
   "outputs": [
    {
     "data": {
      "text/html": [
       "<div>\n",
       "<style scoped>\n",
       "    .dataframe tbody tr th:only-of-type {\n",
       "        vertical-align: middle;\n",
       "    }\n",
       "\n",
       "    .dataframe tbody tr th {\n",
       "        vertical-align: top;\n",
       "    }\n",
       "\n",
       "    .dataframe thead th {\n",
       "        text-align: right;\n",
       "    }\n",
       "</style>\n",
       "<table border=\"1\" class=\"dataframe\">\n",
       "  <thead>\n",
       "    <tr style=\"text-align: right;\">\n",
       "      <th></th>\n",
       "      <th>price</th>\n",
       "    </tr>\n",
       "  </thead>\n",
       "  <tbody>\n",
       "    <tr>\n",
       "      <th>count</th>\n",
       "      <td>11026.000000</td>\n",
       "    </tr>\n",
       "    <tr>\n",
       "      <th>mean</th>\n",
       "      <td>197.029657</td>\n",
       "    </tr>\n",
       "    <tr>\n",
       "      <th>std</th>\n",
       "      <td>178.504356</td>\n",
       "    </tr>\n",
       "    <tr>\n",
       "      <th>min</th>\n",
       "      <td>16.000000</td>\n",
       "    </tr>\n",
       "    <tr>\n",
       "      <th>25%</th>\n",
       "      <td>80.000000</td>\n",
       "    </tr>\n",
       "    <tr>\n",
       "      <th>50%</th>\n",
       "      <td>129.000000</td>\n",
       "    </tr>\n",
       "    <tr>\n",
       "      <th>75%</th>\n",
       "      <td>250.000000</td>\n",
       "    </tr>\n",
       "    <tr>\n",
       "      <th>max</th>\n",
       "      <td>990.000000</td>\n",
       "    </tr>\n",
       "  </tbody>\n",
       "</table>\n",
       "</div>"
      ],
      "text/plain": [
       "              price\n",
       "count  11026.000000\n",
       "mean     197.029657\n",
       "std      178.504356\n",
       "min       16.000000\n",
       "25%       80.000000\n",
       "50%      129.000000\n",
       "75%      250.000000\n",
       "max      990.000000"
      ]
     },
     "execution_count": 3,
     "metadata": {},
     "output_type": "execute_result"
    }
   ],
   "source": [
    "features_list = ['property_type', 'room_type', 'bathrooms', 'bedrooms', 'host_is_superhost',  'region', 'accommodates',\n",
    "                 'review_scores_rating', 'number_of_reviews', 'extra_people', 'security_deposit', 'cleaning_fee']\n",
    "                #, ]\n",
    "\n",
    "# Create features and price DFs for sklearn inputs\n",
    "df_cleaned = df_cleaned[df_cleaned.price < df_cleaned.price.quantile(.95)]\n",
    "features = df_cleaned[features_list]   # 'X'\n",
    "y = df_cleaned[['price']]           # 'y'\n",
    "y.describe()"
   ]
  },
  {
   "cell_type": "code",
   "execution_count": 4,
   "metadata": {},
   "outputs": [
    {
     "name": "stdout",
     "output_type": "stream",
     "text": [
      "      price\n",
      "0  5.416100\n",
      "1  4.605170\n",
      "2  4.553877\n",
      "3  3.688879\n",
      "4  4.595120    price\n",
      "0  225.0\n",
      "1  100.0\n",
      "2   95.0\n",
      "3   40.0\n",
      "4   99.0\n"
     ]
    },
    {
     "data": {
      "text/html": [
       "<div>\n",
       "<style scoped>\n",
       "    .dataframe tbody tr th:only-of-type {\n",
       "        vertical-align: middle;\n",
       "    }\n",
       "\n",
       "    .dataframe tbody tr th {\n",
       "        vertical-align: top;\n",
       "    }\n",
       "\n",
       "    .dataframe thead th {\n",
       "        text-align: right;\n",
       "    }\n",
       "</style>\n",
       "<table border=\"1\" class=\"dataframe\">\n",
       "  <thead>\n",
       "    <tr style=\"text-align: right;\">\n",
       "      <th></th>\n",
       "      <th>price</th>\n",
       "    </tr>\n",
       "  </thead>\n",
       "  <tbody>\n",
       "    <tr>\n",
       "      <th>count</th>\n",
       "      <td>11026.000000</td>\n",
       "    </tr>\n",
       "    <tr>\n",
       "      <th>mean</th>\n",
       "      <td>4.941971</td>\n",
       "    </tr>\n",
       "    <tr>\n",
       "      <th>std</th>\n",
       "      <td>0.824734</td>\n",
       "    </tr>\n",
       "    <tr>\n",
       "      <th>min</th>\n",
       "      <td>2.772589</td>\n",
       "    </tr>\n",
       "    <tr>\n",
       "      <th>25%</th>\n",
       "      <td>4.382027</td>\n",
       "    </tr>\n",
       "    <tr>\n",
       "      <th>50%</th>\n",
       "      <td>4.859812</td>\n",
       "    </tr>\n",
       "    <tr>\n",
       "      <th>75%</th>\n",
       "      <td>5.521461</td>\n",
       "    </tr>\n",
       "    <tr>\n",
       "      <th>max</th>\n",
       "      <td>6.897705</td>\n",
       "    </tr>\n",
       "  </tbody>\n",
       "</table>\n",
       "</div>"
      ],
      "text/plain": [
       "              price\n",
       "count  11026.000000\n",
       "mean       4.941971\n",
       "std        0.824734\n",
       "min        2.772589\n",
       "25%        4.382027\n",
       "50%        4.859812\n",
       "75%        5.521461\n",
       "max        6.897705"
      ]
     },
     "execution_count": 4,
     "metadata": {},
     "output_type": "execute_result"
    }
   ],
   "source": [
    "log_y = np.log(y)\n",
    "print(log_y.head(), y.head())\n",
    "log_y.describe()"
   ]
  },
  {
   "cell_type": "code",
   "execution_count": 5,
   "metadata": {
    "scrolled": true
   },
   "outputs": [
    {
     "data": {
      "text/plain": [
       "array([[<matplotlib.axes._subplots.AxesSubplot object at 0x0000015D62D72D08>]],\n",
       "      dtype=object)"
      ]
     },
     "execution_count": 5,
     "metadata": {},
     "output_type": "execute_result"
    },
    {
     "data": {
      "image/png": "[encoded data removed]",
      "text/plain": [
       "<Figure size 432x288 with 1 Axes>"
      ]
     },
     "metadata": {
      "needs_background": "light"
     },
     "output_type": "display_data"
    }
   ],
   "source": [
    "y.hist()"
   ]
  },
  {
   "cell_type": "code",
   "execution_count": 6,
   "metadata": {},
   "outputs": [
    {
     "data": {
      "text/plain": [
       "array([[<matplotlib.axes._subplots.AxesSubplot object at 0x0000015D62E1AD08>]],\n",
       "      dtype=object)"
      ]
     },
     "execution_count": 6,
     "metadata": {},
     "output_type": "execute_result"
    },
    {
     "data": {
      "image/png": "[encoded data removed]",
      "text/plain": [
       "<Figure size 432x288 with 1 Axes>"
      ]
     },
     "metadata": {
      "needs_background": "light"
     },
     "output_type": "display_data"
    }
   ],
   "source": [
    "log_y.hist()"
   ]
  },
  {
   "cell_type": "code",
   "execution_count": 7,
   "metadata": {},
   "outputs": [
    {
     "data": {
      "text/html": [
       "<div>\n",
       "<style scoped>\n",
       "    .dataframe tbody tr th:only-of-type {\n",
       "        vertical-align: middle;\n",
       "    }\n",
       "\n",
       "    .dataframe tbody tr th {\n",
       "        vertical-align: top;\n",
       "    }\n",
       "\n",
       "    .dataframe thead th {\n",
       "        text-align: right;\n",
       "    }\n",
       "</style>\n",
       "<table border=\"1\" class=\"dataframe\">\n",
       "  <thead>\n",
       "    <tr style=\"text-align: right;\">\n",
       "      <th></th>\n",
       "      <th>bathrooms</th>\n",
       "      <th>bedrooms</th>\n",
       "      <th>accommodates</th>\n",
       "      <th>review_scores_rating</th>\n",
       "      <th>number_of_reviews</th>\n",
       "      <th>extra_people</th>\n",
       "      <th>security_deposit</th>\n",
       "      <th>cleaning_fee</th>\n",
       "      <th>property_type_Bungalow</th>\n",
       "      <th>property_type_Condominium</th>\n",
       "      <th>...</th>\n",
       "      <th>property_type_Serviced apartment</th>\n",
       "      <th>property_type_Townhouse</th>\n",
       "      <th>room_type_Hotel room</th>\n",
       "      <th>room_type_Private room</th>\n",
       "      <th>room_type_Shared room</th>\n",
       "      <th>host_is_superhost_t</th>\n",
       "      <th>region_East</th>\n",
       "      <th>region_North</th>\n",
       "      <th>region_South</th>\n",
       "      <th>region_West</th>\n",
       "    </tr>\n",
       "  </thead>\n",
       "  <tbody>\n",
       "    <tr>\n",
       "      <th>0</th>\n",
       "      <td>2.0</td>\n",
       "      <td>2.0</td>\n",
       "      <td>4</td>\n",
       "      <td>93.0</td>\n",
       "      <td>24</td>\n",
       "      <td>30.0</td>\n",
       "      <td>500.0</td>\n",
       "      <td>100.0</td>\n",
       "      <td>0</td>\n",
       "      <td>0</td>\n",
       "      <td>...</td>\n",
       "      <td>0</td>\n",
       "      <td>0</td>\n",
       "      <td>0</td>\n",
       "      <td>0</td>\n",
       "      <td>0</td>\n",
       "      <td>1</td>\n",
       "      <td>1</td>\n",
       "      <td>0</td>\n",
       "      <td>0</td>\n",
       "      <td>0</td>\n",
       "    </tr>\n",
       "    <tr>\n",
       "      <th>1</th>\n",
       "      <td>1.0</td>\n",
       "      <td>1.0</td>\n",
       "      <td>2</td>\n",
       "      <td>91.0</td>\n",
       "      <td>9</td>\n",
       "      <td>35.0</td>\n",
       "      <td>500.0</td>\n",
       "      <td>75.0</td>\n",
       "      <td>0</td>\n",
       "      <td>0</td>\n",
       "      <td>...</td>\n",
       "      <td>0</td>\n",
       "      <td>0</td>\n",
       "      <td>0</td>\n",
       "      <td>1</td>\n",
       "      <td>0</td>\n",
       "      <td>1</td>\n",
       "      <td>1</td>\n",
       "      <td>0</td>\n",
       "      <td>0</td>\n",
       "      <td>0</td>\n",
       "    </tr>\n",
       "    <tr>\n",
       "      <th>2</th>\n",
       "      <td>1.0</td>\n",
       "      <td>1.0</td>\n",
       "      <td>3</td>\n",
       "      <td>97.0</td>\n",
       "      <td>529</td>\n",
       "      <td>45.0</td>\n",
       "      <td>100.0</td>\n",
       "      <td>0.0</td>\n",
       "      <td>0</td>\n",
       "      <td>0</td>\n",
       "      <td>...</td>\n",
       "      <td>0</td>\n",
       "      <td>0</td>\n",
       "      <td>0</td>\n",
       "      <td>0</td>\n",
       "      <td>0</td>\n",
       "      <td>1</td>\n",
       "      <td>1</td>\n",
       "      <td>0</td>\n",
       "      <td>0</td>\n",
       "      <td>0</td>\n",
       "    </tr>\n",
       "    <tr>\n",
       "      <th>3</th>\n",
       "      <td>1.0</td>\n",
       "      <td>1.0</td>\n",
       "      <td>2</td>\n",
       "      <td>98.0</td>\n",
       "      <td>257</td>\n",
       "      <td>0.0</td>\n",
       "      <td>0.0</td>\n",
       "      <td>0.0</td>\n",
       "      <td>0</td>\n",
       "      <td>0</td>\n",
       "      <td>...</td>\n",
       "      <td>0</td>\n",
       "      <td>0</td>\n",
       "      <td>0</td>\n",
       "      <td>1</td>\n",
       "      <td>0</td>\n",
       "      <td>1</td>\n",
       "      <td>0</td>\n",
       "      <td>1</td>\n",
       "      <td>0</td>\n",
       "      <td>0</td>\n",
       "    </tr>\n",
       "    <tr>\n",
       "      <th>4</th>\n",
       "      <td>1.0</td>\n",
       "      <td>1.0</td>\n",
       "      <td>2</td>\n",
       "      <td>99.0</td>\n",
       "      <td>112</td>\n",
       "      <td>25.0</td>\n",
       "      <td>0.0</td>\n",
       "      <td>50.0</td>\n",
       "      <td>0</td>\n",
       "      <td>0</td>\n",
       "      <td>...</td>\n",
       "      <td>0</td>\n",
       "      <td>0</td>\n",
       "      <td>0</td>\n",
       "      <td>0</td>\n",
       "      <td>0</td>\n",
       "      <td>1</td>\n",
       "      <td>0</td>\n",
       "      <td>0</td>\n",
       "      <td>1</td>\n",
       "      <td>0</td>\n",
       "    </tr>\n",
       "  </tbody>\n",
       "</table>\n",
       "<p>5 rows × 25 columns</p>\n",
       "</div>"
      ],
      "text/plain": [
       "   bathrooms  bedrooms  accommodates  review_scores_rating  number_of_reviews  \\\n",
       "0        2.0       2.0             4                  93.0                 24   \n",
       "1        1.0       1.0             2                  91.0                  9   \n",
       "2        1.0       1.0             3                  97.0                529   \n",
       "3        1.0       1.0             2                  98.0                257   \n",
       "4        1.0       1.0             2                  99.0                112   \n",
       "\n",
       "   extra_people  security_deposit  cleaning_fee  property_type_Bungalow  \\\n",
       "0          30.0             500.0         100.0                       0   \n",
       "1          35.0             500.0          75.0                       0   \n",
       "2          45.0             100.0           0.0                       0   \n",
       "3           0.0               0.0           0.0                       0   \n",
       "4          25.0               0.0          50.0                       0   \n",
       "\n",
       "   property_type_Condominium  ...  property_type_Serviced apartment  \\\n",
       "0                          0  ...                                 0   \n",
       "1                          0  ...                                 0   \n",
       "2                          0  ...                                 0   \n",
       "3                          0  ...                                 0   \n",
       "4                          0  ...                                 0   \n",
       "\n",
       "   property_type_Townhouse  room_type_Hotel room  room_type_Private room  \\\n",
       "0                        0                     0                       0   \n",
       "1                        0                     0                       1   \n",
       "2                        0                     0                       0   \n",
       "3                        0                     0                       1   \n",
       "4                        0                     0                       0   \n",
       "\n",
       "   room_type_Shared room  host_is_superhost_t  region_East  region_North  \\\n",
       "0                      0                    1            1             0   \n",
       "1                      0                    1            1             0   \n",
       "2                      0                    1            1             0   \n",
       "3                      0                    1            0             1   \n",
       "4                      0                    1            0             0   \n",
       "\n",
       "   region_South  region_West  \n",
       "0             0            0  \n",
       "1             0            0  \n",
       "2             0            0  \n",
       "3             0            0  \n",
       "4             1            0  \n",
       "\n",
       "[5 rows x 25 columns]"
      ]
     },
     "execution_count": 7,
     "metadata": {},
     "output_type": "execute_result"
    }
   ],
   "source": [
    "# Create dummy variables for 'room type', 'superhost' and 'region'\n",
    "features = pd.get_dummies(features, drop_first=True)\n",
    "features.head()"
   ]
  },
  {
   "cell_type": "code",
   "execution_count": 8,
   "metadata": {},
   "outputs": [
    {
     "name": "stdout",
     "output_type": "stream",
     "text": [
      "[9.74470050e-01 2.23776997e-02 3.11327586e-03 3.60542580e-05\n",
      " 2.14059308e-06 7.79394789e-07]\n"
     ]
    }
   ],
   "source": [
    "from sklearn.decomposition import PCA\n",
    "\n",
    "# Set up PCA and the X vector for diminsionality reduction\n",
    "pca = PCA()\n",
    "df_X = features[['bathrooms', 'bedrooms', 'accommodates', 'extra_people', 'security_deposit', 'cleaning_fee']]\n",
    "                #, 'review_scores_rating', 'number_of_reviews']]\n",
    "\n",
    "# Apply PCA to the wine dataset X vector\n",
    "transformed_X = pca.fit_transform(df_X)\n",
    "\n",
    "# Look at the percentage of variance explained by the different components\n",
    "print(pca.explained_variance_ratio_)"
   ]
  },
  {
   "cell_type": "code",
   "execution_count": 9,
   "metadata": {},
   "outputs": [],
   "source": [
    "# Scale the quantitative features\n",
    "# Note: using RobustScaler resulted in similar r2 results\n",
    "scaler = MinMaxScaler()\n",
    "numerical = ['bathrooms', 'bedrooms', 'accommodates', 'extra_people', 'security_deposit', 'cleaning_fee']\n",
    "            #, 'review_scores_rating', 'number_of_reviews']\n",
    "features_scaled = features.copy()\n",
    "features_scaled[numerical] = scaler.fit_transform(features_scaled[numerical])"
   ]
  },
  {
   "cell_type": "code",
   "execution_count": 10,
   "metadata": {
    "scrolled": true
   },
   "outputs": [
    {
     "data": {
      "text/html": [
       "<div>\n",
       "<style scoped>\n",
       "    .dataframe tbody tr th:only-of-type {\n",
       "        vertical-align: middle;\n",
       "    }\n",
       "\n",
       "    .dataframe tbody tr th {\n",
       "        vertical-align: top;\n",
       "    }\n",
       "\n",
       "    .dataframe thead th {\n",
       "        text-align: right;\n",
       "    }\n",
       "</style>\n",
       "<table border=\"1\" class=\"dataframe\">\n",
       "  <thead>\n",
       "    <tr style=\"text-align: right;\">\n",
       "      <th></th>\n",
       "      <th>bathrooms</th>\n",
       "      <th>bedrooms</th>\n",
       "      <th>accommodates</th>\n",
       "      <th>review_scores_rating</th>\n",
       "      <th>number_of_reviews</th>\n",
       "      <th>extra_people</th>\n",
       "      <th>security_deposit</th>\n",
       "      <th>cleaning_fee</th>\n",
       "      <th>property_type_Bungalow</th>\n",
       "      <th>property_type_Condominium</th>\n",
       "      <th>...</th>\n",
       "      <th>property_type_Serviced apartment</th>\n",
       "      <th>property_type_Townhouse</th>\n",
       "      <th>room_type_Hotel room</th>\n",
       "      <th>room_type_Private room</th>\n",
       "      <th>room_type_Shared room</th>\n",
       "      <th>host_is_superhost_t</th>\n",
       "      <th>region_East</th>\n",
       "      <th>region_North</th>\n",
       "      <th>region_South</th>\n",
       "      <th>region_West</th>\n",
       "    </tr>\n",
       "  </thead>\n",
       "  <tbody>\n",
       "    <tr>\n",
       "      <th>0</th>\n",
       "      <td>0.230769</td>\n",
       "      <td>0.125</td>\n",
       "      <td>0.200000</td>\n",
       "      <td>93.0</td>\n",
       "      <td>24</td>\n",
       "      <td>0.100000</td>\n",
       "      <td>0.098039</td>\n",
       "      <td>0.153846</td>\n",
       "      <td>0</td>\n",
       "      <td>0</td>\n",
       "      <td>...</td>\n",
       "      <td>0</td>\n",
       "      <td>0</td>\n",
       "      <td>0</td>\n",
       "      <td>0</td>\n",
       "      <td>0</td>\n",
       "      <td>1</td>\n",
       "      <td>1</td>\n",
       "      <td>0</td>\n",
       "      <td>0</td>\n",
       "      <td>0</td>\n",
       "    </tr>\n",
       "    <tr>\n",
       "      <th>1</th>\n",
       "      <td>0.076923</td>\n",
       "      <td>0.000</td>\n",
       "      <td>0.066667</td>\n",
       "      <td>91.0</td>\n",
       "      <td>9</td>\n",
       "      <td>0.116667</td>\n",
       "      <td>0.098039</td>\n",
       "      <td>0.115385</td>\n",
       "      <td>0</td>\n",
       "      <td>0</td>\n",
       "      <td>...</td>\n",
       "      <td>0</td>\n",
       "      <td>0</td>\n",
       "      <td>0</td>\n",
       "      <td>1</td>\n",
       "      <td>0</td>\n",
       "      <td>1</td>\n",
       "      <td>1</td>\n",
       "      <td>0</td>\n",
       "      <td>0</td>\n",
       "      <td>0</td>\n",
       "    </tr>\n",
       "    <tr>\n",
       "      <th>2</th>\n",
       "      <td>0.076923</td>\n",
       "      <td>0.000</td>\n",
       "      <td>0.133333</td>\n",
       "      <td>97.0</td>\n",
       "      <td>529</td>\n",
       "      <td>0.150000</td>\n",
       "      <td>0.019608</td>\n",
       "      <td>0.000000</td>\n",
       "      <td>0</td>\n",
       "      <td>0</td>\n",
       "      <td>...</td>\n",
       "      <td>0</td>\n",
       "      <td>0</td>\n",
       "      <td>0</td>\n",
       "      <td>0</td>\n",
       "      <td>0</td>\n",
       "      <td>1</td>\n",
       "      <td>1</td>\n",
       "      <td>0</td>\n",
       "      <td>0</td>\n",
       "      <td>0</td>\n",
       "    </tr>\n",
       "    <tr>\n",
       "      <th>3</th>\n",
       "      <td>0.076923</td>\n",
       "      <td>0.000</td>\n",
       "      <td>0.066667</td>\n",
       "      <td>98.0</td>\n",
       "      <td>257</td>\n",
       "      <td>0.000000</td>\n",
       "      <td>0.000000</td>\n",
       "      <td>0.000000</td>\n",
       "      <td>0</td>\n",
       "      <td>0</td>\n",
       "      <td>...</td>\n",
       "      <td>0</td>\n",
       "      <td>0</td>\n",
       "      <td>0</td>\n",
       "      <td>1</td>\n",
       "      <td>0</td>\n",
       "      <td>1</td>\n",
       "      <td>0</td>\n",
       "      <td>1</td>\n",
       "      <td>0</td>\n",
       "      <td>0</td>\n",
       "    </tr>\n",
       "    <tr>\n",
       "      <th>4</th>\n",
       "      <td>0.076923</td>\n",
       "      <td>0.000</td>\n",
       "      <td>0.066667</td>\n",
       "      <td>99.0</td>\n",
       "      <td>112</td>\n",
       "      <td>0.083333</td>\n",
       "      <td>0.000000</td>\n",
       "      <td>0.076923</td>\n",
       "      <td>0</td>\n",
       "      <td>0</td>\n",
       "      <td>...</td>\n",
       "      <td>0</td>\n",
       "      <td>0</td>\n",
       "      <td>0</td>\n",
       "      <td>0</td>\n",
       "      <td>0</td>\n",
       "      <td>1</td>\n",
       "      <td>0</td>\n",
       "      <td>0</td>\n",
       "      <td>1</td>\n",
       "      <td>0</td>\n",
       "    </tr>\n",
       "  </tbody>\n",
       "</table>\n",
       "<p>5 rows × 25 columns</p>\n",
       "</div>"
      ],
      "text/plain": [
       "   bathrooms  bedrooms  accommodates  review_scores_rating  number_of_reviews  \\\n",
       "0   0.230769     0.125      0.200000                  93.0                 24   \n",
       "1   0.076923     0.000      0.066667                  91.0                  9   \n",
       "2   0.076923     0.000      0.133333                  97.0                529   \n",
       "3   0.076923     0.000      0.066667                  98.0                257   \n",
       "4   0.076923     0.000      0.066667                  99.0                112   \n",
       "\n",
       "   extra_people  security_deposit  cleaning_fee  property_type_Bungalow  \\\n",
       "0      0.100000          0.098039      0.153846                       0   \n",
       "1      0.116667          0.098039      0.115385                       0   \n",
       "2      0.150000          0.019608      0.000000                       0   \n",
       "3      0.000000          0.000000      0.000000                       0   \n",
       "4      0.083333          0.000000      0.076923                       0   \n",
       "\n",
       "   property_type_Condominium  ...  property_type_Serviced apartment  \\\n",
       "0                          0  ...                                 0   \n",
       "1                          0  ...                                 0   \n",
       "2                          0  ...                                 0   \n",
       "3                          0  ...                                 0   \n",
       "4                          0  ...                                 0   \n",
       "\n",
       "   property_type_Townhouse  room_type_Hotel room  room_type_Private room  \\\n",
       "0                        0                     0                       0   \n",
       "1                        0                     0                       1   \n",
       "2                        0                     0                       0   \n",
       "3                        0                     0                       1   \n",
       "4                        0                     0                       0   \n",
       "\n",
       "   room_type_Shared room  host_is_superhost_t  region_East  region_North  \\\n",
       "0                      0                    1            1             0   \n",
       "1                      0                    1            1             0   \n",
       "2                      0                    1            1             0   \n",
       "3                      0                    1            0             1   \n",
       "4                      0                    1            0             0   \n",
       "\n",
       "   region_South  region_West  \n",
       "0             0            0  \n",
       "1             0            0  \n",
       "2             0            0  \n",
       "3             0            0  \n",
       "4             1            0  \n",
       "\n",
       "[5 rows x 25 columns]"
      ]
     },
     "execution_count": 10,
     "metadata": {},
     "output_type": "execute_result"
    }
   ],
   "source": [
    "features_scaled.head()"
   ]
  },
  {
   "cell_type": "code",
   "execution_count": 11,
   "metadata": {},
   "outputs": [],
   "source": [
    "#features_scaled.to_csv('data/listings_scaled.csv')"
   ]
  },
  {
   "cell_type": "markdown",
   "metadata": {},
   "source": [
    "### Modeling:"
   ]
  },
  {
   "cell_type": "code",
   "execution_count": 12,
   "metadata": {},
   "outputs": [
    {
     "name": "stdout",
     "output_type": "stream",
     "text": [
      "Training set has 8269 samples.\n",
      "Test set has 2757 samples.\n"
     ]
    }
   ],
   "source": [
    "X_train, X_test, y_train, y_test = train_test_split(features_scaled, \n",
    "                                                    log_y, \n",
    "                                                    test_size = .25, \n",
    "                                                    random_state = 42)\n",
    "                                                    #stratify=log_y)\n",
    "\n",
    "# Show the results of the split\n",
    "print(\"Training set has {} samples.\".format(X_train.shape[0]))\n",
    "print(\"Test set has {} samples.\".format(X_test.shape[0]))"
   ]
  },
  {
   "cell_type": "code",
   "execution_count": 13,
   "metadata": {
    "scrolled": true
   },
   "outputs": [
    {
     "name": "stderr",
     "output_type": "stream",
     "text": [
      "C:\\Users\\rtalebiz\\AppData\\Local\\Continuum\\anaconda3\\lib\\site-packages\\sklearn\\utils\\validation.py:760: DataConversionWarning: A column-vector y was passed when a 1d array was expected. Please change the shape of y to (n_samples, ), for example using ravel().\n",
      "  y = column_or_1d(y, warn=True)\n",
      "C:\\Users\\rtalebiz\\AppData\\Local\\Continuum\\anaconda3\\lib\\site-packages\\ipykernel_launcher.py:13: DataConversionWarning: A column-vector y was passed when a 1d array was expected. Please change the shape of y to (n_samples,), for example using ravel().\n",
      "  del sys.path[0]\n"
     ]
    },
    {
     "name": "stdout",
     "output_type": "stream",
     "text": [
      "{'SVR': 0.47608946979200617, 'DecisionTreeRegressor': 0.5134662189878354, 'LinearRegression': 0.4828080263429615, 'KNeighborsRegressor': 0.3321686886349343, 'RandomForestRegressor': 0.5745574471675081}\n"
     ]
    }
   ],
   "source": [
    "models = [SVR(kernel='linear'),\n",
    "          DecisionTreeRegressor(max_depth= 7, min_samples_leaf= 10),\n",
    "          LinearRegression(),\n",
    "          KNeighborsRegressor(n_neighbors=7),\n",
    "          RandomForestRegressor(n_estimators=500, random_state=42)]\n",
    "\n",
    "results = {}\n",
    "\n",
    "for model in models:\n",
    "    \n",
    "    # Instantiate and fit Regressor Model\n",
    "    reg_model = model\n",
    "    reg_model.fit(X_train, y_train)\n",
    "    \n",
    "    # Make predictions with model\n",
    "    y_test_preds = reg_model.predict(X_test)\n",
    "    \n",
    "    # Grab model name and store results associated with model\n",
    "    name = str(model).split(\"(\")[0]\n",
    "    results[name] = r2_score(y_test, y_test_preds)\n",
    "    \n",
    "print(results)"
   ]
  },
  {
   "cell_type": "code",
   "execution_count": null,
   "metadata": {},
   "outputs": [],
   "source": []
  },
  {
   "cell_type": "code",
   "execution_count": 14,
   "metadata": {
    "scrolled": true
   },
   "outputs": [
    {
     "data": {
      "text/plain": [
       "DecisionTreeRegressor(ccp_alpha=0.0, criterion='mse', max_depth=None,\n",
       "                      max_features=None, max_leaf_nodes=None,\n",
       "                      min_impurity_decrease=0.0, min_impurity_split=None,\n",
       "                      min_samples_leaf=1, min_samples_split=2,\n",
       "                      min_weight_fraction_leaf=0.0, presort='deprecated',\n",
       "                      random_state=None, splitter='best')"
      ]
     },
     "execution_count": 14,
     "metadata": {},
     "output_type": "execute_result"
    }
   ],
   "source": [
    "# Training Decision Tree Classifier Model\n",
    "modelDTR = DecisionTreeRegressor()\n",
    "\n",
    "modelDTR.fit(X_train, y_train)"
   ]
  },
  {
   "cell_type": "code",
   "execution_count": 15,
   "metadata": {},
   "outputs": [
    {
     "data": {
      "text/html": [
       "<div>\n",
       "<style scoped>\n",
       "    .dataframe tbody tr th:only-of-type {\n",
       "        vertical-align: middle;\n",
       "    }\n",
       "\n",
       "    .dataframe tbody tr th {\n",
       "        vertical-align: top;\n",
       "    }\n",
       "\n",
       "    .dataframe thead th {\n",
       "        text-align: right;\n",
       "    }\n",
       "</style>\n",
       "<table border=\"1\" class=\"dataframe\">\n",
       "  <thead>\n",
       "    <tr style=\"text-align: right;\">\n",
       "      <th></th>\n",
       "      <th>bathrooms</th>\n",
       "      <th>bedrooms</th>\n",
       "      <th>accommodates</th>\n",
       "      <th>review_scores_rating</th>\n",
       "      <th>number_of_reviews</th>\n",
       "      <th>extra_people</th>\n",
       "      <th>security_deposit</th>\n",
       "      <th>cleaning_fee</th>\n",
       "      <th>property_type_Bungalow</th>\n",
       "      <th>property_type_Condominium</th>\n",
       "      <th>...</th>\n",
       "      <th>property_type_Serviced apartment</th>\n",
       "      <th>property_type_Townhouse</th>\n",
       "      <th>room_type_Hotel room</th>\n",
       "      <th>room_type_Private room</th>\n",
       "      <th>room_type_Shared room</th>\n",
       "      <th>host_is_superhost_t</th>\n",
       "      <th>region_East</th>\n",
       "      <th>region_North</th>\n",
       "      <th>region_South</th>\n",
       "      <th>region_West</th>\n",
       "    </tr>\n",
       "  </thead>\n",
       "  <tbody>\n",
       "    <tr>\n",
       "      <th>7906</th>\n",
       "      <td>0.076923</td>\n",
       "      <td>0.000</td>\n",
       "      <td>0.200000</td>\n",
       "      <td>99.0</td>\n",
       "      <td>21</td>\n",
       "      <td>0.016667</td>\n",
       "      <td>0.078431</td>\n",
       "      <td>0.132308</td>\n",
       "      <td>0</td>\n",
       "      <td>0</td>\n",
       "      <td>...</td>\n",
       "      <td>0</td>\n",
       "      <td>0</td>\n",
       "      <td>0</td>\n",
       "      <td>0</td>\n",
       "      <td>0</td>\n",
       "      <td>0</td>\n",
       "      <td>1</td>\n",
       "      <td>0</td>\n",
       "      <td>0</td>\n",
       "      <td>0</td>\n",
       "    </tr>\n",
       "    <tr>\n",
       "      <th>967</th>\n",
       "      <td>0.076923</td>\n",
       "      <td>0.000</td>\n",
       "      <td>0.066667</td>\n",
       "      <td>85.0</td>\n",
       "      <td>4</td>\n",
       "      <td>0.166667</td>\n",
       "      <td>0.000000</td>\n",
       "      <td>0.046154</td>\n",
       "      <td>0</td>\n",
       "      <td>0</td>\n",
       "      <td>...</td>\n",
       "      <td>0</td>\n",
       "      <td>0</td>\n",
       "      <td>0</td>\n",
       "      <td>1</td>\n",
       "      <td>0</td>\n",
       "      <td>0</td>\n",
       "      <td>0</td>\n",
       "      <td>0</td>\n",
       "      <td>1</td>\n",
       "      <td>0</td>\n",
       "    </tr>\n",
       "    <tr>\n",
       "      <th>3694</th>\n",
       "      <td>0.153846</td>\n",
       "      <td>0.125</td>\n",
       "      <td>0.466667</td>\n",
       "      <td>100.0</td>\n",
       "      <td>17</td>\n",
       "      <td>0.083333</td>\n",
       "      <td>0.019608</td>\n",
       "      <td>0.023077</td>\n",
       "      <td>0</td>\n",
       "      <td>0</td>\n",
       "      <td>...</td>\n",
       "      <td>0</td>\n",
       "      <td>1</td>\n",
       "      <td>0</td>\n",
       "      <td>0</td>\n",
       "      <td>0</td>\n",
       "      <td>0</td>\n",
       "      <td>1</td>\n",
       "      <td>0</td>\n",
       "      <td>0</td>\n",
       "      <td>0</td>\n",
       "    </tr>\n",
       "    <tr>\n",
       "      <th>8429</th>\n",
       "      <td>0.230769</td>\n",
       "      <td>0.250</td>\n",
       "      <td>0.333333</td>\n",
       "      <td>99.0</td>\n",
       "      <td>15</td>\n",
       "      <td>0.000000</td>\n",
       "      <td>0.058824</td>\n",
       "      <td>0.230769</td>\n",
       "      <td>0</td>\n",
       "      <td>0</td>\n",
       "      <td>...</td>\n",
       "      <td>0</td>\n",
       "      <td>0</td>\n",
       "      <td>0</td>\n",
       "      <td>0</td>\n",
       "      <td>0</td>\n",
       "      <td>1</td>\n",
       "      <td>0</td>\n",
       "      <td>0</td>\n",
       "      <td>1</td>\n",
       "      <td>0</td>\n",
       "    </tr>\n",
       "    <tr>\n",
       "      <th>9834</th>\n",
       "      <td>0.076923</td>\n",
       "      <td>0.000</td>\n",
       "      <td>0.200000</td>\n",
       "      <td>98.0</td>\n",
       "      <td>12</td>\n",
       "      <td>0.000000</td>\n",
       "      <td>0.000000</td>\n",
       "      <td>0.023077</td>\n",
       "      <td>0</td>\n",
       "      <td>0</td>\n",
       "      <td>...</td>\n",
       "      <td>0</td>\n",
       "      <td>0</td>\n",
       "      <td>0</td>\n",
       "      <td>0</td>\n",
       "      <td>0</td>\n",
       "      <td>0</td>\n",
       "      <td>1</td>\n",
       "      <td>0</td>\n",
       "      <td>0</td>\n",
       "      <td>0</td>\n",
       "    </tr>\n",
       "    <tr>\n",
       "      <th>...</th>\n",
       "      <td>...</td>\n",
       "      <td>...</td>\n",
       "      <td>...</td>\n",
       "      <td>...</td>\n",
       "      <td>...</td>\n",
       "      <td>...</td>\n",
       "      <td>...</td>\n",
       "      <td>...</td>\n",
       "      <td>...</td>\n",
       "      <td>...</td>\n",
       "      <td>...</td>\n",
       "      <td>...</td>\n",
       "      <td>...</td>\n",
       "      <td>...</td>\n",
       "      <td>...</td>\n",
       "      <td>...</td>\n",
       "      <td>...</td>\n",
       "      <td>...</td>\n",
       "      <td>...</td>\n",
       "      <td>...</td>\n",
       "      <td>...</td>\n",
       "    </tr>\n",
       "    <tr>\n",
       "      <th>10152</th>\n",
       "      <td>0.153846</td>\n",
       "      <td>0.125</td>\n",
       "      <td>0.333333</td>\n",
       "      <td>78.0</td>\n",
       "      <td>8</td>\n",
       "      <td>0.166667</td>\n",
       "      <td>0.098039</td>\n",
       "      <td>0.192308</td>\n",
       "      <td>0</td>\n",
       "      <td>1</td>\n",
       "      <td>...</td>\n",
       "      <td>0</td>\n",
       "      <td>0</td>\n",
       "      <td>0</td>\n",
       "      <td>0</td>\n",
       "      <td>0</td>\n",
       "      <td>0</td>\n",
       "      <td>0</td>\n",
       "      <td>0</td>\n",
       "      <td>0</td>\n",
       "      <td>0</td>\n",
       "    </tr>\n",
       "    <tr>\n",
       "      <th>5922</th>\n",
       "      <td>0.076923</td>\n",
       "      <td>0.125</td>\n",
       "      <td>0.133333</td>\n",
       "      <td>97.0</td>\n",
       "      <td>32</td>\n",
       "      <td>0.033333</td>\n",
       "      <td>0.049020</td>\n",
       "      <td>0.038462</td>\n",
       "      <td>0</td>\n",
       "      <td>0</td>\n",
       "      <td>...</td>\n",
       "      <td>0</td>\n",
       "      <td>0</td>\n",
       "      <td>0</td>\n",
       "      <td>0</td>\n",
       "      <td>0</td>\n",
       "      <td>1</td>\n",
       "      <td>1</td>\n",
       "      <td>0</td>\n",
       "      <td>0</td>\n",
       "      <td>0</td>\n",
       "    </tr>\n",
       "    <tr>\n",
       "      <th>1366</th>\n",
       "      <td>0.153846</td>\n",
       "      <td>0.000</td>\n",
       "      <td>0.200000</td>\n",
       "      <td>80.0</td>\n",
       "      <td>1</td>\n",
       "      <td>0.000000</td>\n",
       "      <td>0.019608</td>\n",
       "      <td>0.030769</td>\n",
       "      <td>0</td>\n",
       "      <td>0</td>\n",
       "      <td>...</td>\n",
       "      <td>0</td>\n",
       "      <td>0</td>\n",
       "      <td>0</td>\n",
       "      <td>1</td>\n",
       "      <td>0</td>\n",
       "      <td>0</td>\n",
       "      <td>0</td>\n",
       "      <td>0</td>\n",
       "      <td>1</td>\n",
       "      <td>0</td>\n",
       "    </tr>\n",
       "    <tr>\n",
       "      <th>6307</th>\n",
       "      <td>0.153846</td>\n",
       "      <td>0.125</td>\n",
       "      <td>0.333333</td>\n",
       "      <td>97.0</td>\n",
       "      <td>31</td>\n",
       "      <td>0.063333</td>\n",
       "      <td>0.039216</td>\n",
       "      <td>0.121538</td>\n",
       "      <td>0</td>\n",
       "      <td>0</td>\n",
       "      <td>...</td>\n",
       "      <td>0</td>\n",
       "      <td>0</td>\n",
       "      <td>0</td>\n",
       "      <td>0</td>\n",
       "      <td>0</td>\n",
       "      <td>0</td>\n",
       "      <td>1</td>\n",
       "      <td>0</td>\n",
       "      <td>0</td>\n",
       "      <td>0</td>\n",
       "    </tr>\n",
       "    <tr>\n",
       "      <th>626</th>\n",
       "      <td>0.153846</td>\n",
       "      <td>0.000</td>\n",
       "      <td>0.066667</td>\n",
       "      <td>98.0</td>\n",
       "      <td>74</td>\n",
       "      <td>0.000000</td>\n",
       "      <td>0.058824</td>\n",
       "      <td>0.038462</td>\n",
       "      <td>0</td>\n",
       "      <td>0</td>\n",
       "      <td>...</td>\n",
       "      <td>0</td>\n",
       "      <td>0</td>\n",
       "      <td>0</td>\n",
       "      <td>1</td>\n",
       "      <td>0</td>\n",
       "      <td>1</td>\n",
       "      <td>0</td>\n",
       "      <td>0</td>\n",
       "      <td>0</td>\n",
       "      <td>1</td>\n",
       "    </tr>\n",
       "  </tbody>\n",
       "</table>\n",
       "<p>2757 rows × 25 columns</p>\n",
       "</div>"
      ],
      "text/plain": [
       "       bathrooms  bedrooms  accommodates  review_scores_rating  \\\n",
       "7906    0.076923     0.000      0.200000                  99.0   \n",
       "967     0.076923     0.000      0.066667                  85.0   \n",
       "3694    0.153846     0.125      0.466667                 100.0   \n",
       "8429    0.230769     0.250      0.333333                  99.0   \n",
       "9834    0.076923     0.000      0.200000                  98.0   \n",
       "...          ...       ...           ...                   ...   \n",
       "10152   0.153846     0.125      0.333333                  78.0   \n",
       "5922    0.076923     0.125      0.133333                  97.0   \n",
       "1366    0.153846     0.000      0.200000                  80.0   \n",
       "6307    0.153846     0.125      0.333333                  97.0   \n",
       "626     0.153846     0.000      0.066667                  98.0   \n",
       "\n",
       "       number_of_reviews  extra_people  security_deposit  cleaning_fee  \\\n",
       "7906                  21      0.016667          0.078431      0.132308   \n",
       "967                    4      0.166667          0.000000      0.046154   \n",
       "3694                  17      0.083333          0.019608      0.023077   \n",
       "8429                  15      0.000000          0.058824      0.230769   \n",
       "9834                  12      0.000000          0.000000      0.023077   \n",
       "...                  ...           ...               ...           ...   \n",
       "10152                  8      0.166667          0.098039      0.192308   \n",
       "5922                  32      0.033333          0.049020      0.038462   \n",
       "1366                   1      0.000000          0.019608      0.030769   \n",
       "6307                  31      0.063333          0.039216      0.121538   \n",
       "626                   74      0.000000          0.058824      0.038462   \n",
       "\n",
       "       property_type_Bungalow  property_type_Condominium  ...  \\\n",
       "7906                        0                          0  ...   \n",
       "967                         0                          0  ...   \n",
       "3694                        0                          0  ...   \n",
       "8429                        0                          0  ...   \n",
       "9834                        0                          0  ...   \n",
       "...                       ...                        ...  ...   \n",
       "10152                       0                          1  ...   \n",
       "5922                        0                          0  ...   \n",
       "1366                        0                          0  ...   \n",
       "6307                        0                          0  ...   \n",
       "626                         0                          0  ...   \n",
       "\n",
       "       property_type_Serviced apartment  property_type_Townhouse  \\\n",
       "7906                                  0                        0   \n",
       "967                                   0                        0   \n",
       "3694                                  0                        1   \n",
       "8429                                  0                        0   \n",
       "9834                                  0                        0   \n",
       "...                                 ...                      ...   \n",
       "10152                                 0                        0   \n",
       "5922                                  0                        0   \n",
       "1366                                  0                        0   \n",
       "6307                                  0                        0   \n",
       "626                                   0                        0   \n",
       "\n",
       "       room_type_Hotel room  room_type_Private room  room_type_Shared room  \\\n",
       "7906                      0                       0                      0   \n",
       "967                       0                       1                      0   \n",
       "3694                      0                       0                      0   \n",
       "8429                      0                       0                      0   \n",
       "9834                      0                       0                      0   \n",
       "...                     ...                     ...                    ...   \n",
       "10152                     0                       0                      0   \n",
       "5922                      0                       0                      0   \n",
       "1366                      0                       1                      0   \n",
       "6307                      0                       0                      0   \n",
       "626                       0                       1                      0   \n",
       "\n",
       "       host_is_superhost_t  region_East  region_North  region_South  \\\n",
       "7906                     0            1             0             0   \n",
       "967                      0            0             0             1   \n",
       "3694                     0            1             0             0   \n",
       "8429                     1            0             0             1   \n",
       "9834                     0            1             0             0   \n",
       "...                    ...          ...           ...           ...   \n",
       "10152                    0            0             0             0   \n",
       "5922                     1            1             0             0   \n",
       "1366                     0            0             0             1   \n",
       "6307                     0            1             0             0   \n",
       "626                      1            0             0             0   \n",
       "\n",
       "       region_West  \n",
       "7906             0  \n",
       "967              0  \n",
       "3694             0  \n",
       "8429             0  \n",
       "9834             0  \n",
       "...            ...  \n",
       "10152            0  \n",
       "5922             0  \n",
       "1366             0  \n",
       "6307             0  \n",
       "626              1  \n",
       "\n",
       "[2757 rows x 25 columns]"
      ]
     },
     "execution_count": 15,
     "metadata": {},
     "output_type": "execute_result"
    }
   ],
   "source": [
    "X_test"
   ]
  },
  {
   "cell_type": "code",
   "execution_count": 16,
   "metadata": {
    "scrolled": true
   },
   "outputs": [
    {
     "data": {
      "text/html": [
       "<div>\n",
       "<style scoped>\n",
       "    .dataframe tbody tr th:only-of-type {\n",
       "        vertical-align: middle;\n",
       "    }\n",
       "\n",
       "    .dataframe tbody tr th {\n",
       "        vertical-align: top;\n",
       "    }\n",
       "\n",
       "    .dataframe thead th {\n",
       "        text-align: right;\n",
       "    }\n",
       "</style>\n",
       "<table border=\"1\" class=\"dataframe\">\n",
       "  <thead>\n",
       "    <tr style=\"text-align: right;\">\n",
       "      <th></th>\n",
       "      <th>price</th>\n",
       "    </tr>\n",
       "  </thead>\n",
       "  <tbody>\n",
       "    <tr>\n",
       "      <th>7906</th>\n",
       "      <td>4.787492</td>\n",
       "    </tr>\n",
       "    <tr>\n",
       "      <th>967</th>\n",
       "      <td>4.653960</td>\n",
       "    </tr>\n",
       "    <tr>\n",
       "      <th>3694</th>\n",
       "      <td>4.605170</td>\n",
       "    </tr>\n",
       "    <tr>\n",
       "      <th>8429</th>\n",
       "      <td>5.616771</td>\n",
       "    </tr>\n",
       "    <tr>\n",
       "      <th>9834</th>\n",
       "      <td>4.317488</td>\n",
       "    </tr>\n",
       "    <tr>\n",
       "      <th>...</th>\n",
       "      <td>...</td>\n",
       "    </tr>\n",
       "    <tr>\n",
       "      <th>10152</th>\n",
       "      <td>5.433722</td>\n",
       "    </tr>\n",
       "    <tr>\n",
       "      <th>5922</th>\n",
       "      <td>4.317488</td>\n",
       "    </tr>\n",
       "    <tr>\n",
       "      <th>1366</th>\n",
       "      <td>4.605170</td>\n",
       "    </tr>\n",
       "    <tr>\n",
       "      <th>6307</th>\n",
       "      <td>4.859812</td>\n",
       "    </tr>\n",
       "    <tr>\n",
       "      <th>626</th>\n",
       "      <td>4.077537</td>\n",
       "    </tr>\n",
       "  </tbody>\n",
       "</table>\n",
       "<p>2757 rows × 1 columns</p>\n",
       "</div>"
      ],
      "text/plain": [
       "          price\n",
       "7906   4.787492\n",
       "967    4.653960\n",
       "3694   4.605170\n",
       "8429   5.616771\n",
       "9834   4.317488\n",
       "...         ...\n",
       "10152  5.433722\n",
       "5922   4.317488\n",
       "1366   4.605170\n",
       "6307   4.859812\n",
       "626    4.077537\n",
       "\n",
       "[2757 rows x 1 columns]"
      ]
     },
     "execution_count": 16,
     "metadata": {},
     "output_type": "execute_result"
    }
   ],
   "source": [
    "y_test"
   ]
  },
  {
   "cell_type": "code",
   "execution_count": 17,
   "metadata": {},
   "outputs": [
    {
     "data": {
      "text/plain": [
       "0.2554471294984456"
      ]
     },
     "execution_count": 17,
     "metadata": {},
     "output_type": "execute_result"
    }
   ],
   "source": [
    "modelDTR.score(X_test, y_test)"
   ]
  },
  {
   "cell_type": "code",
   "execution_count": 18,
   "metadata": {},
   "outputs": [
    {
     "data": {
      "text/plain": [
       "array([ 0.11237287,  0.12146186,  0.01485149,  0.17662588, -0.12709753,\n",
       "       -0.00895132,  0.08420172, -0.04174167, -0.14738963, -0.20058817])"
      ]
     },
     "execution_count": 18,
     "metadata": {},
     "output_type": "execute_result"
    }
   ],
   "source": [
    "# Accuracy score for Decision Tree\n",
    "y_pred = modelDTR.predict(X_test)\n",
    "cross_val_score(modelDTR, features_scaled, y, cv=10)\n",
    "#print('Decision Tree Regressor accuracy: {:.2f}'.format()))"
   ]
  },
  {
   "cell_type": "code",
   "execution_count": 19,
   "metadata": {},
   "outputs": [
    {
     "data": {
      "text/plain": [
       "GridSearchCV(cv=5, error_score=nan,\n",
       "             estimator=DecisionTreeRegressor(ccp_alpha=0.0, criterion='mse',\n",
       "                                             max_depth=None, max_features=None,\n",
       "                                             max_leaf_nodes=None,\n",
       "                                             min_impurity_decrease=0.0,\n",
       "                                             min_impurity_split=None,\n",
       "                                             min_samples_leaf=1,\n",
       "                                             min_samples_split=2,\n",
       "                                             min_weight_fraction_leaf=0.0,\n",
       "                                             presort='deprecated',\n",
       "                                             random_state=None,\n",
       "                                             splitter='best'),\n",
       "             iid='deprecated', n_jobs=None,\n",
       "             param_grid={'max_depth': array([ 1,  2,  3,  4,  5,  6,  7,  8,  9, 10, 11, 12, 13, 14, 15, 16, 17,\n",
       "       18, 19, 20]),\n",
       "                         'min_samples_leaf': [1, 5, 10, 20, 50, 100]},\n",
       "             pre_dispatch='2*n_jobs', refit=True, return_train_score=False,\n",
       "             scoring=None, verbose=0)"
      ]
     },
     "execution_count": 19,
     "metadata": {},
     "output_type": "execute_result"
    }
   ],
   "source": [
    "# Using GridSearchCV on DecisionTreeClassifier\n",
    "#create a dictionary of all values we want to test\n",
    "param_grid = {\"max_depth\": np.arange(1, 21),\n",
    "              #\"max_features\": randint(1, 9),\n",
    "              \"min_samples_leaf\": [1, 5, 10, 20, 50, 100],\n",
    "              #\"criterion\": [\"gini\", \"entropy\"]\n",
    "             }\n",
    "#use gridsearch to test all values\n",
    "dtr_cv = GridSearchCV(modelDTR, param_grid, cv=5)\n",
    "#fit model to data\n",
    "dtr_cv.fit(X_train, y_train)"
   ]
  },
  {
   "cell_type": "code",
   "execution_count": 20,
   "metadata": {
    "scrolled": true
   },
   "outputs": [
    {
     "name": "stdout",
     "output_type": "stream",
     "text": [
      "{'max_depth': 9, 'min_samples_leaf': 10}\n",
      "[ 0.11756154  0.11932195 -0.00531052  0.17321678 -0.09117793  0.0010947\n",
      "  0.08311332 -0.00245563 -0.13339033 -0.25503796]\n"
     ]
    }
   ],
   "source": [
    "print(dtr_cv.best_params_)\n",
    "print(cross_val_score(modelDTR, features_scaled, y, cv=10))"
   ]
  },
  {
   "cell_type": "code",
   "execution_count": 21,
   "metadata": {},
   "outputs": [
    {
     "name": "stdout",
     "output_type": "stream",
     "text": [
      "[4.81872237 4.13963074 5.26173601 ... 3.97743372 5.03925534 3.97743372]\n"
     ]
    },
    {
     "data": {
      "text/plain": [
       "0.526327842589169"
      ]
     },
     "execution_count": 21,
     "metadata": {},
     "output_type": "execute_result"
    }
   ],
   "source": [
    "modelDTR = DecisionTreeRegressor(max_depth= 9, min_samples_leaf= 10)\n",
    "modelDTR.fit(X_train, y_train)\n",
    "y_test_preds = modelDTR.predict(X_test)\n",
    "print(y_test_preds)\n",
    "r2_score(y_test, y_test_preds)"
   ]
  },
  {
   "cell_type": "code",
   "execution_count": 22,
   "metadata": {},
   "outputs": [
    {
     "data": {
      "text/plain": [
       "0.47428457145334124"
      ]
     },
     "execution_count": 22,
     "metadata": {},
     "output_type": "execute_result"
    }
   ],
   "source": [
    "knn = KNeighborsRegressor(algorithm='brute')\n",
    "knn.fit(X_train, y_train)\n",
    "predictions = knn.predict(X_test)\n",
    "knn_mse = mean_squared_error(predictions, y_test)\n",
    "knn_mse"
   ]
  },
  {
   "cell_type": "markdown",
   "metadata": {},
   "source": [
    "#### Random Forest Regressor:\n",
    "##### Hyperparameter Tuning:"
   ]
  },
  {
   "cell_type": "code",
   "execution_count": 31,
   "metadata": {},
   "outputs": [],
   "source": [
    "modelRFR = RandomForestRegressor(random_state=42)"
   ]
  },
  {
   "cell_type": "code",
   "execution_count": 32,
   "metadata": {},
   "outputs": [],
   "source": [
    "param_grid = { \n",
    "    'n_estimators': [500, 700, 1000],\n",
    "    'max_features': ['auto'],\n",
    "    'max_depth' : [8, 10, 12],\n",
    "    'min_samples_split': [5],\n",
    "    'bootstrap': [True]\n",
    "}"
   ]
  },
  {
   "cell_type": "code",
   "execution_count": 33,
   "metadata": {},
   "outputs": [
    {
     "name": "stdout",
     "output_type": "stream",
     "text": [
      "Wall time: 7min 20s\n"
     ]
    },
    {
     "data": {
      "text/plain": [
       "GridSearchCV(cv=5, error_score=nan,\n",
       "             estimator=RandomForestRegressor(bootstrap=True, ccp_alpha=0.0,\n",
       "                                             criterion='mse', max_depth=None,\n",
       "                                             max_features='auto',\n",
       "                                             max_leaf_nodes=None,\n",
       "                                             max_samples=None,\n",
       "                                             min_impurity_decrease=0.0,\n",
       "                                             min_impurity_split=None,\n",
       "                                             min_samples_leaf=1,\n",
       "                                             min_samples_split=2,\n",
       "                                             min_weight_fraction_leaf=0.0,\n",
       "                                             n_estimators=100, n_jobs=None,\n",
       "                                             oob_score=False, random_state=42,\n",
       "                                             verbose=0, warm_start=False),\n",
       "             iid='deprecated', n_jobs=None,\n",
       "             param_grid={'bootstrap': [True], 'max_depth': [8, 10, 12],\n",
       "                         'max_features': ['auto'], 'min_samples_split': [5],\n",
       "                         'n_estimators': [500, 700, 1000]},\n",
       "             pre_dispatch='2*n_jobs', refit=True, return_train_score=False,\n",
       "             scoring=None, verbose=0)"
      ]
     },
     "execution_count": 33,
     "metadata": {},
     "output_type": "execute_result"
    }
   ],
   "source": [
    "%%time\n",
    "CV_RFR = GridSearchCV(estimator=modelRFR, param_grid=param_grid, cv= 5)\n",
    "CV_RFR.fit(X_train, np.ravel(y_train))"
   ]
  },
  {
   "cell_type": "code",
   "execution_count": 34,
   "metadata": {
    "scrolled": true
   },
   "outputs": [
    {
     "data": {
      "text/plain": [
       "{'bootstrap': True,\n",
       " 'max_depth': 12,\n",
       " 'max_features': 'auto',\n",
       " 'min_samples_split': 5,\n",
       " 'n_estimators': 1000}"
      ]
     },
     "execution_count": 34,
     "metadata": {},
     "output_type": "execute_result"
    }
   ],
   "source": [
    "CV_RFR.best_params_"
   ]
  },
  {
   "cell_type": "code",
   "execution_count": 35,
   "metadata": {},
   "outputs": [],
   "source": [
    "modelRFR=RandomForestRegressor(max_features='auto', n_estimators= 1000, max_depth=12, min_samples_split=5, min_samples_leaf=1, bootstrap=True, oob_score=False, random_state=42)"
   ]
  },
  {
   "cell_type": "code",
   "execution_count": 23,
   "metadata": {},
   "outputs": [],
   "source": [
    "xgb1 = XGBRegressor()\n",
    "parameters = {'nthread':[4], #when use hyperthread, xgboost may become slower\n",
    "              'objective':['reg:linear'],\n",
    "              'learning_rate': [.03, 0.05, .07], #so called `eta` value\n",
    "              'max_depth': [5, 6, 7],\n",
    "              'min_child_weight': [4],\n",
    "              'silent': [1],\n",
    "              'subsample': [0.7],\n",
    "              'colsample_bytree': [0.7],\n",
    "              'n_estimators': [500]}\n",
    "\n",
    "xgb_grid = GridSearchCV(xgb1,\n",
    "                        parameters,\n",
    "                        cv = 2,\n",
    "                        n_jobs = 5,\n",
    "                        verbose=True)"
   ]
  },
  {
   "cell_type": "code",
   "execution_count": 24,
   "metadata": {
    "scrolled": true
   },
   "outputs": [
    {
     "name": "stdout",
     "output_type": "stream",
     "text": [
      "Fitting 2 folds for each of 9 candidates, totalling 18 fits\n"
     ]
    },
    {
     "name": "stderr",
     "output_type": "stream",
     "text": [
      "[Parallel(n_jobs=5)]: Using backend LokyBackend with 5 concurrent workers.\n",
      "[Parallel(n_jobs=5)]: Done  18 out of  18 | elapsed:   29.3s finished\n"
     ]
    },
    {
     "data": {
      "text/plain": [
       "GridSearchCV(cv=2, error_score=nan,\n",
       "             estimator=XGBRegressor(base_score=None, booster=None,\n",
       "                                    colsample_bylevel=None,\n",
       "                                    colsample_bynode=None,\n",
       "                                    colsample_bytree=None, gamma=None,\n",
       "                                    gpu_id=None, importance_type='gain',\n",
       "                                    interaction_constraints=None,\n",
       "                                    learning_rate=None, max_delta_step=None,\n",
       "                                    max_depth=None, min_child_weight=None,\n",
       "                                    missing=nan, monotone_constraints=None,\n",
       "                                    n_estima...\n",
       "                                    validate_parameters=False, verbosity=None),\n",
       "             iid='deprecated', n_jobs=5,\n",
       "             param_grid={'colsample_bytree': [0.7],\n",
       "                         'learning_rate': [0.03, 0.05, 0.07],\n",
       "                         'max_depth': [5, 6, 7], 'min_child_weight': [4],\n",
       "                         'n_estimators': [500], 'nthread': [4],\n",
       "                         'objective': ['reg:linear'], 'silent': [1],\n",
       "                         'subsample': [0.7]},\n",
       "             pre_dispatch='2*n_jobs', refit=True, return_train_score=False,\n",
       "             scoring=None, verbose=True)"
      ]
     },
     "execution_count": 24,
     "metadata": {},
     "output_type": "execute_result"
    }
   ],
   "source": [
    "xgb_grid.fit(X_train, y_train)"
   ]
  },
  {
   "cell_type": "code",
   "execution_count": 25,
   "metadata": {},
   "outputs": [
    {
     "data": {
      "text/plain": [
       "{'colsample_bytree': 0.7,\n",
       " 'learning_rate': 0.03,\n",
       " 'max_depth': 5,\n",
       " 'min_child_weight': 4,\n",
       " 'n_estimators': 500,\n",
       " 'nthread': 4,\n",
       " 'objective': 'reg:linear',\n",
       " 'silent': 1,\n",
       " 'subsample': 0.7}"
      ]
     },
     "execution_count": 25,
     "metadata": {},
     "output_type": "execute_result"
    }
   ],
   "source": [
    "xgb_grid.best_params_"
   ]
  },
  {
   "cell_type": "code",
   "execution_count": 26,
   "metadata": {},
   "outputs": [
    {
     "name": "stdout",
     "output_type": "stream",
     "text": [
      "Best Params XGB MSE: 0.2722\n",
      "Best Params XGB r2: 0.6068\n"
     ]
    }
   ],
   "source": [
    "print(\"Best Params XGB MSE:\", round(mean_squared_error(y_test, xgb_grid.predict(X_test)),4))\n",
    "print(\"Best Params XGB r2:\", round(r2_score(y_test, xgb_grid.predict(X_test)),4))"
   ]
  },
  {
   "cell_type": "code",
   "execution_count": 27,
   "metadata": {},
   "outputs": [
    {
     "name": "stdout",
     "output_type": "stream",
     "text": [
      "Time taken to run: 0.0 minutes\n",
      "\n",
      "Training MSE: 0.2036\n",
      "Validation MSE: 0.2722\n",
      "\n",
      "Training r2: 0.6988\n",
      "Validation r2: 0.6068\n"
     ]
    }
   ],
   "source": [
    "xgb_reg_start = time.time()\n",
    "\n",
    "xgb_reg = xgb.XGBRegressor(colsample_bytree= 0.7,\n",
    " learning_rate= 0.03,\n",
    " max_depth= 5,\n",
    " min_child_weight= 4,\n",
    " n_estimators= 500,\n",
    " nthread= 4,\n",
    " objective= 'reg:linear',\n",
    " silent= 1,\n",
    " subsample= 0.7)\n",
    "xgb_reg.fit(X_train, y_train)\n",
    "training_preds_xgb_reg = xgb_reg.predict(X_train)\n",
    "val_preds_xgb_reg = xgb_reg.predict(X_test)\n",
    "\n",
    "xgb_reg_end = time.time()\n",
    "\n",
    "print(f\"Time taken to run: {round((xgb_reg_end - xgb_reg_start)/60,1)} minutes\")\n",
    "print(\"\\nTraining MSE:\", round(mean_squared_error(y_train, training_preds_xgb_reg),4))\n",
    "print(\"Validation MSE:\", round(mean_squared_error(y_test, val_preds_xgb_reg),4))\n",
    "print(\"\\nTraining r2:\", round(r2_score(y_train, training_preds_xgb_reg),4))\n",
    "print(\"Validation r2:\", round(r2_score(y_test, val_preds_xgb_reg),4))"
   ]
  },
  {
   "cell_type": "code",
   "execution_count": 28,
   "metadata": {},
   "outputs": [
    {
     "name": "stdout",
     "output_type": "stream",
     "text": [
      "SVR Model: 0.47608946979200617\n",
      "DecisionTreeRegressor Model: 0.5134662189878354\n",
      "LinearRegression Model: 0.4828080263429615\n",
      "KNeighborsRegressor Model: 0.3321686886349343\n",
      "RandomForestRegressor Model: 0.5745574471675081\n"
     ]
    },
    {
     "data": {
      "text/plain": [
       "Text(0.5, 1.0, 'Comparison of Regression Models')"
      ]
     },
     "execution_count": 28,
     "metadata": {},
     "output_type": "execute_result"
    },
    {
     "data": {
      "image/png": "[encoded data removed]",
      "text/plain": [
       "<Figure size 432x288 with 1 Axes>"
      ]
     },
     "metadata": {
      "needs_background": "light"
     },
     "output_type": "display_data"
    }
   ],
   "source": [
    "for model, result in results.items():\n",
    "    #print(model, result)\n",
    "    print('{} Model: {}'.format(model, result))\n",
    "\n",
    "fig, ax = plt.subplots()\n",
    "\n",
    "ind = range(len(results))\n",
    "ax.barh(ind, list(results.values()), align='center', \n",
    "        color = '#55a868', alpha=0.8)\n",
    "ax.set_yticks(ind)\n",
    "ax.set_yticklabels(results.keys())\n",
    "ax.set_xlabel('r-squared score')\n",
    "ax.tick_params(left=False, top=False, right=False) \n",
    "ax.set_title('Comparison of Regression Models')\n",
    "#fig.savefig('images/compare_models.png', bbox_inches = 'tight')"
   ]
  },
  {
   "cell_type": "code",
   "execution_count": 36,
   "metadata": {},
   "outputs": [
    {
     "name": "stderr",
     "output_type": "stream",
     "text": [
      "C:\\Users\\rtalebiz\\AppData\\Local\\Continuum\\anaconda3\\lib\\site-packages\\sklearn\\utils\\validation.py:760: DataConversionWarning: A column-vector y was passed when a 1d array was expected. Please change the shape of y to (n_samples, ), for example using ravel().\n",
      "  y = column_or_1d(y, warn=True)\n",
      "C:\\Users\\rtalebiz\\AppData\\Local\\Continuum\\anaconda3\\lib\\site-packages\\ipykernel_launcher.py:16: DataConversionWarning: A column-vector y was passed when a 1d array was expected. Please change the shape of y to (n_samples,), for example using ravel().\n",
      "  app.launch_new_instance()\n"
     ]
    },
    {
     "name": "stdout",
     "output_type": "stream",
     "text": [
      "{'SVR': 0.47608946979200617, 'DecisionTreeRegressor': 0.5263278425891691, 'LinearRegression': 0.4828080263429615, 'KNeighborsRegressor': 0.3321686886349343, 'RandomForestRegressor': 0.5875075239049455, 'XGBRegressor': 0.6067601819635304}\n"
     ]
    }
   ],
   "source": [
    "# models with hyperparameter tuning\n",
    "\n",
    "models = [SVR(kernel='linear'),\n",
    "          modelDTR,\n",
    "          LinearRegression(),\n",
    "          KNeighborsRegressor(n_neighbors=7),\n",
    "          modelRFR,\n",
    "          xgb_reg]\n",
    "\n",
    "results = {}\n",
    "\n",
    "for model in models:\n",
    "    \n",
    "    # Instantiate and fit Regressor Model\n",
    "    reg_model = model\n",
    "    reg_model.fit(X_train, y_train)\n",
    "    \n",
    "    # Make predictions with model\n",
    "    y_test_preds = reg_model.predict(X_test)\n",
    "    \n",
    "    # Grab model name and store results associated with model\n",
    "    name = str(model).split(\"(\")[0]\n",
    "    results[name] = r2_score(y_test, y_test_preds)\n",
    "    \n",
    "print(results)"
   ]
  },
  {
   "cell_type": "code",
   "execution_count": 37,
   "metadata": {},
   "outputs": [
    {
     "name": "stdout",
     "output_type": "stream",
     "text": [
      "SVR Model: 0.47608946979200617\n",
      "DecisionTreeRegressor Model: 0.5263278425891691\n",
      "LinearRegression Model: 0.4828080263429615\n",
      "KNeighborsRegressor Model: 0.3321686886349343\n",
      "RandomForestRegressor Model: 0.5875075239049455\n",
      "XGBRegressor Model: 0.6067601819635304\n"
     ]
    },
    {
     "data": {
      "text/plain": [
       "Text(0.5, 1.0, 'Comparison of Regression Models')"
      ]
     },
     "execution_count": 37,
     "metadata": {},
     "output_type": "execute_result"
    },
    {
     "data": {
      "image/png": "[encoded data removed]",
      "text/plain": [
       "<Figure size 432x288 with 1 Axes>"
      ]
     },
     "metadata": {
      "needs_background": "light"
     },
     "output_type": "display_data"
    }
   ],
   "source": [
    "for model, result in results.items():\n",
    "    #print(model, result)\n",
    "    print('{} Model: {}'.format(model, result))\n",
    "\n",
    "fig, ax = plt.subplots()\n",
    "\n",
    "ind = range(len(results))\n",
    "ax.barh(ind, list(results.values()), align='center', \n",
    "        color = '#325A4C', alpha=0.8)\n",
    "ax.set_yticks(ind)\n",
    "ax.set_yticklabels(results.keys())\n",
    "ax.set_xlabel('r-squared score')\n",
    "ax.tick_params(left=False, top=False, right=False) \n",
    "ax.set_title('Comparison of Regression Models')\n",
    "#fig.savefig('images/compare_models.png', bbox_inches = 'tight')"
   ]
  },
  {
   "cell_type": "code",
   "execution_count": null,
   "metadata": {},
   "outputs": [],
   "source": []
  }
 ],
 "metadata": {
  "kernelspec": {
   "display_name": "Python 3",
   "language": "python",
   "name": "python3"
  },
  "language_info": {
   "codemirror_mode": {
    "name": "ipython",
    "version": 3
   },
   "file_extension": ".py",
   "mimetype": "text/x-python",
   "name": "python",
   "nbconvert_exporter": "python",
   "pygments_lexer": "ipython3",
   "version": "3.7.7"
  }
 },
 "nbformat": 4,
 "nbformat_minor": 4
}
