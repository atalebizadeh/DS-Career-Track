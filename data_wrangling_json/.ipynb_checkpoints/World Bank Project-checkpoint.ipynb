{
 "cells": [
  {
   "cell_type": "code",
   "execution_count": 1,
   "metadata": {},
   "outputs": [],
   "source": [
    "import pandas as pd\n",
    "import json\n",
    "from pandas.io.json import json_normalize"
   ]
  },
  {
   "cell_type": "markdown",
   "metadata": {},
   "source": [
    "### 1. The 10 countries with most projects"
   ]
  },
  {
   "cell_type": "code",
   "execution_count": 2,
   "metadata": {},
   "outputs": [],
   "source": [
    "# loading json project file using with open() context manager\n",
    "with open('data/world_bank_projects.json') as file:\n",
    "    data = json.load(file)"
   ]
  },
  {
   "cell_type": "code",
   "execution_count": 6,
   "metadata": {},
   "outputs": [
    {
     "data": {
      "text/plain": [
       "countryshortname    countrycode\n",
       "Indonesia           ID             19\n",
       "China               CN             19\n",
       "Vietnam             VN             17\n",
       "India               IN             16\n",
       "Yemen, Republic of  RY             13\n",
       "Nepal               NP             12\n",
       "Bangladesh          BD             12\n",
       "Morocco             MA             12\n",
       "Mozambique          MZ             11\n",
       "Africa              3A             11\n",
       "Name: countrycode, dtype: int64"
      ]
     },
     "execution_count": 6,
     "metadata": {},
     "output_type": "execute_result"
    }
   ],
   "source": [
    "# Creating a df from json data file\n",
    "df = pd.DataFrame(data)\n",
    "#df.head()\n",
    "df_themes = json_normalize(data,'mjtheme_namecode', ['id'])"
   ]
  },
  {
   "cell_type": "code",
   "execution_count": 14,
   "metadata": {},
   "outputs": [],
   "source": [
    "#df['mjtheme_namecode']"
   ]
  },
  {
   "cell_type": "code",
   "execution_count": 15,
   "metadata": {},
   "outputs": [],
   "source": [
    "#df_themes"
   ]
  },
  {
   "cell_type": "code",
   "execution_count": 27,
   "metadata": {},
   "outputs": [
    {
     "data": {
      "text/plain": [
       "countryshortname    countrycode\n",
       "Indonesia           ID             19\n",
       "China               CN             19\n",
       "Vietnam             VN             17\n",
       "India               IN             16\n",
       "Yemen, Republic of  RY             13\n",
       "Nepal               NP             12\n",
       "Bangladesh          BD             12\n",
       "Morocco             MA             12\n",
       "Mozambique          MZ             11\n",
       "Africa              3A             11\n",
       "Name: countrycode, dtype: int64"
      ]
     },
     "execution_count": 27,
     "metadata": {},
     "output_type": "execute_result"
    }
   ],
   "source": [
    "#df_themes.groupby('id').code.nunique().sort_values(ascending=False).head(10)\n",
    "\n",
    "df.groupby(['countryshortname'])['countrycode'].value_counts().sort_values(ascending=False).head(10)"
   ]
  },
  {
   "cell_type": "code",
   "execution_count": 17,
   "metadata": {},
   "outputs": [
    {
     "data": {
      "text/html": [
       "<div>\n",
       "<style scoped>\n",
       "    .dataframe tbody tr th:only-of-type {\n",
       "        vertical-align: middle;\n",
       "    }\n",
       "\n",
       "    .dataframe tbody tr th {\n",
       "        vertical-align: top;\n",
       "    }\n",
       "\n",
       "    .dataframe thead th {\n",
       "        text-align: right;\n",
       "    }\n",
       "</style>\n",
       "<table border=\"1\" class=\"dataframe\">\n",
       "  <thead>\n",
       "    <tr style=\"text-align: right;\">\n",
       "      <th></th>\n",
       "      <th>countrycode</th>\n",
       "    </tr>\n",
       "    <tr>\n",
       "      <th>countryshortname</th>\n",
       "      <th></th>\n",
       "    </tr>\n",
       "  </thead>\n",
       "  <tbody>\n",
       "    <tr>\n",
       "      <th>China</th>\n",
       "      <td>19</td>\n",
       "    </tr>\n",
       "    <tr>\n",
       "      <th>Indonesia</th>\n",
       "      <td>19</td>\n",
       "    </tr>\n",
       "    <tr>\n",
       "      <th>Vietnam</th>\n",
       "      <td>17</td>\n",
       "    </tr>\n",
       "    <tr>\n",
       "      <th>India</th>\n",
       "      <td>16</td>\n",
       "    </tr>\n",
       "    <tr>\n",
       "      <th>Yemen, Republic of</th>\n",
       "      <td>13</td>\n",
       "    </tr>\n",
       "    <tr>\n",
       "      <th>Nepal</th>\n",
       "      <td>12</td>\n",
       "    </tr>\n",
       "    <tr>\n",
       "      <th>Bangladesh</th>\n",
       "      <td>12</td>\n",
       "    </tr>\n",
       "    <tr>\n",
       "      <th>Morocco</th>\n",
       "      <td>12</td>\n",
       "    </tr>\n",
       "    <tr>\n",
       "      <th>Mozambique</th>\n",
       "      <td>11</td>\n",
       "    </tr>\n",
       "    <tr>\n",
       "      <th>Africa</th>\n",
       "      <td>11</td>\n",
       "    </tr>\n",
       "  </tbody>\n",
       "</table>\n",
       "</div>"
      ],
      "text/plain": [
       "                    countrycode\n",
       "countryshortname               \n",
       "China                        19\n",
       "Indonesia                    19\n",
       "Vietnam                      17\n",
       "India                        16\n",
       "Yemen, Republic of           13\n",
       "Nepal                        12\n",
       "Bangladesh                   12\n",
       "Morocco                      12\n",
       "Mozambique                   11\n",
       "Africa                       11"
      ]
     },
     "execution_count": 17,
     "metadata": {},
     "output_type": "execute_result"
    }
   ],
   "source": [
    "# Grouping the df by country name and also aggregating the count of project_name column to get the top 10 countries with most projects.\n",
    "df.groupby(['countryshortname']).agg({'countrycode':'count'}).sort_values(by='countrycode', ascending=False).head(10)\n",
    "#df_themes.groupby('id').code.nunique().sort_values(ascending=False).head(10)"
   ]
  },
  {
   "cell_type": "code",
   "execution_count": 28,
   "metadata": {
    "scrolled": true
   },
   "outputs": [
    {
     "data": {
      "text/plain": [
       "0      [{'code': '8', 'name': 'Human development'}, {...\n",
       "1      [{'code': '1', 'name': 'Economic management'},...\n",
       "2      [{'code': '5', 'name': 'Trade and integration'...\n",
       "3      [{'code': '7', 'name': 'Social dev/gender/incl...\n",
       "4      [{'code': '5', 'name': 'Trade and integration'...\n",
       "5      [{'code': '6', 'name': 'Social protection and ...\n",
       "6      [{'code': '2', 'name': 'Public sector governan...\n",
       "7      [{'code': '11', 'name': 'Environment and natur...\n",
       "8      [{'code': '10', 'name': 'Rural development'}, ...\n",
       "9      [{'code': '2', 'name': 'Public sector governan...\n",
       "10     [{'code': '10', 'name': 'Rural development'}, ...\n",
       "11     [{'code': '10', 'name': 'Rural development'}, ...\n",
       "12                           [{'code': '4', 'name': ''}]\n",
       "13     [{'code': '5', 'name': 'Trade and integration'...\n",
       "14     [{'code': '6', 'name': 'Social protection and ...\n",
       "15     [{'code': '10', 'name': 'Rural development'}, ...\n",
       "16     [{'code': '10', 'name': 'Rural development'}, ...\n",
       "17     [{'code': '8', 'name': 'Human development'}, {...\n",
       "18     [{'code': '8', 'name': 'Human development'}, {...\n",
       "19     [{'code': '2', 'name': 'Public sector governan...\n",
       "20     [{'code': '7', 'name': 'Social dev/gender/incl...\n",
       "21     [{'code': '9', 'name': 'Urban development'}, {...\n",
       "22     [{'code': '7', 'name': 'Social dev/gender/incl...\n",
       "23     [{'code': '8', 'name': 'Human development'}, {...\n",
       "24     [{'code': '10', 'name': 'Rural development'}, ...\n",
       "25     [{'code': '11', 'name': 'Environment and natur...\n",
       "26     [{'code': '4', 'name': 'Financial and private ...\n",
       "27     [{'code': '11', 'name': 'Environment and natur...\n",
       "28     [{'code': '10', 'name': 'Rural development'}, ...\n",
       "29     [{'code': '7', 'name': 'Social dev/gender/incl...\n",
       "                             ...                        \n",
       "470    [{'code': '5', 'name': 'Trade and integration'...\n",
       "471    [{'code': '10', 'name': 'Rural development'}, ...\n",
       "472    [{'code': '11', 'name': 'Environment and natur...\n",
       "473    [{'code': '11', 'name': 'Environment and natur...\n",
       "474    [{'code': '9', 'name': 'Urban development'}, {...\n",
       "475    [{'code': '4', 'name': 'Financial and private ...\n",
       "476    [{'code': '10', 'name': 'Rural development'}, ...\n",
       "477    [{'code': '4', 'name': 'Financial and private ...\n",
       "478    [{'code': '2', 'name': 'Public sector governan...\n",
       "479    [{'code': '7', 'name': 'Social dev/gender/incl...\n",
       "480    [{'code': '2', 'name': 'Public sector governan...\n",
       "481    [{'code': '8', 'name': 'Human development'}, {...\n",
       "482    [{'code': '10', 'name': 'Rural development'}, ...\n",
       "483    [{'code': '11', 'name': 'Environment and natur...\n",
       "484    [{'code': '10', 'name': 'Rural development'}, ...\n",
       "485    [{'code': '8', 'name': 'Human development'}, {...\n",
       "486    [{'code': '2', 'name': 'Public sector governan...\n",
       "487    [{'code': '11', 'name': 'Environment and natur...\n",
       "488    [{'code': '8', 'name': 'Human development'}, {...\n",
       "489    [{'code': '9', 'name': 'Urban development'}, {...\n",
       "490    [{'code': '2', 'name': 'Public sector governan...\n",
       "491    [{'code': '10', 'name': 'Rural development'}, ...\n",
       "492    [{'code': '8', 'name': 'Human development'}, {...\n",
       "493    [{'code': '11', 'name': 'Environment and natur...\n",
       "494    [{'code': '6', 'name': 'Social protection and ...\n",
       "495    [{'code': '4', 'name': 'Financial and private ...\n",
       "496    [{'code': '8', 'name': 'Human development'}, {...\n",
       "497    [{'code': '10', 'name': 'Rural development'}, ...\n",
       "498    [{'code': '10', 'name': 'Rural development'}, ...\n",
       "499    [{'code': '9', 'name': 'Urban development'}, {...\n",
       "Name: mjtheme_namecode, Length: 500, dtype: object"
      ]
     },
     "execution_count": 28,
     "metadata": {},
     "output_type": "execute_result"
    }
   ],
   "source": [
    "df['mjtheme_namecode']"
   ]
  },
  {
   "cell_type": "markdown",
   "metadata": {},
   "source": [
    "### 2. The top 10 major project themes (using column 'mjtheme_namecode')"
   ]
  },
  {
   "cell_type": "code",
   "execution_count": 37,
   "metadata": {},
   "outputs": [
    {
     "data": {
      "text/plain": [
       "11    157\n",
       "10    148\n",
       "2     140\n",
       "8     128\n",
       "4     119\n",
       "6     116\n",
       "7     114\n",
       "5      61\n",
       "9      40\n",
       "1      33\n",
       "dtype: int64"
      ]
     },
     "execution_count": 37,
     "metadata": {},
     "output_type": "execute_result"
    }
   ],
   "source": [
    "code_top = 11\n",
    "\n",
    "\n",
    "# Counts the number of projects that invoke each code, storing that as a dictionary and then converting it to a Series. \n",
    "# md, short of 'master dictionary', will store the number of projects that invoke each code number.\n",
    "\n",
    "dic = { }\n",
    "\n",
    "# Initialize each code's count at zero. \n",
    "for i in range(1, code_top+1):\n",
    "    dic[i] = 0\n",
    "    \n",
    "# Move through each set of stored codes for each project to count the number of projects that include each code. \n",
    "for x in range(len(df)):\n",
    "    # d stores the codes used for each project\n",
    "    c = {}\n",
    "    for y in range(len(df.mjtheme_namecode[x])):\n",
    "        c[int(df.mjtheme_namecode[x][y]['code'])] = 1\n",
    "    \n",
    "    # Adds the d to overall count in md\n",
    "    for i in c.keys():\n",
    "        dic[i] += 1\n",
    "\n",
    "#mdf, short for 'master dataframe', stores the number of projects that invoke each code number, converting md to a series \n",
    "# that I can now use Pandas to analyze the top occurences.\n",
    " \n",
    "mdf = pd.Series(dic)\n",
    "mdf.sort_values(ascending=False).head(10)"
   ]
  },
  {
   "cell_type": "code",
   "execution_count": 42,
   "metadata": {
    "scrolled": false
   },
   "outputs": [
    {
     "name": "stdout",
     "output_type": "stream",
     "text": [
      "Top 10 Major World Bank Project Themes:\n"
     ]
    },
    {
     "data": {
      "text/plain": [
       "Environment and natural resources management    223\n",
       "Rural development                               202\n",
       "Human development                               197\n",
       "Public sector governance                        184\n",
       "Social protection and risk management           158\n",
       "Financial and private sector development        130\n",
       "                                                122\n",
       "Social dev/gender/inclusion                     119\n",
       "Trade and integration                            72\n",
       "Urban development                                47\n",
       "Name: name, dtype: int64"
      ]
     },
     "execution_count": 42,
     "metadata": {},
     "output_type": "execute_result"
    }
   ],
   "source": [
    "print('Top 10 Major World Bank Project Themes:')\n",
    "df_themes.name.value_counts().head(10)"
   ]
  }
 ],
 "metadata": {
  "kernelspec": {
   "display_name": "Python 3",
   "language": "python",
   "name": "python3"
  },
  "language_info": {
   "codemirror_mode": {
    "name": "ipython",
    "version": 3
   },
   "file_extension": ".py",
   "mimetype": "text/x-python",
   "name": "python",
   "nbconvert_exporter": "python",
   "pygments_lexer": "ipython3",
   "version": "3.7.3"
  }
 },
 "nbformat": 4,
 "nbformat_minor": 2
}
